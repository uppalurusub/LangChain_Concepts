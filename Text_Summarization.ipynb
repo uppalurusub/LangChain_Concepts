{
  "nbformat": 4,
  "nbformat_minor": 0,
  "metadata": {
    "colab": {
      "provenance": []
    },
    "kernelspec": {
      "name": "python3",
      "display_name": "Python 3"
    },
    "language_info": {
      "name": "python"
    }
  },
  "cells": [
    {
      "cell_type": "code",
      "source": [
        "!pip install langchain_community langchain_openai"
      ],
      "metadata": {
        "colab": {
          "base_uri": "https://localhost:8080/"
        },
        "id": "s5P1fmLkYvWQ",
        "outputId": "252aa82a-5135-4186-d842-b0f5afeda7ab"
      },
      "execution_count": 6,
      "outputs": [
        {
          "output_type": "stream",
          "name": "stdout",
          "text": [
            "Requirement already satisfied: langchain_community in /usr/local/lib/python3.11/dist-packages (0.3.19)\n",
            "Collecting langchain_openai\n",
            "  Downloading langchain_openai-0.3.9-py3-none-any.whl.metadata (2.3 kB)\n",
            "Requirement already satisfied: langchain-core<1.0.0,>=0.3.41 in /usr/local/lib/python3.11/dist-packages (from langchain_community) (0.3.44)\n",
            "Requirement already satisfied: langchain<1.0.0,>=0.3.20 in /usr/local/lib/python3.11/dist-packages (from langchain_community) (0.3.20)\n",
            "Requirement already satisfied: SQLAlchemy<3,>=1.4 in /usr/local/lib/python3.11/dist-packages (from langchain_community) (2.0.39)\n",
            "Requirement already satisfied: requests<3,>=2 in /usr/local/lib/python3.11/dist-packages (from langchain_community) (2.32.3)\n",
            "Requirement already satisfied: PyYAML>=5.3 in /usr/local/lib/python3.11/dist-packages (from langchain_community) (6.0.2)\n",
            "Requirement already satisfied: aiohttp<4.0.0,>=3.8.3 in /usr/local/lib/python3.11/dist-packages (from langchain_community) (3.11.13)\n",
            "Requirement already satisfied: tenacity!=8.4.0,<10,>=8.1.0 in /usr/local/lib/python3.11/dist-packages (from langchain_community) (9.0.0)\n",
            "Requirement already satisfied: dataclasses-json<0.7,>=0.5.7 in /usr/local/lib/python3.11/dist-packages (from langchain_community) (0.6.7)\n",
            "Requirement already satisfied: pydantic-settings<3.0.0,>=2.4.0 in /usr/local/lib/python3.11/dist-packages (from langchain_community) (2.8.1)\n",
            "Requirement already satisfied: langsmith<0.4,>=0.1.125 in /usr/local/lib/python3.11/dist-packages (from langchain_community) (0.3.13)\n",
            "Requirement already satisfied: httpx-sse<1.0.0,>=0.4.0 in /usr/local/lib/python3.11/dist-packages (from langchain_community) (0.4.0)\n",
            "Requirement already satisfied: numpy<3,>=1.26.2 in /usr/local/lib/python3.11/dist-packages (from langchain_community) (2.0.2)\n",
            "Collecting langchain-core<1.0.0,>=0.3.41 (from langchain_community)\n",
            "  Downloading langchain_core-0.3.45-py3-none-any.whl.metadata (5.9 kB)\n",
            "Collecting openai<2.0.0,>=1.66.3 (from langchain_openai)\n",
            "  Downloading openai-1.66.3-py3-none-any.whl.metadata (25 kB)\n",
            "Collecting tiktoken<1,>=0.7 (from langchain_openai)\n",
            "  Downloading tiktoken-0.9.0-cp311-cp311-manylinux_2_17_x86_64.manylinux2014_x86_64.whl.metadata (6.7 kB)\n",
            "Requirement already satisfied: aiohappyeyeballs>=2.3.0 in /usr/local/lib/python3.11/dist-packages (from aiohttp<4.0.0,>=3.8.3->langchain_community) (2.6.1)\n",
            "Requirement already satisfied: aiosignal>=1.1.2 in /usr/local/lib/python3.11/dist-packages (from aiohttp<4.0.0,>=3.8.3->langchain_community) (1.3.2)\n",
            "Requirement already satisfied: attrs>=17.3.0 in /usr/local/lib/python3.11/dist-packages (from aiohttp<4.0.0,>=3.8.3->langchain_community) (25.3.0)\n",
            "Requirement already satisfied: frozenlist>=1.1.1 in /usr/local/lib/python3.11/dist-packages (from aiohttp<4.0.0,>=3.8.3->langchain_community) (1.5.0)\n",
            "Requirement already satisfied: multidict<7.0,>=4.5 in /usr/local/lib/python3.11/dist-packages (from aiohttp<4.0.0,>=3.8.3->langchain_community) (6.1.0)\n",
            "Requirement already satisfied: propcache>=0.2.0 in /usr/local/lib/python3.11/dist-packages (from aiohttp<4.0.0,>=3.8.3->langchain_community) (0.3.0)\n",
            "Requirement already satisfied: yarl<2.0,>=1.17.0 in /usr/local/lib/python3.11/dist-packages (from aiohttp<4.0.0,>=3.8.3->langchain_community) (1.18.3)\n",
            "Requirement already satisfied: marshmallow<4.0.0,>=3.18.0 in /usr/local/lib/python3.11/dist-packages (from dataclasses-json<0.7,>=0.5.7->langchain_community) (3.26.1)\n",
            "Requirement already satisfied: typing-inspect<1,>=0.4.0 in /usr/local/lib/python3.11/dist-packages (from dataclasses-json<0.7,>=0.5.7->langchain_community) (0.9.0)\n",
            "Requirement already satisfied: langchain-text-splitters<1.0.0,>=0.3.6 in /usr/local/lib/python3.11/dist-packages (from langchain<1.0.0,>=0.3.20->langchain_community) (0.3.6)\n",
            "Requirement already satisfied: pydantic<3.0.0,>=2.7.4 in /usr/local/lib/python3.11/dist-packages (from langchain<1.0.0,>=0.3.20->langchain_community) (2.10.6)\n",
            "Requirement already satisfied: jsonpatch<2.0,>=1.33 in /usr/local/lib/python3.11/dist-packages (from langchain-core<1.0.0,>=0.3.41->langchain_community) (1.33)\n",
            "Requirement already satisfied: packaging<25,>=23.2 in /usr/local/lib/python3.11/dist-packages (from langchain-core<1.0.0,>=0.3.41->langchain_community) (24.2)\n",
            "Requirement already satisfied: typing-extensions>=4.7 in /usr/local/lib/python3.11/dist-packages (from langchain-core<1.0.0,>=0.3.41->langchain_community) (4.12.2)\n",
            "Requirement already satisfied: httpx<1,>=0.23.0 in /usr/local/lib/python3.11/dist-packages (from langsmith<0.4,>=0.1.125->langchain_community) (0.28.1)\n",
            "Requirement already satisfied: orjson<4.0.0,>=3.9.14 in /usr/local/lib/python3.11/dist-packages (from langsmith<0.4,>=0.1.125->langchain_community) (3.10.15)\n",
            "Requirement already satisfied: requests-toolbelt<2.0.0,>=1.0.0 in /usr/local/lib/python3.11/dist-packages (from langsmith<0.4,>=0.1.125->langchain_community) (1.0.0)\n",
            "Requirement already satisfied: zstandard<0.24.0,>=0.23.0 in /usr/local/lib/python3.11/dist-packages (from langsmith<0.4,>=0.1.125->langchain_community) (0.23.0)\n",
            "Requirement already satisfied: anyio<5,>=3.5.0 in /usr/local/lib/python3.11/dist-packages (from openai<2.0.0,>=1.66.3->langchain_openai) (3.7.1)\n",
            "Requirement already satisfied: distro<2,>=1.7.0 in /usr/local/lib/python3.11/dist-packages (from openai<2.0.0,>=1.66.3->langchain_openai) (1.9.0)\n",
            "Requirement already satisfied: jiter<1,>=0.4.0 in /usr/local/lib/python3.11/dist-packages (from openai<2.0.0,>=1.66.3->langchain_openai) (0.9.0)\n",
            "Requirement already satisfied: sniffio in /usr/local/lib/python3.11/dist-packages (from openai<2.0.0,>=1.66.3->langchain_openai) (1.3.1)\n",
            "Requirement already satisfied: tqdm>4 in /usr/local/lib/python3.11/dist-packages (from openai<2.0.0,>=1.66.3->langchain_openai) (4.67.1)\n",
            "Requirement already satisfied: python-dotenv>=0.21.0 in /usr/local/lib/python3.11/dist-packages (from pydantic-settings<3.0.0,>=2.4.0->langchain_community) (1.0.1)\n",
            "Requirement already satisfied: charset-normalizer<4,>=2 in /usr/local/lib/python3.11/dist-packages (from requests<3,>=2->langchain_community) (3.4.1)\n",
            "Requirement already satisfied: idna<4,>=2.5 in /usr/local/lib/python3.11/dist-packages (from requests<3,>=2->langchain_community) (3.10)\n",
            "Requirement already satisfied: urllib3<3,>=1.21.1 in /usr/local/lib/python3.11/dist-packages (from requests<3,>=2->langchain_community) (2.3.0)\n",
            "Requirement already satisfied: certifi>=2017.4.17 in /usr/local/lib/python3.11/dist-packages (from requests<3,>=2->langchain_community) (2025.1.31)\n",
            "Requirement already satisfied: greenlet!=0.4.17 in /usr/local/lib/python3.11/dist-packages (from SQLAlchemy<3,>=1.4->langchain_community) (3.1.1)\n",
            "Requirement already satisfied: regex>=2022.1.18 in /usr/local/lib/python3.11/dist-packages (from tiktoken<1,>=0.7->langchain_openai) (2024.11.6)\n",
            "Requirement already satisfied: httpcore==1.* in /usr/local/lib/python3.11/dist-packages (from httpx<1,>=0.23.0->langsmith<0.4,>=0.1.125->langchain_community) (1.0.7)\n",
            "Requirement already satisfied: h11<0.15,>=0.13 in /usr/local/lib/python3.11/dist-packages (from httpcore==1.*->httpx<1,>=0.23.0->langsmith<0.4,>=0.1.125->langchain_community) (0.14.0)\n",
            "Requirement already satisfied: jsonpointer>=1.9 in /usr/local/lib/python3.11/dist-packages (from jsonpatch<2.0,>=1.33->langchain-core<1.0.0,>=0.3.41->langchain_community) (3.0.0)\n",
            "Requirement already satisfied: annotated-types>=0.6.0 in /usr/local/lib/python3.11/dist-packages (from pydantic<3.0.0,>=2.7.4->langchain<1.0.0,>=0.3.20->langchain_community) (0.7.0)\n",
            "Requirement already satisfied: pydantic-core==2.27.2 in /usr/local/lib/python3.11/dist-packages (from pydantic<3.0.0,>=2.7.4->langchain<1.0.0,>=0.3.20->langchain_community) (2.27.2)\n",
            "Requirement already satisfied: mypy-extensions>=0.3.0 in /usr/local/lib/python3.11/dist-packages (from typing-inspect<1,>=0.4.0->dataclasses-json<0.7,>=0.5.7->langchain_community) (1.0.0)\n",
            "Downloading langchain_openai-0.3.9-py3-none-any.whl (60 kB)\n",
            "\u001b[2K   \u001b[90m━━━━━━━━━━━━━━━━━━━━━━━━━━━━━━━━━━━━━━━━\u001b[0m \u001b[32m60.9/60.9 kB\u001b[0m \u001b[31m2.6 MB/s\u001b[0m eta \u001b[36m0:00:00\u001b[0m\n",
            "\u001b[?25hDownloading langchain_core-0.3.45-py3-none-any.whl (415 kB)\n",
            "\u001b[2K   \u001b[90m━━━━━━━━━━━━━━━━━━━━━━━━━━━━━━━━━━━━━━━━\u001b[0m \u001b[32m415.9/415.9 kB\u001b[0m \u001b[31m11.3 MB/s\u001b[0m eta \u001b[36m0:00:00\u001b[0m\n",
            "\u001b[?25hDownloading openai-1.66.3-py3-none-any.whl (567 kB)\n",
            "\u001b[2K   \u001b[90m━━━━━━━━━━━━━━━━━━━━━━━━━━━━━━━━━━━━━━━━\u001b[0m \u001b[32m567.4/567.4 kB\u001b[0m \u001b[31m22.2 MB/s\u001b[0m eta \u001b[36m0:00:00\u001b[0m\n",
            "\u001b[?25hDownloading tiktoken-0.9.0-cp311-cp311-manylinux_2_17_x86_64.manylinux2014_x86_64.whl (1.2 MB)\n",
            "\u001b[2K   \u001b[90m━━━━━━━━━━━━━━━━━━━━━━━━━━━━━━━━━━━━━━━━\u001b[0m \u001b[32m1.2/1.2 MB\u001b[0m \u001b[31m46.4 MB/s\u001b[0m eta \u001b[36m0:00:00\u001b[0m\n",
            "\u001b[?25hInstalling collected packages: tiktoken, openai, langchain-core, langchain_openai\n",
            "  Attempting uninstall: openai\n",
            "    Found existing installation: openai 1.61.1\n",
            "    Uninstalling openai-1.61.1:\n",
            "      Successfully uninstalled openai-1.61.1\n",
            "  Attempting uninstall: langchain-core\n",
            "    Found existing installation: langchain-core 0.3.44\n",
            "    Uninstalling langchain-core-0.3.44:\n",
            "      Successfully uninstalled langchain-core-0.3.44\n",
            "Successfully installed langchain-core-0.3.45 langchain_openai-0.3.9 openai-1.66.3 tiktoken-0.9.0\n"
          ]
        }
      ]
    },
    {
      "cell_type": "code",
      "source": [
        "from google.colab import userdata\n",
        "import os\n",
        "\n",
        "OPENAI_API_KEY = userdata.get('OPENAI_API_KEY')\n",
        "\n",
        "os.environ['OPENAI_API_KEY'] = OPENAI_API_KEY"
      ],
      "metadata": {
        "id": "FluD3NlAYl3n"
      },
      "execution_count": 2,
      "outputs": []
    },
    {
      "cell_type": "markdown",
      "source": [
        "#Text Summarization Using Langchain"
      ],
      "metadata": {
        "id": "aXPRo5ZJa9FT"
      }
    },
    {
      "cell_type": "code",
      "source": [
        "## Basic Prompt Summarization\n",
        "from langchain.chat_models import ChatOpenAI\n",
        "from langchain.schema import(\n",
        "    AIMessage,\n",
        "    HumanMessage,\n",
        "    SystemMessage\n",
        ")"
      ],
      "metadata": {
        "id": "eM-MId3vYp7X"
      },
      "execution_count": 3,
      "outputs": []
    },
    {
      "cell_type": "code",
      "source": [
        "speech=\"\"\"\n",
        "People across the country, involved in government, political, and social activities, are dedicating their time to make the ‘Viksit Bharat Sankalp Yatra’ (Developed India Resolution Journey) successful. Therefore, as a Member of Parliament, it was my responsibility to also contribute my time to this program. So, today, I have come here just as a Member of Parliament and your ‘sevak’, ready to participate in this program, much like you.\n",
        "\n",
        "In our country, governments have come and gone, numerous schemes have been formulated, discussions have taken place, and big promises have been made. However, my experience and observations led me to believe that the most critical aspect that requires attention is ensuring that the government’s plans reach the intended beneficiaries without any hassles. If there is a ‘Pradhan Mantri Awas Yojana’ (Prime Minister’s housing scheme), then those who are living in jhuggis and slums should get their houses. And he should not need to make rounds of the government offices for this purpose. The government should reach him. Since you have assigned this responsibility to me, about four crore families have got their ‘pucca’ houses. However, I have encountered cases where someone is left out of the government benefits. Therefore, I have decided to tour the country again, to listen to people’s experiences with government schemes, to understand whether they received the intended benefits, and to ensure that the programs are reaching everyone as planned without paying any bribes. We will get the real picture if we visit them again. Therefore, this ‘Viksit Bharat Sankalp Yatra’ is, in a way, my own examination. I want to hear from you and the people across the country whether what I envisioned and the work I have been doing aligns with reality and whether it has reached those for whom it was meant.\n",
        "\n",
        "It is crucial to check whether the work that was supposed to happen has indeed taken place. I recently met some individuals who utilized the Ayushman card to get treatment for serious illnesses. One person met with a severe accident, and after using the card, he could afford the necessary operation, and now he is recovering well. When I asked him, he said: “How could I afford this treatment? Now that there is the Ayushman card, I mustered courage and underwent an operation. Now I am perfectly fine.”  Such stories are blessings to me.\n",
        "\n",
        "The bureaucrats, who prepare good schemes, expedite the paperwork and even allocate funds, also feel satisfied that 50 or 100 people who were supposed to get the funds have got it. The funds meant for a thousand villages have been released. But their job satisfaction peaks when they hear that their work has directly impacted someone’s life positively. When they see the tangible results of their efforts, their enthusiasm multiplies. They feel satisfied. Therefore, ‘Viksit Bharat Sankalp Yatra’ has had a positive impact on government officers. It has made them more enthusiastic about their work, especially when they witness the tangible benefits reaching the people. Officers now feel satisfied with their work, saying, “I made a good plan, I created a file, and the intended beneficiaries received the benefits.” When they find that the money has reached a poor widow under the Jeevan Jyoti scheme and it was a great help to her during her crisis, they realise that they have done a good job. When a government officer listens to such stories, he feels very satisfied.\n",
        "\n",
        "There are very few who understand the power and impact of the ‘Viksit Bharat Sankalp Yatra’. When I hear people connected to bureaucratic circles talking about it, expressing their satisfaction, it resonates with me. I’ve heard stories where someone suddenly received 2 lakh rupees after the death of her husband, and a sister mentioned how the arrival of gas in her home transformed her lives. The most significant aspect is when someone says that the line between rich and poor has vanished. While the slogan ‘Garibi Hatao’ (Remove Poverty) is one thing, but the real change happens when a person says, “As soon as the gas stove came to my house, the distinction between poverty and affluence disappeared.\n",
        "\"\"\""
      ],
      "metadata": {
        "id": "adtlYUkXY7R3"
      },
      "execution_count": 4,
      "outputs": []
    },
    {
      "cell_type": "code",
      "source": [
        "chat_messages=[\n",
        "    SystemMessage(content='You are an expert assistant with expertize in summarizing speeches'),\n",
        "    HumanMessage(content=f'Please provide a short and concise summary of the following speech:\\n TEXT: {speech}')\n",
        "]"
      ],
      "metadata": {
        "id": "TmPocnoRY_U_"
      },
      "execution_count": 5,
      "outputs": []
    },
    {
      "cell_type": "code",
      "source": [
        "from langchain_openai import ChatOpenAI\n",
        "\n",
        "llm=ChatOpenAI(model_name='gpt-3.5-turbo')"
      ],
      "metadata": {
        "id": "YzID_VHsZCoH"
      },
      "execution_count": 7,
      "outputs": []
    },
    {
      "cell_type": "code",
      "source": [
        "##total tokens\n",
        "llm.get_num_tokens(speech)"
      ],
      "metadata": {
        "colab": {
          "base_uri": "https://localhost:8080/"
        },
        "id": "vucI-fQWZq8y",
        "outputId": "820a2a66-bc6a-4606-a226-db9c7d7eb9f0"
      },
      "execution_count": 8,
      "outputs": [
        {
          "output_type": "execute_result",
          "data": {
            "text/plain": [
              "866"
            ]
          },
          "metadata": {},
          "execution_count": 8
        }
      ]
    },
    {
      "cell_type": "code",
      "source": [
        "response = llm.invoke(chat_messages)"
      ],
      "metadata": {
        "id": "iG7b21hHaXcl"
      },
      "execution_count": 9,
      "outputs": []
    },
    {
      "cell_type": "code",
      "source": [
        "response"
      ],
      "metadata": {
        "colab": {
          "base_uri": "https://localhost:8080/"
        },
        "id": "cfTKB5GuZuyB",
        "outputId": "2f95f48c-726e-441c-a70f-42d726518111"
      },
      "execution_count": 10,
      "outputs": [
        {
          "output_type": "execute_result",
          "data": {
            "text/plain": [
              "AIMessage(content=\"The speech highlights the importance of ensuring government schemes reach the intended beneficiaries seamlessly. The speaker, a Member of Parliament, discusses the impact of the 'Viksit Bharat Sankalp Yatra' in reaching people and ensuring programs benefit all without corruption. The success stories from individuals who benefitted from schemes like the Ayushman card demonstrate the tangible impact on people's lives. The speech also emphasizes the satisfaction of bureaucrats when they witness the positive outcomes of their work and how the Yatra enhances their enthusiasm for serving the people. Ultimately, the aim is to bridge the gap between rich and poor through efficient implementation of government programs.\", additional_kwargs={'refusal': None}, response_metadata={'token_usage': {'completion_tokens': 127, 'prompt_tokens': 903, 'total_tokens': 1030, 'completion_tokens_details': {'accepted_prediction_tokens': 0, 'audio_tokens': 0, 'reasoning_tokens': 0, 'rejected_prediction_tokens': 0}, 'prompt_tokens_details': {'audio_tokens': 0, 'cached_tokens': 0}}, 'model_name': 'gpt-3.5-turbo-0125', 'system_fingerprint': None, 'id': 'chatcmpl-BCMnMvZONG6oLej48LqQ4r2hXhFrQ', 'finish_reason': 'stop', 'logprobs': None}, id='run-66512ec2-05f0-46a5-822a-1c161e9981b5-0', usage_metadata={'input_tokens': 903, 'output_tokens': 127, 'total_tokens': 1030, 'input_token_details': {'audio': 0, 'cache_read': 0}, 'output_token_details': {'audio': 0, 'reasoning': 0}})"
            ]
          },
          "metadata": {},
          "execution_count": 10
        }
      ]
    },
    {
      "cell_type": "code",
      "source": [
        "##get_summary\n",
        "print(response.content)"
      ],
      "metadata": {
        "colab": {
          "base_uri": "https://localhost:8080/"
        },
        "id": "65xqQ_1MagJt",
        "outputId": "8b7741b0-7159-4345-d7df-3075a934d18c"
      },
      "execution_count": 11,
      "outputs": [
        {
          "output_type": "stream",
          "name": "stdout",
          "text": [
            "The speech highlights the importance of ensuring government schemes reach the intended beneficiaries seamlessly. The speaker, a Member of Parliament, discusses the impact of the 'Viksit Bharat Sankalp Yatra' in reaching people and ensuring programs benefit all without corruption. The success stories from individuals who benefitted from schemes like the Ayushman card demonstrate the tangible impact on people's lives. The speech also emphasizes the satisfaction of bureaucrats when they witness the positive outcomes of their work and how the Yatra enhances their enthusiasm for serving the people. Ultimately, the aim is to bridge the gap between rich and poor through efficient implementation of government programs.\n"
          ]
        }
      ]
    },
    {
      "cell_type": "markdown",
      "source": [
        "#Prompt Templates Text Summarization"
      ],
      "metadata": {
        "id": "DIB5T21QZ0V5"
      }
    },
    {
      "cell_type": "code",
      "source": [
        "from langchain.chains import LLMChain\n",
        "from langchain import PromptTemplate"
      ],
      "metadata": {
        "id": "s5bHZmaBZ26R"
      },
      "execution_count": 12,
      "outputs": []
    },
    {
      "cell_type": "code",
      "source": [
        "generic_template='''\n",
        "Write a summary of the following speech:\n",
        "Speech : `{speech}`\n",
        "Translate the precise summary to {language}.\n",
        "\n",
        "'''\n",
        "prompt=PromptTemplate(\n",
        "    input_variables=['speech','language'],\n",
        "    template=generic_template\n",
        ")"
      ],
      "metadata": {
        "id": "o-z9-qjKZ9ST"
      },
      "execution_count": 13,
      "outputs": []
    },
    {
      "cell_type": "code",
      "source": [
        "prompt.format(speech=speech,language='Hindi')"
      ],
      "metadata": {
        "colab": {
          "base_uri": "https://localhost:8080/",
          "height": 174
        },
        "id": "bctmFm95aAsh",
        "outputId": "e51b6be6-3314-4980-dafa-fbb435a26992"
      },
      "execution_count": 14,
      "outputs": [
        {
          "output_type": "execute_result",
          "data": {
            "text/plain": [
              "'\\nWrite a summary of the following speech:\\nSpeech : `\\nPeople across the country, involved in government, political, and social activities, are dedicating their time to make the ‘Viksit Bharat Sankalp Yatra’ (Developed India Resolution Journey) successful. Therefore, as a Member of Parliament, it was my responsibility to also contribute my time to this program. So, today, I have come here just as a Member of Parliament and your ‘sevak’, ready to participate in this program, much like you.\\n\\nIn our country, governments have come and gone, numerous schemes have been formulated, discussions have taken place, and big promises have been made. However, my experience and observations led me to believe that the most critical aspect that requires attention is ensuring that the government’s plans reach the intended beneficiaries without any hassles. If there is a ‘Pradhan Mantri Awas Yojana’ (Prime Minister’s housing scheme), then those who are living in jhuggis and slums should get their houses. And he should not need to make rounds of the government offices for this purpose. The government should reach him. Since you have assigned this responsibility to me, about four crore families have got their ‘pucca’ houses. However, I have encountered cases where someone is left out of the government benefits. Therefore, I have decided to tour the country again, to listen to people’s experiences with government schemes, to understand whether they received the intended benefits, and to ensure that the programs are reaching everyone as planned without paying any bribes. We will get the real picture if we visit them again. Therefore, this ‘Viksit Bharat Sankalp Yatra’ is, in a way, my own examination. I want to hear from you and the people across the country whether what I envisioned and the work I have been doing aligns with reality and whether it has reached those for whom it was meant.\\n\\nIt is crucial to check whether the work that was supposed to happen has indeed taken place. I recently met some individuals who utilized the Ayushman card to get treatment for serious illnesses. One person met with a severe accident, and after using the card, he could afford the necessary operation, and now he is recovering well. When I asked him, he said: “How could I afford this treatment? Now that there is the Ayushman card, I mustered courage and underwent an operation. Now I am perfectly fine.”  Such stories are blessings to me.\\n\\nThe bureaucrats, who prepare good schemes, expedite the paperwork and even allocate funds, also feel satisfied that 50 or 100 people who were supposed to get the funds have got it. The funds meant for a thousand villages have been released. But their job satisfaction peaks when they hear that their work has directly impacted someone’s life positively. When they see the tangible results of their efforts, their enthusiasm multiplies. They feel satisfied. Therefore, ‘Viksit Bharat Sankalp Yatra’ has had a positive impact on government officers. It has made them more enthusiastic about their work, especially when they witness the tangible benefits reaching the people. Officers now feel satisfied with their work, saying, “I made a good plan, I created a file, and the intended beneficiaries received the benefits.” When they find that the money has reached a poor widow under the Jeevan Jyoti scheme and it was a great help to her during her crisis, they realise that they have done a good job. When a government officer listens to such stories, he feels very satisfied.\\n\\nThere are very few who understand the power and impact of the ‘Viksit Bharat Sankalp Yatra’. When I hear people connected to bureaucratic circles talking about it, expressing their satisfaction, it resonates with me. I’ve heard stories where someone suddenly received 2 lakh rupees after the death of her husband, and a sister mentioned how the arrival of gas in her home transformed her lives. The most significant aspect is when someone says that the line between rich and poor has vanished. While the slogan ‘Garibi Hatao’ (Remove Poverty) is one thing, but the real change happens when a person says, “As soon as the gas stove came to my house, the distinction between poverty and affluence disappeared.\\n`\\nTranslate the precise summary to Hindi.\\n\\n'"
            ],
            "application/vnd.google.colaboratory.intrinsic+json": {
              "type": "string"
            }
          },
          "metadata": {},
          "execution_count": 14
        }
      ]
    },
    {
      "cell_type": "code",
      "source": [
        "complete_prompt=prompt.format(speech=speech,language='Hindi')"
      ],
      "metadata": {
        "id": "m-qinqwSaGdh"
      },
      "execution_count": 15,
      "outputs": []
    },
    {
      "cell_type": "code",
      "source": [
        "llm.get_num_tokens(complete_prompt)"
      ],
      "metadata": {
        "colab": {
          "base_uri": "https://localhost:8080/"
        },
        "id": "OD4THLt-aIsq",
        "outputId": "8b57d9cf-3abc-434b-c216-30f8dada4905"
      },
      "execution_count": 16,
      "outputs": [
        {
          "output_type": "execute_result",
          "data": {
            "text/plain": [
              "885"
            ]
          },
          "metadata": {},
          "execution_count": 16
        }
      ]
    },
    {
      "cell_type": "code",
      "source": [
        "llm_chain=LLMChain(llm=llm,prompt=prompt)"
      ],
      "metadata": {
        "colab": {
          "base_uri": "https://localhost:8080/"
        },
        "id": "Js4RwfFdaLCs",
        "outputId": "fad64d75-cbd9-46e8-9075-cf8decb93d19"
      },
      "execution_count": 17,
      "outputs": [
        {
          "output_type": "stream",
          "name": "stderr",
          "text": [
            "<ipython-input-17-a14733407ec3>:1: LangChainDeprecationWarning: The class `LLMChain` was deprecated in LangChain 0.1.17 and will be removed in 1.0. Use :meth:`~RunnableSequence, e.g., `prompt | llm`` instead.\n",
            "  llm_chain=LLMChain(llm=llm,prompt=prompt)\n"
          ]
        }
      ]
    },
    {
      "cell_type": "code",
      "source": [
        "summary_hindu=llm_chain.invoke({'speech':speech,'language':'hindi'})"
      ],
      "metadata": {
        "id": "oucjXbcrbS74"
      },
      "execution_count": 18,
      "outputs": []
    },
    {
      "cell_type": "code",
      "source": [
        "summary_hindu"
      ],
      "metadata": {
        "colab": {
          "base_uri": "https://localhost:8080/"
        },
        "id": "R9Xvu93ybkpF",
        "outputId": "74ef957a-f6a0-49d7-b6cf-e123d0d13200"
      },
      "execution_count": 20,
      "outputs": [
        {
          "output_type": "execute_result",
          "data": {
            "text/plain": [
              "{'speech': '\\nPeople across the country, involved in government, political, and social activities, are dedicating their time to make the ‘Viksit Bharat Sankalp Yatra’ (Developed India Resolution Journey) successful. Therefore, as a Member of Parliament, it was my responsibility to also contribute my time to this program. So, today, I have come here just as a Member of Parliament and your ‘sevak’, ready to participate in this program, much like you.\\n\\nIn our country, governments have come and gone, numerous schemes have been formulated, discussions have taken place, and big promises have been made. However, my experience and observations led me to believe that the most critical aspect that requires attention is ensuring that the government’s plans reach the intended beneficiaries without any hassles. If there is a ‘Pradhan Mantri Awas Yojana’ (Prime Minister’s housing scheme), then those who are living in jhuggis and slums should get their houses. And he should not need to make rounds of the government offices for this purpose. The government should reach him. Since you have assigned this responsibility to me, about four crore families have got their ‘pucca’ houses. However, I have encountered cases where someone is left out of the government benefits. Therefore, I have decided to tour the country again, to listen to people’s experiences with government schemes, to understand whether they received the intended benefits, and to ensure that the programs are reaching everyone as planned without paying any bribes. We will get the real picture if we visit them again. Therefore, this ‘Viksit Bharat Sankalp Yatra’ is, in a way, my own examination. I want to hear from you and the people across the country whether what I envisioned and the work I have been doing aligns with reality and whether it has reached those for whom it was meant.\\n\\nIt is crucial to check whether the work that was supposed to happen has indeed taken place. I recently met some individuals who utilized the Ayushman card to get treatment for serious illnesses. One person met with a severe accident, and after using the card, he could afford the necessary operation, and now he is recovering well. When I asked him, he said: “How could I afford this treatment? Now that there is the Ayushman card, I mustered courage and underwent an operation. Now I am perfectly fine.”  Such stories are blessings to me.\\n\\nThe bureaucrats, who prepare good schemes, expedite the paperwork and even allocate funds, also feel satisfied that 50 or 100 people who were supposed to get the funds have got it. The funds meant for a thousand villages have been released. But their job satisfaction peaks when they hear that their work has directly impacted someone’s life positively. When they see the tangible results of their efforts, their enthusiasm multiplies. They feel satisfied. Therefore, ‘Viksit Bharat Sankalp Yatra’ has had a positive impact on government officers. It has made them more enthusiastic about their work, especially when they witness the tangible benefits reaching the people. Officers now feel satisfied with their work, saying, “I made a good plan, I created a file, and the intended beneficiaries received the benefits.” When they find that the money has reached a poor widow under the Jeevan Jyoti scheme and it was a great help to her during her crisis, they realise that they have done a good job. When a government officer listens to such stories, he feels very satisfied.\\n\\nThere are very few who understand the power and impact of the ‘Viksit Bharat Sankalp Yatra’. When I hear people connected to bureaucratic circles talking about it, expressing their satisfaction, it resonates with me. I’ve heard stories where someone suddenly received 2 lakh rupees after the death of her husband, and a sister mentioned how the arrival of gas in her home transformed her lives. The most significant aspect is when someone says that the line between rich and poor has vanished. While the slogan ‘Garibi Hatao’ (Remove Poverty) is one thing, but the real change happens when a person says, “As soon as the gas stove came to my house, the distinction between poverty and affluence disappeared.\\n',\n",
              " 'language': 'hindi',\n",
              " 'text': 'भारत निर्मिति की इस खोज में, सरकारी अधिकारियों और राजनीतिक और सामाजिक गतिविधियों में जुटे लोग अपना समय समर्पित कर रहे हैं ताकि ‘विकसित भारत संकल्प यात्रा’ सफल हो सके। इसलिए, संसद के सदस्य के रूप में, इस कार्यक्रम में अपना समय देना मेरी जिम्मेदारी थी। मैं आज यहाँ केवल एक सांसद और आपका ‘सेवक’ के रूप में आया हूँ, इस कार्यक्रम में भाग लेने के लिए, बिल्कुल जैसे आप लोग हैं।\\n\\nअपने देश में, कई सरकारें आई और चली गई हैं, अनेक योजनाएं बनाई गई हैं, चर्चाएँ हुई हैं, बड़े वादे किए गए हैं। मेरे अनुभव और अवलोकन ने मुझे यह महसूस कराया कि जो सबसे महत्वपूर्ण विवरण है उसे ध्यान से ध्यान देना है यह सुनिश्चित करना कि सरकार की योजनाएं तक पहुंच पाने के लिए कोई कठिनाइयाँ न हों। अगर ‘प्रधानमंत्री आवास योजना’ है, तो उन्हें उन लोगों को चाहिए जो झुग्गियों और झोपड़ीमें रहते हैं, उन्हें उनके घर मिलें। और इसके लिए उसे सरकारी कार्यालयों की चक्कर नहीं काटनी चाहिए। सरकार को वही पहुंचनी चाहिए। जिन्होंने मुझे यह जिम्मेदारी सौंपी है, उन्होंने लगभग चार करोड़ परिवारों को उनके ‘पुक्के’ घर मिला है। हालांकि, मुझे उन मामलों से भी सामना करना पड़ा है जहाँ किसी को सरकारी लाभ छूट गई है। इसलिए, मैंने फिर से देश की यात्रा करने का निश्चित किया है, लोगों के सरकारी योजनाओं के साथ अनुभव सुनने के लिए, समझने के लिए कि क्या उन्हें इच्छित लाभ मिला था, और सुनिश्चित करने के लिए कि कार्यक्रम प्लान के अनुसार सभी तक पहुंच\\nरहे हैं। हमें उनके पास दोबारा जाकर वह असल तस्वीर मिलेगी। इसलिए, यह ‘विकसित भारत संकल्प यात्रा’, एक ही बार में, मेरी अपनी परीक्षा है। मैं चाहता हूँ कि मैं आप सभी और पूरे देश के लोगों से सुनूं कि मैंने क्या विचार किया था और मैंने जो काम किया है, क्या वास्तव में मिल रहा है और क्या वह उन सभी तक पहुंचा है जिनके लिए यह था।\\n\\nयह जांचना महत्वपूर्ण है कि जो काम होना चाहिए वह वास्तव में हुआ है या नहीं। हाल ही में मैंने कुछ व्यक्तियों से मिला जिन्होंने गंभीर बीमारियों के उपचार के लिए आयुषमान कार्ड का उपयोग किया। एक व्यक्ति को गंभीर दुर्घटना हो गई थी, और कार्ड का उपयोग करने के बाद, उसे आवश्यक ऑपरेशन का पंजीकरण करने में सक्षम हुआ, और अब वह ठीक हो रहा है। जब मैंने उससे पूछा, तो उसने कहा: “मैं इस उपचार को कैसे संभव कर सकता था? अब जब आयुष्मान कार्ड है तो मुझे साहस जुटाकर एक ऑपरेशन कराया। अब मैं पूरी तरह से ठीक हूँ।” ऐसी कहानियाँ मुझे आशीर्वाद सा लगती हैं।\\n\\nजो व्यक्तिगत योजनाएं तैयार करते हैं, कागजात को तेजी से प्रस्तुत करते हैं और निधियाँ भी आवंटित करते हैं, वे भी संतुष्ट महसूस करते हैं कि 50 या 100 लोग जिन्हे निधियाँ चाहिए थीं, उन्हें मिल गई हैं। हजारों गांवों के लिए निधियाँ जारी की गई हैं। लेकिन जो लोग सीधे अपनी प्रयासों के तांतुकरत हस्तक्षेप का परिणाम स्थायी में मिलते देखते हैं, उनकी हर्ष सुख बढ़ जाता है। यह उनकी प्रेरणा गुणवत्ता है। उन्हें संतोष मिलता है। इसलिए, ‘विकसित भारत संकल्प यात्रा’ सरकारी अधिकारियों पर भी पॉजिटिव प्रभाव डालने के कारण है। इसने उन्हें उनके काम के प्रति अधिक उत्साही बना दिया है, खासकर जब वे यह देखते हैं कि वास्तव में लाभ पहुंच रहा है कि लोगों तक पहुंचा है। अधिकारी अब अपने काम से संतुष्ट महसूस कर रहे हैं, कह कर, “मैंने एक अच्छी योजना तैयार की, मैंने एक फाइल बनाई, और इच्छित लाभ पाकर अधिकारिय भी संतुष्ट महसूस कर रहे हैं।” जब उन्हें यह देखने को मिलता है कि प्रधानमंत्री जीवन ज्योति योजना के तहत किसी गरीब विधवा तक निधियाँ पहुंच गईं और उसके कठिन समय में यह उसके लिए एक बड़ी सहायता रही, तो उन्हें मालूम हो जाता है कि उन्होंने अच्छा काम किया है। जब एक सरकारी कर्मचारी ऐसी कहानियाँ सुनते हैं, तो वह बहुत संतुष्ट महसूस करते हैं।\\n\\n‘विकसित भारत संकल्प यात्रा’ की शक्ति और प्रभाव को समझने वाले कुछ ही लोग हैं। जब मैं ब्यूरोक्रेटिक वर्ग से जुड़े लोगों से भाषण करते हुए सुनता हूँ, उनके संतोष की गहराई को मैं समझ पाता हूँ। मैंने कुछ कहानियाँ सुनी हैं जहाँ किसीं को अचानक अपने पति की मौत के बाद 2 लाख रुपये मिले, और एक बहन ने कैसे उनके घर में गैस की आगमन से उनकी जिंदगी की प्रक्रिया को परिवर्तित हुई। सबसे अहम बात है जब कोई कहता है कि गरीबी और धनवान के बीच रेखा छोटी हो गई है। जबकि नारा ‘गरीबी हटाओ’ एक बात है, लेकिन वास्तविक परिवर्तन तभी होता है जब कोई व्यक्ति कहता है, “मेरे घर में गैस स्टोव आने के बाद, गरीबी और समृद्धि के बीच भेद मिट गया है।\"'}"
            ]
          },
          "metadata": {},
          "execution_count": 20
        }
      ]
    },
    {
      "cell_type": "code",
      "source": [
        "type(summary_hindu)"
      ],
      "metadata": {
        "colab": {
          "base_uri": "https://localhost:8080/"
        },
        "id": "USVciCW7buY5",
        "outputId": "a9f10bba-3156-41e5-a2ff-f01828584122"
      },
      "execution_count": 21,
      "outputs": [
        {
          "output_type": "execute_result",
          "data": {
            "text/plain": [
              "dict"
            ]
          },
          "metadata": {},
          "execution_count": 21
        }
      ]
    },
    {
      "cell_type": "code",
      "source": [
        "summary_hindu['language']"
      ],
      "metadata": {
        "colab": {
          "base_uri": "https://localhost:8080/",
          "height": 35
        },
        "id": "t0arsPNXbzUf",
        "outputId": "c5f54f79-3ab5-4552-aef4-456c5f9ef7d4"
      },
      "execution_count": 22,
      "outputs": [
        {
          "output_type": "execute_result",
          "data": {
            "text/plain": [
              "'hindi'"
            ],
            "application/vnd.google.colaboratory.intrinsic+json": {
              "type": "string"
            }
          },
          "metadata": {},
          "execution_count": 22
        }
      ]
    },
    {
      "cell_type": "code",
      "source": [
        "summary_hindu['text']"
      ],
      "metadata": {
        "colab": {
          "base_uri": "https://localhost:8080/",
          "height": 139
        },
        "id": "ZbGy298fb5Wr",
        "outputId": "3f8a6680-23c2-4d40-c559-da3df0bece48"
      },
      "execution_count": 23,
      "outputs": [
        {
          "output_type": "execute_result",
          "data": {
            "text/plain": [
              "'भारत निर्मिति की इस खोज में, सरकारी अधिकारियों और राजनीतिक और सामाजिक गतिविधियों में जुटे लोग अपना समय समर्पित कर रहे हैं ताकि ‘विकसित भारत संकल्प यात्रा’ सफल हो सके। इसलिए, संसद के सदस्य के रूप में, इस कार्यक्रम में अपना समय देना मेरी जिम्मेदारी थी। मैं आज यहाँ केवल एक सांसद और आपका ‘सेवक’ के रूप में आया हूँ, इस कार्यक्रम में भाग लेने के लिए, बिल्कुल जैसे आप लोग हैं।\\n\\nअपने देश में, कई सरकारें आई और चली गई हैं, अनेक योजनाएं बनाई गई हैं, चर्चाएँ हुई हैं, बड़े वादे किए गए हैं। मेरे अनुभव और अवलोकन ने मुझे यह महसूस कराया कि जो सबसे महत्वपूर्ण विवरण है उसे ध्यान से ध्यान देना है यह सुनिश्चित करना कि सरकार की योजनाएं तक पहुंच पाने के लिए कोई कठिनाइयाँ न हों। अगर ‘प्रधानमंत्री आवास योजना’ है, तो उन्हें उन लोगों को चाहिए जो झुग्गियों और झोपड़ीमें रहते हैं, उन्हें उनके घर मिलें। और इसके लिए उसे सरकारी कार्यालयों की चक्कर नहीं काटनी चाहिए। सरकार को वही पहुंचनी चाहिए। जिन्होंने मुझे यह जिम्मेदारी सौंपी है, उन्होंने लगभग चार करोड़ परिवारों को उनके ‘पुक्के’ घर मिला है। हालांकि, मुझे उन मामलों से भी सामना करना पड़ा है जहाँ किसी को सरकारी लाभ छूट गई है। इसलिए, मैंने फिर से देश की यात्रा करने का निश्चित किया है, लोगों के सरकारी योजनाओं के साथ अनुभव सुनने के लिए, समझने के लिए कि क्या उन्हें इच्छित लाभ मिला था, और सुनिश्चित करने के लिए कि कार्यक्रम प्लान के अनुसार सभी तक पहुंच\\nरहे हैं। हमें उनके पास दोबारा जाकर वह असल तस्वीर मिलेगी। इसलिए, यह ‘विकसित भारत संकल्प यात्रा’, एक ही बार में, मेरी अपनी परीक्षा है। मैं चाहता हूँ कि मैं आप सभी और पूरे देश के लोगों से सुनूं कि मैंने क्या विचार किया था और मैंने जो काम किया है, क्या वास्तव में मिल रहा है और क्या वह उन सभी तक पहुंचा है जिनके लिए यह था।\\n\\nयह जांचना महत्वपूर्ण है कि जो काम होना चाहिए वह वास्तव में हुआ है या नहीं। हाल ही में मैंने कुछ व्यक्तियों से मिला जिन्होंने गंभीर बीमारियों के उपचार के लिए आयुषमान कार्ड का उपयोग किया। एक व्यक्ति को गंभीर दुर्घटना हो गई थी, और कार्ड का उपयोग करने के बाद, उसे आवश्यक ऑपरेशन का पंजीकरण करने में सक्षम हुआ, और अब वह ठीक हो रहा है। जब मैंने उससे पूछा, तो उसने कहा: “मैं इस उपचार को कैसे संभव कर सकता था? अब जब आयुष्मान कार्ड है तो मुझे साहस जुटाकर एक ऑपरेशन कराया। अब मैं पूरी तरह से ठीक हूँ।” ऐसी कहानियाँ मुझे आशीर्वाद सा लगती हैं।\\n\\nजो व्यक्तिगत योजनाएं तैयार करते हैं, कागजात को तेजी से प्रस्तुत करते हैं और निधियाँ भी आवंटित करते हैं, वे भी संतुष्ट महसूस करते हैं कि 50 या 100 लोग जिन्हे निधियाँ चाहिए थीं, उन्हें मिल गई हैं। हजारों गांवों के लिए निधियाँ जारी की गई हैं। लेकिन जो लोग सीधे अपनी प्रयासों के तांतुकरत हस्तक्षेप का परिणाम स्थायी में मिलते देखते हैं, उनकी हर्ष सुख बढ़ जाता है। यह उनकी प्रेरणा गुणवत्ता है। उन्हें संतोष मिलता है। इसलिए, ‘विकसित भारत संकल्प यात्रा’ सरकारी अधिकारियों पर भी पॉजिटिव प्रभाव डालने के कारण है। इसने उन्हें उनके काम के प्रति अधिक उत्साही बना दिया है, खासकर जब वे यह देखते हैं कि वास्तव में लाभ पहुंच रहा है कि लोगों तक पहुंचा है। अधिकारी अब अपने काम से संतुष्ट महसूस कर रहे हैं, कह कर, “मैंने एक अच्छी योजना तैयार की, मैंने एक फाइल बनाई, और इच्छित लाभ पाकर अधिकारिय भी संतुष्ट महसूस कर रहे हैं।” जब उन्हें यह देखने को मिलता है कि प्रधानमंत्री जीवन ज्योति योजना के तहत किसी गरीब विधवा तक निधियाँ पहुंच गईं और उसके कठिन समय में यह उसके लिए एक बड़ी सहायता रही, तो उन्हें मालूम हो जाता है कि उन्होंने अच्छा काम किया है। जब एक सरकारी कर्मचारी ऐसी कहानियाँ सुनते हैं, तो वह बहुत संतुष्ट महसूस करते हैं।\\n\\n‘विकसित भारत संकल्प यात्रा’ की शक्ति और प्रभाव को समझने वाले कुछ ही लोग हैं। जब मैं ब्यूरोक्रेटिक वर्ग से जुड़े लोगों से भाषण करते हुए सुनता हूँ, उनके संतोष की गहराई को मैं समझ पाता हूँ। मैंने कुछ कहानियाँ सुनी हैं जहाँ किसीं को अचानक अपने पति की मौत के बाद 2 लाख रुपये मिले, और एक बहन ने कैसे उनके घर में गैस की आगमन से उनकी जिंदगी की प्रक्रिया को परिवर्तित हुई। सबसे अहम बात है जब कोई कहता है कि गरीबी और धनवान के बीच रेखा छोटी हो गई है। जबकि नारा ‘गरीबी हटाओ’ एक बात है, लेकिन वास्तविक परिवर्तन तभी होता है जब कोई व्यक्ति कहता है, “मेरे घर में गैस स्टोव आने के बाद, गरीबी और समृद्धि के बीच भेद मिट गया है।\"'"
            ],
            "application/vnd.google.colaboratory.intrinsic+json": {
              "type": "string"
            }
          },
          "metadata": {},
          "execution_count": 23
        }
      ]
    },
    {
      "cell_type": "code",
      "source": [
        "print(summary_hindu)"
      ],
      "metadata": {
        "id": "_lKZm8mGaUci",
        "colab": {
          "base_uri": "https://localhost:8080/"
        },
        "outputId": "3bdb7267-19b6-49f9-9808-6f4e7fa541ed"
      },
      "execution_count": 19,
      "outputs": [
        {
          "output_type": "stream",
          "name": "stdout",
          "text": [
            "{'speech': '\\nPeople across the country, involved in government, political, and social activities, are dedicating their time to make the ‘Viksit Bharat Sankalp Yatra’ (Developed India Resolution Journey) successful. Therefore, as a Member of Parliament, it was my responsibility to also contribute my time to this program. So, today, I have come here just as a Member of Parliament and your ‘sevak’, ready to participate in this program, much like you.\\n\\nIn our country, governments have come and gone, numerous schemes have been formulated, discussions have taken place, and big promises have been made. However, my experience and observations led me to believe that the most critical aspect that requires attention is ensuring that the government’s plans reach the intended beneficiaries without any hassles. If there is a ‘Pradhan Mantri Awas Yojana’ (Prime Minister’s housing scheme), then those who are living in jhuggis and slums should get their houses. And he should not need to make rounds of the government offices for this purpose. The government should reach him. Since you have assigned this responsibility to me, about four crore families have got their ‘pucca’ houses. However, I have encountered cases where someone is left out of the government benefits. Therefore, I have decided to tour the country again, to listen to people’s experiences with government schemes, to understand whether they received the intended benefits, and to ensure that the programs are reaching everyone as planned without paying any bribes. We will get the real picture if we visit them again. Therefore, this ‘Viksit Bharat Sankalp Yatra’ is, in a way, my own examination. I want to hear from you and the people across the country whether what I envisioned and the work I have been doing aligns with reality and whether it has reached those for whom it was meant.\\n\\nIt is crucial to check whether the work that was supposed to happen has indeed taken place. I recently met some individuals who utilized the Ayushman card to get treatment for serious illnesses. One person met with a severe accident, and after using the card, he could afford the necessary operation, and now he is recovering well. When I asked him, he said: “How could I afford this treatment? Now that there is the Ayushman card, I mustered courage and underwent an operation. Now I am perfectly fine.”  Such stories are blessings to me.\\n\\nThe bureaucrats, who prepare good schemes, expedite the paperwork and even allocate funds, also feel satisfied that 50 or 100 people who were supposed to get the funds have got it. The funds meant for a thousand villages have been released. But their job satisfaction peaks when they hear that their work has directly impacted someone’s life positively. When they see the tangible results of their efforts, their enthusiasm multiplies. They feel satisfied. Therefore, ‘Viksit Bharat Sankalp Yatra’ has had a positive impact on government officers. It has made them more enthusiastic about their work, especially when they witness the tangible benefits reaching the people. Officers now feel satisfied with their work, saying, “I made a good plan, I created a file, and the intended beneficiaries received the benefits.” When they find that the money has reached a poor widow under the Jeevan Jyoti scheme and it was a great help to her during her crisis, they realise that they have done a good job. When a government officer listens to such stories, he feels very satisfied.\\n\\nThere are very few who understand the power and impact of the ‘Viksit Bharat Sankalp Yatra’. When I hear people connected to bureaucratic circles talking about it, expressing their satisfaction, it resonates with me. I’ve heard stories where someone suddenly received 2 lakh rupees after the death of her husband, and a sister mentioned how the arrival of gas in her home transformed her lives. The most significant aspect is when someone says that the line between rich and poor has vanished. While the slogan ‘Garibi Hatao’ (Remove Poverty) is one thing, but the real change happens when a person says, “As soon as the gas stove came to my house, the distinction between poverty and affluence disappeared.\\n', 'language': 'hindi', 'text': 'भारत निर्मिति की इस खोज में, सरकारी अधिकारियों और राजनीतिक और सामाजिक गतिविधियों में जुटे लोग अपना समय समर्पित कर रहे हैं ताकि ‘विकसित भारत संकल्प यात्रा’ सफल हो सके। इसलिए, संसद के सदस्य के रूप में, इस कार्यक्रम में अपना समय देना मेरी जिम्मेदारी थी। मैं आज यहाँ केवल एक सांसद और आपका ‘सेवक’ के रूप में आया हूँ, इस कार्यक्रम में भाग लेने के लिए, बिल्कुल जैसे आप लोग हैं।\\n\\nअपने देश में, कई सरकारें आई और चली गई हैं, अनेक योजनाएं बनाई गई हैं, चर्चाएँ हुई हैं, बड़े वादे किए गए हैं। मेरे अनुभव और अवलोकन ने मुझे यह महसूस कराया कि जो सबसे महत्वपूर्ण विवरण है उसे ध्यान से ध्यान देना है यह सुनिश्चित करना कि सरकार की योजनाएं तक पहुंच पाने के लिए कोई कठिनाइयाँ न हों। अगर ‘प्रधानमंत्री आवास योजना’ है, तो उन्हें उन लोगों को चाहिए जो झुग्गियों और झोपड़ीमें रहते हैं, उन्हें उनके घर मिलें। और इसके लिए उसे सरकारी कार्यालयों की चक्कर नहीं काटनी चाहिए। सरकार को वही पहुंचनी चाहिए। जिन्होंने मुझे यह जिम्मेदारी सौंपी है, उन्होंने लगभग चार करोड़ परिवारों को उनके ‘पुक्के’ घर मिला है। हालांकि, मुझे उन मामलों से भी सामना करना पड़ा है जहाँ किसी को सरकारी लाभ छूट गई है। इसलिए, मैंने फिर से देश की यात्रा करने का निश्चित किया है, लोगों के सरकारी योजनाओं के साथ अनुभव सुनने के लिए, समझने के लिए कि क्या उन्हें इच्छित लाभ मिला था, और सुनिश्चित करने के लिए कि कार्यक्रम प्लान के अनुसार सभी तक पहुंच\\nरहे हैं। हमें उनके पास दोबारा जाकर वह असल तस्वीर मिलेगी। इसलिए, यह ‘विकसित भारत संकल्प यात्रा’, एक ही बार में, मेरी अपनी परीक्षा है। मैं चाहता हूँ कि मैं आप सभी और पूरे देश के लोगों से सुनूं कि मैंने क्या विचार किया था और मैंने जो काम किया है, क्या वास्तव में मिल रहा है और क्या वह उन सभी तक पहुंचा है जिनके लिए यह था।\\n\\nयह जांचना महत्वपूर्ण है कि जो काम होना चाहिए वह वास्तव में हुआ है या नहीं। हाल ही में मैंने कुछ व्यक्तियों से मिला जिन्होंने गंभीर बीमारियों के उपचार के लिए आयुषमान कार्ड का उपयोग किया। एक व्यक्ति को गंभीर दुर्घटना हो गई थी, और कार्ड का उपयोग करने के बाद, उसे आवश्यक ऑपरेशन का पंजीकरण करने में सक्षम हुआ, और अब वह ठीक हो रहा है। जब मैंने उससे पूछा, तो उसने कहा: “मैं इस उपचार को कैसे संभव कर सकता था? अब जब आयुष्मान कार्ड है तो मुझे साहस जुटाकर एक ऑपरेशन कराया। अब मैं पूरी तरह से ठीक हूँ।” ऐसी कहानियाँ मुझे आशीर्वाद सा लगती हैं।\\n\\nजो व्यक्तिगत योजनाएं तैयार करते हैं, कागजात को तेजी से प्रस्तुत करते हैं और निधियाँ भी आवंटित करते हैं, वे भी संतुष्ट महसूस करते हैं कि 50 या 100 लोग जिन्हे निधियाँ चाहिए थीं, उन्हें मिल गई हैं। हजारों गांवों के लिए निधियाँ जारी की गई हैं। लेकिन जो लोग सीधे अपनी प्रयासों के तांतुकरत हस्तक्षेप का परिणाम स्थायी में मिलते देखते हैं, उनकी हर्ष सुख बढ़ जाता है। यह उनकी प्रेरणा गुणवत्ता है। उन्हें संतोष मिलता है। इसलिए, ‘विकसित भारत संकल्प यात्रा’ सरकारी अधिकारियों पर भी पॉजिटिव प्रभाव डालने के कारण है। इसने उन्हें उनके काम के प्रति अधिक उत्साही बना दिया है, खासकर जब वे यह देखते हैं कि वास्तव में लाभ पहुंच रहा है कि लोगों तक पहुंचा है। अधिकारी अब अपने काम से संतुष्ट महसूस कर रहे हैं, कह कर, “मैंने एक अच्छी योजना तैयार की, मैंने एक फाइल बनाई, और इच्छित लाभ पाकर अधिकारिय भी संतुष्ट महसूस कर रहे हैं।” जब उन्हें यह देखने को मिलता है कि प्रधानमंत्री जीवन ज्योति योजना के तहत किसी गरीब विधवा तक निधियाँ पहुंच गईं और उसके कठिन समय में यह उसके लिए एक बड़ी सहायता रही, तो उन्हें मालूम हो जाता है कि उन्होंने अच्छा काम किया है। जब एक सरकारी कर्मचारी ऐसी कहानियाँ सुनते हैं, तो वह बहुत संतुष्ट महसूस करते हैं।\\n\\n‘विकसित भारत संकल्प यात्रा’ की शक्ति और प्रभाव को समझने वाले कुछ ही लोग हैं। जब मैं ब्यूरोक्रेटिक वर्ग से जुड़े लोगों से भाषण करते हुए सुनता हूँ, उनके संतोष की गहराई को मैं समझ पाता हूँ। मैंने कुछ कहानियाँ सुनी हैं जहाँ किसीं को अचानक अपने पति की मौत के बाद 2 लाख रुपये मिले, और एक बहन ने कैसे उनके घर में गैस की आगमन से उनकी जिंदगी की प्रक्रिया को परिवर्तित हुई। सबसे अहम बात है जब कोई कहता है कि गरीबी और धनवान के बीच रेखा छोटी हो गई है। जबकि नारा ‘गरीबी हटाओ’ एक बात है, लेकिन वास्तविक परिवर्तन तभी होता है जब कोई व्यक्ति कहता है, “मेरे घर में गैस स्टोव आने के बाद, गरीबी और समृद्धि के बीच भेद मिट गया है।\"'}\n"
          ]
        }
      ]
    },
    {
      "cell_type": "code",
      "source": [
        "summary_telugu=llm_chain.invoke({'speech':speech,'language':'telugu'})"
      ],
      "metadata": {
        "id": "Y8Jge_i0aNyV"
      },
      "execution_count": 26,
      "outputs": []
    },
    {
      "cell_type": "code",
      "source": [
        "summary_telugu['language']"
      ],
      "metadata": {
        "colab": {
          "base_uri": "https://localhost:8080/",
          "height": 35
        },
        "id": "jsG3NquIcDmz",
        "outputId": "27eaca37-6447-4b09-add7-31899fbee272"
      },
      "execution_count": 27,
      "outputs": [
        {
          "output_type": "execute_result",
          "data": {
            "text/plain": [
              "'telugu'"
            ],
            "application/vnd.google.colaboratory.intrinsic+json": {
              "type": "string"
            }
          },
          "metadata": {},
          "execution_count": 27
        }
      ]
    },
    {
      "cell_type": "code",
      "source": [
        "summary_telugu['text']"
      ],
      "metadata": {
        "colab": {
          "base_uri": "https://localhost:8080/",
          "height": 174
        },
        "id": "AN7Po_lmcZLq",
        "outputId": "28bb9877-0896-4fbc-f3a5-6ccde3f3009f"
      },
      "execution_count": 28,
      "outputs": [
        {
          "output_type": "execute_result",
          "data": {
            "text/plain": [
              "\"ఈ స్పీచ్ నుండి నిబంధన లో ఈ పరిపాలనకు చేరిన ప్రజలు, ప్రభుత్వం, రాజకీయ, సామాజిక కార్యకలాపాలలో ఈ 'విక్షిత్ భారత్ సంకల్ప యాత్ర' విజయవంతం చేయడానికి తమ సమయాన్ని అర్పించారు. కాబట్టి, పార్లమెంటు సభలో మెంబర్ గా, నేను ఇక్కడ వచ్చి మీరు అనేక విధాల లో, ప్రోగ్రామ్\\u200cలలో పార్టిసిపేట్ చేయడాన్ని రీతిలో మీకు సాయం చేయటం నా కర్తవ్యం. దీనికి అనేకిన ప్రాణం సమర్పించుటకు నా కృషి ఉంది. మనదార్శికత మరీనా అనేక కేంద్రాలు అయ్యాయి. మనదార్శికత మరీ బాగా క్రియాశృంఖలలు అయ్యాయి. కింది సంవాదాలు జరిగాయి. మరిలుబాటులు అందించినవి. మరీ బడుగులు అందించే వారం చాలా ప్రజాస్వామ్యం పెట్టడం జరిగే అధ్యతనం కనీసం ప్రముఖం. ఎందుకంటే? ప్రభుత్వ యోజనలు సరొహావడం. యోజనలు కంటికి వెళ్యి ఉండి వెళ్లది. ఎదవైనా 'ప్రధాని ఆవాసు యోజన' ఉంటే పిండులో ఉన్నవారు తమ ఇంట్లో ఉంటుంటేనే తమ ఇంటికి రవడం లేదు. ప్రభుత్వం మనకు చేయాలి. అవిని. మీరు ఈ జవాను నాకు అసెుందాను, చర్చలను జరిగించాను. ఇమిరు విభాగాలో ఉన్న అనేకికి క్రియాకలాపాలు అందుచూ  వృద్దికి పాత కోట్లు చెందినారు. కానీ, వచ్చిన వ్యధికి చికతి లభించడం కనీసం కొన్ని వ్యక్తులతో భట్టింగా జరుగుతుంది. అవి ఆశిషాలతో ఉంటాయి.\""
            ],
            "application/vnd.google.colaboratory.intrinsic+json": {
              "type": "string"
            }
          },
          "metadata": {},
          "execution_count": 28
        }
      ]
    },
    {
      "cell_type": "code",
      "source": [
        "print(summary_telugu)"
      ],
      "metadata": {
        "id": "kFsrZN1ZaY1i",
        "colab": {
          "base_uri": "https://localhost:8080/"
        },
        "outputId": "e8f1e26f-b5c6-400e-a4bc-a6c89c796cfa"
      },
      "execution_count": 29,
      "outputs": [
        {
          "output_type": "stream",
          "name": "stdout",
          "text": [
            "{'speech': '\\nPeople across the country, involved in government, political, and social activities, are dedicating their time to make the ‘Viksit Bharat Sankalp Yatra’ (Developed India Resolution Journey) successful. Therefore, as a Member of Parliament, it was my responsibility to also contribute my time to this program. So, today, I have come here just as a Member of Parliament and your ‘sevak’, ready to participate in this program, much like you.\\n\\nIn our country, governments have come and gone, numerous schemes have been formulated, discussions have taken place, and big promises have been made. However, my experience and observations led me to believe that the most critical aspect that requires attention is ensuring that the government’s plans reach the intended beneficiaries without any hassles. If there is a ‘Pradhan Mantri Awas Yojana’ (Prime Minister’s housing scheme), then those who are living in jhuggis and slums should get their houses. And he should not need to make rounds of the government offices for this purpose. The government should reach him. Since you have assigned this responsibility to me, about four crore families have got their ‘pucca’ houses. However, I have encountered cases where someone is left out of the government benefits. Therefore, I have decided to tour the country again, to listen to people’s experiences with government schemes, to understand whether they received the intended benefits, and to ensure that the programs are reaching everyone as planned without paying any bribes. We will get the real picture if we visit them again. Therefore, this ‘Viksit Bharat Sankalp Yatra’ is, in a way, my own examination. I want to hear from you and the people across the country whether what I envisioned and the work I have been doing aligns with reality and whether it has reached those for whom it was meant.\\n\\nIt is crucial to check whether the work that was supposed to happen has indeed taken place. I recently met some individuals who utilized the Ayushman card to get treatment for serious illnesses. One person met with a severe accident, and after using the card, he could afford the necessary operation, and now he is recovering well. When I asked him, he said: “How could I afford this treatment? Now that there is the Ayushman card, I mustered courage and underwent an operation. Now I am perfectly fine.”  Such stories are blessings to me.\\n\\nThe bureaucrats, who prepare good schemes, expedite the paperwork and even allocate funds, also feel satisfied that 50 or 100 people who were supposed to get the funds have got it. The funds meant for a thousand villages have been released. But their job satisfaction peaks when they hear that their work has directly impacted someone’s life positively. When they see the tangible results of their efforts, their enthusiasm multiplies. They feel satisfied. Therefore, ‘Viksit Bharat Sankalp Yatra’ has had a positive impact on government officers. It has made them more enthusiastic about their work, especially when they witness the tangible benefits reaching the people. Officers now feel satisfied with their work, saying, “I made a good plan, I created a file, and the intended beneficiaries received the benefits.” When they find that the money has reached a poor widow under the Jeevan Jyoti scheme and it was a great help to her during her crisis, they realise that they have done a good job. When a government officer listens to such stories, he feels very satisfied.\\n\\nThere are very few who understand the power and impact of the ‘Viksit Bharat Sankalp Yatra’. When I hear people connected to bureaucratic circles talking about it, expressing their satisfaction, it resonates with me. I’ve heard stories where someone suddenly received 2 lakh rupees after the death of her husband, and a sister mentioned how the arrival of gas in her home transformed her lives. The most significant aspect is when someone says that the line between rich and poor has vanished. While the slogan ‘Garibi Hatao’ (Remove Poverty) is one thing, but the real change happens when a person says, “As soon as the gas stove came to my house, the distinction between poverty and affluence disappeared.\\n', 'language': 'telugu', 'text': \"ఈ స్పీచ్ నుండి నిబంధన లో ఈ పరిపాలనకు చేరిన ప్రజలు, ప్రభుత్వం, రాజకీయ, సామాజిక కార్యకలాపాలలో ఈ 'విక్షిత్ భారత్ సంకల్ప యాత్ర' విజయవంతం చేయడానికి తమ సమయాన్ని అర్పించారు. కాబట్టి, పార్లమెంటు సభలో మెంబర్ గా, నేను ఇక్కడ వచ్చి మీరు అనేక విధాల లో, ప్రోగ్రామ్\\u200cలలో పార్టిసిపేట్ చేయడాన్ని రీతిలో మీకు సాయం చేయటం నా కర్తవ్యం. దీనికి అనేకిన ప్రాణం సమర్పించుటకు నా కృషి ఉంది. మనదార్శికత మరీనా అనేక కేంద్రాలు అయ్యాయి. మనదార్శికత మరీ బాగా క్రియాశృంఖలలు అయ్యాయి. కింది సంవాదాలు జరిగాయి. మరిలుబాటులు అందించినవి. మరీ బడుగులు అందించే వారం చాలా ప్రజాస్వామ్యం పెట్టడం జరిగే అధ్యతనం కనీసం ప్రముఖం. ఎందుకంటే? ప్రభుత్వ యోజనలు సరొహావడం. యోజనలు కంటికి వెళ్యి ఉండి వెళ్లది. ఎదవైనా 'ప్రధాని ఆవాసు యోజన' ఉంటే పిండులో ఉన్నవారు తమ ఇంట్లో ఉంటుంటేనే తమ ఇంటికి రవడం లేదు. ప్రభుత్వం మనకు చేయాలి. అవిని. మీరు ఈ జవాను నాకు అసెుందాను, చర్చలను జరిగించాను. ఇమిరు విభాగాలో ఉన్న అనేకికి క్రియాకలాపాలు అందుచూ  వృద్దికి పాత కోట్లు చెందినారు. కానీ, వచ్చిన వ్యధికి చికతి లభించడం కనీసం కొన్ని వ్యక్తులతో భట్టింగా జరుగుతుంది. అవి ఆశిషాలతో ఉంటాయి.\"}\n"
          ]
        }
      ]
    },
    {
      "cell_type": "markdown",
      "source": [
        "#StuffDocumentChain Text Summarization"
      ],
      "metadata": {
        "id": "HnlRsqYHadrE"
      }
    },
    {
      "cell_type": "code",
      "source": [
        "!pip install pypdf2"
      ],
      "metadata": {
        "colab": {
          "base_uri": "https://localhost:8080/"
        },
        "id": "0fyVrDjDaryz",
        "outputId": "8e8ee8a6-b23f-4887-90b4-f22594c2704d"
      },
      "execution_count": 30,
      "outputs": [
        {
          "output_type": "stream",
          "name": "stdout",
          "text": [
            "Collecting pypdf2\n",
            "  Downloading pypdf2-3.0.1-py3-none-any.whl.metadata (6.8 kB)\n",
            "Downloading pypdf2-3.0.1-py3-none-any.whl (232 kB)\n",
            "\u001b[2K   \u001b[90m━━━━━━━━━━━━━━━━━━━━━━━━━━━━━━━━━━━━━━━━\u001b[0m \u001b[32m232.6/232.6 kB\u001b[0m \u001b[31m3.8 MB/s\u001b[0m eta \u001b[36m0:00:00\u001b[0m\n",
            "\u001b[?25hInstalling collected packages: pypdf2\n",
            "Successfully installed pypdf2-3.0.1\n"
          ]
        }
      ]
    },
    {
      "cell_type": "code",
      "source": [
        "from PyPDF2 import PdfReader"
      ],
      "metadata": {
        "id": "kTveCbKqagZL"
      },
      "execution_count": 31,
      "outputs": []
    },
    {
      "cell_type": "code",
      "source": [
        "# provide the path of  pdf file/files.\n",
        "pdfreader = PdfReader('apjspeech.pdf')"
      ],
      "metadata": {
        "id": "KkZP7Nyvaix8"
      },
      "execution_count": 32,
      "outputs": []
    },
    {
      "cell_type": "code",
      "source": [
        "from typing_extensions import Concatenate\n",
        "# read text from pdf\n",
        "text = ''\n",
        "for i, page in enumerate(pdfreader.pages):\n",
        "    content = page.extract_text()\n",
        "    if content:\n",
        "        text += content"
      ],
      "metadata": {
        "id": "aDTR7a8AalY0"
      },
      "execution_count": 33,
      "outputs": []
    },
    {
      "cell_type": "code",
      "source": [
        "text"
      ],
      "metadata": {
        "id": "Xecgat9WbBVj",
        "colab": {
          "base_uri": "https://localhost:8080/",
          "height": 174
        },
        "outputId": "0d3dc9eb-78c3-490c-f1aa-3071a4966188"
      },
      "execution_count": 34,
      "outputs": [
        {
          "output_type": "execute_result",
          "data": {
            "text/plain": [
              "'A P J Abdul Kalam Departing speech \\n \\n \\nFriends, I am delighted to address you all, in the country and those livi ng abroad, after \\nworking with you and completing five beautiful and eventful years in Rashtrapati \\nBhavan. Today, it is indeed a thanks giving occasion. I would like to narr ate, how I \\nenjoyed every minute of my tenure enriched by the wonderful assoc iation from each one \\nof you, hailing from different walks of life, be it politics, sci ence and technology, \\nacademics, arts, literature, business, judiciary, administration, local bodies, farming, \\nhome makers, special children, media and above all from the youth and st udent \\ncommunity who are the future wealth of our country. During my intera ction at \\nRashtrapati Bhavan in Delhi and at every state and union territor y as well as through my \\nonline interactions, I have many unique experiences to share with you, which signify the \\nfollowing important messages: \\n \\n1. Accelerate development : Aspiration of the youth, \\n \\n2. Empower villages, \\n \\n3. Mobilize rural core competence for competitiveness, \\n \\n4. Seed to Food: Backbone for agricultural growth \\n \\n5. Defeat problems and succeed, \\n \\n6. Overcome problems through partnership, \\n \\n7. Courage in combating calamities, \\n \\n8. Connectivity for societal transformation, \\n \\n9. Defending the nation: Our pride and \\n \\n10. Youth movement for Developed India 2020. \\n \\nNow let me share with you each of the messages. \\n \\nAccelerate Development: Aspiration of the youth \\nWhile there were many significant events during my tenure, a que stion from a little girl \\nAnukriti of Sri Sathya Sai Jagriti Vidya Mandir School, of Dar wa village from Haryana, \\nduring children’s visit to Rashtrapati Bhavan on May 22, 2006, rings in my  mind ever \\nafter. \\n \\nAnukriti asked me “why India cannot become a developed nation before the year 2020”. I \\nappreciated the question and said it was indeed a thoughtful question and as sured her that \\nthat her dream would be taken to the highest institution of the nation and we would work for it to achieve before 2020. This question reflects how the desire t o live in developed \\nIndia has entered into the minds of the youth. The same feelings are  echoed by over \\nfifteen lakh youth, whom I have met so far and who represent the drea m of the 540 \\nmillion youth of the nation. The aspirations of the young to live in a prosperous, safe and \\nproud India should be the guiding factor in whatever profession we contribute. \\n \\nEmpower Villages \\nFriends, I recall my visit to Nagaland on 26th October 2002, soon after m y assuming \\noffice as President. It was a unique experience for me at Khuza ma village to meet tribal \\nvillage council members and discuss with them the village progress  and the dream of \\nvillage citizens. I was very happy to see the empowered village  council functioning with \\nfinancial powers and taking decisions. I saw a prosperous village with fruits and \\nvegetables production. However, there is a need for providing physical c onnectivity in \\nNagaland through quality roads for enabling faster movement of produ cts from villages \\nto the market. That meeting gave me a powerful message about the t ransformation which \\ncan take place to the 600,000 villages of India, if all the villages a re empowered to deal \\nwith their development and are well connected among themselves and wit h the urban \\nsocieties. \\n \\nMobilizing rural core competence for competitiveness \\nNow I would like to talk about the initiative of Periyar Maniammai  College of \\nTechnology for Women, Vallam, Tanjore of Providing Urban Amenities in Rural Areas \\n(PURA) complex involving 65 villages with a population of 3 lakhs. This inc ludes \\nprovision of three connectivities - physical, electronic and knowledge  - leading to \\neconomic connectivity. Periyar PURA has health care centers, pr imary to post graduate \\nlevel education and vocational training centers. This has resulted i n large-scale \\nemployment generation and creation of number of entrepreneurs with the  active support \\nof 1000 self-help groups. Two hundred acres of waste land has been develope d into a \\ncultivable land. The villagers are busy in cultivation, planting Jatropha, herbal and \\nmedicinal plants, power generation using bio-mass, food processing and above all \\nrunning marketing centers. It provides a sustainable economic developm ent model for the \\nwhole region. \\n \\nDuring the last eight months, people of Periyar PURA villages technologically supported \\nby Periyar Maniammai College of Engineering for Women have w orked with experts \\nfrom Japan External Trade Organisation (JETRO) on various products, for  which core \\ncompetence and raw material are available in Thanjavur district. They developed \\ninternationally competitive prototypes for 55 life style products wi th support of JETRO \\nspecialists and feedback from exhibitions at Delhi and Tokyo. This co -operative venture \\nhas enhanced the innovative ability of the people of all the 65 villages  enabling them to \\ndevelop and produce internationally acceptable products. I have seen si milar type of \\nPURA being established in many states. The whole country needs 7000 PU RA to \\nbridging the rural – urban divide. \\n \\nSeed to Food: Backbone for agricultural growth Let me now share with you, the enriching experience I had, whil e meeting more than \\n6000 farmers from different States and Union Territories visitin g Rashtrapati Bhavan. \\nThey evinced keen interest in the Mughal Gardens, the Herbal Gardens , the Spiritual \\nGarden, the Musical Garden, the Bio-diesel garden and the Nutrition Garden and interact \\nwith the Horticultural specialists. Recently, during my address to the agricultural \\nscientists while participating in a National Symposium on “Agri culture Cannot Wait”, I \\nsummarized the many practical suggestions given by farmers. W e have to double the \\nagricultural production with reduced land, reduced water resources and re duced \\nmanpower and improve the economic conditions of the nation through the principle  of \\n“Seed to Food” since agriculture is the backbone of the nation. We should em power the \\nfarmers to protect and nurture the fertile land for second green re volution. Meeting the \\nScientists and the Farmers has given me the confidence \\nthat the nation is poised to increase the agricultural GDP growth by atleast 4% per annum \\nthrough the partnership of farmers and agricultural scientists a nd industries particularly \\nfor value addition. \\n \\nDefeat the problems and succeed \\nOn the evening of February 24, 2007, at Coimbatore, I had a very beautif ul experience. \\nAs I got ready for meeting the first person out of twenty appoint ments, a wheel chair was \\nin sight with a smiling person probably in his late fifties; unfortunately he has no hands \\nand legs. His radiant face was revealing his happy state of mi nd. He introduced himself \\nas Vidwan Coimbatore SR Krishna Murthy. I greeted him and asked him  how this had \\nhappened. He smilingly said that it was from by birth. He thanked G od, his parents, \\nteachers and many others for giving him confidence, training and he lp. I asked him, what \\nI could do for him? He said, “I don’t need anything from you. I would like to sing in fr ont \\nof you”. I readily agreed. He sang melodiously the Saint Thyagraj a’s pancha ratna kriti \\nentharo mahanubavulu in Sriragam giving me a glimpse of his talent. I was quite  touched. \\nWhat is the message? Despite being physically challenged, the latent talent of music \\ncould blossom in this \\nperson with his positive attitude and perseverance, encouraged by the pa rents, teachers, \\nacademics and rasikas. Now he wants to give, give and give his art to inspire others. Of \\ncourse, by his merit of music, in July 2007, he performed in the Rashtra pati Bhavan art \\ntheatre. \\n \\nOvercome the impact of disaster through partnership \\nI had the opportunity to experience the Indomitable Spirit of the people  and children of \\nJammu & Kashmir even as they were just recovering from the de vastating earthquake in \\n2005. I visited Urusa village on 26th November 2005 which has been adopted by the  \\nWestern Air Command, Air Force for providing relief and medical aid to the residents of \\nthat area. When I went there, I found that the school building had been severely  damaged. \\nI met all the school children and the village citizen of Urusa. T he villagers apprised me of \\ntheir losses and had all praise for Army and Air Force role in rescue and relief operations \\nalong with state government. I appreciate the courage of the people of Urusa in defeating \\ntheir problems. They have actually become the master of the probl em rather than \\nallowing problems to become their master. Despite the severe l oss due to the earthquake, the children and the members of the village participated in the reli ef operation with the \\nArmed Forces \\nbravely and were smiling when I went to meet them. They interact ed with me and said \\nthat the school was functional in the temporary tents. Here, I also witnessed the \\nparticipation of acting Chief Justice of Jammu & Kashmir along with State Government \\nauthorities in on-the-spot settlement of relief grants to be provide d to the victims whose \\nhouses had been damaged in the earth quake. I have experienced many s uch acts of \\ncourage from our citizens when faced with severe challenges. \\n \\nCourage in combating calamities \\nIn 2005, I met the Tribal Council Leaders, Students, Children of Chuckchucha  village \\nduring my visit to Car Nicobar Islands. While various reconstruction a nd rehabilitation \\nactivities were in progress, during the discussions with the members  of tribal council, I \\nrealized the unique trait among the Car-Nicobar islanders. Even thoug h there were many \\nhuman losses due to the Tsunami of 26 Dec 2004, the tribal islanders had  taken \\npossession of affected victims as their children and there is nothi ng like orphanage in \\nCar-Nicobar Islands. Touched by their courage, I composed few vers es called “Sea \\nWaves” which reads as follows: \\nSea Waves \\n \\nWe are the children of Sea waves, \\nSea waves are my friends. \\nWhen they become angry, \\nSea waves give the challenges. \\nGod has given the courage, \\nTo challenge the sea waves. \\nAnd we will succeed, \\nWe will succeed \\nWith Almighty’s grace. \\nAll the members who were gathered in the village sang the poem  with me and exhibited \\nlots of courage and enthusiasm even though they had gone through severe  suffering \\nduring the Tsunami. \\n \\nConnectivity for societal transformation \\nI addressed the Pan African Parliament on 16 September 2004, at Johanne sburg, South \\nAfrica. This was attended by 53 member countries of the Africa n Union, where I \\nproposed the concept of Pan African e-Network for providing seamless and integrated \\nsatellite, fiber optics and wireless network connecting 53 African countries at an \\nestimated cost of US $ 100 million. \\n \\nAs part of the project 12 universities (7 from India and 5 from Afri ca), 17 Super \\nSpecialty Hospitals (12 from India and 5 from Africa), 53 tele-me dicine centers and 53 \\ntele-education centres in Africa will be connected. The pilot proj ect on tele-education and \\ntele-medicine in Ethiopia has already been commissioned. Indira Gandh i National Open \\nUniversity has taken up the MBA Course for 34 Ethiopian students of Addis  Ababa and \\nHarmaya Universities. As regards, tele-medicine, the special ists from CARE Hospital, Hyderabad are providing one-hour live tele-consultation to doctors in B lack Lion \\nHospital, Addis Ababa in Cardiology and Radiology since November 2006. Using the \\nPan African network the Heads of the State in all the 53 countries  will be connected for \\ninstant communication. I am extremely happy that Indian experience  in bringing the \\nbenefits of technology to the people has enabled us to work with Afric a to bring societal \\ntransformation in the African continent. \\n \\nDefending the nation: Our pride \\nI visited KUMAR in Siachen Glacier located at 17,000 feet altitude  held by the Indian \\nArmy, had a memorable underwater journey in INS Sindhurakshak and flew  in a Sukhoi-\\n30 fighter experiencing 2.5 g. In these three experiences, I personal ly felt proud of our \\never vigilant Soldiers, Sailors and Air Warriors performing their  tasks beyond the call of \\ntheir duty even in the most adverse circumstances natural and man m ade. During the last \\nfive years, I had an opportunity to present colours to many regime nts, participate in \\nnumber of passing out parades, meet the troops who were going to undertake  peace \\nmissions and interact with the family members of our Defence F orces. Our Defence \\nForces are in a beautiful mission. When the nation sleeps during night , Members of our \\nDefence teams are awake to guard us and remain vigilant to counte r any threat. The \\nNation cherishes the valour, commitment and devotion to duty of our Defenc e Forces. \\nSimilarly, I had opportunities to interact \\nwith members of our para-military forces, central and state poli ce personnel including \\ninternal security forces who are making immense contribution in au gmenting the safety \\nand security of our citizens under difficult conditions. \\n \\nYouth movement for Developed India 2020 \\nRecently, in Hyderabad, I met a group of citizens who are putting i nto practice the motto \\nof transforming of our youth into enlightened citizen. The Lead India 2020 Found ation \\ncreated by Dr. N.B. Sudershan at Hyderabad is training thousands of s tudents in many \\ndistricts of Andhra Pradesh in partnership with the District Adm inistration. Particularly, I \\nhappened to know the transformation which has taken place among the students  of \\nMedak district. As per the district authorities the impact of the  training on the students is \\nvisible in terms of self-discipline, love for their parents and tea chers shedding of stage \\nfear and recognition of their duties towards the nation. I talke d to Ms. Padma, a student \\nleader from Andhra Pradesh Tribal Welfare School, Nalgonda who relat ed how she \\nweaned her father away from smoking after imbibing the spirit of  the 10 point oath from \\nthe Lead India Training Camp. This gives me an assurance that the  youth of our country \\nare on the right path \\nthrough this mission oriented programme. With the ignited minds of the  540 million \\nyouth below the age of 25, which I consider is the most powerful resour ce on the earth, \\nunder the earth and above the earth, we have to empower the youth through va lue based \\neducation and leadership. \\n \\nConclusion \\nI was touched by the variety of Indian panorama, emotional content of  the tune, cultural \\ndiversity and unity of minds in the vast land of ours. I have cited thes e examples just to \\ngive a glimpse of the richness of our tradition and effort being take n by different agencies to preserve it. There are also many new adventures by instituti ons and individuals. I have \\nexperienced many of them and learnt a lot about my country and our peopl e. Even while \\npursuing our economic growth, we need to do a lot to preserve the rich and diverse \\ntreasures of our culture and civilization. It is our duty for our fut ure generations. This has \\nto be done in a much larger scale through countrywide participatio n of multiple \\ninstitutions. Our country is blessed with natural resources, has shown c onsiderable \\nprogress in the last sixty years, and above all we have hard wor king people particularly \\nthe power of the 540 million youth of the country. Every sector of our count ry has given \\nme the \\nconfidence that India can become a developed nation well before 2020. Whomsoeve r, I \\nmet they constantly ask what they can give to the nation. We should c onstantly strive to \\nempower such members of the society. With this spirit, I am extr emely happy that we are \\non the right path. Here I am reminded of a famous poem: \\n\"When you wish upon a star, \\nMakes no difference who you are, \\nAnything your heart desires, \\nWill come to you” \\nThis poem is true to all of us, and particularly for our youth and i f they aim great, I am \\nsure they will reach close to the target or the target. \\n \\nMy dear citizens, let us resolve to continue to work for realizing the missions of \\ndeveloped India 2020 with the following distinctive profile. \\n \\n1. A Nation where the rural and urban divide has reduced to a thin line. \\n \\n2. A Nation where there is an equitable distribution and adequate acce ss to energy and \\nquality water. \\n \\n3. A Nation where agriculture, industry and service sector work together in sym phony. \\n \\n4. A Nation where education with value system is not denied to any meritorious \\ncandidates because of societal or economic discrimination. \\n \\n5. A Nation which is the best destination for the most talented s cholars, scientists, and \\ninvestors. \\n \\n6. A Nation where the best of health care is available to all. \\n \\n7. A Nation where the governance is responsive, transparent and corruption free. \\n \\n8. A Nation where poverty has been totally eradicated, illiterac y removed and crimes \\nagainst women and children are absent and none in the society feels alienated. \\n \\n9. A Nation that is prosperous, healthy, secure, peaceful and happy a nd continues with a \\nsustainable growth path. \\n 10. A Nation that is one of the best places to live in and is proud of its leadership. \\n \\nFinally let me thank each one of you for showering your love and aff ection on me \\nthroughout the last five years by your cooperation and support. \\n \\nDear Citizens, I conclude my address by sharing with you my mission in life which is to \\nbring connectivity between billion hearts and minds of the people of Indi a in our \\nmulticultural society and to embed the self confidence that \"we c an do it\". I will be \\nalways with you, dear citizens, in the great mission of making Indi a a developed nation \\nbefore 2020. \\n \\nMay God bless you. \\n \\nJai hind. \\nDr. A. P. J. Abdul Kalam \\nwww.presidentofindia.nic.in '"
            ],
            "application/vnd.google.colaboratory.intrinsic+json": {
              "type": "string"
            }
          },
          "metadata": {},
          "execution_count": 34
        }
      ]
    },
    {
      "cell_type": "code",
      "source": [
        "from langchain.docstore.document import Document"
      ],
      "metadata": {
        "id": "Wu2wTdydbGwa"
      },
      "execution_count": 35,
      "outputs": []
    },
    {
      "cell_type": "code",
      "source": [
        "docs = [Document(page_content=text)]"
      ],
      "metadata": {
        "id": "c-RfnPb8bJRd"
      },
      "execution_count": 36,
      "outputs": []
    },
    {
      "cell_type": "code",
      "source": [
        "docs"
      ],
      "metadata": {
        "id": "8aMtuKa7bLLM",
        "colab": {
          "base_uri": "https://localhost:8080/"
        },
        "outputId": "bc5bdf28-27da-4c9a-aa06-fa635bd41156"
      },
      "execution_count": 37,
      "outputs": [
        {
          "output_type": "execute_result",
          "data": {
            "text/plain": [
              "[Document(metadata={}, page_content='A P J Abdul Kalam Departing speech \\n \\n \\nFriends, I am delighted to address you all, in the country and those livi ng abroad, after \\nworking with you and completing five beautiful and eventful years in Rashtrapati \\nBhavan. Today, it is indeed a thanks giving occasion. I would like to narr ate, how I \\nenjoyed every minute of my tenure enriched by the wonderful assoc iation from each one \\nof you, hailing from different walks of life, be it politics, sci ence and technology, \\nacademics, arts, literature, business, judiciary, administration, local bodies, farming, \\nhome makers, special children, media and above all from the youth and st udent \\ncommunity who are the future wealth of our country. During my intera ction at \\nRashtrapati Bhavan in Delhi and at every state and union territor y as well as through my \\nonline interactions, I have many unique experiences to share with you, which signify the \\nfollowing important messages: \\n \\n1. Accelerate development : Aspiration of the youth, \\n \\n2. Empower villages, \\n \\n3. Mobilize rural core competence for competitiveness, \\n \\n4. Seed to Food: Backbone for agricultural growth \\n \\n5. Defeat problems and succeed, \\n \\n6. Overcome problems through partnership, \\n \\n7. Courage in combating calamities, \\n \\n8. Connectivity for societal transformation, \\n \\n9. Defending the nation: Our pride and \\n \\n10. Youth movement for Developed India 2020. \\n \\nNow let me share with you each of the messages. \\n \\nAccelerate Development: Aspiration of the youth \\nWhile there were many significant events during my tenure, a que stion from a little girl \\nAnukriti of Sri Sathya Sai Jagriti Vidya Mandir School, of Dar wa village from Haryana, \\nduring children’s visit to Rashtrapati Bhavan on May 22, 2006, rings in my  mind ever \\nafter. \\n \\nAnukriti asked me “why India cannot become a developed nation before the year 2020”. I \\nappreciated the question and said it was indeed a thoughtful question and as sured her that \\nthat her dream would be taken to the highest institution of the nation and we would work for it to achieve before 2020. This question reflects how the desire t o live in developed \\nIndia has entered into the minds of the youth. The same feelings are  echoed by over \\nfifteen lakh youth, whom I have met so far and who represent the drea m of the 540 \\nmillion youth of the nation. The aspirations of the young to live in a prosperous, safe and \\nproud India should be the guiding factor in whatever profession we contribute. \\n \\nEmpower Villages \\nFriends, I recall my visit to Nagaland on 26th October 2002, soon after m y assuming \\noffice as President. It was a unique experience for me at Khuza ma village to meet tribal \\nvillage council members and discuss with them the village progress  and the dream of \\nvillage citizens. I was very happy to see the empowered village  council functioning with \\nfinancial powers and taking decisions. I saw a prosperous village with fruits and \\nvegetables production. However, there is a need for providing physical c onnectivity in \\nNagaland through quality roads for enabling faster movement of produ cts from villages \\nto the market. That meeting gave me a powerful message about the t ransformation which \\ncan take place to the 600,000 villages of India, if all the villages a re empowered to deal \\nwith their development and are well connected among themselves and wit h the urban \\nsocieties. \\n \\nMobilizing rural core competence for competitiveness \\nNow I would like to talk about the initiative of Periyar Maniammai  College of \\nTechnology for Women, Vallam, Tanjore of Providing Urban Amenities in Rural Areas \\n(PURA) complex involving 65 villages with a population of 3 lakhs. This inc ludes \\nprovision of three connectivities - physical, electronic and knowledge  - leading to \\neconomic connectivity. Periyar PURA has health care centers, pr imary to post graduate \\nlevel education and vocational training centers. This has resulted i n large-scale \\nemployment generation and creation of number of entrepreneurs with the  active support \\nof 1000 self-help groups. Two hundred acres of waste land has been develope d into a \\ncultivable land. The villagers are busy in cultivation, planting Jatropha, herbal and \\nmedicinal plants, power generation using bio-mass, food processing and above all \\nrunning marketing centers. It provides a sustainable economic developm ent model for the \\nwhole region. \\n \\nDuring the last eight months, people of Periyar PURA villages technologically supported \\nby Periyar Maniammai College of Engineering for Women have w orked with experts \\nfrom Japan External Trade Organisation (JETRO) on various products, for  which core \\ncompetence and raw material are available in Thanjavur district. They developed \\ninternationally competitive prototypes for 55 life style products wi th support of JETRO \\nspecialists and feedback from exhibitions at Delhi and Tokyo. This co -operative venture \\nhas enhanced the innovative ability of the people of all the 65 villages  enabling them to \\ndevelop and produce internationally acceptable products. I have seen si milar type of \\nPURA being established in many states. The whole country needs 7000 PU RA to \\nbridging the rural – urban divide. \\n \\nSeed to Food: Backbone for agricultural growth Let me now share with you, the enriching experience I had, whil e meeting more than \\n6000 farmers from different States and Union Territories visitin g Rashtrapati Bhavan. \\nThey evinced keen interest in the Mughal Gardens, the Herbal Gardens , the Spiritual \\nGarden, the Musical Garden, the Bio-diesel garden and the Nutrition Garden and interact \\nwith the Horticultural specialists. Recently, during my address to the agricultural \\nscientists while participating in a National Symposium on “Agri culture Cannot Wait”, I \\nsummarized the many practical suggestions given by farmers. W e have to double the \\nagricultural production with reduced land, reduced water resources and re duced \\nmanpower and improve the economic conditions of the nation through the principle  of \\n“Seed to Food” since agriculture is the backbone of the nation. We should em power the \\nfarmers to protect and nurture the fertile land for second green re volution. Meeting the \\nScientists and the Farmers has given me the confidence \\nthat the nation is poised to increase the agricultural GDP growth by atleast 4% per annum \\nthrough the partnership of farmers and agricultural scientists a nd industries particularly \\nfor value addition. \\n \\nDefeat the problems and succeed \\nOn the evening of February 24, 2007, at Coimbatore, I had a very beautif ul experience. \\nAs I got ready for meeting the first person out of twenty appoint ments, a wheel chair was \\nin sight with a smiling person probably in his late fifties; unfortunately he has no hands \\nand legs. His radiant face was revealing his happy state of mi nd. He introduced himself \\nas Vidwan Coimbatore SR Krishna Murthy. I greeted him and asked him  how this had \\nhappened. He smilingly said that it was from by birth. He thanked G od, his parents, \\nteachers and many others for giving him confidence, training and he lp. I asked him, what \\nI could do for him? He said, “I don’t need anything from you. I would like to sing in fr ont \\nof you”. I readily agreed. He sang melodiously the Saint Thyagraj a’s pancha ratna kriti \\nentharo mahanubavulu in Sriragam giving me a glimpse of his talent. I was quite  touched. \\nWhat is the message? Despite being physically challenged, the latent talent of music \\ncould blossom in this \\nperson with his positive attitude and perseverance, encouraged by the pa rents, teachers, \\nacademics and rasikas. Now he wants to give, give and give his art to inspire others. Of \\ncourse, by his merit of music, in July 2007, he performed in the Rashtra pati Bhavan art \\ntheatre. \\n \\nOvercome the impact of disaster through partnership \\nI had the opportunity to experience the Indomitable Spirit of the people  and children of \\nJammu & Kashmir even as they were just recovering from the de vastating earthquake in \\n2005. I visited Urusa village on 26th November 2005 which has been adopted by the  \\nWestern Air Command, Air Force for providing relief and medical aid to the residents of \\nthat area. When I went there, I found that the school building had been severely  damaged. \\nI met all the school children and the village citizen of Urusa. T he villagers apprised me of \\ntheir losses and had all praise for Army and Air Force role in rescue and relief operations \\nalong with state government. I appreciate the courage of the people of Urusa in defeating \\ntheir problems. They have actually become the master of the probl em rather than \\nallowing problems to become their master. Despite the severe l oss due to the earthquake, the children and the members of the village participated in the reli ef operation with the \\nArmed Forces \\nbravely and were smiling when I went to meet them. They interact ed with me and said \\nthat the school was functional in the temporary tents. Here, I also witnessed the \\nparticipation of acting Chief Justice of Jammu & Kashmir along with State Government \\nauthorities in on-the-spot settlement of relief grants to be provide d to the victims whose \\nhouses had been damaged in the earth quake. I have experienced many s uch acts of \\ncourage from our citizens when faced with severe challenges. \\n \\nCourage in combating calamities \\nIn 2005, I met the Tribal Council Leaders, Students, Children of Chuckchucha  village \\nduring my visit to Car Nicobar Islands. While various reconstruction a nd rehabilitation \\nactivities were in progress, during the discussions with the members  of tribal council, I \\nrealized the unique trait among the Car-Nicobar islanders. Even thoug h there were many \\nhuman losses due to the Tsunami of 26 Dec 2004, the tribal islanders had  taken \\npossession of affected victims as their children and there is nothi ng like orphanage in \\nCar-Nicobar Islands. Touched by their courage, I composed few vers es called “Sea \\nWaves” which reads as follows: \\nSea Waves \\n \\nWe are the children of Sea waves, \\nSea waves are my friends. \\nWhen they become angry, \\nSea waves give the challenges. \\nGod has given the courage, \\nTo challenge the sea waves. \\nAnd we will succeed, \\nWe will succeed \\nWith Almighty’s grace. \\nAll the members who were gathered in the village sang the poem  with me and exhibited \\nlots of courage and enthusiasm even though they had gone through severe  suffering \\nduring the Tsunami. \\n \\nConnectivity for societal transformation \\nI addressed the Pan African Parliament on 16 September 2004, at Johanne sburg, South \\nAfrica. This was attended by 53 member countries of the Africa n Union, where I \\nproposed the concept of Pan African e-Network for providing seamless and integrated \\nsatellite, fiber optics and wireless network connecting 53 African countries at an \\nestimated cost of US $ 100 million. \\n \\nAs part of the project 12 universities (7 from India and 5 from Afri ca), 17 Super \\nSpecialty Hospitals (12 from India and 5 from Africa), 53 tele-me dicine centers and 53 \\ntele-education centres in Africa will be connected. The pilot proj ect on tele-education and \\ntele-medicine in Ethiopia has already been commissioned. Indira Gandh i National Open \\nUniversity has taken up the MBA Course for 34 Ethiopian students of Addis  Ababa and \\nHarmaya Universities. As regards, tele-medicine, the special ists from CARE Hospital, Hyderabad are providing one-hour live tele-consultation to doctors in B lack Lion \\nHospital, Addis Ababa in Cardiology and Radiology since November 2006. Using the \\nPan African network the Heads of the State in all the 53 countries  will be connected for \\ninstant communication. I am extremely happy that Indian experience  in bringing the \\nbenefits of technology to the people has enabled us to work with Afric a to bring societal \\ntransformation in the African continent. \\n \\nDefending the nation: Our pride \\nI visited KUMAR in Siachen Glacier located at 17,000 feet altitude  held by the Indian \\nArmy, had a memorable underwater journey in INS Sindhurakshak and flew  in a Sukhoi-\\n30 fighter experiencing 2.5 g. In these three experiences, I personal ly felt proud of our \\never vigilant Soldiers, Sailors and Air Warriors performing their  tasks beyond the call of \\ntheir duty even in the most adverse circumstances natural and man m ade. During the last \\nfive years, I had an opportunity to present colours to many regime nts, participate in \\nnumber of passing out parades, meet the troops who were going to undertake  peace \\nmissions and interact with the family members of our Defence F orces. Our Defence \\nForces are in a beautiful mission. When the nation sleeps during night , Members of our \\nDefence teams are awake to guard us and remain vigilant to counte r any threat. The \\nNation cherishes the valour, commitment and devotion to duty of our Defenc e Forces. \\nSimilarly, I had opportunities to interact \\nwith members of our para-military forces, central and state poli ce personnel including \\ninternal security forces who are making immense contribution in au gmenting the safety \\nand security of our citizens under difficult conditions. \\n \\nYouth movement for Developed India 2020 \\nRecently, in Hyderabad, I met a group of citizens who are putting i nto practice the motto \\nof transforming of our youth into enlightened citizen. The Lead India 2020 Found ation \\ncreated by Dr. N.B. Sudershan at Hyderabad is training thousands of s tudents in many \\ndistricts of Andhra Pradesh in partnership with the District Adm inistration. Particularly, I \\nhappened to know the transformation which has taken place among the students  of \\nMedak district. As per the district authorities the impact of the  training on the students is \\nvisible in terms of self-discipline, love for their parents and tea chers shedding of stage \\nfear and recognition of their duties towards the nation. I talke d to Ms. Padma, a student \\nleader from Andhra Pradesh Tribal Welfare School, Nalgonda who relat ed how she \\nweaned her father away from smoking after imbibing the spirit of  the 10 point oath from \\nthe Lead India Training Camp. This gives me an assurance that the  youth of our country \\nare on the right path \\nthrough this mission oriented programme. With the ignited minds of the  540 million \\nyouth below the age of 25, which I consider is the most powerful resour ce on the earth, \\nunder the earth and above the earth, we have to empower the youth through va lue based \\neducation and leadership. \\n \\nConclusion \\nI was touched by the variety of Indian panorama, emotional content of  the tune, cultural \\ndiversity and unity of minds in the vast land of ours. I have cited thes e examples just to \\ngive a glimpse of the richness of our tradition and effort being take n by different agencies to preserve it. There are also many new adventures by instituti ons and individuals. I have \\nexperienced many of them and learnt a lot about my country and our peopl e. Even while \\npursuing our economic growth, we need to do a lot to preserve the rich and diverse \\ntreasures of our culture and civilization. It is our duty for our fut ure generations. This has \\nto be done in a much larger scale through countrywide participatio n of multiple \\ninstitutions. Our country is blessed with natural resources, has shown c onsiderable \\nprogress in the last sixty years, and above all we have hard wor king people particularly \\nthe power of the 540 million youth of the country. Every sector of our count ry has given \\nme the \\nconfidence that India can become a developed nation well before 2020. Whomsoeve r, I \\nmet they constantly ask what they can give to the nation. We should c onstantly strive to \\nempower such members of the society. With this spirit, I am extr emely happy that we are \\non the right path. Here I am reminded of a famous poem: \\n\"When you wish upon a star, \\nMakes no difference who you are, \\nAnything your heart desires, \\nWill come to you” \\nThis poem is true to all of us, and particularly for our youth and i f they aim great, I am \\nsure they will reach close to the target or the target. \\n \\nMy dear citizens, let us resolve to continue to work for realizing the missions of \\ndeveloped India 2020 with the following distinctive profile. \\n \\n1. A Nation where the rural and urban divide has reduced to a thin line. \\n \\n2. A Nation where there is an equitable distribution and adequate acce ss to energy and \\nquality water. \\n \\n3. A Nation where agriculture, industry and service sector work together in sym phony. \\n \\n4. A Nation where education with value system is not denied to any meritorious \\ncandidates because of societal or economic discrimination. \\n \\n5. A Nation which is the best destination for the most talented s cholars, scientists, and \\ninvestors. \\n \\n6. A Nation where the best of health care is available to all. \\n \\n7. A Nation where the governance is responsive, transparent and corruption free. \\n \\n8. A Nation where poverty has been totally eradicated, illiterac y removed and crimes \\nagainst women and children are absent and none in the society feels alienated. \\n \\n9. A Nation that is prosperous, healthy, secure, peaceful and happy a nd continues with a \\nsustainable growth path. \\n 10. A Nation that is one of the best places to live in and is proud of its leadership. \\n \\nFinally let me thank each one of you for showering your love and aff ection on me \\nthroughout the last five years by your cooperation and support. \\n \\nDear Citizens, I conclude my address by sharing with you my mission in life which is to \\nbring connectivity between billion hearts and minds of the people of Indi a in our \\nmulticultural society and to embed the self confidence that \"we c an do it\". I will be \\nalways with you, dear citizens, in the great mission of making Indi a a developed nation \\nbefore 2020. \\n \\nMay God bless you. \\n \\nJai hind. \\nDr. A. P. J. Abdul Kalam \\nwww.presidentofindia.nic.in ')]"
            ]
          },
          "metadata": {},
          "execution_count": 37
        }
      ]
    },
    {
      "cell_type": "code",
      "source": [
        "llm = ChatOpenAI(temperature=0, model_name='gpt-3.5-turbo')"
      ],
      "metadata": {
        "id": "cQx2q2pzbPT-"
      },
      "execution_count": 38,
      "outputs": []
    },
    {
      "cell_type": "code",
      "source": [
        "from langchain import PromptTemplate\n",
        "from langchain.chat_models import ChatOpenAI\n",
        "from langchain.chains.summarize import load_summarize_chain\n",
        "from langchain.docstore.document import Document"
      ],
      "metadata": {
        "id": "r7OgFXyPbPyc"
      },
      "execution_count": 39,
      "outputs": []
    },
    {
      "cell_type": "code",
      "source": [
        "template = '''Write a concise and short summary of the following speech.\n",
        "Speech: `{text}`\n",
        "'''\n",
        "prompt = PromptTemplate(\n",
        "    input_variables=['text'],\n",
        "    template=template\n",
        ")"
      ],
      "metadata": {
        "id": "sAcBqNQlbR9D"
      },
      "execution_count": 40,
      "outputs": []
    },
    {
      "cell_type": "code",
      "source": [
        "chain = load_summarize_chain(\n",
        "    llm,\n",
        "    chain_type='stuff',\n",
        "    prompt=prompt,\n",
        "    verbose=False\n",
        ")"
      ],
      "metadata": {
        "id": "jixiAs_pb7AV"
      },
      "execution_count": 41,
      "outputs": []
    },
    {
      "cell_type": "code",
      "source": [
        "output_summary = chain.invoke(docs)"
      ],
      "metadata": {
        "id": "iVkeAOGSd-cO"
      },
      "execution_count": 42,
      "outputs": []
    },
    {
      "cell_type": "code",
      "source": [
        "output_summary"
      ],
      "metadata": {
        "id": "rG_Yicnpb84t",
        "colab": {
          "base_uri": "https://localhost:8080/"
        },
        "outputId": "d6389131-f83a-473b-c9e8-198790badf89"
      },
      "execution_count": 43,
      "outputs": [
        {
          "output_type": "execute_result",
          "data": {
            "text/plain": [
              "{'input_documents': [Document(metadata={}, page_content='A P J Abdul Kalam Departing speech \\n \\n \\nFriends, I am delighted to address you all, in the country and those livi ng abroad, after \\nworking with you and completing five beautiful and eventful years in Rashtrapati \\nBhavan. Today, it is indeed a thanks giving occasion. I would like to narr ate, how I \\nenjoyed every minute of my tenure enriched by the wonderful assoc iation from each one \\nof you, hailing from different walks of life, be it politics, sci ence and technology, \\nacademics, arts, literature, business, judiciary, administration, local bodies, farming, \\nhome makers, special children, media and above all from the youth and st udent \\ncommunity who are the future wealth of our country. During my intera ction at \\nRashtrapati Bhavan in Delhi and at every state and union territor y as well as through my \\nonline interactions, I have many unique experiences to share with you, which signify the \\nfollowing important messages: \\n \\n1. Accelerate development : Aspiration of the youth, \\n \\n2. Empower villages, \\n \\n3. Mobilize rural core competence for competitiveness, \\n \\n4. Seed to Food: Backbone for agricultural growth \\n \\n5. Defeat problems and succeed, \\n \\n6. Overcome problems through partnership, \\n \\n7. Courage in combating calamities, \\n \\n8. Connectivity for societal transformation, \\n \\n9. Defending the nation: Our pride and \\n \\n10. Youth movement for Developed India 2020. \\n \\nNow let me share with you each of the messages. \\n \\nAccelerate Development: Aspiration of the youth \\nWhile there were many significant events during my tenure, a que stion from a little girl \\nAnukriti of Sri Sathya Sai Jagriti Vidya Mandir School, of Dar wa village from Haryana, \\nduring children’s visit to Rashtrapati Bhavan on May 22, 2006, rings in my  mind ever \\nafter. \\n \\nAnukriti asked me “why India cannot become a developed nation before the year 2020”. I \\nappreciated the question and said it was indeed a thoughtful question and as sured her that \\nthat her dream would be taken to the highest institution of the nation and we would work for it to achieve before 2020. This question reflects how the desire t o live in developed \\nIndia has entered into the minds of the youth. The same feelings are  echoed by over \\nfifteen lakh youth, whom I have met so far and who represent the drea m of the 540 \\nmillion youth of the nation. The aspirations of the young to live in a prosperous, safe and \\nproud India should be the guiding factor in whatever profession we contribute. \\n \\nEmpower Villages \\nFriends, I recall my visit to Nagaland on 26th October 2002, soon after m y assuming \\noffice as President. It was a unique experience for me at Khuza ma village to meet tribal \\nvillage council members and discuss with them the village progress  and the dream of \\nvillage citizens. I was very happy to see the empowered village  council functioning with \\nfinancial powers and taking decisions. I saw a prosperous village with fruits and \\nvegetables production. However, there is a need for providing physical c onnectivity in \\nNagaland through quality roads for enabling faster movement of produ cts from villages \\nto the market. That meeting gave me a powerful message about the t ransformation which \\ncan take place to the 600,000 villages of India, if all the villages a re empowered to deal \\nwith their development and are well connected among themselves and wit h the urban \\nsocieties. \\n \\nMobilizing rural core competence for competitiveness \\nNow I would like to talk about the initiative of Periyar Maniammai  College of \\nTechnology for Women, Vallam, Tanjore of Providing Urban Amenities in Rural Areas \\n(PURA) complex involving 65 villages with a population of 3 lakhs. This inc ludes \\nprovision of three connectivities - physical, electronic and knowledge  - leading to \\neconomic connectivity. Periyar PURA has health care centers, pr imary to post graduate \\nlevel education and vocational training centers. This has resulted i n large-scale \\nemployment generation and creation of number of entrepreneurs with the  active support \\nof 1000 self-help groups. Two hundred acres of waste land has been develope d into a \\ncultivable land. The villagers are busy in cultivation, planting Jatropha, herbal and \\nmedicinal plants, power generation using bio-mass, food processing and above all \\nrunning marketing centers. It provides a sustainable economic developm ent model for the \\nwhole region. \\n \\nDuring the last eight months, people of Periyar PURA villages technologically supported \\nby Periyar Maniammai College of Engineering for Women have w orked with experts \\nfrom Japan External Trade Organisation (JETRO) on various products, for  which core \\ncompetence and raw material are available in Thanjavur district. They developed \\ninternationally competitive prototypes for 55 life style products wi th support of JETRO \\nspecialists and feedback from exhibitions at Delhi and Tokyo. This co -operative venture \\nhas enhanced the innovative ability of the people of all the 65 villages  enabling them to \\ndevelop and produce internationally acceptable products. I have seen si milar type of \\nPURA being established in many states. The whole country needs 7000 PU RA to \\nbridging the rural – urban divide. \\n \\nSeed to Food: Backbone for agricultural growth Let me now share with you, the enriching experience I had, whil e meeting more than \\n6000 farmers from different States and Union Territories visitin g Rashtrapati Bhavan. \\nThey evinced keen interest in the Mughal Gardens, the Herbal Gardens , the Spiritual \\nGarden, the Musical Garden, the Bio-diesel garden and the Nutrition Garden and interact \\nwith the Horticultural specialists. Recently, during my address to the agricultural \\nscientists while participating in a National Symposium on “Agri culture Cannot Wait”, I \\nsummarized the many practical suggestions given by farmers. W e have to double the \\nagricultural production with reduced land, reduced water resources and re duced \\nmanpower and improve the economic conditions of the nation through the principle  of \\n“Seed to Food” since agriculture is the backbone of the nation. We should em power the \\nfarmers to protect and nurture the fertile land for second green re volution. Meeting the \\nScientists and the Farmers has given me the confidence \\nthat the nation is poised to increase the agricultural GDP growth by atleast 4% per annum \\nthrough the partnership of farmers and agricultural scientists a nd industries particularly \\nfor value addition. \\n \\nDefeat the problems and succeed \\nOn the evening of February 24, 2007, at Coimbatore, I had a very beautif ul experience. \\nAs I got ready for meeting the first person out of twenty appoint ments, a wheel chair was \\nin sight with a smiling person probably in his late fifties; unfortunately he has no hands \\nand legs. His radiant face was revealing his happy state of mi nd. He introduced himself \\nas Vidwan Coimbatore SR Krishna Murthy. I greeted him and asked him  how this had \\nhappened. He smilingly said that it was from by birth. He thanked G od, his parents, \\nteachers and many others for giving him confidence, training and he lp. I asked him, what \\nI could do for him? He said, “I don’t need anything from you. I would like to sing in fr ont \\nof you”. I readily agreed. He sang melodiously the Saint Thyagraj a’s pancha ratna kriti \\nentharo mahanubavulu in Sriragam giving me a glimpse of his talent. I was quite  touched. \\nWhat is the message? Despite being physically challenged, the latent talent of music \\ncould blossom in this \\nperson with his positive attitude and perseverance, encouraged by the pa rents, teachers, \\nacademics and rasikas. Now he wants to give, give and give his art to inspire others. Of \\ncourse, by his merit of music, in July 2007, he performed in the Rashtra pati Bhavan art \\ntheatre. \\n \\nOvercome the impact of disaster through partnership \\nI had the opportunity to experience the Indomitable Spirit of the people  and children of \\nJammu & Kashmir even as they were just recovering from the de vastating earthquake in \\n2005. I visited Urusa village on 26th November 2005 which has been adopted by the  \\nWestern Air Command, Air Force for providing relief and medical aid to the residents of \\nthat area. When I went there, I found that the school building had been severely  damaged. \\nI met all the school children and the village citizen of Urusa. T he villagers apprised me of \\ntheir losses and had all praise for Army and Air Force role in rescue and relief operations \\nalong with state government. I appreciate the courage of the people of Urusa in defeating \\ntheir problems. They have actually become the master of the probl em rather than \\nallowing problems to become their master. Despite the severe l oss due to the earthquake, the children and the members of the village participated in the reli ef operation with the \\nArmed Forces \\nbravely and were smiling when I went to meet them. They interact ed with me and said \\nthat the school was functional in the temporary tents. Here, I also witnessed the \\nparticipation of acting Chief Justice of Jammu & Kashmir along with State Government \\nauthorities in on-the-spot settlement of relief grants to be provide d to the victims whose \\nhouses had been damaged in the earth quake. I have experienced many s uch acts of \\ncourage from our citizens when faced with severe challenges. \\n \\nCourage in combating calamities \\nIn 2005, I met the Tribal Council Leaders, Students, Children of Chuckchucha  village \\nduring my visit to Car Nicobar Islands. While various reconstruction a nd rehabilitation \\nactivities were in progress, during the discussions with the members  of tribal council, I \\nrealized the unique trait among the Car-Nicobar islanders. Even thoug h there were many \\nhuman losses due to the Tsunami of 26 Dec 2004, the tribal islanders had  taken \\npossession of affected victims as their children and there is nothi ng like orphanage in \\nCar-Nicobar Islands. Touched by their courage, I composed few vers es called “Sea \\nWaves” which reads as follows: \\nSea Waves \\n \\nWe are the children of Sea waves, \\nSea waves are my friends. \\nWhen they become angry, \\nSea waves give the challenges. \\nGod has given the courage, \\nTo challenge the sea waves. \\nAnd we will succeed, \\nWe will succeed \\nWith Almighty’s grace. \\nAll the members who were gathered in the village sang the poem  with me and exhibited \\nlots of courage and enthusiasm even though they had gone through severe  suffering \\nduring the Tsunami. \\n \\nConnectivity for societal transformation \\nI addressed the Pan African Parliament on 16 September 2004, at Johanne sburg, South \\nAfrica. This was attended by 53 member countries of the Africa n Union, where I \\nproposed the concept of Pan African e-Network for providing seamless and integrated \\nsatellite, fiber optics and wireless network connecting 53 African countries at an \\nestimated cost of US $ 100 million. \\n \\nAs part of the project 12 universities (7 from India and 5 from Afri ca), 17 Super \\nSpecialty Hospitals (12 from India and 5 from Africa), 53 tele-me dicine centers and 53 \\ntele-education centres in Africa will be connected. The pilot proj ect on tele-education and \\ntele-medicine in Ethiopia has already been commissioned. Indira Gandh i National Open \\nUniversity has taken up the MBA Course for 34 Ethiopian students of Addis  Ababa and \\nHarmaya Universities. As regards, tele-medicine, the special ists from CARE Hospital, Hyderabad are providing one-hour live tele-consultation to doctors in B lack Lion \\nHospital, Addis Ababa in Cardiology and Radiology since November 2006. Using the \\nPan African network the Heads of the State in all the 53 countries  will be connected for \\ninstant communication. I am extremely happy that Indian experience  in bringing the \\nbenefits of technology to the people has enabled us to work with Afric a to bring societal \\ntransformation in the African continent. \\n \\nDefending the nation: Our pride \\nI visited KUMAR in Siachen Glacier located at 17,000 feet altitude  held by the Indian \\nArmy, had a memorable underwater journey in INS Sindhurakshak and flew  in a Sukhoi-\\n30 fighter experiencing 2.5 g. In these three experiences, I personal ly felt proud of our \\never vigilant Soldiers, Sailors and Air Warriors performing their  tasks beyond the call of \\ntheir duty even in the most adverse circumstances natural and man m ade. During the last \\nfive years, I had an opportunity to present colours to many regime nts, participate in \\nnumber of passing out parades, meet the troops who were going to undertake  peace \\nmissions and interact with the family members of our Defence F orces. Our Defence \\nForces are in a beautiful mission. When the nation sleeps during night , Members of our \\nDefence teams are awake to guard us and remain vigilant to counte r any threat. The \\nNation cherishes the valour, commitment and devotion to duty of our Defenc e Forces. \\nSimilarly, I had opportunities to interact \\nwith members of our para-military forces, central and state poli ce personnel including \\ninternal security forces who are making immense contribution in au gmenting the safety \\nand security of our citizens under difficult conditions. \\n \\nYouth movement for Developed India 2020 \\nRecently, in Hyderabad, I met a group of citizens who are putting i nto practice the motto \\nof transforming of our youth into enlightened citizen. The Lead India 2020 Found ation \\ncreated by Dr. N.B. Sudershan at Hyderabad is training thousands of s tudents in many \\ndistricts of Andhra Pradesh in partnership with the District Adm inistration. Particularly, I \\nhappened to know the transformation which has taken place among the students  of \\nMedak district. As per the district authorities the impact of the  training on the students is \\nvisible in terms of self-discipline, love for their parents and tea chers shedding of stage \\nfear and recognition of their duties towards the nation. I talke d to Ms. Padma, a student \\nleader from Andhra Pradesh Tribal Welfare School, Nalgonda who relat ed how she \\nweaned her father away from smoking after imbibing the spirit of  the 10 point oath from \\nthe Lead India Training Camp. This gives me an assurance that the  youth of our country \\nare on the right path \\nthrough this mission oriented programme. With the ignited minds of the  540 million \\nyouth below the age of 25, which I consider is the most powerful resour ce on the earth, \\nunder the earth and above the earth, we have to empower the youth through va lue based \\neducation and leadership. \\n \\nConclusion \\nI was touched by the variety of Indian panorama, emotional content of  the tune, cultural \\ndiversity and unity of minds in the vast land of ours. I have cited thes e examples just to \\ngive a glimpse of the richness of our tradition and effort being take n by different agencies to preserve it. There are also many new adventures by instituti ons and individuals. I have \\nexperienced many of them and learnt a lot about my country and our peopl e. Even while \\npursuing our economic growth, we need to do a lot to preserve the rich and diverse \\ntreasures of our culture and civilization. It is our duty for our fut ure generations. This has \\nto be done in a much larger scale through countrywide participatio n of multiple \\ninstitutions. Our country is blessed with natural resources, has shown c onsiderable \\nprogress in the last sixty years, and above all we have hard wor king people particularly \\nthe power of the 540 million youth of the country. Every sector of our count ry has given \\nme the \\nconfidence that India can become a developed nation well before 2020. Whomsoeve r, I \\nmet they constantly ask what they can give to the nation. We should c onstantly strive to \\nempower such members of the society. With this spirit, I am extr emely happy that we are \\non the right path. Here I am reminded of a famous poem: \\n\"When you wish upon a star, \\nMakes no difference who you are, \\nAnything your heart desires, \\nWill come to you” \\nThis poem is true to all of us, and particularly for our youth and i f they aim great, I am \\nsure they will reach close to the target or the target. \\n \\nMy dear citizens, let us resolve to continue to work for realizing the missions of \\ndeveloped India 2020 with the following distinctive profile. \\n \\n1. A Nation where the rural and urban divide has reduced to a thin line. \\n \\n2. A Nation where there is an equitable distribution and adequate acce ss to energy and \\nquality water. \\n \\n3. A Nation where agriculture, industry and service sector work together in sym phony. \\n \\n4. A Nation where education with value system is not denied to any meritorious \\ncandidates because of societal or economic discrimination. \\n \\n5. A Nation which is the best destination for the most talented s cholars, scientists, and \\ninvestors. \\n \\n6. A Nation where the best of health care is available to all. \\n \\n7. A Nation where the governance is responsive, transparent and corruption free. \\n \\n8. A Nation where poverty has been totally eradicated, illiterac y removed and crimes \\nagainst women and children are absent and none in the society feels alienated. \\n \\n9. A Nation that is prosperous, healthy, secure, peaceful and happy a nd continues with a \\nsustainable growth path. \\n 10. A Nation that is one of the best places to live in and is proud of its leadership. \\n \\nFinally let me thank each one of you for showering your love and aff ection on me \\nthroughout the last five years by your cooperation and support. \\n \\nDear Citizens, I conclude my address by sharing with you my mission in life which is to \\nbring connectivity between billion hearts and minds of the people of Indi a in our \\nmulticultural society and to embed the self confidence that \"we c an do it\". I will be \\nalways with you, dear citizens, in the great mission of making Indi a a developed nation \\nbefore 2020. \\n \\nMay God bless you. \\n \\nJai hind. \\nDr. A. P. J. Abdul Kalam \\nwww.presidentofindia.nic.in ')],\n",
              " 'output_text': 'In his departing speech, A P J Abdul Kalam reflects on his five years as President of India and highlights key messages such as accelerating development, empowering villages, mobilizing rural core competence, and overcoming challenges through partnership. He shares inspiring stories of individuals who have shown courage and resilience in the face of adversity. Kalam emphasizes the importance of youth empowerment and calls for a united effort to achieve a developed India by 2020. He concludes by expressing gratitude and sharing his mission to connect the hearts and minds of the Indian people.'}"
            ]
          },
          "metadata": {},
          "execution_count": 43
        }
      ]
    },
    {
      "cell_type": "markdown",
      "source": [
        "#Summarizing Large Documents Using Map Reduce"
      ],
      "metadata": {
        "id": "XzKUTpaOcA6O"
      }
    },
    {
      "cell_type": "code",
      "source": [
        "from langchain import PromptTemplate\n",
        "from langchain_openai import ChatOpenAI\n",
        "from langchain.chains.summarize import load_summarize_chain\n",
        "from langchain.text_splitter import RecursiveCharacterTextSplitter"
      ],
      "metadata": {
        "id": "oQpSZzuJcD_m"
      },
      "execution_count": 47,
      "outputs": []
    },
    {
      "cell_type": "code",
      "source": [
        "# provide the path of  pdf file/files.\n",
        "pdfreader = PdfReader('apjspeech.pdf')\n",
        "from typing_extensions import Concatenate\n",
        "# read text from pdf\n",
        "text = ''\n",
        "for i, page in enumerate(pdfreader.pages):\n",
        "    content = page.extract_text()\n",
        "    if content:\n",
        "        text += content"
      ],
      "metadata": {
        "id": "_adggTvacHzQ"
      },
      "execution_count": 48,
      "outputs": []
    },
    {
      "cell_type": "code",
      "source": [
        "llm = ChatOpenAI(temperature=0, model_name='gpt-3.5-turbo')"
      ],
      "metadata": {
        "id": "yhyxU7TDcJqA"
      },
      "execution_count": 49,
      "outputs": []
    },
    {
      "cell_type": "code",
      "source": [
        "llm.get_num_tokens(text)"
      ],
      "metadata": {
        "id": "cLCfkEhecLeZ",
        "colab": {
          "base_uri": "https://localhost:8080/"
        },
        "outputId": "61082d62-5fac-42b7-bff5-e224cd136e86"
      },
      "execution_count": 50,
      "outputs": [
        {
          "output_type": "execute_result",
          "data": {
            "text/plain": [
              "4001"
            ]
          },
          "metadata": {},
          "execution_count": 50
        }
      ]
    },
    {
      "cell_type": "code",
      "source": [
        "## Splittting the text\n",
        "text_splitter = RecursiveCharacterTextSplitter(chunk_size=10000, chunk_overlap=20)\n",
        "chunks = text_splitter.create_documents([text])"
      ],
      "metadata": {
        "id": "FUFZQEIPcOCv"
      },
      "execution_count": 51,
      "outputs": []
    },
    {
      "cell_type": "code",
      "source": [
        "len(chunks)"
      ],
      "metadata": {
        "id": "FeABYIVBcQAX",
        "colab": {
          "base_uri": "https://localhost:8080/"
        },
        "outputId": "6a029339-2719-4d9c-e570-8c4d8db04366"
      },
      "execution_count": 52,
      "outputs": [
        {
          "output_type": "execute_result",
          "data": {
            "text/plain": [
              "2"
            ]
          },
          "metadata": {},
          "execution_count": 52
        }
      ]
    },
    {
      "cell_type": "code",
      "source": [
        "chain = load_summarize_chain(\n",
        "    llm,\n",
        "    chain_type='map_reduce',\n",
        "    verbose=False\n",
        ")"
      ],
      "metadata": {
        "id": "ifF6q-UQcR6e"
      },
      "execution_count": 53,
      "outputs": []
    },
    {
      "cell_type": "code",
      "source": [
        "summary = chain.invoke(chunks)"
      ],
      "metadata": {
        "id": "mWS4bmu8eWbK"
      },
      "execution_count": 54,
      "outputs": []
    },
    {
      "cell_type": "code",
      "source": [
        "summary"
      ],
      "metadata": {
        "id": "wAEGT-iWcTig",
        "colab": {
          "base_uri": "https://localhost:8080/"
        },
        "outputId": "ed31bb1a-5613-4779-ca7a-6ff87a4aac93"
      },
      "execution_count": 55,
      "outputs": [
        {
          "output_type": "execute_result",
          "data": {
            "text/plain": [
              "{'input_documents': [Document(metadata={}, page_content='A P J Abdul Kalam Departing speech \\n \\n \\nFriends, I am delighted to address you all, in the country and those livi ng abroad, after \\nworking with you and completing five beautiful and eventful years in Rashtrapati \\nBhavan. Today, it is indeed a thanks giving occasion. I would like to narr ate, how I \\nenjoyed every minute of my tenure enriched by the wonderful assoc iation from each one \\nof you, hailing from different walks of life, be it politics, sci ence and technology, \\nacademics, arts, literature, business, judiciary, administration, local bodies, farming, \\nhome makers, special children, media and above all from the youth and st udent \\ncommunity who are the future wealth of our country. During my intera ction at \\nRashtrapati Bhavan in Delhi and at every state and union territor y as well as through my \\nonline interactions, I have many unique experiences to share with you, which signify the \\nfollowing important messages: \\n \\n1. Accelerate development : Aspiration of the youth, \\n \\n2. Empower villages, \\n \\n3. Mobilize rural core competence for competitiveness, \\n \\n4. Seed to Food: Backbone for agricultural growth \\n \\n5. Defeat problems and succeed, \\n \\n6. Overcome problems through partnership, \\n \\n7. Courage in combating calamities, \\n \\n8. Connectivity for societal transformation, \\n \\n9. Defending the nation: Our pride and \\n \\n10. Youth movement for Developed India 2020. \\n \\nNow let me share with you each of the messages. \\n \\nAccelerate Development: Aspiration of the youth \\nWhile there were many significant events during my tenure, a que stion from a little girl \\nAnukriti of Sri Sathya Sai Jagriti Vidya Mandir School, of Dar wa village from Haryana, \\nduring children’s visit to Rashtrapati Bhavan on May 22, 2006, rings in my  mind ever \\nafter. \\n \\nAnukriti asked me “why India cannot become a developed nation before the year 2020”. I \\nappreciated the question and said it was indeed a thoughtful question and as sured her that \\nthat her dream would be taken to the highest institution of the nation and we would work for it to achieve before 2020. This question reflects how the desire t o live in developed \\nIndia has entered into the minds of the youth. The same feelings are  echoed by over \\nfifteen lakh youth, whom I have met so far and who represent the drea m of the 540 \\nmillion youth of the nation. The aspirations of the young to live in a prosperous, safe and \\nproud India should be the guiding factor in whatever profession we contribute. \\n \\nEmpower Villages \\nFriends, I recall my visit to Nagaland on 26th October 2002, soon after m y assuming \\noffice as President. It was a unique experience for me at Khuza ma village to meet tribal \\nvillage council members and discuss with them the village progress  and the dream of \\nvillage citizens. I was very happy to see the empowered village  council functioning with \\nfinancial powers and taking decisions. I saw a prosperous village with fruits and \\nvegetables production. However, there is a need for providing physical c onnectivity in \\nNagaland through quality roads for enabling faster movement of produ cts from villages \\nto the market. That meeting gave me a powerful message about the t ransformation which \\ncan take place to the 600,000 villages of India, if all the villages a re empowered to deal \\nwith their development and are well connected among themselves and wit h the urban \\nsocieties. \\n \\nMobilizing rural core competence for competitiveness \\nNow I would like to talk about the initiative of Periyar Maniammai  College of \\nTechnology for Women, Vallam, Tanjore of Providing Urban Amenities in Rural Areas \\n(PURA) complex involving 65 villages with a population of 3 lakhs. This inc ludes \\nprovision of three connectivities - physical, electronic and knowledge  - leading to \\neconomic connectivity. Periyar PURA has health care centers, pr imary to post graduate \\nlevel education and vocational training centers. This has resulted i n large-scale \\nemployment generation and creation of number of entrepreneurs with the  active support \\nof 1000 self-help groups. Two hundred acres of waste land has been develope d into a \\ncultivable land. The villagers are busy in cultivation, planting Jatropha, herbal and \\nmedicinal plants, power generation using bio-mass, food processing and above all \\nrunning marketing centers. It provides a sustainable economic developm ent model for the \\nwhole region. \\n \\nDuring the last eight months, people of Periyar PURA villages technologically supported \\nby Periyar Maniammai College of Engineering for Women have w orked with experts \\nfrom Japan External Trade Organisation (JETRO) on various products, for  which core \\ncompetence and raw material are available in Thanjavur district. They developed \\ninternationally competitive prototypes for 55 life style products wi th support of JETRO \\nspecialists and feedback from exhibitions at Delhi and Tokyo. This co -operative venture \\nhas enhanced the innovative ability of the people of all the 65 villages  enabling them to \\ndevelop and produce internationally acceptable products. I have seen si milar type of \\nPURA being established in many states. The whole country needs 7000 PU RA to \\nbridging the rural – urban divide. \\n \\nSeed to Food: Backbone for agricultural growth Let me now share with you, the enriching experience I had, whil e meeting more than \\n6000 farmers from different States and Union Territories visitin g Rashtrapati Bhavan. \\nThey evinced keen interest in the Mughal Gardens, the Herbal Gardens , the Spiritual \\nGarden, the Musical Garden, the Bio-diesel garden and the Nutrition Garden and interact \\nwith the Horticultural specialists. Recently, during my address to the agricultural \\nscientists while participating in a National Symposium on “Agri culture Cannot Wait”, I \\nsummarized the many practical suggestions given by farmers. W e have to double the \\nagricultural production with reduced land, reduced water resources and re duced \\nmanpower and improve the economic conditions of the nation through the principle  of \\n“Seed to Food” since agriculture is the backbone of the nation. We should em power the \\nfarmers to protect and nurture the fertile land for second green re volution. Meeting the \\nScientists and the Farmers has given me the confidence \\nthat the nation is poised to increase the agricultural GDP growth by atleast 4% per annum \\nthrough the partnership of farmers and agricultural scientists a nd industries particularly \\nfor value addition. \\n \\nDefeat the problems and succeed \\nOn the evening of February 24, 2007, at Coimbatore, I had a very beautif ul experience. \\nAs I got ready for meeting the first person out of twenty appoint ments, a wheel chair was \\nin sight with a smiling person probably in his late fifties; unfortunately he has no hands \\nand legs. His radiant face was revealing his happy state of mi nd. He introduced himself \\nas Vidwan Coimbatore SR Krishna Murthy. I greeted him and asked him  how this had \\nhappened. He smilingly said that it was from by birth. He thanked G od, his parents, \\nteachers and many others for giving him confidence, training and he lp. I asked him, what \\nI could do for him? He said, “I don’t need anything from you. I would like to sing in fr ont \\nof you”. I readily agreed. He sang melodiously the Saint Thyagraj a’s pancha ratna kriti \\nentharo mahanubavulu in Sriragam giving me a glimpse of his talent. I was quite  touched. \\nWhat is the message? Despite being physically challenged, the latent talent of music \\ncould blossom in this \\nperson with his positive attitude and perseverance, encouraged by the pa rents, teachers, \\nacademics and rasikas. Now he wants to give, give and give his art to inspire others. Of \\ncourse, by his merit of music, in July 2007, he performed in the Rashtra pati Bhavan art \\ntheatre. \\n \\nOvercome the impact of disaster through partnership \\nI had the opportunity to experience the Indomitable Spirit of the people  and children of \\nJammu & Kashmir even as they were just recovering from the de vastating earthquake in \\n2005. I visited Urusa village on 26th November 2005 which has been adopted by the  \\nWestern Air Command, Air Force for providing relief and medical aid to the residents of \\nthat area. When I went there, I found that the school building had been severely  damaged. \\nI met all the school children and the village citizen of Urusa. T he villagers apprised me of \\ntheir losses and had all praise for Army and Air Force role in rescue and relief operations \\nalong with state government. I appreciate the courage of the people of Urusa in defeating \\ntheir problems. They have actually become the master of the probl em rather than \\nallowing problems to become their master. Despite the severe l oss due to the earthquake, the children and the members of the village participated in the reli ef operation with the \\nArmed Forces \\nbravely and were smiling when I went to meet them. They interact ed with me and said \\nthat the school was functional in the temporary tents. Here, I also witnessed the \\nparticipation of acting Chief Justice of Jammu & Kashmir along with State Government \\nauthorities in on-the-spot settlement of relief grants to be provide d to the victims whose \\nhouses had been damaged in the earth quake. I have experienced many s uch acts of \\ncourage from our citizens when faced with severe challenges. \\n \\nCourage in combating calamities \\nIn 2005, I met the Tribal Council Leaders, Students, Children of Chuckchucha  village \\nduring my visit to Car Nicobar Islands. While various reconstruction a nd rehabilitation \\nactivities were in progress, during the discussions with the members  of tribal council, I \\nrealized the unique trait among the Car-Nicobar islanders. Even thoug h there were many \\nhuman losses due to the Tsunami of 26 Dec 2004, the tribal islanders had  taken \\npossession of affected victims as their children and there is nothi ng like orphanage in \\nCar-Nicobar Islands. Touched by their courage, I composed few vers es called “Sea'),\n",
              "  Document(metadata={}, page_content='Waves” which reads as follows: \\nSea Waves \\n \\nWe are the children of Sea waves, \\nSea waves are my friends. \\nWhen they become angry, \\nSea waves give the challenges. \\nGod has given the courage, \\nTo challenge the sea waves. \\nAnd we will succeed, \\nWe will succeed \\nWith Almighty’s grace. \\nAll the members who were gathered in the village sang the poem  with me and exhibited \\nlots of courage and enthusiasm even though they had gone through severe  suffering \\nduring the Tsunami. \\n \\nConnectivity for societal transformation \\nI addressed the Pan African Parliament on 16 September 2004, at Johanne sburg, South \\nAfrica. This was attended by 53 member countries of the Africa n Union, where I \\nproposed the concept of Pan African e-Network for providing seamless and integrated \\nsatellite, fiber optics and wireless network connecting 53 African countries at an \\nestimated cost of US $ 100 million. \\n \\nAs part of the project 12 universities (7 from India and 5 from Afri ca), 17 Super \\nSpecialty Hospitals (12 from India and 5 from Africa), 53 tele-me dicine centers and 53 \\ntele-education centres in Africa will be connected. The pilot proj ect on tele-education and \\ntele-medicine in Ethiopia has already been commissioned. Indira Gandh i National Open \\nUniversity has taken up the MBA Course for 34 Ethiopian students of Addis  Ababa and \\nHarmaya Universities. As regards, tele-medicine, the special ists from CARE Hospital, Hyderabad are providing one-hour live tele-consultation to doctors in B lack Lion \\nHospital, Addis Ababa in Cardiology and Radiology since November 2006. Using the \\nPan African network the Heads of the State in all the 53 countries  will be connected for \\ninstant communication. I am extremely happy that Indian experience  in bringing the \\nbenefits of technology to the people has enabled us to work with Afric a to bring societal \\ntransformation in the African continent. \\n \\nDefending the nation: Our pride \\nI visited KUMAR in Siachen Glacier located at 17,000 feet altitude  held by the Indian \\nArmy, had a memorable underwater journey in INS Sindhurakshak and flew  in a Sukhoi-\\n30 fighter experiencing 2.5 g. In these three experiences, I personal ly felt proud of our \\never vigilant Soldiers, Sailors and Air Warriors performing their  tasks beyond the call of \\ntheir duty even in the most adverse circumstances natural and man m ade. During the last \\nfive years, I had an opportunity to present colours to many regime nts, participate in \\nnumber of passing out parades, meet the troops who were going to undertake  peace \\nmissions and interact with the family members of our Defence F orces. Our Defence \\nForces are in a beautiful mission. When the nation sleeps during night , Members of our \\nDefence teams are awake to guard us and remain vigilant to counte r any threat. The \\nNation cherishes the valour, commitment and devotion to duty of our Defenc e Forces. \\nSimilarly, I had opportunities to interact \\nwith members of our para-military forces, central and state poli ce personnel including \\ninternal security forces who are making immense contribution in au gmenting the safety \\nand security of our citizens under difficult conditions. \\n \\nYouth movement for Developed India 2020 \\nRecently, in Hyderabad, I met a group of citizens who are putting i nto practice the motto \\nof transforming of our youth into enlightened citizen. The Lead India 2020 Found ation \\ncreated by Dr. N.B. Sudershan at Hyderabad is training thousands of s tudents in many \\ndistricts of Andhra Pradesh in partnership with the District Adm inistration. Particularly, I \\nhappened to know the transformation which has taken place among the students  of \\nMedak district. As per the district authorities the impact of the  training on the students is \\nvisible in terms of self-discipline, love for their parents and tea chers shedding of stage \\nfear and recognition of their duties towards the nation. I talke d to Ms. Padma, a student \\nleader from Andhra Pradesh Tribal Welfare School, Nalgonda who relat ed how she \\nweaned her father away from smoking after imbibing the spirit of  the 10 point oath from \\nthe Lead India Training Camp. This gives me an assurance that the  youth of our country \\nare on the right path \\nthrough this mission oriented programme. With the ignited minds of the  540 million \\nyouth below the age of 25, which I consider is the most powerful resour ce on the earth, \\nunder the earth and above the earth, we have to empower the youth through va lue based \\neducation and leadership. \\n \\nConclusion \\nI was touched by the variety of Indian panorama, emotional content of  the tune, cultural \\ndiversity and unity of minds in the vast land of ours. I have cited thes e examples just to \\ngive a glimpse of the richness of our tradition and effort being take n by different agencies to preserve it. There are also many new adventures by instituti ons and individuals. I have \\nexperienced many of them and learnt a lot about my country and our peopl e. Even while \\npursuing our economic growth, we need to do a lot to preserve the rich and diverse \\ntreasures of our culture and civilization. It is our duty for our fut ure generations. This has \\nto be done in a much larger scale through countrywide participatio n of multiple \\ninstitutions. Our country is blessed with natural resources, has shown c onsiderable \\nprogress in the last sixty years, and above all we have hard wor king people particularly \\nthe power of the 540 million youth of the country. Every sector of our count ry has given \\nme the \\nconfidence that India can become a developed nation well before 2020. Whomsoeve r, I \\nmet they constantly ask what they can give to the nation. We should c onstantly strive to \\nempower such members of the society. With this spirit, I am extr emely happy that we are \\non the right path. Here I am reminded of a famous poem: \\n\"When you wish upon a star, \\nMakes no difference who you are, \\nAnything your heart desires, \\nWill come to you” \\nThis poem is true to all of us, and particularly for our youth and i f they aim great, I am \\nsure they will reach close to the target or the target. \\n \\nMy dear citizens, let us resolve to continue to work for realizing the missions of \\ndeveloped India 2020 with the following distinctive profile. \\n \\n1. A Nation where the rural and urban divide has reduced to a thin line. \\n \\n2. A Nation where there is an equitable distribution and adequate acce ss to energy and \\nquality water. \\n \\n3. A Nation where agriculture, industry and service sector work together in sym phony. \\n \\n4. A Nation where education with value system is not denied to any meritorious \\ncandidates because of societal or economic discrimination. \\n \\n5. A Nation which is the best destination for the most talented s cholars, scientists, and \\ninvestors. \\n \\n6. A Nation where the best of health care is available to all. \\n \\n7. A Nation where the governance is responsive, transparent and corruption free. \\n \\n8. A Nation where poverty has been totally eradicated, illiterac y removed and crimes \\nagainst women and children are absent and none in the society feels alienated. \\n \\n9. A Nation that is prosperous, healthy, secure, peaceful and happy a nd continues with a \\nsustainable growth path. \\n 10. A Nation that is one of the best places to live in and is proud of its leadership. \\n \\nFinally let me thank each one of you for showering your love and aff ection on me \\nthroughout the last five years by your cooperation and support. \\n \\nDear Citizens, I conclude my address by sharing with you my mission in life which is to \\nbring connectivity between billion hearts and minds of the people of Indi a in our \\nmulticultural society and to embed the self confidence that \"we c an do it\". I will be \\nalways with you, dear citizens, in the great mission of making Indi a a developed nation \\nbefore 2020. \\n \\nMay God bless you. \\n \\nJai hind. \\nDr. A. P. J. Abdul Kalam \\nwww.presidentofindia.nic.in')],\n",
              " 'output_text': 'In his departing speech, A P J Abdul Kalam reflects on his five years as President, emphasizing the importance of accelerating development, empowering villages, mobilizing rural core competence, and overcoming challenges through partnership. He shares experiences from interactions with various groups, highlighting the importance of aspiration, perseverance, and courage in achieving national growth. Dr. Kalam discusses initiatives such as promoting connectivity in Africa, defending the nation, and empowering youth in India, while outlining his vision for a developed India by 2020. He concludes by expressing gratitude and sharing his mission to unite the people of India towards achieving national development.'}"
            ]
          },
          "metadata": {},
          "execution_count": 55
        }
      ]
    },
    {
      "cell_type": "markdown",
      "source": [
        "#Map Reduce With Custom Prompts"
      ],
      "metadata": {
        "id": "U3RJhwxccUD4"
      }
    },
    {
      "cell_type": "code",
      "source": [
        "chunks_prompt=\"\"\"\n",
        "Please summarize the below speech:\n",
        "Speech:`{text}'\n",
        "Summary:\n",
        "\"\"\"\n",
        "map_prompt_template=PromptTemplate(input_variables=['text'],\n",
        "                                    template=chunks_prompt)"
      ],
      "metadata": {
        "id": "lx7FpMw2cXv_"
      },
      "execution_count": 56,
      "outputs": []
    },
    {
      "cell_type": "code",
      "source": [
        "final_combine_prompt='''\n",
        "Provide a final summary of the entire speech with these important points.\n",
        "Add a Generic Motivational Title,\n",
        "Start the precise summary with an introduction and provide the\n",
        "summary in number points for the speech.\n",
        "Speech: `{text}`\n",
        "'''\n",
        "final_combine_prompt_template=PromptTemplate(input_variables=['text'],\n",
        "                                             template=final_combine_prompt)"
      ],
      "metadata": {
        "id": "S6G31Gf_cblZ"
      },
      "execution_count": 57,
      "outputs": []
    },
    {
      "cell_type": "code",
      "source": [
        "summary_chain = load_summarize_chain(\n",
        "    llm=llm,\n",
        "    chain_type='map_reduce',\n",
        "    map_prompt=map_prompt_template,\n",
        "    combine_prompt=final_combine_prompt_template,\n",
        "    verbose=False\n",
        ")"
      ],
      "metadata": {
        "id": "VN_QL7DncdaB"
      },
      "execution_count": 58,
      "outputs": []
    },
    {
      "cell_type": "code",
      "source": [
        "output = summary_chain.invoke(chunks)"
      ],
      "metadata": {
        "id": "ezk_wG_teifn"
      },
      "execution_count": 59,
      "outputs": []
    },
    {
      "cell_type": "code",
      "source": [
        "output"
      ],
      "metadata": {
        "id": "bMthYMNDcf4a",
        "colab": {
          "base_uri": "https://localhost:8080/"
        },
        "outputId": "f62ad548-1e56-4aaf-f14f-e259bf665dd4"
      },
      "execution_count": 60,
      "outputs": [
        {
          "output_type": "execute_result",
          "data": {
            "text/plain": [
              "{'input_documents': [Document(metadata={}, page_content='A P J Abdul Kalam Departing speech \\n \\n \\nFriends, I am delighted to address you all, in the country and those livi ng abroad, after \\nworking with you and completing five beautiful and eventful years in Rashtrapati \\nBhavan. Today, it is indeed a thanks giving occasion. I would like to narr ate, how I \\nenjoyed every minute of my tenure enriched by the wonderful assoc iation from each one \\nof you, hailing from different walks of life, be it politics, sci ence and technology, \\nacademics, arts, literature, business, judiciary, administration, local bodies, farming, \\nhome makers, special children, media and above all from the youth and st udent \\ncommunity who are the future wealth of our country. During my intera ction at \\nRashtrapati Bhavan in Delhi and at every state and union territor y as well as through my \\nonline interactions, I have many unique experiences to share with you, which signify the \\nfollowing important messages: \\n \\n1. Accelerate development : Aspiration of the youth, \\n \\n2. Empower villages, \\n \\n3. Mobilize rural core competence for competitiveness, \\n \\n4. Seed to Food: Backbone for agricultural growth \\n \\n5. Defeat problems and succeed, \\n \\n6. Overcome problems through partnership, \\n \\n7. Courage in combating calamities, \\n \\n8. Connectivity for societal transformation, \\n \\n9. Defending the nation: Our pride and \\n \\n10. Youth movement for Developed India 2020. \\n \\nNow let me share with you each of the messages. \\n \\nAccelerate Development: Aspiration of the youth \\nWhile there were many significant events during my tenure, a que stion from a little girl \\nAnukriti of Sri Sathya Sai Jagriti Vidya Mandir School, of Dar wa village from Haryana, \\nduring children’s visit to Rashtrapati Bhavan on May 22, 2006, rings in my  mind ever \\nafter. \\n \\nAnukriti asked me “why India cannot become a developed nation before the year 2020”. I \\nappreciated the question and said it was indeed a thoughtful question and as sured her that \\nthat her dream would be taken to the highest institution of the nation and we would work for it to achieve before 2020. This question reflects how the desire t o live in developed \\nIndia has entered into the minds of the youth. The same feelings are  echoed by over \\nfifteen lakh youth, whom I have met so far and who represent the drea m of the 540 \\nmillion youth of the nation. The aspirations of the young to live in a prosperous, safe and \\nproud India should be the guiding factor in whatever profession we contribute. \\n \\nEmpower Villages \\nFriends, I recall my visit to Nagaland on 26th October 2002, soon after m y assuming \\noffice as President. It was a unique experience for me at Khuza ma village to meet tribal \\nvillage council members and discuss with them the village progress  and the dream of \\nvillage citizens. I was very happy to see the empowered village  council functioning with \\nfinancial powers and taking decisions. I saw a prosperous village with fruits and \\nvegetables production. However, there is a need for providing physical c onnectivity in \\nNagaland through quality roads for enabling faster movement of produ cts from villages \\nto the market. That meeting gave me a powerful message about the t ransformation which \\ncan take place to the 600,000 villages of India, if all the villages a re empowered to deal \\nwith their development and are well connected among themselves and wit h the urban \\nsocieties. \\n \\nMobilizing rural core competence for competitiveness \\nNow I would like to talk about the initiative of Periyar Maniammai  College of \\nTechnology for Women, Vallam, Tanjore of Providing Urban Amenities in Rural Areas \\n(PURA) complex involving 65 villages with a population of 3 lakhs. This inc ludes \\nprovision of three connectivities - physical, electronic and knowledge  - leading to \\neconomic connectivity. Periyar PURA has health care centers, pr imary to post graduate \\nlevel education and vocational training centers. This has resulted i n large-scale \\nemployment generation and creation of number of entrepreneurs with the  active support \\nof 1000 self-help groups. Two hundred acres of waste land has been develope d into a \\ncultivable land. The villagers are busy in cultivation, planting Jatropha, herbal and \\nmedicinal plants, power generation using bio-mass, food processing and above all \\nrunning marketing centers. It provides a sustainable economic developm ent model for the \\nwhole region. \\n \\nDuring the last eight months, people of Periyar PURA villages technologically supported \\nby Periyar Maniammai College of Engineering for Women have w orked with experts \\nfrom Japan External Trade Organisation (JETRO) on various products, for  which core \\ncompetence and raw material are available in Thanjavur district. They developed \\ninternationally competitive prototypes for 55 life style products wi th support of JETRO \\nspecialists and feedback from exhibitions at Delhi and Tokyo. This co -operative venture \\nhas enhanced the innovative ability of the people of all the 65 villages  enabling them to \\ndevelop and produce internationally acceptable products. I have seen si milar type of \\nPURA being established in many states. The whole country needs 7000 PU RA to \\nbridging the rural – urban divide. \\n \\nSeed to Food: Backbone for agricultural growth Let me now share with you, the enriching experience I had, whil e meeting more than \\n6000 farmers from different States and Union Territories visitin g Rashtrapati Bhavan. \\nThey evinced keen interest in the Mughal Gardens, the Herbal Gardens , the Spiritual \\nGarden, the Musical Garden, the Bio-diesel garden and the Nutrition Garden and interact \\nwith the Horticultural specialists. Recently, during my address to the agricultural \\nscientists while participating in a National Symposium on “Agri culture Cannot Wait”, I \\nsummarized the many practical suggestions given by farmers. W e have to double the \\nagricultural production with reduced land, reduced water resources and re duced \\nmanpower and improve the economic conditions of the nation through the principle  of \\n“Seed to Food” since agriculture is the backbone of the nation. We should em power the \\nfarmers to protect and nurture the fertile land for second green re volution. Meeting the \\nScientists and the Farmers has given me the confidence \\nthat the nation is poised to increase the agricultural GDP growth by atleast 4% per annum \\nthrough the partnership of farmers and agricultural scientists a nd industries particularly \\nfor value addition. \\n \\nDefeat the problems and succeed \\nOn the evening of February 24, 2007, at Coimbatore, I had a very beautif ul experience. \\nAs I got ready for meeting the first person out of twenty appoint ments, a wheel chair was \\nin sight with a smiling person probably in his late fifties; unfortunately he has no hands \\nand legs. His radiant face was revealing his happy state of mi nd. He introduced himself \\nas Vidwan Coimbatore SR Krishna Murthy. I greeted him and asked him  how this had \\nhappened. He smilingly said that it was from by birth. He thanked G od, his parents, \\nteachers and many others for giving him confidence, training and he lp. I asked him, what \\nI could do for him? He said, “I don’t need anything from you. I would like to sing in fr ont \\nof you”. I readily agreed. He sang melodiously the Saint Thyagraj a’s pancha ratna kriti \\nentharo mahanubavulu in Sriragam giving me a glimpse of his talent. I was quite  touched. \\nWhat is the message? Despite being physically challenged, the latent talent of music \\ncould blossom in this \\nperson with his positive attitude and perseverance, encouraged by the pa rents, teachers, \\nacademics and rasikas. Now he wants to give, give and give his art to inspire others. Of \\ncourse, by his merit of music, in July 2007, he performed in the Rashtra pati Bhavan art \\ntheatre. \\n \\nOvercome the impact of disaster through partnership \\nI had the opportunity to experience the Indomitable Spirit of the people  and children of \\nJammu & Kashmir even as they were just recovering from the de vastating earthquake in \\n2005. I visited Urusa village on 26th November 2005 which has been adopted by the  \\nWestern Air Command, Air Force for providing relief and medical aid to the residents of \\nthat area. When I went there, I found that the school building had been severely  damaged. \\nI met all the school children and the village citizen of Urusa. T he villagers apprised me of \\ntheir losses and had all praise for Army and Air Force role in rescue and relief operations \\nalong with state government. I appreciate the courage of the people of Urusa in defeating \\ntheir problems. They have actually become the master of the probl em rather than \\nallowing problems to become their master. Despite the severe l oss due to the earthquake, the children and the members of the village participated in the reli ef operation with the \\nArmed Forces \\nbravely and were smiling when I went to meet them. They interact ed with me and said \\nthat the school was functional in the temporary tents. Here, I also witnessed the \\nparticipation of acting Chief Justice of Jammu & Kashmir along with State Government \\nauthorities in on-the-spot settlement of relief grants to be provide d to the victims whose \\nhouses had been damaged in the earth quake. I have experienced many s uch acts of \\ncourage from our citizens when faced with severe challenges. \\n \\nCourage in combating calamities \\nIn 2005, I met the Tribal Council Leaders, Students, Children of Chuckchucha  village \\nduring my visit to Car Nicobar Islands. While various reconstruction a nd rehabilitation \\nactivities were in progress, during the discussions with the members  of tribal council, I \\nrealized the unique trait among the Car-Nicobar islanders. Even thoug h there were many \\nhuman losses due to the Tsunami of 26 Dec 2004, the tribal islanders had  taken \\npossession of affected victims as their children and there is nothi ng like orphanage in \\nCar-Nicobar Islands. Touched by their courage, I composed few vers es called “Sea'),\n",
              "  Document(metadata={}, page_content='Waves” which reads as follows: \\nSea Waves \\n \\nWe are the children of Sea waves, \\nSea waves are my friends. \\nWhen they become angry, \\nSea waves give the challenges. \\nGod has given the courage, \\nTo challenge the sea waves. \\nAnd we will succeed, \\nWe will succeed \\nWith Almighty’s grace. \\nAll the members who were gathered in the village sang the poem  with me and exhibited \\nlots of courage and enthusiasm even though they had gone through severe  suffering \\nduring the Tsunami. \\n \\nConnectivity for societal transformation \\nI addressed the Pan African Parliament on 16 September 2004, at Johanne sburg, South \\nAfrica. This was attended by 53 member countries of the Africa n Union, where I \\nproposed the concept of Pan African e-Network for providing seamless and integrated \\nsatellite, fiber optics and wireless network connecting 53 African countries at an \\nestimated cost of US $ 100 million. \\n \\nAs part of the project 12 universities (7 from India and 5 from Afri ca), 17 Super \\nSpecialty Hospitals (12 from India and 5 from Africa), 53 tele-me dicine centers and 53 \\ntele-education centres in Africa will be connected. The pilot proj ect on tele-education and \\ntele-medicine in Ethiopia has already been commissioned. Indira Gandh i National Open \\nUniversity has taken up the MBA Course for 34 Ethiopian students of Addis  Ababa and \\nHarmaya Universities. As regards, tele-medicine, the special ists from CARE Hospital, Hyderabad are providing one-hour live tele-consultation to doctors in B lack Lion \\nHospital, Addis Ababa in Cardiology and Radiology since November 2006. Using the \\nPan African network the Heads of the State in all the 53 countries  will be connected for \\ninstant communication. I am extremely happy that Indian experience  in bringing the \\nbenefits of technology to the people has enabled us to work with Afric a to bring societal \\ntransformation in the African continent. \\n \\nDefending the nation: Our pride \\nI visited KUMAR in Siachen Glacier located at 17,000 feet altitude  held by the Indian \\nArmy, had a memorable underwater journey in INS Sindhurakshak and flew  in a Sukhoi-\\n30 fighter experiencing 2.5 g. In these three experiences, I personal ly felt proud of our \\never vigilant Soldiers, Sailors and Air Warriors performing their  tasks beyond the call of \\ntheir duty even in the most adverse circumstances natural and man m ade. During the last \\nfive years, I had an opportunity to present colours to many regime nts, participate in \\nnumber of passing out parades, meet the troops who were going to undertake  peace \\nmissions and interact with the family members of our Defence F orces. Our Defence \\nForces are in a beautiful mission. When the nation sleeps during night , Members of our \\nDefence teams are awake to guard us and remain vigilant to counte r any threat. The \\nNation cherishes the valour, commitment and devotion to duty of our Defenc e Forces. \\nSimilarly, I had opportunities to interact \\nwith members of our para-military forces, central and state poli ce personnel including \\ninternal security forces who are making immense contribution in au gmenting the safety \\nand security of our citizens under difficult conditions. \\n \\nYouth movement for Developed India 2020 \\nRecently, in Hyderabad, I met a group of citizens who are putting i nto practice the motto \\nof transforming of our youth into enlightened citizen. The Lead India 2020 Found ation \\ncreated by Dr. N.B. Sudershan at Hyderabad is training thousands of s tudents in many \\ndistricts of Andhra Pradesh in partnership with the District Adm inistration. Particularly, I \\nhappened to know the transformation which has taken place among the students  of \\nMedak district. As per the district authorities the impact of the  training on the students is \\nvisible in terms of self-discipline, love for their parents and tea chers shedding of stage \\nfear and recognition of their duties towards the nation. I talke d to Ms. Padma, a student \\nleader from Andhra Pradesh Tribal Welfare School, Nalgonda who relat ed how she \\nweaned her father away from smoking after imbibing the spirit of  the 10 point oath from \\nthe Lead India Training Camp. This gives me an assurance that the  youth of our country \\nare on the right path \\nthrough this mission oriented programme. With the ignited minds of the  540 million \\nyouth below the age of 25, which I consider is the most powerful resour ce on the earth, \\nunder the earth and above the earth, we have to empower the youth through va lue based \\neducation and leadership. \\n \\nConclusion \\nI was touched by the variety of Indian panorama, emotional content of  the tune, cultural \\ndiversity and unity of minds in the vast land of ours. I have cited thes e examples just to \\ngive a glimpse of the richness of our tradition and effort being take n by different agencies to preserve it. There are also many new adventures by instituti ons and individuals. I have \\nexperienced many of them and learnt a lot about my country and our peopl e. Even while \\npursuing our economic growth, we need to do a lot to preserve the rich and diverse \\ntreasures of our culture and civilization. It is our duty for our fut ure generations. This has \\nto be done in a much larger scale through countrywide participatio n of multiple \\ninstitutions. Our country is blessed with natural resources, has shown c onsiderable \\nprogress in the last sixty years, and above all we have hard wor king people particularly \\nthe power of the 540 million youth of the country. Every sector of our count ry has given \\nme the \\nconfidence that India can become a developed nation well before 2020. Whomsoeve r, I \\nmet they constantly ask what they can give to the nation. We should c onstantly strive to \\nempower such members of the society. With this spirit, I am extr emely happy that we are \\non the right path. Here I am reminded of a famous poem: \\n\"When you wish upon a star, \\nMakes no difference who you are, \\nAnything your heart desires, \\nWill come to you” \\nThis poem is true to all of us, and particularly for our youth and i f they aim great, I am \\nsure they will reach close to the target or the target. \\n \\nMy dear citizens, let us resolve to continue to work for realizing the missions of \\ndeveloped India 2020 with the following distinctive profile. \\n \\n1. A Nation where the rural and urban divide has reduced to a thin line. \\n \\n2. A Nation where there is an equitable distribution and adequate acce ss to energy and \\nquality water. \\n \\n3. A Nation where agriculture, industry and service sector work together in sym phony. \\n \\n4. A Nation where education with value system is not denied to any meritorious \\ncandidates because of societal or economic discrimination. \\n \\n5. A Nation which is the best destination for the most talented s cholars, scientists, and \\ninvestors. \\n \\n6. A Nation where the best of health care is available to all. \\n \\n7. A Nation where the governance is responsive, transparent and corruption free. \\n \\n8. A Nation where poverty has been totally eradicated, illiterac y removed and crimes \\nagainst women and children are absent and none in the society feels alienated. \\n \\n9. A Nation that is prosperous, healthy, secure, peaceful and happy a nd continues with a \\nsustainable growth path. \\n 10. A Nation that is one of the best places to live in and is proud of its leadership. \\n \\nFinally let me thank each one of you for showering your love and aff ection on me \\nthroughout the last five years by your cooperation and support. \\n \\nDear Citizens, I conclude my address by sharing with you my mission in life which is to \\nbring connectivity between billion hearts and minds of the people of Indi a in our \\nmulticultural society and to embed the self confidence that \"we c an do it\". I will be \\nalways with you, dear citizens, in the great mission of making Indi a a developed nation \\nbefore 2020. \\n \\nMay God bless you. \\n \\nJai hind. \\nDr. A. P. J. Abdul Kalam \\nwww.presidentofindia.nic.in')],\n",
              " 'output_text': 'Title: \"Building a Developed and Prosperous India: A Vision for 2020\"\\n\\n1. Dr. A. P. J. Abdul Kalam reflects on his five years in Rashtrapati Bhavan, emphasizing the importance of accelerating development, empowering villages, mobilizing rural core competence, and focusing on agriculture as the backbone of the nation.\\n2. He shares inspiring stories of individuals overcoming challenges, communities coming together in times of disaster, and the indomitable spirit of the youth.\\n3. Dr. Kalam highlights the need for partnership, courage, and perseverance in achieving a developed and prosperous India by 2020.\\n4. He talks about the resilience of the people facing challenges like the Tsunami, his proposal for a Pan African e-Network, and the importance of empowering the youth for a developed India.\\n5. Dr. Kalam envisions a nation with reduced rural-urban divide, equitable access to resources, quality education, healthcare, governance, and eradication of poverty and crimes.\\n6. He concludes by expressing gratitude for the support and sharing his mission to connect the hearts and minds of the people towards making India a developed nation.'}"
            ]
          },
          "metadata": {},
          "execution_count": 60
        }
      ]
    },
    {
      "cell_type": "markdown",
      "source": [
        "#RefineChain For Summarization"
      ],
      "metadata": {
        "id": "04qEG9AGciqB"
      }
    },
    {
      "cell_type": "code",
      "source": [
        "chain = load_summarize_chain(\n",
        "    llm=llm,\n",
        "    chain_type='refine',\n",
        "    verbose=True\n",
        ")"
      ],
      "metadata": {
        "id": "qKrvHKGncjdo"
      },
      "execution_count": 61,
      "outputs": []
    },
    {
      "cell_type": "code",
      "source": [
        "output_summary = chain.invoke(chunks)"
      ],
      "metadata": {
        "colab": {
          "base_uri": "https://localhost:8080/"
        },
        "id": "9IlSN9o4erjZ",
        "outputId": "7fd5a8f5-aaaa-4266-c77e-b20120136b80"
      },
      "execution_count": 62,
      "outputs": [
        {
          "output_type": "stream",
          "name": "stdout",
          "text": [
            "\n",
            "\n",
            "\u001b[1m> Entering new RefineDocumentsChain chain...\u001b[0m\n",
            "\n",
            "\n",
            "\u001b[1m> Entering new LLMChain chain...\u001b[0m\n",
            "Prompt after formatting:\n",
            "\u001b[32;1m\u001b[1;3mWrite a concise summary of the following:\n",
            "\n",
            "\n",
            "\"A P J Abdul Kalam Departing speech \n",
            " \n",
            " \n",
            "Friends, I am delighted to address you all, in the country and those livi ng abroad, after \n",
            "working with you and completing five beautiful and eventful years in Rashtrapati \n",
            "Bhavan. Today, it is indeed a thanks giving occasion. I would like to narr ate, how I \n",
            "enjoyed every minute of my tenure enriched by the wonderful assoc iation from each one \n",
            "of you, hailing from different walks of life, be it politics, sci ence and technology, \n",
            "academics, arts, literature, business, judiciary, administration, local bodies, farming, \n",
            "home makers, special children, media and above all from the youth and st udent \n",
            "community who are the future wealth of our country. During my intera ction at \n",
            "Rashtrapati Bhavan in Delhi and at every state and union territor y as well as through my \n",
            "online interactions, I have many unique experiences to share with you, which signify the \n",
            "following important messages: \n",
            " \n",
            "1. Accelerate development : Aspiration of the youth, \n",
            " \n",
            "2. Empower villages, \n",
            " \n",
            "3. Mobilize rural core competence for competitiveness, \n",
            " \n",
            "4. Seed to Food: Backbone for agricultural growth \n",
            " \n",
            "5. Defeat problems and succeed, \n",
            " \n",
            "6. Overcome problems through partnership, \n",
            " \n",
            "7. Courage in combating calamities, \n",
            " \n",
            "8. Connectivity for societal transformation, \n",
            " \n",
            "9. Defending the nation: Our pride and \n",
            " \n",
            "10. Youth movement for Developed India 2020. \n",
            " \n",
            "Now let me share with you each of the messages. \n",
            " \n",
            "Accelerate Development: Aspiration of the youth \n",
            "While there were many significant events during my tenure, a que stion from a little girl \n",
            "Anukriti of Sri Sathya Sai Jagriti Vidya Mandir School, of Dar wa village from Haryana, \n",
            "during children’s visit to Rashtrapati Bhavan on May 22, 2006, rings in my  mind ever \n",
            "after. \n",
            " \n",
            "Anukriti asked me “why India cannot become a developed nation before the year 2020”. I \n",
            "appreciated the question and said it was indeed a thoughtful question and as sured her that \n",
            "that her dream would be taken to the highest institution of the nation and we would work for it to achieve before 2020. This question reflects how the desire t o live in developed \n",
            "India has entered into the minds of the youth. The same feelings are  echoed by over \n",
            "fifteen lakh youth, whom I have met so far and who represent the drea m of the 540 \n",
            "million youth of the nation. The aspirations of the young to live in a prosperous, safe and \n",
            "proud India should be the guiding factor in whatever profession we contribute. \n",
            " \n",
            "Empower Villages \n",
            "Friends, I recall my visit to Nagaland on 26th October 2002, soon after m y assuming \n",
            "office as President. It was a unique experience for me at Khuza ma village to meet tribal \n",
            "village council members and discuss with them the village progress  and the dream of \n",
            "village citizens. I was very happy to see the empowered village  council functioning with \n",
            "financial powers and taking decisions. I saw a prosperous village with fruits and \n",
            "vegetables production. However, there is a need for providing physical c onnectivity in \n",
            "Nagaland through quality roads for enabling faster movement of produ cts from villages \n",
            "to the market. That meeting gave me a powerful message about the t ransformation which \n",
            "can take place to the 600,000 villages of India, if all the villages a re empowered to deal \n",
            "with their development and are well connected among themselves and wit h the urban \n",
            "societies. \n",
            " \n",
            "Mobilizing rural core competence for competitiveness \n",
            "Now I would like to talk about the initiative of Periyar Maniammai  College of \n",
            "Technology for Women, Vallam, Tanjore of Providing Urban Amenities in Rural Areas \n",
            "(PURA) complex involving 65 villages with a population of 3 lakhs. This inc ludes \n",
            "provision of three connectivities - physical, electronic and knowledge  - leading to \n",
            "economic connectivity. Periyar PURA has health care centers, pr imary to post graduate \n",
            "level education and vocational training centers. This has resulted i n large-scale \n",
            "employment generation and creation of number of entrepreneurs with the  active support \n",
            "of 1000 self-help groups. Two hundred acres of waste land has been develope d into a \n",
            "cultivable land. The villagers are busy in cultivation, planting Jatropha, herbal and \n",
            "medicinal plants, power generation using bio-mass, food processing and above all \n",
            "running marketing centers. It provides a sustainable economic developm ent model for the \n",
            "whole region. \n",
            " \n",
            "During the last eight months, people of Periyar PURA villages technologically supported \n",
            "by Periyar Maniammai College of Engineering for Women have w orked with experts \n",
            "from Japan External Trade Organisation (JETRO) on various products, for  which core \n",
            "competence and raw material are available in Thanjavur district. They developed \n",
            "internationally competitive prototypes for 55 life style products wi th support of JETRO \n",
            "specialists and feedback from exhibitions at Delhi and Tokyo. This co -operative venture \n",
            "has enhanced the innovative ability of the people of all the 65 villages  enabling them to \n",
            "develop and produce internationally acceptable products. I have seen si milar type of \n",
            "PURA being established in many states. The whole country needs 7000 PU RA to \n",
            "bridging the rural – urban divide. \n",
            " \n",
            "Seed to Food: Backbone for agricultural growth Let me now share with you, the enriching experience I had, whil e meeting more than \n",
            "6000 farmers from different States and Union Territories visitin g Rashtrapati Bhavan. \n",
            "They evinced keen interest in the Mughal Gardens, the Herbal Gardens , the Spiritual \n",
            "Garden, the Musical Garden, the Bio-diesel garden and the Nutrition Garden and interact \n",
            "with the Horticultural specialists. Recently, during my address to the agricultural \n",
            "scientists while participating in a National Symposium on “Agri culture Cannot Wait”, I \n",
            "summarized the many practical suggestions given by farmers. W e have to double the \n",
            "agricultural production with reduced land, reduced water resources and re duced \n",
            "manpower and improve the economic conditions of the nation through the principle  of \n",
            "“Seed to Food” since agriculture is the backbone of the nation. We should em power the \n",
            "farmers to protect and nurture the fertile land for second green re volution. Meeting the \n",
            "Scientists and the Farmers has given me the confidence \n",
            "that the nation is poised to increase the agricultural GDP growth by atleast 4% per annum \n",
            "through the partnership of farmers and agricultural scientists a nd industries particularly \n",
            "for value addition. \n",
            " \n",
            "Defeat the problems and succeed \n",
            "On the evening of February 24, 2007, at Coimbatore, I had a very beautif ul experience. \n",
            "As I got ready for meeting the first person out of twenty appoint ments, a wheel chair was \n",
            "in sight with a smiling person probably in his late fifties; unfortunately he has no hands \n",
            "and legs. His radiant face was revealing his happy state of mi nd. He introduced himself \n",
            "as Vidwan Coimbatore SR Krishna Murthy. I greeted him and asked him  how this had \n",
            "happened. He smilingly said that it was from by birth. He thanked G od, his parents, \n",
            "teachers and many others for giving him confidence, training and he lp. I asked him, what \n",
            "I could do for him? He said, “I don’t need anything from you. I would like to sing in fr ont \n",
            "of you”. I readily agreed. He sang melodiously the Saint Thyagraj a’s pancha ratna kriti \n",
            "entharo mahanubavulu in Sriragam giving me a glimpse of his talent. I was quite  touched. \n",
            "What is the message? Despite being physically challenged, the latent talent of music \n",
            "could blossom in this \n",
            "person with his positive attitude and perseverance, encouraged by the pa rents, teachers, \n",
            "academics and rasikas. Now he wants to give, give and give his art to inspire others. Of \n",
            "course, by his merit of music, in July 2007, he performed in the Rashtra pati Bhavan art \n",
            "theatre. \n",
            " \n",
            "Overcome the impact of disaster through partnership \n",
            "I had the opportunity to experience the Indomitable Spirit of the people  and children of \n",
            "Jammu & Kashmir even as they were just recovering from the de vastating earthquake in \n",
            "2005. I visited Urusa village on 26th November 2005 which has been adopted by the  \n",
            "Western Air Command, Air Force for providing relief and medical aid to the residents of \n",
            "that area. When I went there, I found that the school building had been severely  damaged. \n",
            "I met all the school children and the village citizen of Urusa. T he villagers apprised me of \n",
            "their losses and had all praise for Army and Air Force role in rescue and relief operations \n",
            "along with state government. I appreciate the courage of the people of Urusa in defeating \n",
            "their problems. They have actually become the master of the probl em rather than \n",
            "allowing problems to become their master. Despite the severe l oss due to the earthquake, the children and the members of the village participated in the reli ef operation with the \n",
            "Armed Forces \n",
            "bravely and were smiling when I went to meet them. They interact ed with me and said \n",
            "that the school was functional in the temporary tents. Here, I also witnessed the \n",
            "participation of acting Chief Justice of Jammu & Kashmir along with State Government \n",
            "authorities in on-the-spot settlement of relief grants to be provide d to the victims whose \n",
            "houses had been damaged in the earth quake. I have experienced many s uch acts of \n",
            "courage from our citizens when faced with severe challenges. \n",
            " \n",
            "Courage in combating calamities \n",
            "In 2005, I met the Tribal Council Leaders, Students, Children of Chuckchucha  village \n",
            "during my visit to Car Nicobar Islands. While various reconstruction a nd rehabilitation \n",
            "activities were in progress, during the discussions with the members  of tribal council, I \n",
            "realized the unique trait among the Car-Nicobar islanders. Even thoug h there were many \n",
            "human losses due to the Tsunami of 26 Dec 2004, the tribal islanders had  taken \n",
            "possession of affected victims as their children and there is nothi ng like orphanage in \n",
            "Car-Nicobar Islands. Touched by their courage, I composed few vers es called “Sea\"\n",
            "\n",
            "\n",
            "CONCISE SUMMARY:\u001b[0m\n",
            "\n",
            "\u001b[1m> Finished chain.\u001b[0m\n",
            "\n",
            "\n",
            "\u001b[1m> Entering new LLMChain chain...\u001b[0m\n",
            "Prompt after formatting:\n",
            "\u001b[32;1m\u001b[1;3mYour job is to produce a final summary.\n",
            "We have provided an existing summary up to a certain point: In his departing speech, A P J Abdul Kalam reflects on his five years as President, highlighting key messages such as accelerating development, empowering villages, mobilizing rural core competence, and overcoming challenges through partnership. He shares experiences from interactions with youth, farmers, physically challenged individuals, and communities affected by disasters, emphasizing the importance of aspiration, perseverance, and courage in achieving national growth and development.\n",
            "We have the opportunity to refine the existing summary (only if needed) with some more context below.\n",
            "------------\n",
            "Waves” which reads as follows: \n",
            "Sea Waves \n",
            " \n",
            "We are the children of Sea waves, \n",
            "Sea waves are my friends. \n",
            "When they become angry, \n",
            "Sea waves give the challenges. \n",
            "God has given the courage, \n",
            "To challenge the sea waves. \n",
            "And we will succeed, \n",
            "We will succeed \n",
            "With Almighty’s grace. \n",
            "All the members who were gathered in the village sang the poem  with me and exhibited \n",
            "lots of courage and enthusiasm even though they had gone through severe  suffering \n",
            "during the Tsunami. \n",
            " \n",
            "Connectivity for societal transformation \n",
            "I addressed the Pan African Parliament on 16 September 2004, at Johanne sburg, South \n",
            "Africa. This was attended by 53 member countries of the Africa n Union, where I \n",
            "proposed the concept of Pan African e-Network for providing seamless and integrated \n",
            "satellite, fiber optics and wireless network connecting 53 African countries at an \n",
            "estimated cost of US $ 100 million. \n",
            " \n",
            "As part of the project 12 universities (7 from India and 5 from Afri ca), 17 Super \n",
            "Specialty Hospitals (12 from India and 5 from Africa), 53 tele-me dicine centers and 53 \n",
            "tele-education centres in Africa will be connected. The pilot proj ect on tele-education and \n",
            "tele-medicine in Ethiopia has already been commissioned. Indira Gandh i National Open \n",
            "University has taken up the MBA Course for 34 Ethiopian students of Addis  Ababa and \n",
            "Harmaya Universities. As regards, tele-medicine, the special ists from CARE Hospital, Hyderabad are providing one-hour live tele-consultation to doctors in B lack Lion \n",
            "Hospital, Addis Ababa in Cardiology and Radiology since November 2006. Using the \n",
            "Pan African network the Heads of the State in all the 53 countries  will be connected for \n",
            "instant communication. I am extremely happy that Indian experience  in bringing the \n",
            "benefits of technology to the people has enabled us to work with Afric a to bring societal \n",
            "transformation in the African continent. \n",
            " \n",
            "Defending the nation: Our pride \n",
            "I visited KUMAR in Siachen Glacier located at 17,000 feet altitude  held by the Indian \n",
            "Army, had a memorable underwater journey in INS Sindhurakshak and flew  in a Sukhoi-\n",
            "30 fighter experiencing 2.5 g. In these three experiences, I personal ly felt proud of our \n",
            "ever vigilant Soldiers, Sailors and Air Warriors performing their  tasks beyond the call of \n",
            "their duty even in the most adverse circumstances natural and man m ade. During the last \n",
            "five years, I had an opportunity to present colours to many regime nts, participate in \n",
            "number of passing out parades, meet the troops who were going to undertake  peace \n",
            "missions and interact with the family members of our Defence F orces. Our Defence \n",
            "Forces are in a beautiful mission. When the nation sleeps during night , Members of our \n",
            "Defence teams are awake to guard us and remain vigilant to counte r any threat. The \n",
            "Nation cherishes the valour, commitment and devotion to duty of our Defenc e Forces. \n",
            "Similarly, I had opportunities to interact \n",
            "with members of our para-military forces, central and state poli ce personnel including \n",
            "internal security forces who are making immense contribution in au gmenting the safety \n",
            "and security of our citizens under difficult conditions. \n",
            " \n",
            "Youth movement for Developed India 2020 \n",
            "Recently, in Hyderabad, I met a group of citizens who are putting i nto practice the motto \n",
            "of transforming of our youth into enlightened citizen. The Lead India 2020 Found ation \n",
            "created by Dr. N.B. Sudershan at Hyderabad is training thousands of s tudents in many \n",
            "districts of Andhra Pradesh in partnership with the District Adm inistration. Particularly, I \n",
            "happened to know the transformation which has taken place among the students  of \n",
            "Medak district. As per the district authorities the impact of the  training on the students is \n",
            "visible in terms of self-discipline, love for their parents and tea chers shedding of stage \n",
            "fear and recognition of their duties towards the nation. I talke d to Ms. Padma, a student \n",
            "leader from Andhra Pradesh Tribal Welfare School, Nalgonda who relat ed how she \n",
            "weaned her father away from smoking after imbibing the spirit of  the 10 point oath from \n",
            "the Lead India Training Camp. This gives me an assurance that the  youth of our country \n",
            "are on the right path \n",
            "through this mission oriented programme. With the ignited minds of the  540 million \n",
            "youth below the age of 25, which I consider is the most powerful resour ce on the earth, \n",
            "under the earth and above the earth, we have to empower the youth through va lue based \n",
            "education and leadership. \n",
            " \n",
            "Conclusion \n",
            "I was touched by the variety of Indian panorama, emotional content of  the tune, cultural \n",
            "diversity and unity of minds in the vast land of ours. I have cited thes e examples just to \n",
            "give a glimpse of the richness of our tradition and effort being take n by different agencies to preserve it. There are also many new adventures by instituti ons and individuals. I have \n",
            "experienced many of them and learnt a lot about my country and our peopl e. Even while \n",
            "pursuing our economic growth, we need to do a lot to preserve the rich and diverse \n",
            "treasures of our culture and civilization. It is our duty for our fut ure generations. This has \n",
            "to be done in a much larger scale through countrywide participatio n of multiple \n",
            "institutions. Our country is blessed with natural resources, has shown c onsiderable \n",
            "progress in the last sixty years, and above all we have hard wor king people particularly \n",
            "the power of the 540 million youth of the country. Every sector of our count ry has given \n",
            "me the \n",
            "confidence that India can become a developed nation well before 2020. Whomsoeve r, I \n",
            "met they constantly ask what they can give to the nation. We should c onstantly strive to \n",
            "empower such members of the society. With this spirit, I am extr emely happy that we are \n",
            "on the right path. Here I am reminded of a famous poem: \n",
            "\"When you wish upon a star, \n",
            "Makes no difference who you are, \n",
            "Anything your heart desires, \n",
            "Will come to you” \n",
            "This poem is true to all of us, and particularly for our youth and i f they aim great, I am \n",
            "sure they will reach close to the target or the target. \n",
            " \n",
            "My dear citizens, let us resolve to continue to work for realizing the missions of \n",
            "developed India 2020 with the following distinctive profile. \n",
            " \n",
            "1. A Nation where the rural and urban divide has reduced to a thin line. \n",
            " \n",
            "2. A Nation where there is an equitable distribution and adequate acce ss to energy and \n",
            "quality water. \n",
            " \n",
            "3. A Nation where agriculture, industry and service sector work together in sym phony. \n",
            " \n",
            "4. A Nation where education with value system is not denied to any meritorious \n",
            "candidates because of societal or economic discrimination. \n",
            " \n",
            "5. A Nation which is the best destination for the most talented s cholars, scientists, and \n",
            "investors. \n",
            " \n",
            "6. A Nation where the best of health care is available to all. \n",
            " \n",
            "7. A Nation where the governance is responsive, transparent and corruption free. \n",
            " \n",
            "8. A Nation where poverty has been totally eradicated, illiterac y removed and crimes \n",
            "against women and children are absent and none in the society feels alienated. \n",
            " \n",
            "9. A Nation that is prosperous, healthy, secure, peaceful and happy a nd continues with a \n",
            "sustainable growth path. \n",
            " 10. A Nation that is one of the best places to live in and is proud of its leadership. \n",
            " \n",
            "Finally let me thank each one of you for showering your love and aff ection on me \n",
            "throughout the last five years by your cooperation and support. \n",
            " \n",
            "Dear Citizens, I conclude my address by sharing with you my mission in life which is to \n",
            "bring connectivity between billion hearts and minds of the people of Indi a in our \n",
            "multicultural society and to embed the self confidence that \"we c an do it\". I will be \n",
            "always with you, dear citizens, in the great mission of making Indi a a developed nation \n",
            "before 2020. \n",
            " \n",
            "May God bless you. \n",
            " \n",
            "Jai hind. \n",
            "Dr. A. P. J. Abdul Kalam \n",
            "www.presidentofindia.nic.in\n",
            "------------\n",
            "Given the new context, refine the original summary.\n",
            "If the context isn't useful, return the original summary.\u001b[0m\n",
            "\n",
            "\u001b[1m> Finished chain.\u001b[0m\n",
            "\n",
            "\u001b[1m> Finished chain.\u001b[0m\n"
          ]
        }
      ]
    },
    {
      "cell_type": "code",
      "source": [
        "output_summary"
      ],
      "metadata": {
        "id": "D8WiRJKJclkj",
        "colab": {
          "base_uri": "https://localhost:8080/"
        },
        "outputId": "cf645a04-e190-4ffa-d0d6-e9d610e2606e"
      },
      "execution_count": 63,
      "outputs": [
        {
          "output_type": "execute_result",
          "data": {
            "text/plain": [
              "{'input_documents': [Document(metadata={}, page_content='A P J Abdul Kalam Departing speech \\n \\n \\nFriends, I am delighted to address you all, in the country and those livi ng abroad, after \\nworking with you and completing five beautiful and eventful years in Rashtrapati \\nBhavan. Today, it is indeed a thanks giving occasion. I would like to narr ate, how I \\nenjoyed every minute of my tenure enriched by the wonderful assoc iation from each one \\nof you, hailing from different walks of life, be it politics, sci ence and technology, \\nacademics, arts, literature, business, judiciary, administration, local bodies, farming, \\nhome makers, special children, media and above all from the youth and st udent \\ncommunity who are the future wealth of our country. During my intera ction at \\nRashtrapati Bhavan in Delhi and at every state and union territor y as well as through my \\nonline interactions, I have many unique experiences to share with you, which signify the \\nfollowing important messages: \\n \\n1. Accelerate development : Aspiration of the youth, \\n \\n2. Empower villages, \\n \\n3. Mobilize rural core competence for competitiveness, \\n \\n4. Seed to Food: Backbone for agricultural growth \\n \\n5. Defeat problems and succeed, \\n \\n6. Overcome problems through partnership, \\n \\n7. Courage in combating calamities, \\n \\n8. Connectivity for societal transformation, \\n \\n9. Defending the nation: Our pride and \\n \\n10. Youth movement for Developed India 2020. \\n \\nNow let me share with you each of the messages. \\n \\nAccelerate Development: Aspiration of the youth \\nWhile there were many significant events during my tenure, a que stion from a little girl \\nAnukriti of Sri Sathya Sai Jagriti Vidya Mandir School, of Dar wa village from Haryana, \\nduring children’s visit to Rashtrapati Bhavan on May 22, 2006, rings in my  mind ever \\nafter. \\n \\nAnukriti asked me “why India cannot become a developed nation before the year 2020”. I \\nappreciated the question and said it was indeed a thoughtful question and as sured her that \\nthat her dream would be taken to the highest institution of the nation and we would work for it to achieve before 2020. This question reflects how the desire t o live in developed \\nIndia has entered into the minds of the youth. The same feelings are  echoed by over \\nfifteen lakh youth, whom I have met so far and who represent the drea m of the 540 \\nmillion youth of the nation. The aspirations of the young to live in a prosperous, safe and \\nproud India should be the guiding factor in whatever profession we contribute. \\n \\nEmpower Villages \\nFriends, I recall my visit to Nagaland on 26th October 2002, soon after m y assuming \\noffice as President. It was a unique experience for me at Khuza ma village to meet tribal \\nvillage council members and discuss with them the village progress  and the dream of \\nvillage citizens. I was very happy to see the empowered village  council functioning with \\nfinancial powers and taking decisions. I saw a prosperous village with fruits and \\nvegetables production. However, there is a need for providing physical c onnectivity in \\nNagaland through quality roads for enabling faster movement of produ cts from villages \\nto the market. That meeting gave me a powerful message about the t ransformation which \\ncan take place to the 600,000 villages of India, if all the villages a re empowered to deal \\nwith their development and are well connected among themselves and wit h the urban \\nsocieties. \\n \\nMobilizing rural core competence for competitiveness \\nNow I would like to talk about the initiative of Periyar Maniammai  College of \\nTechnology for Women, Vallam, Tanjore of Providing Urban Amenities in Rural Areas \\n(PURA) complex involving 65 villages with a population of 3 lakhs. This inc ludes \\nprovision of three connectivities - physical, electronic and knowledge  - leading to \\neconomic connectivity. Periyar PURA has health care centers, pr imary to post graduate \\nlevel education and vocational training centers. This has resulted i n large-scale \\nemployment generation and creation of number of entrepreneurs with the  active support \\nof 1000 self-help groups. Two hundred acres of waste land has been develope d into a \\ncultivable land. The villagers are busy in cultivation, planting Jatropha, herbal and \\nmedicinal plants, power generation using bio-mass, food processing and above all \\nrunning marketing centers. It provides a sustainable economic developm ent model for the \\nwhole region. \\n \\nDuring the last eight months, people of Periyar PURA villages technologically supported \\nby Periyar Maniammai College of Engineering for Women have w orked with experts \\nfrom Japan External Trade Organisation (JETRO) on various products, for  which core \\ncompetence and raw material are available in Thanjavur district. They developed \\ninternationally competitive prototypes for 55 life style products wi th support of JETRO \\nspecialists and feedback from exhibitions at Delhi and Tokyo. This co -operative venture \\nhas enhanced the innovative ability of the people of all the 65 villages  enabling them to \\ndevelop and produce internationally acceptable products. I have seen si milar type of \\nPURA being established in many states. The whole country needs 7000 PU RA to \\nbridging the rural – urban divide. \\n \\nSeed to Food: Backbone for agricultural growth Let me now share with you, the enriching experience I had, whil e meeting more than \\n6000 farmers from different States and Union Territories visitin g Rashtrapati Bhavan. \\nThey evinced keen interest in the Mughal Gardens, the Herbal Gardens , the Spiritual \\nGarden, the Musical Garden, the Bio-diesel garden and the Nutrition Garden and interact \\nwith the Horticultural specialists. Recently, during my address to the agricultural \\nscientists while participating in a National Symposium on “Agri culture Cannot Wait”, I \\nsummarized the many practical suggestions given by farmers. W e have to double the \\nagricultural production with reduced land, reduced water resources and re duced \\nmanpower and improve the economic conditions of the nation through the principle  of \\n“Seed to Food” since agriculture is the backbone of the nation. We should em power the \\nfarmers to protect and nurture the fertile land for second green re volution. Meeting the \\nScientists and the Farmers has given me the confidence \\nthat the nation is poised to increase the agricultural GDP growth by atleast 4% per annum \\nthrough the partnership of farmers and agricultural scientists a nd industries particularly \\nfor value addition. \\n \\nDefeat the problems and succeed \\nOn the evening of February 24, 2007, at Coimbatore, I had a very beautif ul experience. \\nAs I got ready for meeting the first person out of twenty appoint ments, a wheel chair was \\nin sight with a smiling person probably in his late fifties; unfortunately he has no hands \\nand legs. His radiant face was revealing his happy state of mi nd. He introduced himself \\nas Vidwan Coimbatore SR Krishna Murthy. I greeted him and asked him  how this had \\nhappened. He smilingly said that it was from by birth. He thanked G od, his parents, \\nteachers and many others for giving him confidence, training and he lp. I asked him, what \\nI could do for him? He said, “I don’t need anything from you. I would like to sing in fr ont \\nof you”. I readily agreed. He sang melodiously the Saint Thyagraj a’s pancha ratna kriti \\nentharo mahanubavulu in Sriragam giving me a glimpse of his talent. I was quite  touched. \\nWhat is the message? Despite being physically challenged, the latent talent of music \\ncould blossom in this \\nperson with his positive attitude and perseverance, encouraged by the pa rents, teachers, \\nacademics and rasikas. Now he wants to give, give and give his art to inspire others. Of \\ncourse, by his merit of music, in July 2007, he performed in the Rashtra pati Bhavan art \\ntheatre. \\n \\nOvercome the impact of disaster through partnership \\nI had the opportunity to experience the Indomitable Spirit of the people  and children of \\nJammu & Kashmir even as they were just recovering from the de vastating earthquake in \\n2005. I visited Urusa village on 26th November 2005 which has been adopted by the  \\nWestern Air Command, Air Force for providing relief and medical aid to the residents of \\nthat area. When I went there, I found that the school building had been severely  damaged. \\nI met all the school children and the village citizen of Urusa. T he villagers apprised me of \\ntheir losses and had all praise for Army and Air Force role in rescue and relief operations \\nalong with state government. I appreciate the courage of the people of Urusa in defeating \\ntheir problems. They have actually become the master of the probl em rather than \\nallowing problems to become their master. Despite the severe l oss due to the earthquake, the children and the members of the village participated in the reli ef operation with the \\nArmed Forces \\nbravely and were smiling when I went to meet them. They interact ed with me and said \\nthat the school was functional in the temporary tents. Here, I also witnessed the \\nparticipation of acting Chief Justice of Jammu & Kashmir along with State Government \\nauthorities in on-the-spot settlement of relief grants to be provide d to the victims whose \\nhouses had been damaged in the earth quake. I have experienced many s uch acts of \\ncourage from our citizens when faced with severe challenges. \\n \\nCourage in combating calamities \\nIn 2005, I met the Tribal Council Leaders, Students, Children of Chuckchucha  village \\nduring my visit to Car Nicobar Islands. While various reconstruction a nd rehabilitation \\nactivities were in progress, during the discussions with the members  of tribal council, I \\nrealized the unique trait among the Car-Nicobar islanders. Even thoug h there were many \\nhuman losses due to the Tsunami of 26 Dec 2004, the tribal islanders had  taken \\npossession of affected victims as their children and there is nothi ng like orphanage in \\nCar-Nicobar Islands. Touched by their courage, I composed few vers es called “Sea'),\n",
              "  Document(metadata={}, page_content='Waves” which reads as follows: \\nSea Waves \\n \\nWe are the children of Sea waves, \\nSea waves are my friends. \\nWhen they become angry, \\nSea waves give the challenges. \\nGod has given the courage, \\nTo challenge the sea waves. \\nAnd we will succeed, \\nWe will succeed \\nWith Almighty’s grace. \\nAll the members who were gathered in the village sang the poem  with me and exhibited \\nlots of courage and enthusiasm even though they had gone through severe  suffering \\nduring the Tsunami. \\n \\nConnectivity for societal transformation \\nI addressed the Pan African Parliament on 16 September 2004, at Johanne sburg, South \\nAfrica. This was attended by 53 member countries of the Africa n Union, where I \\nproposed the concept of Pan African e-Network for providing seamless and integrated \\nsatellite, fiber optics and wireless network connecting 53 African countries at an \\nestimated cost of US $ 100 million. \\n \\nAs part of the project 12 universities (7 from India and 5 from Afri ca), 17 Super \\nSpecialty Hospitals (12 from India and 5 from Africa), 53 tele-me dicine centers and 53 \\ntele-education centres in Africa will be connected. The pilot proj ect on tele-education and \\ntele-medicine in Ethiopia has already been commissioned. Indira Gandh i National Open \\nUniversity has taken up the MBA Course for 34 Ethiopian students of Addis  Ababa and \\nHarmaya Universities. As regards, tele-medicine, the special ists from CARE Hospital, Hyderabad are providing one-hour live tele-consultation to doctors in B lack Lion \\nHospital, Addis Ababa in Cardiology and Radiology since November 2006. Using the \\nPan African network the Heads of the State in all the 53 countries  will be connected for \\ninstant communication. I am extremely happy that Indian experience  in bringing the \\nbenefits of technology to the people has enabled us to work with Afric a to bring societal \\ntransformation in the African continent. \\n \\nDefending the nation: Our pride \\nI visited KUMAR in Siachen Glacier located at 17,000 feet altitude  held by the Indian \\nArmy, had a memorable underwater journey in INS Sindhurakshak and flew  in a Sukhoi-\\n30 fighter experiencing 2.5 g. In these three experiences, I personal ly felt proud of our \\never vigilant Soldiers, Sailors and Air Warriors performing their  tasks beyond the call of \\ntheir duty even in the most adverse circumstances natural and man m ade. During the last \\nfive years, I had an opportunity to present colours to many regime nts, participate in \\nnumber of passing out parades, meet the troops who were going to undertake  peace \\nmissions and interact with the family members of our Defence F orces. Our Defence \\nForces are in a beautiful mission. When the nation sleeps during night , Members of our \\nDefence teams are awake to guard us and remain vigilant to counte r any threat. The \\nNation cherishes the valour, commitment and devotion to duty of our Defenc e Forces. \\nSimilarly, I had opportunities to interact \\nwith members of our para-military forces, central and state poli ce personnel including \\ninternal security forces who are making immense contribution in au gmenting the safety \\nand security of our citizens under difficult conditions. \\n \\nYouth movement for Developed India 2020 \\nRecently, in Hyderabad, I met a group of citizens who are putting i nto practice the motto \\nof transforming of our youth into enlightened citizen. The Lead India 2020 Found ation \\ncreated by Dr. N.B. Sudershan at Hyderabad is training thousands of s tudents in many \\ndistricts of Andhra Pradesh in partnership with the District Adm inistration. Particularly, I \\nhappened to know the transformation which has taken place among the students  of \\nMedak district. As per the district authorities the impact of the  training on the students is \\nvisible in terms of self-discipline, love for their parents and tea chers shedding of stage \\nfear and recognition of their duties towards the nation. I talke d to Ms. Padma, a student \\nleader from Andhra Pradesh Tribal Welfare School, Nalgonda who relat ed how she \\nweaned her father away from smoking after imbibing the spirit of  the 10 point oath from \\nthe Lead India Training Camp. This gives me an assurance that the  youth of our country \\nare on the right path \\nthrough this mission oriented programme. With the ignited minds of the  540 million \\nyouth below the age of 25, which I consider is the most powerful resour ce on the earth, \\nunder the earth and above the earth, we have to empower the youth through va lue based \\neducation and leadership. \\n \\nConclusion \\nI was touched by the variety of Indian panorama, emotional content of  the tune, cultural \\ndiversity and unity of minds in the vast land of ours. I have cited thes e examples just to \\ngive a glimpse of the richness of our tradition and effort being take n by different agencies to preserve it. There are also many new adventures by instituti ons and individuals. I have \\nexperienced many of them and learnt a lot about my country and our peopl e. Even while \\npursuing our economic growth, we need to do a lot to preserve the rich and diverse \\ntreasures of our culture and civilization. It is our duty for our fut ure generations. This has \\nto be done in a much larger scale through countrywide participatio n of multiple \\ninstitutions. Our country is blessed with natural resources, has shown c onsiderable \\nprogress in the last sixty years, and above all we have hard wor king people particularly \\nthe power of the 540 million youth of the country. Every sector of our count ry has given \\nme the \\nconfidence that India can become a developed nation well before 2020. Whomsoeve r, I \\nmet they constantly ask what they can give to the nation. We should c onstantly strive to \\nempower such members of the society. With this spirit, I am extr emely happy that we are \\non the right path. Here I am reminded of a famous poem: \\n\"When you wish upon a star, \\nMakes no difference who you are, \\nAnything your heart desires, \\nWill come to you” \\nThis poem is true to all of us, and particularly for our youth and i f they aim great, I am \\nsure they will reach close to the target or the target. \\n \\nMy dear citizens, let us resolve to continue to work for realizing the missions of \\ndeveloped India 2020 with the following distinctive profile. \\n \\n1. A Nation where the rural and urban divide has reduced to a thin line. \\n \\n2. A Nation where there is an equitable distribution and adequate acce ss to energy and \\nquality water. \\n \\n3. A Nation where agriculture, industry and service sector work together in sym phony. \\n \\n4. A Nation where education with value system is not denied to any meritorious \\ncandidates because of societal or economic discrimination. \\n \\n5. A Nation which is the best destination for the most talented s cholars, scientists, and \\ninvestors. \\n \\n6. A Nation where the best of health care is available to all. \\n \\n7. A Nation where the governance is responsive, transparent and corruption free. \\n \\n8. A Nation where poverty has been totally eradicated, illiterac y removed and crimes \\nagainst women and children are absent and none in the society feels alienated. \\n \\n9. A Nation that is prosperous, healthy, secure, peaceful and happy a nd continues with a \\nsustainable growth path. \\n 10. A Nation that is one of the best places to live in and is proud of its leadership. \\n \\nFinally let me thank each one of you for showering your love and aff ection on me \\nthroughout the last five years by your cooperation and support. \\n \\nDear Citizens, I conclude my address by sharing with you my mission in life which is to \\nbring connectivity between billion hearts and minds of the people of Indi a in our \\nmulticultural society and to embed the self confidence that \"we c an do it\". I will be \\nalways with you, dear citizens, in the great mission of making Indi a a developed nation \\nbefore 2020. \\n \\nMay God bless you. \\n \\nJai hind. \\nDr. A. P. J. Abdul Kalam \\nwww.presidentofindia.nic.in')],\n",
              " 'output_text': 'In his departing speech, A P J Abdul Kalam reflects on his five years as President, highlighting key messages such as accelerating development, empowering villages, mobilizing rural core competence, and overcoming challenges through partnership. He shares experiences from interactions with youth, farmers, physically challenged individuals, and communities affected by disasters, emphasizing the importance of aspiration, perseverance, and courage in achieving national growth and development. Additionally, he discusses initiatives such as the Pan African e-Network for societal transformation, his experiences defending the nation, and the Youth movement for Developed India 2020. Kalam expresses his admiration for the diversity and unity of India, emphasizing the need to preserve cultural treasures while pursuing economic growth. He envisions a developed India by 2020 with a focus on reducing rural-urban divide, equitable access to energy and water, collaboration between sectors, inclusive education, healthcare for all, transparent governance, eradication of poverty and illiteracy, and a prosperous, peaceful society. Kalam concludes with a message of unity and self-confidence, expressing his commitment to the mission of making India a developed nation before 2020.'}"
            ]
          },
          "metadata": {},
          "execution_count": 63
        }
      ]
    },
    {
      "cell_type": "code",
      "source": [
        "print(output_summary)"
      ],
      "metadata": {
        "colab": {
          "base_uri": "https://localhost:8080/"
        },
        "id": "0WTszGiheyZg",
        "outputId": "4bc2bea0-c466-4d5c-aa52-d2987c9193bc"
      },
      "execution_count": 64,
      "outputs": [
        {
          "output_type": "stream",
          "name": "stdout",
          "text": [
            "{'input_documents': [Document(metadata={}, page_content='A P J Abdul Kalam Departing speech \\n \\n \\nFriends, I am delighted to address you all, in the country and those livi ng abroad, after \\nworking with you and completing five beautiful and eventful years in Rashtrapati \\nBhavan. Today, it is indeed a thanks giving occasion. I would like to narr ate, how I \\nenjoyed every minute of my tenure enriched by the wonderful assoc iation from each one \\nof you, hailing from different walks of life, be it politics, sci ence and technology, \\nacademics, arts, literature, business, judiciary, administration, local bodies, farming, \\nhome makers, special children, media and above all from the youth and st udent \\ncommunity who are the future wealth of our country. During my intera ction at \\nRashtrapati Bhavan in Delhi and at every state and union territor y as well as through my \\nonline interactions, I have many unique experiences to share with you, which signify the \\nfollowing important messages: \\n \\n1. Accelerate development : Aspiration of the youth, \\n \\n2. Empower villages, \\n \\n3. Mobilize rural core competence for competitiveness, \\n \\n4. Seed to Food: Backbone for agricultural growth \\n \\n5. Defeat problems and succeed, \\n \\n6. Overcome problems through partnership, \\n \\n7. Courage in combating calamities, \\n \\n8. Connectivity for societal transformation, \\n \\n9. Defending the nation: Our pride and \\n \\n10. Youth movement for Developed India 2020. \\n \\nNow let me share with you each of the messages. \\n \\nAccelerate Development: Aspiration of the youth \\nWhile there were many significant events during my tenure, a que stion from a little girl \\nAnukriti of Sri Sathya Sai Jagriti Vidya Mandir School, of Dar wa village from Haryana, \\nduring children’s visit to Rashtrapati Bhavan on May 22, 2006, rings in my  mind ever \\nafter. \\n \\nAnukriti asked me “why India cannot become a developed nation before the year 2020”. I \\nappreciated the question and said it was indeed a thoughtful question and as sured her that \\nthat her dream would be taken to the highest institution of the nation and we would work for it to achieve before 2020. This question reflects how the desire t o live in developed \\nIndia has entered into the minds of the youth. The same feelings are  echoed by over \\nfifteen lakh youth, whom I have met so far and who represent the drea m of the 540 \\nmillion youth of the nation. The aspirations of the young to live in a prosperous, safe and \\nproud India should be the guiding factor in whatever profession we contribute. \\n \\nEmpower Villages \\nFriends, I recall my visit to Nagaland on 26th October 2002, soon after m y assuming \\noffice as President. It was a unique experience for me at Khuza ma village to meet tribal \\nvillage council members and discuss with them the village progress  and the dream of \\nvillage citizens. I was very happy to see the empowered village  council functioning with \\nfinancial powers and taking decisions. I saw a prosperous village with fruits and \\nvegetables production. However, there is a need for providing physical c onnectivity in \\nNagaland through quality roads for enabling faster movement of produ cts from villages \\nto the market. That meeting gave me a powerful message about the t ransformation which \\ncan take place to the 600,000 villages of India, if all the villages a re empowered to deal \\nwith their development and are well connected among themselves and wit h the urban \\nsocieties. \\n \\nMobilizing rural core competence for competitiveness \\nNow I would like to talk about the initiative of Periyar Maniammai  College of \\nTechnology for Women, Vallam, Tanjore of Providing Urban Amenities in Rural Areas \\n(PURA) complex involving 65 villages with a population of 3 lakhs. This inc ludes \\nprovision of three connectivities - physical, electronic and knowledge  - leading to \\neconomic connectivity. Periyar PURA has health care centers, pr imary to post graduate \\nlevel education and vocational training centers. This has resulted i n large-scale \\nemployment generation and creation of number of entrepreneurs with the  active support \\nof 1000 self-help groups. Two hundred acres of waste land has been develope d into a \\ncultivable land. The villagers are busy in cultivation, planting Jatropha, herbal and \\nmedicinal plants, power generation using bio-mass, food processing and above all \\nrunning marketing centers. It provides a sustainable economic developm ent model for the \\nwhole region. \\n \\nDuring the last eight months, people of Periyar PURA villages technologically supported \\nby Periyar Maniammai College of Engineering for Women have w orked with experts \\nfrom Japan External Trade Organisation (JETRO) on various products, for  which core \\ncompetence and raw material are available in Thanjavur district. They developed \\ninternationally competitive prototypes for 55 life style products wi th support of JETRO \\nspecialists and feedback from exhibitions at Delhi and Tokyo. This co -operative venture \\nhas enhanced the innovative ability of the people of all the 65 villages  enabling them to \\ndevelop and produce internationally acceptable products. I have seen si milar type of \\nPURA being established in many states. The whole country needs 7000 PU RA to \\nbridging the rural – urban divide. \\n \\nSeed to Food: Backbone for agricultural growth Let me now share with you, the enriching experience I had, whil e meeting more than \\n6000 farmers from different States and Union Territories visitin g Rashtrapati Bhavan. \\nThey evinced keen interest in the Mughal Gardens, the Herbal Gardens , the Spiritual \\nGarden, the Musical Garden, the Bio-diesel garden and the Nutrition Garden and interact \\nwith the Horticultural specialists. Recently, during my address to the agricultural \\nscientists while participating in a National Symposium on “Agri culture Cannot Wait”, I \\nsummarized the many practical suggestions given by farmers. W e have to double the \\nagricultural production with reduced land, reduced water resources and re duced \\nmanpower and improve the economic conditions of the nation through the principle  of \\n“Seed to Food” since agriculture is the backbone of the nation. We should em power the \\nfarmers to protect and nurture the fertile land for second green re volution. Meeting the \\nScientists and the Farmers has given me the confidence \\nthat the nation is poised to increase the agricultural GDP growth by atleast 4% per annum \\nthrough the partnership of farmers and agricultural scientists a nd industries particularly \\nfor value addition. \\n \\nDefeat the problems and succeed \\nOn the evening of February 24, 2007, at Coimbatore, I had a very beautif ul experience. \\nAs I got ready for meeting the first person out of twenty appoint ments, a wheel chair was \\nin sight with a smiling person probably in his late fifties; unfortunately he has no hands \\nand legs. His radiant face was revealing his happy state of mi nd. He introduced himself \\nas Vidwan Coimbatore SR Krishna Murthy. I greeted him and asked him  how this had \\nhappened. He smilingly said that it was from by birth. He thanked G od, his parents, \\nteachers and many others for giving him confidence, training and he lp. I asked him, what \\nI could do for him? He said, “I don’t need anything from you. I would like to sing in fr ont \\nof you”. I readily agreed. He sang melodiously the Saint Thyagraj a’s pancha ratna kriti \\nentharo mahanubavulu in Sriragam giving me a glimpse of his talent. I was quite  touched. \\nWhat is the message? Despite being physically challenged, the latent talent of music \\ncould blossom in this \\nperson with his positive attitude and perseverance, encouraged by the pa rents, teachers, \\nacademics and rasikas. Now he wants to give, give and give his art to inspire others. Of \\ncourse, by his merit of music, in July 2007, he performed in the Rashtra pati Bhavan art \\ntheatre. \\n \\nOvercome the impact of disaster through partnership \\nI had the opportunity to experience the Indomitable Spirit of the people  and children of \\nJammu & Kashmir even as they were just recovering from the de vastating earthquake in \\n2005. I visited Urusa village on 26th November 2005 which has been adopted by the  \\nWestern Air Command, Air Force for providing relief and medical aid to the residents of \\nthat area. When I went there, I found that the school building had been severely  damaged. \\nI met all the school children and the village citizen of Urusa. T he villagers apprised me of \\ntheir losses and had all praise for Army and Air Force role in rescue and relief operations \\nalong with state government. I appreciate the courage of the people of Urusa in defeating \\ntheir problems. They have actually become the master of the probl em rather than \\nallowing problems to become their master. Despite the severe l oss due to the earthquake, the children and the members of the village participated in the reli ef operation with the \\nArmed Forces \\nbravely and were smiling when I went to meet them. They interact ed with me and said \\nthat the school was functional in the temporary tents. Here, I also witnessed the \\nparticipation of acting Chief Justice of Jammu & Kashmir along with State Government \\nauthorities in on-the-spot settlement of relief grants to be provide d to the victims whose \\nhouses had been damaged in the earth quake. I have experienced many s uch acts of \\ncourage from our citizens when faced with severe challenges. \\n \\nCourage in combating calamities \\nIn 2005, I met the Tribal Council Leaders, Students, Children of Chuckchucha  village \\nduring my visit to Car Nicobar Islands. While various reconstruction a nd rehabilitation \\nactivities were in progress, during the discussions with the members  of tribal council, I \\nrealized the unique trait among the Car-Nicobar islanders. Even thoug h there were many \\nhuman losses due to the Tsunami of 26 Dec 2004, the tribal islanders had  taken \\npossession of affected victims as their children and there is nothi ng like orphanage in \\nCar-Nicobar Islands. Touched by their courage, I composed few vers es called “Sea'), Document(metadata={}, page_content='Waves” which reads as follows: \\nSea Waves \\n \\nWe are the children of Sea waves, \\nSea waves are my friends. \\nWhen they become angry, \\nSea waves give the challenges. \\nGod has given the courage, \\nTo challenge the sea waves. \\nAnd we will succeed, \\nWe will succeed \\nWith Almighty’s grace. \\nAll the members who were gathered in the village sang the poem  with me and exhibited \\nlots of courage and enthusiasm even though they had gone through severe  suffering \\nduring the Tsunami. \\n \\nConnectivity for societal transformation \\nI addressed the Pan African Parliament on 16 September 2004, at Johanne sburg, South \\nAfrica. This was attended by 53 member countries of the Africa n Union, where I \\nproposed the concept of Pan African e-Network for providing seamless and integrated \\nsatellite, fiber optics and wireless network connecting 53 African countries at an \\nestimated cost of US $ 100 million. \\n \\nAs part of the project 12 universities (7 from India and 5 from Afri ca), 17 Super \\nSpecialty Hospitals (12 from India and 5 from Africa), 53 tele-me dicine centers and 53 \\ntele-education centres in Africa will be connected. The pilot proj ect on tele-education and \\ntele-medicine in Ethiopia has already been commissioned. Indira Gandh i National Open \\nUniversity has taken up the MBA Course for 34 Ethiopian students of Addis  Ababa and \\nHarmaya Universities. As regards, tele-medicine, the special ists from CARE Hospital, Hyderabad are providing one-hour live tele-consultation to doctors in B lack Lion \\nHospital, Addis Ababa in Cardiology and Radiology since November 2006. Using the \\nPan African network the Heads of the State in all the 53 countries  will be connected for \\ninstant communication. I am extremely happy that Indian experience  in bringing the \\nbenefits of technology to the people has enabled us to work with Afric a to bring societal \\ntransformation in the African continent. \\n \\nDefending the nation: Our pride \\nI visited KUMAR in Siachen Glacier located at 17,000 feet altitude  held by the Indian \\nArmy, had a memorable underwater journey in INS Sindhurakshak and flew  in a Sukhoi-\\n30 fighter experiencing 2.5 g. In these three experiences, I personal ly felt proud of our \\never vigilant Soldiers, Sailors and Air Warriors performing their  tasks beyond the call of \\ntheir duty even in the most adverse circumstances natural and man m ade. During the last \\nfive years, I had an opportunity to present colours to many regime nts, participate in \\nnumber of passing out parades, meet the troops who were going to undertake  peace \\nmissions and interact with the family members of our Defence F orces. Our Defence \\nForces are in a beautiful mission. When the nation sleeps during night , Members of our \\nDefence teams are awake to guard us and remain vigilant to counte r any threat. The \\nNation cherishes the valour, commitment and devotion to duty of our Defenc e Forces. \\nSimilarly, I had opportunities to interact \\nwith members of our para-military forces, central and state poli ce personnel including \\ninternal security forces who are making immense contribution in au gmenting the safety \\nand security of our citizens under difficult conditions. \\n \\nYouth movement for Developed India 2020 \\nRecently, in Hyderabad, I met a group of citizens who are putting i nto practice the motto \\nof transforming of our youth into enlightened citizen. The Lead India 2020 Found ation \\ncreated by Dr. N.B. Sudershan at Hyderabad is training thousands of s tudents in many \\ndistricts of Andhra Pradesh in partnership with the District Adm inistration. Particularly, I \\nhappened to know the transformation which has taken place among the students  of \\nMedak district. As per the district authorities the impact of the  training on the students is \\nvisible in terms of self-discipline, love for their parents and tea chers shedding of stage \\nfear and recognition of their duties towards the nation. I talke d to Ms. Padma, a student \\nleader from Andhra Pradesh Tribal Welfare School, Nalgonda who relat ed how she \\nweaned her father away from smoking after imbibing the spirit of  the 10 point oath from \\nthe Lead India Training Camp. This gives me an assurance that the  youth of our country \\nare on the right path \\nthrough this mission oriented programme. With the ignited minds of the  540 million \\nyouth below the age of 25, which I consider is the most powerful resour ce on the earth, \\nunder the earth and above the earth, we have to empower the youth through va lue based \\neducation and leadership. \\n \\nConclusion \\nI was touched by the variety of Indian panorama, emotional content of  the tune, cultural \\ndiversity and unity of minds in the vast land of ours. I have cited thes e examples just to \\ngive a glimpse of the richness of our tradition and effort being take n by different agencies to preserve it. There are also many new adventures by instituti ons and individuals. I have \\nexperienced many of them and learnt a lot about my country and our peopl e. Even while \\npursuing our economic growth, we need to do a lot to preserve the rich and diverse \\ntreasures of our culture and civilization. It is our duty for our fut ure generations. This has \\nto be done in a much larger scale through countrywide participatio n of multiple \\ninstitutions. Our country is blessed with natural resources, has shown c onsiderable \\nprogress in the last sixty years, and above all we have hard wor king people particularly \\nthe power of the 540 million youth of the country. Every sector of our count ry has given \\nme the \\nconfidence that India can become a developed nation well before 2020. Whomsoeve r, I \\nmet they constantly ask what they can give to the nation. We should c onstantly strive to \\nempower such members of the society. With this spirit, I am extr emely happy that we are \\non the right path. Here I am reminded of a famous poem: \\n\"When you wish upon a star, \\nMakes no difference who you are, \\nAnything your heart desires, \\nWill come to you” \\nThis poem is true to all of us, and particularly for our youth and i f they aim great, I am \\nsure they will reach close to the target or the target. \\n \\nMy dear citizens, let us resolve to continue to work for realizing the missions of \\ndeveloped India 2020 with the following distinctive profile. \\n \\n1. A Nation where the rural and urban divide has reduced to a thin line. \\n \\n2. A Nation where there is an equitable distribution and adequate acce ss to energy and \\nquality water. \\n \\n3. A Nation where agriculture, industry and service sector work together in sym phony. \\n \\n4. A Nation where education with value system is not denied to any meritorious \\ncandidates because of societal or economic discrimination. \\n \\n5. A Nation which is the best destination for the most talented s cholars, scientists, and \\ninvestors. \\n \\n6. A Nation where the best of health care is available to all. \\n \\n7. A Nation where the governance is responsive, transparent and corruption free. \\n \\n8. A Nation where poverty has been totally eradicated, illiterac y removed and crimes \\nagainst women and children are absent and none in the society feels alienated. \\n \\n9. A Nation that is prosperous, healthy, secure, peaceful and happy a nd continues with a \\nsustainable growth path. \\n 10. A Nation that is one of the best places to live in and is proud of its leadership. \\n \\nFinally let me thank each one of you for showering your love and aff ection on me \\nthroughout the last five years by your cooperation and support. \\n \\nDear Citizens, I conclude my address by sharing with you my mission in life which is to \\nbring connectivity between billion hearts and minds of the people of Indi a in our \\nmulticultural society and to embed the self confidence that \"we c an do it\". I will be \\nalways with you, dear citizens, in the great mission of making Indi a a developed nation \\nbefore 2020. \\n \\nMay God bless you. \\n \\nJai hind. \\nDr. A. P. J. Abdul Kalam \\nwww.presidentofindia.nic.in')], 'output_text': 'In his departing speech, A P J Abdul Kalam reflects on his five years as President, highlighting key messages such as accelerating development, empowering villages, mobilizing rural core competence, and overcoming challenges through partnership. He shares experiences from interactions with youth, farmers, physically challenged individuals, and communities affected by disasters, emphasizing the importance of aspiration, perseverance, and courage in achieving national growth and development. Additionally, he discusses initiatives such as the Pan African e-Network for societal transformation, his experiences defending the nation, and the Youth movement for Developed India 2020. Kalam expresses his admiration for the diversity and unity of India, emphasizing the need to preserve cultural treasures while pursuing economic growth. He envisions a developed India by 2020 with a focus on reducing rural-urban divide, equitable access to energy and water, collaboration between sectors, inclusive education, healthcare for all, transparent governance, eradication of poverty and illiteracy, and a prosperous, peaceful society. Kalam concludes with a message of unity and self-confidence, expressing his commitment to the mission of making India a developed nation before 2020.'}\n"
          ]
        }
      ]
    },
    {
      "cell_type": "code",
      "source": [
        "output_summary['input_documents']"
      ],
      "metadata": {
        "colab": {
          "base_uri": "https://localhost:8080/"
        },
        "id": "GhYMic73fQ8e",
        "outputId": "aca42e12-1487-46f0-872f-94de9c6fa6e0"
      },
      "execution_count": 68,
      "outputs": [
        {
          "output_type": "execute_result",
          "data": {
            "text/plain": [
              "[Document(metadata={}, page_content='A P J Abdul Kalam Departing speech \\n \\n \\nFriends, I am delighted to address you all, in the country and those livi ng abroad, after \\nworking with you and completing five beautiful and eventful years in Rashtrapati \\nBhavan. Today, it is indeed a thanks giving occasion. I would like to narr ate, how I \\nenjoyed every minute of my tenure enriched by the wonderful assoc iation from each one \\nof you, hailing from different walks of life, be it politics, sci ence and technology, \\nacademics, arts, literature, business, judiciary, administration, local bodies, farming, \\nhome makers, special children, media and above all from the youth and st udent \\ncommunity who are the future wealth of our country. During my intera ction at \\nRashtrapati Bhavan in Delhi and at every state and union territor y as well as through my \\nonline interactions, I have many unique experiences to share with you, which signify the \\nfollowing important messages: \\n \\n1. Accelerate development : Aspiration of the youth, \\n \\n2. Empower villages, \\n \\n3. Mobilize rural core competence for competitiveness, \\n \\n4. Seed to Food: Backbone for agricultural growth \\n \\n5. Defeat problems and succeed, \\n \\n6. Overcome problems through partnership, \\n \\n7. Courage in combating calamities, \\n \\n8. Connectivity for societal transformation, \\n \\n9. Defending the nation: Our pride and \\n \\n10. Youth movement for Developed India 2020. \\n \\nNow let me share with you each of the messages. \\n \\nAccelerate Development: Aspiration of the youth \\nWhile there were many significant events during my tenure, a que stion from a little girl \\nAnukriti of Sri Sathya Sai Jagriti Vidya Mandir School, of Dar wa village from Haryana, \\nduring children’s visit to Rashtrapati Bhavan on May 22, 2006, rings in my  mind ever \\nafter. \\n \\nAnukriti asked me “why India cannot become a developed nation before the year 2020”. I \\nappreciated the question and said it was indeed a thoughtful question and as sured her that \\nthat her dream would be taken to the highest institution of the nation and we would work for it to achieve before 2020. This question reflects how the desire t o live in developed \\nIndia has entered into the minds of the youth. The same feelings are  echoed by over \\nfifteen lakh youth, whom I have met so far and who represent the drea m of the 540 \\nmillion youth of the nation. The aspirations of the young to live in a prosperous, safe and \\nproud India should be the guiding factor in whatever profession we contribute. \\n \\nEmpower Villages \\nFriends, I recall my visit to Nagaland on 26th October 2002, soon after m y assuming \\noffice as President. It was a unique experience for me at Khuza ma village to meet tribal \\nvillage council members and discuss with them the village progress  and the dream of \\nvillage citizens. I was very happy to see the empowered village  council functioning with \\nfinancial powers and taking decisions. I saw a prosperous village with fruits and \\nvegetables production. However, there is a need for providing physical c onnectivity in \\nNagaland through quality roads for enabling faster movement of produ cts from villages \\nto the market. That meeting gave me a powerful message about the t ransformation which \\ncan take place to the 600,000 villages of India, if all the villages a re empowered to deal \\nwith their development and are well connected among themselves and wit h the urban \\nsocieties. \\n \\nMobilizing rural core competence for competitiveness \\nNow I would like to talk about the initiative of Periyar Maniammai  College of \\nTechnology for Women, Vallam, Tanjore of Providing Urban Amenities in Rural Areas \\n(PURA) complex involving 65 villages with a population of 3 lakhs. This inc ludes \\nprovision of three connectivities - physical, electronic and knowledge  - leading to \\neconomic connectivity. Periyar PURA has health care centers, pr imary to post graduate \\nlevel education and vocational training centers. This has resulted i n large-scale \\nemployment generation and creation of number of entrepreneurs with the  active support \\nof 1000 self-help groups. Two hundred acres of waste land has been develope d into a \\ncultivable land. The villagers are busy in cultivation, planting Jatropha, herbal and \\nmedicinal plants, power generation using bio-mass, food processing and above all \\nrunning marketing centers. It provides a sustainable economic developm ent model for the \\nwhole region. \\n \\nDuring the last eight months, people of Periyar PURA villages technologically supported \\nby Periyar Maniammai College of Engineering for Women have w orked with experts \\nfrom Japan External Trade Organisation (JETRO) on various products, for  which core \\ncompetence and raw material are available in Thanjavur district. They developed \\ninternationally competitive prototypes for 55 life style products wi th support of JETRO \\nspecialists and feedback from exhibitions at Delhi and Tokyo. This co -operative venture \\nhas enhanced the innovative ability of the people of all the 65 villages  enabling them to \\ndevelop and produce internationally acceptable products. I have seen si milar type of \\nPURA being established in many states. The whole country needs 7000 PU RA to \\nbridging the rural – urban divide. \\n \\nSeed to Food: Backbone for agricultural growth Let me now share with you, the enriching experience I had, whil e meeting more than \\n6000 farmers from different States and Union Territories visitin g Rashtrapati Bhavan. \\nThey evinced keen interest in the Mughal Gardens, the Herbal Gardens , the Spiritual \\nGarden, the Musical Garden, the Bio-diesel garden and the Nutrition Garden and interact \\nwith the Horticultural specialists. Recently, during my address to the agricultural \\nscientists while participating in a National Symposium on “Agri culture Cannot Wait”, I \\nsummarized the many practical suggestions given by farmers. W e have to double the \\nagricultural production with reduced land, reduced water resources and re duced \\nmanpower and improve the economic conditions of the nation through the principle  of \\n“Seed to Food” since agriculture is the backbone of the nation. We should em power the \\nfarmers to protect and nurture the fertile land for second green re volution. Meeting the \\nScientists and the Farmers has given me the confidence \\nthat the nation is poised to increase the agricultural GDP growth by atleast 4% per annum \\nthrough the partnership of farmers and agricultural scientists a nd industries particularly \\nfor value addition. \\n \\nDefeat the problems and succeed \\nOn the evening of February 24, 2007, at Coimbatore, I had a very beautif ul experience. \\nAs I got ready for meeting the first person out of twenty appoint ments, a wheel chair was \\nin sight with a smiling person probably in his late fifties; unfortunately he has no hands \\nand legs. His radiant face was revealing his happy state of mi nd. He introduced himself \\nas Vidwan Coimbatore SR Krishna Murthy. I greeted him and asked him  how this had \\nhappened. He smilingly said that it was from by birth. He thanked G od, his parents, \\nteachers and many others for giving him confidence, training and he lp. I asked him, what \\nI could do for him? He said, “I don’t need anything from you. I would like to sing in fr ont \\nof you”. I readily agreed. He sang melodiously the Saint Thyagraj a’s pancha ratna kriti \\nentharo mahanubavulu in Sriragam giving me a glimpse of his talent. I was quite  touched. \\nWhat is the message? Despite being physically challenged, the latent talent of music \\ncould blossom in this \\nperson with his positive attitude and perseverance, encouraged by the pa rents, teachers, \\nacademics and rasikas. Now he wants to give, give and give his art to inspire others. Of \\ncourse, by his merit of music, in July 2007, he performed in the Rashtra pati Bhavan art \\ntheatre. \\n \\nOvercome the impact of disaster through partnership \\nI had the opportunity to experience the Indomitable Spirit of the people  and children of \\nJammu & Kashmir even as they were just recovering from the de vastating earthquake in \\n2005. I visited Urusa village on 26th November 2005 which has been adopted by the  \\nWestern Air Command, Air Force for providing relief and medical aid to the residents of \\nthat area. When I went there, I found that the school building had been severely  damaged. \\nI met all the school children and the village citizen of Urusa. T he villagers apprised me of \\ntheir losses and had all praise for Army and Air Force role in rescue and relief operations \\nalong with state government. I appreciate the courage of the people of Urusa in defeating \\ntheir problems. They have actually become the master of the probl em rather than \\nallowing problems to become their master. Despite the severe l oss due to the earthquake, the children and the members of the village participated in the reli ef operation with the \\nArmed Forces \\nbravely and were smiling when I went to meet them. They interact ed with me and said \\nthat the school was functional in the temporary tents. Here, I also witnessed the \\nparticipation of acting Chief Justice of Jammu & Kashmir along with State Government \\nauthorities in on-the-spot settlement of relief grants to be provide d to the victims whose \\nhouses had been damaged in the earth quake. I have experienced many s uch acts of \\ncourage from our citizens when faced with severe challenges. \\n \\nCourage in combating calamities \\nIn 2005, I met the Tribal Council Leaders, Students, Children of Chuckchucha  village \\nduring my visit to Car Nicobar Islands. While various reconstruction a nd rehabilitation \\nactivities were in progress, during the discussions with the members  of tribal council, I \\nrealized the unique trait among the Car-Nicobar islanders. Even thoug h there were many \\nhuman losses due to the Tsunami of 26 Dec 2004, the tribal islanders had  taken \\npossession of affected victims as their children and there is nothi ng like orphanage in \\nCar-Nicobar Islands. Touched by their courage, I composed few vers es called “Sea'),\n",
              " Document(metadata={}, page_content='Waves” which reads as follows: \\nSea Waves \\n \\nWe are the children of Sea waves, \\nSea waves are my friends. \\nWhen they become angry, \\nSea waves give the challenges. \\nGod has given the courage, \\nTo challenge the sea waves. \\nAnd we will succeed, \\nWe will succeed \\nWith Almighty’s grace. \\nAll the members who were gathered in the village sang the poem  with me and exhibited \\nlots of courage and enthusiasm even though they had gone through severe  suffering \\nduring the Tsunami. \\n \\nConnectivity for societal transformation \\nI addressed the Pan African Parliament on 16 September 2004, at Johanne sburg, South \\nAfrica. This was attended by 53 member countries of the Africa n Union, where I \\nproposed the concept of Pan African e-Network for providing seamless and integrated \\nsatellite, fiber optics and wireless network connecting 53 African countries at an \\nestimated cost of US $ 100 million. \\n \\nAs part of the project 12 universities (7 from India and 5 from Afri ca), 17 Super \\nSpecialty Hospitals (12 from India and 5 from Africa), 53 tele-me dicine centers and 53 \\ntele-education centres in Africa will be connected. The pilot proj ect on tele-education and \\ntele-medicine in Ethiopia has already been commissioned. Indira Gandh i National Open \\nUniversity has taken up the MBA Course for 34 Ethiopian students of Addis  Ababa and \\nHarmaya Universities. As regards, tele-medicine, the special ists from CARE Hospital, Hyderabad are providing one-hour live tele-consultation to doctors in B lack Lion \\nHospital, Addis Ababa in Cardiology and Radiology since November 2006. Using the \\nPan African network the Heads of the State in all the 53 countries  will be connected for \\ninstant communication. I am extremely happy that Indian experience  in bringing the \\nbenefits of technology to the people has enabled us to work with Afric a to bring societal \\ntransformation in the African continent. \\n \\nDefending the nation: Our pride \\nI visited KUMAR in Siachen Glacier located at 17,000 feet altitude  held by the Indian \\nArmy, had a memorable underwater journey in INS Sindhurakshak and flew  in a Sukhoi-\\n30 fighter experiencing 2.5 g. In these three experiences, I personal ly felt proud of our \\never vigilant Soldiers, Sailors and Air Warriors performing their  tasks beyond the call of \\ntheir duty even in the most adverse circumstances natural and man m ade. During the last \\nfive years, I had an opportunity to present colours to many regime nts, participate in \\nnumber of passing out parades, meet the troops who were going to undertake  peace \\nmissions and interact with the family members of our Defence F orces. Our Defence \\nForces are in a beautiful mission. When the nation sleeps during night , Members of our \\nDefence teams are awake to guard us and remain vigilant to counte r any threat. The \\nNation cherishes the valour, commitment and devotion to duty of our Defenc e Forces. \\nSimilarly, I had opportunities to interact \\nwith members of our para-military forces, central and state poli ce personnel including \\ninternal security forces who are making immense contribution in au gmenting the safety \\nand security of our citizens under difficult conditions. \\n \\nYouth movement for Developed India 2020 \\nRecently, in Hyderabad, I met a group of citizens who are putting i nto practice the motto \\nof transforming of our youth into enlightened citizen. The Lead India 2020 Found ation \\ncreated by Dr. N.B. Sudershan at Hyderabad is training thousands of s tudents in many \\ndistricts of Andhra Pradesh in partnership with the District Adm inistration. Particularly, I \\nhappened to know the transformation which has taken place among the students  of \\nMedak district. As per the district authorities the impact of the  training on the students is \\nvisible in terms of self-discipline, love for their parents and tea chers shedding of stage \\nfear and recognition of their duties towards the nation. I talke d to Ms. Padma, a student \\nleader from Andhra Pradesh Tribal Welfare School, Nalgonda who relat ed how she \\nweaned her father away from smoking after imbibing the spirit of  the 10 point oath from \\nthe Lead India Training Camp. This gives me an assurance that the  youth of our country \\nare on the right path \\nthrough this mission oriented programme. With the ignited minds of the  540 million \\nyouth below the age of 25, which I consider is the most powerful resour ce on the earth, \\nunder the earth and above the earth, we have to empower the youth through va lue based \\neducation and leadership. \\n \\nConclusion \\nI was touched by the variety of Indian panorama, emotional content of  the tune, cultural \\ndiversity and unity of minds in the vast land of ours. I have cited thes e examples just to \\ngive a glimpse of the richness of our tradition and effort being take n by different agencies to preserve it. There are also many new adventures by instituti ons and individuals. I have \\nexperienced many of them and learnt a lot about my country and our peopl e. Even while \\npursuing our economic growth, we need to do a lot to preserve the rich and diverse \\ntreasures of our culture and civilization. It is our duty for our fut ure generations. This has \\nto be done in a much larger scale through countrywide participatio n of multiple \\ninstitutions. Our country is blessed with natural resources, has shown c onsiderable \\nprogress in the last sixty years, and above all we have hard wor king people particularly \\nthe power of the 540 million youth of the country. Every sector of our count ry has given \\nme the \\nconfidence that India can become a developed nation well before 2020. Whomsoeve r, I \\nmet they constantly ask what they can give to the nation. We should c onstantly strive to \\nempower such members of the society. With this spirit, I am extr emely happy that we are \\non the right path. Here I am reminded of a famous poem: \\n\"When you wish upon a star, \\nMakes no difference who you are, \\nAnything your heart desires, \\nWill come to you” \\nThis poem is true to all of us, and particularly for our youth and i f they aim great, I am \\nsure they will reach close to the target or the target. \\n \\nMy dear citizens, let us resolve to continue to work for realizing the missions of \\ndeveloped India 2020 with the following distinctive profile. \\n \\n1. A Nation where the rural and urban divide has reduced to a thin line. \\n \\n2. A Nation where there is an equitable distribution and adequate acce ss to energy and \\nquality water. \\n \\n3. A Nation where agriculture, industry and service sector work together in sym phony. \\n \\n4. A Nation where education with value system is not denied to any meritorious \\ncandidates because of societal or economic discrimination. \\n \\n5. A Nation which is the best destination for the most talented s cholars, scientists, and \\ninvestors. \\n \\n6. A Nation where the best of health care is available to all. \\n \\n7. A Nation where the governance is responsive, transparent and corruption free. \\n \\n8. A Nation where poverty has been totally eradicated, illiterac y removed and crimes \\nagainst women and children are absent and none in the society feels alienated. \\n \\n9. A Nation that is prosperous, healthy, secure, peaceful and happy a nd continues with a \\nsustainable growth path. \\n 10. A Nation that is one of the best places to live in and is proud of its leadership. \\n \\nFinally let me thank each one of you for showering your love and aff ection on me \\nthroughout the last five years by your cooperation and support. \\n \\nDear Citizens, I conclude my address by sharing with you my mission in life which is to \\nbring connectivity between billion hearts and minds of the people of Indi a in our \\nmulticultural society and to embed the self confidence that \"we c an do it\". I will be \\nalways with you, dear citizens, in the great mission of making Indi a a developed nation \\nbefore 2020. \\n \\nMay God bless you. \\n \\nJai hind. \\nDr. A. P. J. Abdul Kalam \\nwww.presidentofindia.nic.in')]"
            ]
          },
          "metadata": {},
          "execution_count": 68
        }
      ]
    },
    {
      "cell_type": "code",
      "source": [
        "output_summary['output_text']"
      ],
      "metadata": {
        "colab": {
          "base_uri": "https://localhost:8080/",
          "height": 174
        },
        "id": "sb7sROoKfGuF",
        "outputId": "6d6bc053-4262-4c43-c07e-09be1b6f6495"
      },
      "execution_count": 67,
      "outputs": [
        {
          "output_type": "execute_result",
          "data": {
            "text/plain": [
              "'In his departing speech, A P J Abdul Kalam reflects on his five years as President, highlighting key messages such as accelerating development, empowering villages, mobilizing rural core competence, and overcoming challenges through partnership. He shares experiences from interactions with youth, farmers, physically challenged individuals, and communities affected by disasters, emphasizing the importance of aspiration, perseverance, and courage in achieving national growth and development. Additionally, he discusses initiatives such as the Pan African e-Network for societal transformation, his experiences defending the nation, and the Youth movement for Developed India 2020. Kalam expresses his admiration for the diversity and unity of India, emphasizing the need to preserve cultural treasures while pursuing economic growth. He envisions a developed India by 2020 with a focus on reducing rural-urban divide, equitable access to energy and water, collaboration between sectors, inclusive education, healthcare for all, transparent governance, eradication of poverty and illiteracy, and a prosperous, peaceful society. Kalam concludes with a message of unity and self-confidence, expressing his commitment to the mission of making India a developed nation before 2020.'"
            ],
            "application/vnd.google.colaboratory.intrinsic+json": {
              "type": "string"
            }
          },
          "metadata": {},
          "execution_count": 67
        }
      ]
    },
    {
      "cell_type": "markdown",
      "source": [
        "#Q&A: Stuff"
      ],
      "metadata": {
        "id": "yiQNB4Qkn15B"
      }
    },
    {
      "cell_type": "code",
      "source": [
        "#from langchain.chains import load_qa_chain\n",
        "from langchain.chains.question_answering import load_qa_chain\n",
        "from langchain_openai import OpenAI\n",
        "from langchain.document_loaders import TextLoader\n",
        "\n",
        "# Example text document\n",
        "#docs = [{\"page_content\": \"Generative AI models, like GPT and DALL-E, are transforming industries by generating creative content and automating tasks.\"}]\n",
        "docs = [Document(page_content=\"Generative AI models, like GPT and DALL-E, are transforming industries by generating creative content and automating tasks.\")]\n",
        "\n",
        "# Initialize LLM\n",
        "llm = OpenAI(openai_api_key=OPENAI_API_KEY)\n",
        "\n",
        "# Load QA chain\n",
        "qa_chain = load_qa_chain(llm, chain_type=\"stuff\")"
      ],
      "metadata": {
        "id": "JglCo_abn85y",
        "colab": {
          "base_uri": "https://localhost:8080/"
        },
        "outputId": "5a978441-e628-4292-faed-f96dbc473156"
      },
      "execution_count": 69,
      "outputs": [
        {
          "output_type": "stream",
          "name": "stderr",
          "text": [
            "<ipython-input-69-112f67244bba>:14: LangChainDeprecationWarning: This class is deprecated. See the following migration guides for replacements based on `chain_type`:\n",
            "stuff: https://python.langchain.com/docs/versions/migrating_chains/stuff_docs_chain\n",
            "map_reduce: https://python.langchain.com/docs/versions/migrating_chains/map_reduce_chain\n",
            "refine: https://python.langchain.com/docs/versions/migrating_chains/refine_chain\n",
            "map_rerank: https://python.langchain.com/docs/versions/migrating_chains/map_rerank_docs_chain\n",
            "\n",
            "See also guides on retrieval and question-answering here: https://python.langchain.com/docs/how_to/#qa-with-rag\n",
            "  qa_chain = load_qa_chain(llm, chain_type=\"stuff\")\n"
          ]
        }
      ]
    },
    {
      "cell_type": "code",
      "source": [
        "# Ask a question based on the document\n",
        "question = \"What are Generative AI models used for?\""
      ],
      "metadata": {
        "id": "HjdqWzfqftH7"
      },
      "execution_count": 70,
      "outputs": []
    },
    {
      "cell_type": "code",
      "source": [
        "answer = qa_chain.invoke({\"input_documents\": docs, \"question\": question})"
      ],
      "metadata": {
        "id": "5IRQ1Q5Of7Cz"
      },
      "execution_count": 71,
      "outputs": []
    },
    {
      "cell_type": "code",
      "source": [
        "print(\"Answer:\", answer)"
      ],
      "metadata": {
        "colab": {
          "base_uri": "https://localhost:8080/"
        },
        "id": "s3L_vQBigBRp",
        "outputId": "a489f8a1-901f-4daf-bd28-a860d76e7ee9"
      },
      "execution_count": 72,
      "outputs": [
        {
          "output_type": "stream",
          "name": "stdout",
          "text": [
            "Answer: {'input_documents': [Document(metadata={}, page_content='Generative AI models, like GPT and DALL-E, are transforming industries by generating creative content and automating tasks.')], 'question': 'What are Generative AI models used for?', 'output_text': '\\nGenerative AI models are used for generating creative content and automating tasks.'}\n"
          ]
        }
      ]
    },
    {
      "cell_type": "code",
      "source": [
        "answer['question']"
      ],
      "metadata": {
        "colab": {
          "base_uri": "https://localhost:8080/",
          "height": 35
        },
        "id": "NWRwIXXmgEAc",
        "outputId": "f1e26e76-3bbd-47b1-ee18-d363b684a76a"
      },
      "execution_count": 73,
      "outputs": [
        {
          "output_type": "execute_result",
          "data": {
            "text/plain": [
              "'What are Generative AI models used for?'"
            ],
            "application/vnd.google.colaboratory.intrinsic+json": {
              "type": "string"
            }
          },
          "metadata": {},
          "execution_count": 73
        }
      ]
    },
    {
      "cell_type": "code",
      "source": [
        "print(answer['output_text'])"
      ],
      "metadata": {
        "colab": {
          "base_uri": "https://localhost:8080/"
        },
        "id": "4jH77tVJgNB-",
        "outputId": "cda3bfcf-1a27-4a66-f5d7-e4883d465658"
      },
      "execution_count": 75,
      "outputs": [
        {
          "output_type": "stream",
          "name": "stdout",
          "text": [
            "\n",
            "Generative AI models are used for generating creative content and automating tasks.\n"
          ]
        }
      ]
    },
    {
      "cell_type": "markdown",
      "source": [
        "#Q&A: Reduce"
      ],
      "metadata": {
        "id": "Ebqd3zWYoDoM"
      }
    },
    {
      "cell_type": "code",
      "source": [
        "qa_chain = load_qa_chain(llm, chain_type=\"map_reduce\")"
      ],
      "metadata": {
        "id": "t68sbwBroD81"
      },
      "execution_count": 76,
      "outputs": []
    },
    {
      "cell_type": "code",
      "source": [
        "answer = qa_chain.invoke({\"input_documents\": docs, \"question\": question})"
      ],
      "metadata": {
        "id": "kFyC6kfYgYQF"
      },
      "execution_count": 77,
      "outputs": []
    },
    {
      "cell_type": "code",
      "source": [
        "answer['question']"
      ],
      "metadata": {
        "colab": {
          "base_uri": "https://localhost:8080/",
          "height": 35
        },
        "id": "lrQXa8PEgg6W",
        "outputId": "67a955ee-3523-475c-c5cf-48591b178c0f"
      },
      "execution_count": 79,
      "outputs": [
        {
          "output_type": "execute_result",
          "data": {
            "text/plain": [
              "'What are Generative AI models used for?'"
            ],
            "application/vnd.google.colaboratory.intrinsic+json": {
              "type": "string"
            }
          },
          "metadata": {},
          "execution_count": 79
        }
      ]
    },
    {
      "cell_type": "code",
      "source": [
        "answer['output_text']"
      ],
      "metadata": {
        "colab": {
          "base_uri": "https://localhost:8080/",
          "height": 35
        },
        "id": "qI3QzLdvgjy0",
        "outputId": "ab09c328-53fa-4f69-bd68-53af93b8e757"
      },
      "execution_count": 80,
      "outputs": [
        {
          "output_type": "execute_result",
          "data": {
            "text/plain": [
              "' Generative AI models are used for transforming industries by generating creative content and automating tasks.'"
            ],
            "application/vnd.google.colaboratory.intrinsic+json": {
              "type": "string"
            }
          },
          "metadata": {},
          "execution_count": 80
        }
      ]
    },
    {
      "cell_type": "code",
      "source": [
        "print(\"Answer with Map-Reduce Chain:\", answer)"
      ],
      "metadata": {
        "colab": {
          "base_uri": "https://localhost:8080/"
        },
        "id": "QbLvhsUtga2c",
        "outputId": "641018bf-278b-46e8-b839-a71285153f05"
      },
      "execution_count": 78,
      "outputs": [
        {
          "output_type": "stream",
          "name": "stdout",
          "text": [
            "Answer with Map-Reduce Chain: {'input_documents': [Document(metadata={}, page_content='Generative AI models, like GPT and DALL-E, are transforming industries by generating creative content and automating tasks.')], 'question': 'What are Generative AI models used for?', 'output_text': ' Generative AI models are used for transforming industries by generating creative content and automating tasks.'}\n"
          ]
        }
      ]
    },
    {
      "cell_type": "markdown",
      "source": [
        "#Q&A: Refine"
      ],
      "metadata": {
        "id": "eVqCa8IYoHIM"
      }
    },
    {
      "cell_type": "code",
      "source": [
        "qa_chain = load_qa_chain(llm, chain_type=\"refine\")"
      ],
      "metadata": {
        "id": "W6RpGRoyoHd1"
      },
      "execution_count": 81,
      "outputs": []
    },
    {
      "cell_type": "code",
      "source": [
        "answer = qa_chain.invoke({\"input_documents\": docs, \"question\": question})"
      ],
      "metadata": {
        "id": "aO_Rxd6Fgr6u"
      },
      "execution_count": 82,
      "outputs": []
    },
    {
      "cell_type": "code",
      "source": [
        "answer['question']"
      ],
      "metadata": {
        "colab": {
          "base_uri": "https://localhost:8080/",
          "height": 35
        },
        "id": "0SBBW3zLg0yv",
        "outputId": "6bd3e56f-a10b-4825-9836-ccbb91ef872c"
      },
      "execution_count": 84,
      "outputs": [
        {
          "output_type": "execute_result",
          "data": {
            "text/plain": [
              "'What are Generative AI models used for?'"
            ],
            "application/vnd.google.colaboratory.intrinsic+json": {
              "type": "string"
            }
          },
          "metadata": {},
          "execution_count": 84
        }
      ]
    },
    {
      "cell_type": "code",
      "source": [
        "answer['output_text']"
      ],
      "metadata": {
        "colab": {
          "base_uri": "https://localhost:8080/",
          "height": 35
        },
        "id": "3wEk28ngg3dG",
        "outputId": "a15c8ff6-44a2-495d-ce47-b1aba674d41c"
      },
      "execution_count": 85,
      "outputs": [
        {
          "output_type": "execute_result",
          "data": {
            "text/plain": [
              "'\\nGenerative AI models are used for transforming industries by generating creative content and automating tasks.'"
            ],
            "application/vnd.google.colaboratory.intrinsic+json": {
              "type": "string"
            }
          },
          "metadata": {},
          "execution_count": 85
        }
      ]
    },
    {
      "cell_type": "code",
      "source": [
        "print(\"Answer with Refine Chain:\", answer)"
      ],
      "metadata": {
        "colab": {
          "base_uri": "https://localhost:8080/"
        },
        "id": "qKWN0-7Agt9e",
        "outputId": "a0eb40a5-b425-47ee-d738-c996d2f59232"
      },
      "execution_count": 83,
      "outputs": [
        {
          "output_type": "stream",
          "name": "stdout",
          "text": [
            "Answer with Refine Chain: {'input_documents': [Document(metadata={}, page_content='Generative AI models, like GPT and DALL-E, are transforming industries by generating creative content and automating tasks.')], 'question': 'What are Generative AI models used for?', 'output_text': '\\nGenerative AI models are used for transforming industries by generating creative content and automating tasks.'}\n"
          ]
        }
      ]
    },
    {
      "cell_type": "markdown",
      "source": [
        "#Q&A: Map Re-Rank"
      ],
      "metadata": {
        "id": "H2yTJ7C6j8MX"
      }
    },
    {
      "cell_type": "code",
      "source": [
        "chain = load_qa_chain(llm, chain_type=\"map_rerank\", verbose=True, return_intermediate_steps=True)"
      ],
      "metadata": {
        "id": "Ig7XjdQMj9TL"
      },
      "execution_count": 86,
      "outputs": []
    },
    {
      "cell_type": "code",
      "source": [
        "query = \"Who was the authors friend who he got permission from to use the IBM 1401?\""
      ],
      "metadata": {
        "id": "hdb9BcCbkBf0"
      },
      "execution_count": 87,
      "outputs": []
    },
    {
      "cell_type": "code",
      "source": [
        "result = chain.invoke({\"input_documents\": docs, \"question\": query}, return_only_outputs=True)"
      ],
      "metadata": {
        "colab": {
          "base_uri": "https://localhost:8080/"
        },
        "id": "5OVIlj_IhDWH",
        "outputId": "303e1f0f-91c5-4892-9108-df075124f676"
      },
      "execution_count": 88,
      "outputs": [
        {
          "output_type": "stream",
          "name": "stdout",
          "text": [
            "\n",
            "\n",
            "\u001b[1m> Entering new MapRerankDocumentsChain chain...\u001b[0m\n",
            "\n",
            "\n",
            "\u001b[1m> Entering new LLMChain chain...\u001b[0m\n",
            "Prompt after formatting:\n",
            "\u001b[32;1m\u001b[1;3mUse the following pieces of context to answer the question at the end. If you don't know the answer, just say that you don't know, don't try to make up an answer.\n",
            "\n",
            "In addition to giving an answer, also return a score of how fully it answered the user's question. This should be in the following format:\n",
            "\n",
            "Question: [question here]\n",
            "Helpful Answer: [answer here]\n",
            "Score: [score between 0 and 100]\n",
            "\n",
            "How to determine the score:\n",
            "- Higher is a better answer\n",
            "- Better responds fully to the asked question, with sufficient level of detail\n",
            "- If you do not know the answer based on the context, that should be a score of 0\n",
            "- Don't be overconfident!\n",
            "\n",
            "Example #1\n",
            "\n",
            "Context:\n",
            "---------\n",
            "Apples are red\n",
            "---------\n",
            "Question: what color are apples?\n",
            "Helpful Answer: red\n",
            "Score: 100\n",
            "\n",
            "Example #2\n",
            "\n",
            "Context:\n",
            "---------\n",
            "it was night and the witness forgot his glasses. he was not sure if it was a sports car or an suv\n",
            "---------\n",
            "Question: what type was the car?\n",
            "Helpful Answer: a sports car or an suv\n",
            "Score: 60\n",
            "\n",
            "Example #3\n",
            "\n",
            "Context:\n",
            "---------\n",
            "Pears are either red or orange\n",
            "---------\n",
            "Question: what color are apples?\n",
            "Helpful Answer: This document does not answer the question\n",
            "Score: 0\n",
            "\n",
            "Begin!\n",
            "\n",
            "Context:\n",
            "---------\n",
            "Generative AI models, like GPT and DALL-E, are transforming industries by generating creative content and automating tasks.\n",
            "---------\n",
            "Question: Who was the authors friend who he got permission from to use the IBM 1401?\n",
            "Helpful Answer:\u001b[0m\n"
          ]
        },
        {
          "output_type": "stream",
          "name": "stderr",
          "text": [
            "/usr/local/lib/python3.11/dist-packages/langchain/chains/llm.py:369: UserWarning: The apply_and_parse method is deprecated, instead pass an output parser directly to LLMChain.\n",
            "  warnings.warn(\n"
          ]
        },
        {
          "output_type": "stream",
          "name": "stdout",
          "text": [
            "\n",
            "\u001b[1m> Finished chain.\u001b[0m\n",
            "\n",
            "\u001b[1m> Finished chain.\u001b[0m\n"
          ]
        }
      ]
    },
    {
      "cell_type": "code",
      "source": [
        "result"
      ],
      "metadata": {
        "id": "40YMlGjbkGcR",
        "colab": {
          "base_uri": "https://localhost:8080/"
        },
        "outputId": "77abd5a3-b52c-454d-d43a-1e1ebbbbfac5"
      },
      "execution_count": 89,
      "outputs": [
        {
          "output_type": "execute_result",
          "data": {
            "text/plain": [
              "{'intermediate_steps': [{'answer': ' Sorry, I do not have enough information to answer your question.',\n",
              "   'score': '0'}],\n",
              " 'output_text': ' Sorry, I do not have enough information to answer your question.'}"
            ]
          },
          "metadata": {},
          "execution_count": 89
        }
      ]
    },
    {
      "cell_type": "code",
      "source": [
        "result['output_text']"
      ],
      "metadata": {
        "id": "r_CIEYhckJDt",
        "colab": {
          "base_uri": "https://localhost:8080/",
          "height": 35
        },
        "outputId": "89e7204c-a7cb-4918-f019-f6bd5021cbba"
      },
      "execution_count": 90,
      "outputs": [
        {
          "output_type": "execute_result",
          "data": {
            "text/plain": [
              "' Sorry, I do not have enough information to answer your question.'"
            ],
            "application/vnd.google.colaboratory.intrinsic+json": {
              "type": "string"
            }
          },
          "metadata": {},
          "execution_count": 90
        }
      ]
    },
    {
      "cell_type": "code",
      "source": [
        "result['intermediate_steps']"
      ],
      "metadata": {
        "id": "LJJAX3NwkK8c",
        "colab": {
          "base_uri": "https://localhost:8080/"
        },
        "outputId": "5b7386f8-a2f5-42a1-c427-f8d7eb6717c0"
      },
      "execution_count": 91,
      "outputs": [
        {
          "output_type": "execute_result",
          "data": {
            "text/plain": [
              "[{'answer': ' Sorry, I do not have enough information to answer your question.',\n",
              "  'score': '0'}]"
            ]
          },
          "metadata": {},
          "execution_count": 91
        }
      ]
    },
    {
      "cell_type": "markdown",
      "source": [
        "#Q&A: VectorDB"
      ],
      "metadata": {
        "id": "Olgmu1luporw"
      }
    },
    {
      "cell_type": "code",
      "source": [
        "!pip install pypdf faiss_cpu"
      ],
      "metadata": {
        "colab": {
          "base_uri": "https://localhost:8080/"
        },
        "id": "HGetpl3BiijC",
        "outputId": "70f7c270-c76d-4ee0-a325-7ecab5ff43f4"
      },
      "execution_count": 98,
      "outputs": [
        {
          "output_type": "stream",
          "name": "stdout",
          "text": [
            "Requirement already satisfied: pypdf in /usr/local/lib/python3.11/dist-packages (5.4.0)\n",
            "Collecting faiss_cpu\n",
            "  Downloading faiss_cpu-1.10.0-cp311-cp311-manylinux_2_28_x86_64.whl.metadata (4.4 kB)\n",
            "Requirement already satisfied: numpy<3.0,>=1.25.0 in /usr/local/lib/python3.11/dist-packages (from faiss_cpu) (2.0.2)\n",
            "Requirement already satisfied: packaging in /usr/local/lib/python3.11/dist-packages (from faiss_cpu) (24.2)\n",
            "Downloading faiss_cpu-1.10.0-cp311-cp311-manylinux_2_28_x86_64.whl (30.7 MB)\n",
            "\u001b[2K   \u001b[90m━━━━━━━━━━━━━━━━━━━━━━━━━━━━━━━━━━━━━━━━\u001b[0m \u001b[32m30.7/30.7 MB\u001b[0m \u001b[31m44.4 MB/s\u001b[0m eta \u001b[36m0:00:00\u001b[0m\n",
            "\u001b[?25hInstalling collected packages: faiss_cpu\n",
            "Successfully installed faiss_cpu-1.10.0\n"
          ]
        }
      ]
    },
    {
      "cell_type": "code",
      "source": [
        "from langchain.vectorstores import FAISS\n",
        "from langchain.embeddings import OpenAIEmbeddings\n",
        "from langchain.chains import VectorDBQA\n",
        "from langchain.llms import OpenAI\n",
        "from langchain.text_splitter import CharacterTextSplitter\n",
        "from langchain.document_loaders import PyPDFLoader\n",
        "\n",
        "# Assume vector_store already exists as in the previous example\n",
        "llm = OpenAI(temperature=0)\n",
        "\n",
        "# Load documents and create embeddings\n",
        "loader = PyPDFLoader('apjspeech.pdf') # replace with the path to your actual document\n",
        "documents = loader.load()\n",
        "text_splitter = CharacterTextSplitter(chunk_size=1000, chunk_overlap=0)\n",
        "docs = text_splitter.split_documents(documents)\n",
        "embeddings = OpenAIEmbeddings()\n",
        "vector_store = FAISS.from_documents(docs, embeddings)\n",
        "\n"
      ],
      "metadata": {
        "id": "TTWb60_dptpw"
      },
      "execution_count": 100,
      "outputs": []
    },
    {
      "cell_type": "code",
      "source": [
        "# Create the VectorDBQA chain\n",
        "qa_chain = VectorDBQA.from_chain_type(llm=llm, chain_type=\"stuff\", vectorstore=vector_store                                      )\n",
        "\n",
        "query = \"What are the applications of Generative AI?\"\n"
      ],
      "metadata": {
        "colab": {
          "base_uri": "https://localhost:8080/"
        },
        "id": "gQR1v8Yei5V-",
        "outputId": "0d033418-a4c4-498c-8359-9676c7b10165"
      },
      "execution_count": 104,
      "outputs": [
        {
          "output_type": "stream",
          "name": "stderr",
          "text": [
            "/usr/local/lib/python3.11/dist-packages/langchain/chains/retrieval_qa/base.py:316: UserWarning: `VectorDBQA` is deprecated - please use `from langchain.chains import RetrievalQA`\n",
            "  warnings.warn(\n"
          ]
        }
      ]
    },
    {
      "cell_type": "code",
      "source": [
        "result = qa_chain.invoke(query)"
      ],
      "metadata": {
        "id": "SWcBExbyhhk_"
      },
      "execution_count": 105,
      "outputs": []
    },
    {
      "cell_type": "code",
      "source": [
        "result"
      ],
      "metadata": {
        "colab": {
          "base_uri": "https://localhost:8080/"
        },
        "id": "Zc7VRcU2jczk",
        "outputId": "b6a9ff41-f500-4ef7-8ffc-95be52bb3042"
      },
      "execution_count": 106,
      "outputs": [
        {
          "output_type": "execute_result",
          "data": {
            "text/plain": [
              "{'query': 'What are the applications of Generative AI?',\n",
              " 'result': ' Generative AI has a wide range of applications, including:\\n\\n1. Content Creation: Generative AI can be used to create original content such as images, videos, and text. This can be useful for artists, designers, and content creators who need a constant stream of new and unique content.\\n\\n2. Chatbots and Virtual Assistants: Generative AI can be used to create chatbots and virtual assistants that can interact with users in a natural and human-like manner. This can be useful for customer service, information retrieval, and other tasks.\\n\\n3. Personalization: Generative AI can be used to personalize content and recommendations for users based on their preferences and behavior. This can be useful for e-commerce, marketing, and other industries.\\n\\n4. Gaming: Generative AI can be used to create realistic and dynamic environments, characters, and gameplay in video games. This can enhance the gaming experience and make it more immersive.\\n\\n5. Music and Sound Generation: Generative AI can be used to create original music and sound effects for various applications, such as video games, films, and advertisements.\\n\\n6. Data Augmentation: Generative AI can be used to generate synthetic data that can be used to train machine learning models. This can help improve the performance and accuracy of these models'}"
            ]
          },
          "metadata": {},
          "execution_count": 106
        }
      ]
    },
    {
      "cell_type": "code",
      "source": [
        "result['query']"
      ],
      "metadata": {
        "colab": {
          "base_uri": "https://localhost:8080/",
          "height": 35
        },
        "id": "BmcNV50mjer6",
        "outputId": "cefae858-826e-41df-a737-8b6d89291cfb"
      },
      "execution_count": 107,
      "outputs": [
        {
          "output_type": "execute_result",
          "data": {
            "text/plain": [
              "'What are the applications of Generative AI?'"
            ],
            "application/vnd.google.colaboratory.intrinsic+json": {
              "type": "string"
            }
          },
          "metadata": {},
          "execution_count": 107
        }
      ]
    },
    {
      "cell_type": "code",
      "source": [
        "result['result']"
      ],
      "metadata": {
        "colab": {
          "base_uri": "https://localhost:8080/",
          "height": 174
        },
        "id": "voGiuDA0jirj",
        "outputId": "d0dba3b0-bc94-4a51-8311-79974d557648"
      },
      "execution_count": 108,
      "outputs": [
        {
          "output_type": "execute_result",
          "data": {
            "text/plain": [
              "' Generative AI has a wide range of applications, including:\\n\\n1. Content Creation: Generative AI can be used to create original content such as images, videos, and text. This can be useful for artists, designers, and content creators who need a constant stream of new and unique content.\\n\\n2. Chatbots and Virtual Assistants: Generative AI can be used to create chatbots and virtual assistants that can interact with users in a natural and human-like manner. This can be useful for customer service, information retrieval, and other tasks.\\n\\n3. Personalization: Generative AI can be used to personalize content and recommendations for users based on their preferences and behavior. This can be useful for e-commerce, marketing, and other industries.\\n\\n4. Gaming: Generative AI can be used to create realistic and dynamic environments, characters, and gameplay in video games. This can enhance the gaming experience and make it more immersive.\\n\\n5. Music and Sound Generation: Generative AI can be used to create original music and sound effects for various applications, such as video games, films, and advertisements.\\n\\n6. Data Augmentation: Generative AI can be used to generate synthetic data that can be used to train machine learning models. This can help improve the performance and accuracy of these models'"
            ],
            "application/vnd.google.colaboratory.intrinsic+json": {
              "type": "string"
            }
          },
          "metadata": {},
          "execution_count": 108
        }
      ]
    },
    {
      "cell_type": "markdown",
      "source": [
        "#Levels Of Summarization"
      ],
      "metadata": {
        "id": "I6ySIjRv2hLp"
      }
    },
    {
      "cell_type": "markdown",
      "source": [
        "![image.png](data:image/png;base64,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)"
      ],
      "metadata": {
        "id": "mqknq00b2i4Q"
      }
    },
    {
      "cell_type": "code",
      "source": [
        "!pip install tiktoken"
      ],
      "metadata": {
        "id": "GBrfji7Dchsg",
        "colab": {
          "base_uri": "https://localhost:8080/"
        },
        "outputId": "740e50c7-d724-4d94-f5ca-4bd2e022c031"
      },
      "execution_count": 109,
      "outputs": [
        {
          "output_type": "stream",
          "name": "stdout",
          "text": [
            "Requirement already satisfied: tiktoken in /usr/local/lib/python3.11/dist-packages (0.9.0)\n",
            "Requirement already satisfied: regex>=2022.1.18 in /usr/local/lib/python3.11/dist-packages (from tiktoken) (2024.11.6)\n",
            "Requirement already satisfied: requests>=2.26.0 in /usr/local/lib/python3.11/dist-packages (from tiktoken) (2.32.3)\n",
            "Requirement already satisfied: charset-normalizer<4,>=2 in /usr/local/lib/python3.11/dist-packages (from requests>=2.26.0->tiktoken) (3.4.1)\n",
            "Requirement already satisfied: idna<4,>=2.5 in /usr/local/lib/python3.11/dist-packages (from requests>=2.26.0->tiktoken) (3.10)\n",
            "Requirement already satisfied: urllib3<3,>=1.21.1 in /usr/local/lib/python3.11/dist-packages (from requests>=2.26.0->tiktoken) (2.3.0)\n",
            "Requirement already satisfied: certifi>=2017.4.17 in /usr/local/lib/python3.11/dist-packages (from requests>=2.26.0->tiktoken) (2025.1.31)\n"
          ]
        }
      ]
    },
    {
      "cell_type": "markdown",
      "source": [
        "##Level 1: Basic Prompt - Summarize a couple sentences"
      ],
      "metadata": {
        "id": "d_75_QQO2sUQ"
      }
    },
    {
      "cell_type": "code",
      "source": [
        "from langchain import OpenAI\n",
        "\n",
        "import warnings\n",
        "warnings.filterwarnings(\"ignore\")"
      ],
      "metadata": {
        "id": "wz7AvnfP3QQp"
      },
      "execution_count": 110,
      "outputs": []
    },
    {
      "cell_type": "code",
      "source": [
        "llm = OpenAI(temperature=0, openai_api_key=OPENAI_API_KEY)"
      ],
      "metadata": {
        "id": "8iLKv8Qo3V9K"
      },
      "execution_count": 111,
      "outputs": []
    },
    {
      "cell_type": "code",
      "source": [
        "prompt = \"\"\"\n",
        "Please provide a summary of the following text\n",
        "\n",
        "TEXT:\n",
        "Philosophy (from Greek: φιλοσοφία, philosophia, 'love of wisdom') \\\n",
        "is the systematized study of general and fundamental questions, \\\n",
        "such as those about existence, reason, knowledge, values, mind, and language. \\\n",
        "Some sources claim the term was coined by Pythagoras (c. 570 – c. 495 BCE), \\\n",
        "although this theory is disputed by some. Philosophical methods include questioning, \\\n",
        "critical discussion, rational argument, and systematic presentation.\n",
        "\"\"\""
      ],
      "metadata": {
        "id": "jlL7zvTP3adi"
      },
      "execution_count": 112,
      "outputs": []
    },
    {
      "cell_type": "code",
      "source": [
        "num_tokens = llm.get_num_tokens(prompt)\n",
        "print (f\"Our prompt has {num_tokens} tokens\")"
      ],
      "metadata": {
        "id": "4FFuw3Z63hia",
        "colab": {
          "base_uri": "https://localhost:8080/"
        },
        "outputId": "b865004e-32c2-4670-aa76-249e0cb5c9ee"
      },
      "execution_count": 113,
      "outputs": [
        {
          "output_type": "stream",
          "name": "stdout",
          "text": [
            "Our prompt has 115 tokens\n"
          ]
        }
      ]
    },
    {
      "cell_type": "code",
      "source": [
        "output = llm.invoke(prompt)"
      ],
      "metadata": {
        "id": "2lHLN6vo3k0a"
      },
      "execution_count": 114,
      "outputs": []
    },
    {
      "cell_type": "code",
      "source": [
        "output"
      ],
      "metadata": {
        "colab": {
          "base_uri": "https://localhost:8080/",
          "height": 70
        },
        "id": "yZga6aB5kBb9",
        "outputId": "676c7185-288b-4514-d73f-ee4742d43f5a"
      },
      "execution_count": 115,
      "outputs": [
        {
          "output_type": "execute_result",
          "data": {
            "text/plain": [
              "'\\nPhilosophy is the study of fundamental questions about existence, reason, knowledge, values, mind, and language. The term was possibly coined by Pythagoras, but this is debated. Philosophical methods involve questioning, critical discussion, rational argument, and systematic presentation.'"
            ],
            "application/vnd.google.colaboratory.intrinsic+json": {
              "type": "string"
            }
          },
          "metadata": {},
          "execution_count": 115
        }
      ]
    },
    {
      "cell_type": "code",
      "source": [
        "print (output)"
      ],
      "metadata": {
        "colab": {
          "base_uri": "https://localhost:8080/"
        },
        "id": "cr2_gnizj7vh",
        "outputId": "7da01a09-93d2-4ce9-8e32-a9b44187ac08"
      },
      "execution_count": 116,
      "outputs": [
        {
          "output_type": "stream",
          "name": "stdout",
          "text": [
            "\n",
            "Philosophy is the study of fundamental questions about existence, reason, knowledge, values, mind, and language. The term was possibly coined by Pythagoras, but this is debated. Philosophical methods involve questioning, critical discussion, rational argument, and systematic presentation.\n"
          ]
        }
      ]
    },
    {
      "cell_type": "code",
      "source": [
        "prompt = \"\"\"\n",
        "Please provide a summary of the following text.\n",
        "Please provide your output in a manner that a 5 year old would understand\n",
        "\n",
        "TEXT:\n",
        "Philosophy (from Greek: φιλοσοφία, philosophia, 'love of wisdom') \\\n",
        "is the systematized study of general and fundamental questions, \\\n",
        "such as those about existence, reason, knowledge, values, mind, and language. \\\n",
        "Some sources claim the term was coined by Pythagoras (c. 570 – c. 495 BCE), \\\n",
        "although this theory is disputed by some. Philosophical methods include questioning, \\\n",
        "critical discussion, rational argument, and systematic presentation.\n",
        "\"\"\""
      ],
      "metadata": {
        "id": "1C-GNHV-3r3a"
      },
      "execution_count": 117,
      "outputs": []
    },
    {
      "cell_type": "code",
      "source": [
        "num_tokens = llm.get_num_tokens(prompt)\n",
        "print (f\"Our prompt has {num_tokens} tokens\")"
      ],
      "metadata": {
        "id": "tRuEnIwn3u97",
        "colab": {
          "base_uri": "https://localhost:8080/"
        },
        "outputId": "877b58a4-0c64-49bc-f97f-b23f6044343a"
      },
      "execution_count": 118,
      "outputs": [
        {
          "output_type": "stream",
          "name": "stdout",
          "text": [
            "Our prompt has 131 tokens\n"
          ]
        }
      ]
    },
    {
      "cell_type": "code",
      "source": [
        "output = llm.invoke(prompt)"
      ],
      "metadata": {
        "id": "VxCSwUxR3xUG"
      },
      "execution_count": 119,
      "outputs": []
    },
    {
      "cell_type": "code",
      "source": [
        "print (output)"
      ],
      "metadata": {
        "colab": {
          "base_uri": "https://localhost:8080/"
        },
        "id": "gk8AW4p1kO1-",
        "outputId": "16179613-3fe2-4f54-d28d-47c1fac50ee8"
      },
      "execution_count": 120,
      "outputs": [
        {
          "output_type": "stream",
          "name": "stdout",
          "text": [
            "\n",
            "Philosophy is when people think really hard about big questions like why we exist, how we know things, and what is important. Some people say a guy named Pythagoras made up the word, but not everyone agrees. Philosophers use different ways to try and answer these questions, like asking lots of questions, talking about it with others, using good reasons, and organizing their ideas.\n"
          ]
        }
      ]
    },
    {
      "cell_type": "markdown",
      "source": [
        "##Level 2: Prompt Templates - Summarize a couple paragraphs"
      ],
      "metadata": {
        "id": "NK-9qBDC31tr"
      }
    },
    {
      "cell_type": "code",
      "source": [
        "from langchain import OpenAI\n",
        "from langchain import PromptTemplate\n",
        "import os"
      ],
      "metadata": {
        "id": "fr4Z_Bir33CM"
      },
      "execution_count": 121,
      "outputs": []
    },
    {
      "cell_type": "code",
      "source": [
        "paul_graham_essays = ['/content/getideas.txt', '/content/noob.txt']\n",
        "\n",
        "essays = []\n",
        "\n",
        "for file_name in paul_graham_essays:\n",
        "    with open(file_name, 'r') as file:\n",
        "        essays.append(file.read())"
      ],
      "metadata": {
        "id": "Y6ElE1jZ3-Ba"
      },
      "execution_count": 122,
      "outputs": []
    },
    {
      "cell_type": "code",
      "source": [
        "for i, essay in enumerate(essays):\n",
        "    print (f\"Essay #{i+1}: {essay[:300]}\\n\")"
      ],
      "metadata": {
        "id": "kHiWUJlG6LzP",
        "colab": {
          "base_uri": "https://localhost:8080/"
        },
        "outputId": "d2c42cf2-2800-4bdd-e413-d6f10b1bc8b7"
      },
      "execution_count": 123,
      "outputs": [
        {
          "output_type": "stream",
          "name": "stdout",
          "text": [
            "Essay #1: January 2023(Someone fed my essays into GPT to make something that could answer\n",
            "questions based on them, then asked it where good ideas come from.  The\n",
            "answer was ok, but not what I would have said. This is what I would have said.)The way to get new ideas is to notice anomalies: what seems strange,\n",
            "\n",
            "\n",
            "Essay #2: January 2020When I was young, I thought old people had everything figured out.\n",
            "Now that I'm old, I know this isn't true.I constantly feel like a noob. It seems like I'm always talking to\n",
            "some startup working in a new field I know nothing about, or reading\n",
            "a book about a topic I don't understand well\n",
            "\n"
          ]
        }
      ]
    },
    {
      "cell_type": "code",
      "source": [
        "template = \"\"\"\n",
        "Please write a one sentence summary of the following text:\n",
        "\n",
        "{essay}\n",
        "\"\"\"\n",
        "\n",
        "prompt = PromptTemplate(\n",
        "    input_variables=[\"essay\"],\n",
        "    template=template\n",
        ")"
      ],
      "metadata": {
        "id": "bdIAdMpg6PWo"
      },
      "execution_count": 124,
      "outputs": []
    },
    {
      "cell_type": "code",
      "source": [
        "for essay in essays:\n",
        "    summary_prompt = prompt.format(essay=essay)\n",
        "\n",
        "    num_tokens = llm.get_num_tokens(summary_prompt)\n",
        "    print (f\"This prompt + essay has {num_tokens} tokens\")\n",
        "\n",
        "    summary = llm.invoke(summary_prompt)\n",
        "\n",
        "    print (f\"Summary: {summary.strip()}\")\n",
        "    print (\"\\n\")"
      ],
      "metadata": {
        "id": "Juk84Hqd6SjY",
        "colab": {
          "base_uri": "https://localhost:8080/"
        },
        "outputId": "8b44415a-4e29-49db-eaaa-7fb580ddde8f"
      },
      "execution_count": 125,
      "outputs": [
        {
          "output_type": "stream",
          "name": "stdout",
          "text": [
            "This prompt + essay has 199 tokens\n",
            "Summary: The key to generating new ideas is to identify anomalies, especially at the frontiers of knowledge, which can lead to new and innovative discoveries.\n",
            "\n",
            "\n",
            "This prompt + essay has 493 tokens\n",
            "Summary: Feeling like a noob can actually be beneficial in the long run, as it indicates a willingness to learn and adapt to new situations.\n",
            "\n",
            "\n"
          ]
        }
      ]
    },
    {
      "cell_type": "markdown",
      "source": [
        "##Level 3: Map Reduce - Summarize a couple pages multiple pages"
      ],
      "metadata": {
        "id": "Mv1u4gzR6V1R"
      }
    },
    {
      "cell_type": "code",
      "source": [
        "from langchain import OpenAI\n",
        "from langchain.chains.summarize import load_summarize_chain\n",
        "from langchain.text_splitter import RecursiveCharacterTextSplitter"
      ],
      "metadata": {
        "id": "rTcavxka6W6Q"
      },
      "execution_count": 126,
      "outputs": []
    },
    {
      "cell_type": "code",
      "source": [
        "paul_graham_essay = '/content/startupideas.txt'\n",
        "\n",
        "with open(paul_graham_essay, 'r') as file:\n",
        "    essay = file.read()"
      ],
      "metadata": {
        "id": "dE8ywgLJ6een"
      },
      "execution_count": 127,
      "outputs": []
    },
    {
      "cell_type": "code",
      "source": [
        "llm.get_num_tokens(essay)"
      ],
      "metadata": {
        "id": "JPDXizse7LNs",
        "colab": {
          "base_uri": "https://localhost:8080/"
        },
        "outputId": "e06f00bb-afff-4fe4-fa0c-e2d4576c2d32"
      },
      "execution_count": 128,
      "outputs": [
        {
          "output_type": "execute_result",
          "data": {
            "text/plain": [
              "6352"
            ]
          },
          "metadata": {},
          "execution_count": 128
        }
      ]
    },
    {
      "cell_type": "code",
      "source": [
        "text_splitter = RecursiveCharacterTextSplitter(separators=[\"\\n\\n\", \"\\n\"], chunk_size=10000, chunk_overlap=500)\n",
        "\n",
        "docs = text_splitter.create_documents([essay])"
      ],
      "metadata": {
        "id": "-EwnF7ug7OeC"
      },
      "execution_count": 129,
      "outputs": []
    },
    {
      "cell_type": "code",
      "source": [
        "num_docs = len(docs)\n",
        "\n",
        "num_tokens_first_doc = llm.get_num_tokens(docs[0].page_content)\n",
        "\n",
        "print (f\"Now we have {num_docs} documents and the first one has {num_tokens_first_doc} tokens\")"
      ],
      "metadata": {
        "id": "3bQx3DFR7QxF",
        "colab": {
          "base_uri": "https://localhost:8080/"
        },
        "outputId": "06378286-d71b-49f0-d194-d119431e11cc"
      },
      "execution_count": 130,
      "outputs": [
        {
          "output_type": "stream",
          "name": "stdout",
          "text": [
            "Now we have 3 documents and the first one has 1774 tokens\n"
          ]
        }
      ]
    },
    {
      "cell_type": "code",
      "source": [
        "summary_chain = load_summarize_chain(llm=llm, chain_type='map_reduce',\n",
        "                                     verbose=True # Set verbose=True if you want to see the prompts being used\n",
        "                                    )"
      ],
      "metadata": {
        "id": "DHe23pmK7ULx"
      },
      "execution_count": 131,
      "outputs": []
    },
    {
      "cell_type": "code",
      "source": [
        "output = summary_chain.invoke(docs)"
      ],
      "metadata": {
        "id": "XRyGiCNt7WGr",
        "colab": {
          "base_uri": "https://localhost:8080/"
        },
        "outputId": "60b3bfd0-efa6-46e7-944a-ab02e5b7256f"
      },
      "execution_count": 132,
      "outputs": [
        {
          "output_type": "stream",
          "name": "stdout",
          "text": [
            "\n",
            "\n",
            "\u001b[1m> Entering new MapReduceDocumentsChain chain...\u001b[0m\n",
            "\n",
            "\n",
            "\u001b[1m> Entering new LLMChain chain...\u001b[0m\n",
            "Prompt after formatting:\n",
            "\u001b[32;1m\u001b[1;3mWrite a concise summary of the following:\n",
            "\n",
            "\n",
            "\"April 2006(This essay is derived from a talk at the 2006 \n",
            "Startup School.)The startups we've funded so far are pretty quick, but they seem\n",
            "quicker to learn some lessons than others.  I think it's because\n",
            "some things about startups are kind of counterintuitive.We've now \n",
            "invested \n",
            "in enough companies that I've learned a trick\n",
            "for determining which points are the counterintuitive ones:\n",
            "they're the ones I have to keep repeating.So I'm going to number these points, and maybe with future startups\n",
            "I'll be able to pull off a form of Huffman coding. I'll make them\n",
            "all read this, and then instead of nagging them in detail, I'll\n",
            "just be able to say: number four!\n",
            "1. Release Early.The thing I probably repeat most is this recipe for a startup: get\n",
            "a version 1 out fast, then improve it based on users' reactions.By \"release early\" I don't mean you should release something full\n",
            "of bugs, but that you should release something minimal.  Users hate\n",
            "bugs, but they don't seem to mind a minimal version 1, if there's\n",
            "more coming soon.There are several reasons it pays to get version 1 done fast.  One\n",
            "is that this is simply the right way to write software, whether for\n",
            "a startup or not.  I've been repeating that since 1993, and I haven't seen much since to\n",
            "contradict it.  I've seen a lot of startups die because they were\n",
            "too slow to release stuff, and none because they were too quick.\n",
            "[1]One of the things that will surprise you if you build something\n",
            "popular is that you won't know your users.  Reddit now has almost half a million\n",
            "unique visitors a month.  Who are all those people?  They have no\n",
            "idea.  No web startup does.  And since you don't know your users,\n",
            "it's dangerous to guess what they'll like.  Better to release\n",
            "something and let them tell you.Wufoo took this to heart and released\n",
            "their form-builder before the underlying database.  You can't even\n",
            "drive the thing yet, but 83,000 people came to sit in the driver's\n",
            "seat and hold the steering wheel.  And Wufoo got valuable feedback\n",
            "from it: Linux users complained they used too much Flash, so they\n",
            "rewrote their software not to.  If they'd waited to release everything\n",
            "at once, they wouldn't have discovered this problem till it was\n",
            "more deeply wired in.Even if you had no users, it would still be important to release\n",
            "quickly, because for a startup the initial release acts as a shakedown\n",
            "cruise.  If anything major is broken-- if the idea's no good,\n",
            "for example, or the founders hate one another-- the stress of getting\n",
            "that first version out will expose it.  And if you have such problems\n",
            "you want to find them early.Perhaps the most important reason to release early, though, is that\n",
            "it makes you work harder.  When you're working on something that\n",
            "isn't released, problems are intriguing.  In something that's out\n",
            "there, problems are alarming.  There is a lot more urgency once you\n",
            "release.  And I think that's precisely why people put it off.  They\n",
            "know they'll have to work a lot harder once they do. \n",
            "[2]\n",
            "2. Keep Pumping Out Features.Of course, \"release early\" has a second component, without which\n",
            "it would be bad advice.  If you're going to start with something\n",
            "that doesn't do much, you better improve it fast.What I find myself repeating is \"pump out features.\"  And this rule\n",
            "isn't just for the initial stages.  This is something all startups\n",
            "should do for as long as they want to be considered startups.I don't mean, of course, that you should make your application ever\n",
            "more complex.  By \"feature\" I mean one unit of hacking-- one quantum\n",
            "of making users' lives better.As with exercise, improvements beget improvements.  If you run every\n",
            "day, you'll probably feel like running tomorrow.  But if you skip\n",
            "running for a couple weeks, it will be an effort to drag yourself\n",
            "out.  So it is with hacking: the more ideas you implement, the more\n",
            "ideas you'll have.  You should make your system better at least in\n",
            "some small way every day or two.This is not just a good way to get development done; it is also a\n",
            "form of marketing.  Users love a site that's constantly improving.\n",
            "In fact, users expect a site to improve.  Imagine if you visited a\n",
            "site that seemed very good, and then returned two months later and\n",
            "not one thing had changed.  Wouldn't it start to seem lame? \n",
            "[3]They'll like you even better when you improve in response to their\n",
            "comments, because customers are used to companies ignoring them.\n",
            "If you're the rare exception-- a company that actually listens--\n",
            "you'll generate fanatical loyalty.  You won't need to advertise,\n",
            "because your users will do it for you.This seems obvious too, so why do I have to keep repeating it?  I\n",
            "think the problem here is that people get used to how things are.\n",
            "Once a product gets past the stage where it has glaring flaws, you\n",
            "start to get used to it, and gradually whatever features it happens\n",
            "to have become its identity.  For example, I doubt many people at\n",
            "Yahoo (or Google for that matter) realized how much better web mail\n",
            "could be till Paul Buchheit showed them.I think the solution is to assume that anything you've made is far\n",
            "short of what it could be.  Force yourself, as a sort of intellectual\n",
            "exercise, to keep thinking of improvements.  Ok, sure, what you\n",
            "have is perfect.  But if you had to change something, what would\n",
            "it be?If your product seems finished, there are two possible explanations:\n",
            "(a) it is finished, or (b) you lack imagination.  Experience suggests\n",
            "(b) is a thousand times more likely.\n",
            "3. Make Users Happy.Improving constantly is an instance of a more general rule: make\n",
            "users happy.  One thing all startups have in common is that they\n",
            "can't force anyone to do anything.  They can't force anyone to use\n",
            "their software, and they can't force anyone to do deals with them.\n",
            "A startup has to sing for its supper.  That's why the successful\n",
            "ones make great things.  They have to, or die.When you're running a startup you feel like a little bit of debris\n",
            "blown about by powerful winds.  The most powerful wind is users.\n",
            "They can either catch you and loft you up into the sky, as they did\n",
            "with Google, or leave you flat on the pavement, as they do with\n",
            "most startups.  Users are a fickle wind, but more powerful than any\n",
            "other.  If they take you up, no competitor can keep you down.As a little piece of debris, the rational thing for you to do is\n",
            "not to lie flat, but to curl yourself into a shape the wind will\n",
            "catch.I like the wind metaphor because it reminds you how impersonal the\n",
            "stream of traffic is.  The vast majority of people who visit your\n",
            "site will be casual visitors.  It's them you have to design your\n",
            "site for.  The people who really care will find what they want by\n",
            "themselves.The median visitor will arrive with their finger poised on the Back\n",
            "button.  Think about your own experience: most links you\n",
            "follow lead to something lame.  Anyone who has used the web for\n",
            "more than a couple weeks has been trained to click on Back after\n",
            "following a link.  So your site has to say \"Wait!  Don't click on\n",
            "Back.  This site isn't lame.  Look at this, for example.\"There are two things you have to do to make people pause.  The most\n",
            "important is to explain, as concisely as possible, what the hell\n",
            "your site is about.  How often have you visited a site that seemed\n",
            "to assume you already knew what they did?  For example, the corporate\n",
            "site that says the\n",
            "company makes\n",
            "\n",
            "  enterprise content management solutions for business that enable\n",
            "  organizations to unify people, content and processes to minimize\n",
            "  business risk, accelerate time-to-value and sustain lower total\n",
            "  cost of ownership.\"\n",
            "\n",
            "\n",
            "CONCISE SUMMARY:\u001b[0m\n",
            "Prompt after formatting:\n",
            "\u001b[32;1m\u001b[1;3mWrite a concise summary of the following:\n",
            "\n",
            "\n",
            "\"An established company may get away with such an opaque description,\n",
            "but no startup can.  A startup\n",
            "should be able to explain in one or two sentences exactly what it\n",
            "does. \n",
            "[4]\n",
            "And not just to users.  You need this for everyone:\n",
            "investors, acquirers, partners, reporters, potential employees, and\n",
            "even current employees.  You probably shouldn't even start a company\n",
            "to do something that can't be described compellingly in one or two\n",
            "sentences.The other thing I repeat is to give people everything you've got,\n",
            "right away.  If you have something impressive, try to put it on the\n",
            "front page, because that's the only one most visitors will see.\n",
            "Though indeed there's a paradox here: the more you push the good\n",
            "stuff toward the front, the more likely visitors are to explore\n",
            "further. \n",
            "[5]In the best case these two suggestions get combined: you tell\n",
            "visitors what your site is about by showing them.  One of the\n",
            "standard pieces of advice in fiction writing is \"show, don't tell.\"\n",
            "Don't say that a character's angry; have him grind his teeth, or\n",
            "break his pencil in half.  Nothing will explain what your site does\n",
            "so well as using it.The industry term here is \"conversion.\"  The job of your site is\n",
            "to convert casual visitors into users-- whatever your definition\n",
            "of a user is.  You can measure this in your growth rate.  Either\n",
            "your site is catching on, or it isn't, and you must know which.  If\n",
            "you have decent growth, you'll win in the end, no matter how obscure\n",
            "you are now.  And if you don't, you need to fix something.\n",
            "4. Fear the Right Things.Another thing I find myself saying a lot is \"don't worry.\"  Actually,\n",
            "it's more often \"don't worry about this; worry about that instead.\"\n",
            "Startups are right to be paranoid, but they sometimes fear the wrong\n",
            "things.Most visible disasters are not so alarming as they seem.  Disasters\n",
            "are normal in a startup: a founder quits, you discover a patent\n",
            "that covers what you're doing, your servers keep crashing, you run\n",
            "into an insoluble technical problem, you have to change your name,\n",
            "a deal falls through-- these are all par for the course.  They won't\n",
            "kill you unless you let them.Nor will most competitors.  A lot of startups worry \"what if Google\n",
            "builds something like us?\"  Actually big companies are not the ones\n",
            "you have to worry about-- not even Google.  The people at Google\n",
            "are smart, but no smarter than you; they're not as motivated, because\n",
            "Google is not going to go out of business if this one product fails;\n",
            "and even at Google they have a lot of bureaucracy to slow them down.What you should fear, as a startup, is not the established players,\n",
            "but other startups you don't know exist yet.  They're way more\n",
            "dangerous than Google because, like you, they're cornered animals.Looking just at existing competitors can give you a false sense of\n",
            "security.  You should compete against what someone else could be\n",
            "doing, not just what you can see people doing.  A corollary is that\n",
            "you shouldn't relax just because you have no visible competitors\n",
            "yet.  No matter what your idea, there's someone else out there\n",
            "working on the same thing.That's the downside of it being easier to start a startup: more people\n",
            "are doing it.  But I disagree with Caterina Fake when she says that\n",
            "makes this a bad time to start a startup.  More people are starting\n",
            "startups, but not as many more as could.  Most college graduates\n",
            "still think they have to get a job.  The average person can't ignore\n",
            "something that's been beaten into their head since they were three\n",
            "just because serving web pages recently got a lot cheaper.And in any case, competitors are not the biggest threat.  Way more\n",
            "startups hose themselves than get crushed by competitors.  There\n",
            "are a lot of ways to do it, but the three main ones are internal\n",
            "disputes, inertia, and ignoring users.  Each is, by itself, enough\n",
            "to kill you.  But if I had to pick the worst, it would be ignoring\n",
            "users.  If you want a recipe for a startup that's going to die,\n",
            "here it is: a couple of founders who have some great idea they know\n",
            "everyone is going to love, and that's what they're going to build,\n",
            "no matter what.Almost everyone's initial plan is broken.  If companies stuck to\n",
            "their initial plans, Microsoft would be selling programming languages,\n",
            "and Apple would be selling printed circuit boards.  In both cases\n",
            "their customers told them what their business should be-- and they\n",
            "were smart enough to listen.As Richard Feynman said, the imagination of nature is greater than\n",
            "the imagination of man.  You'll find more interesting things by\n",
            "looking at the world than you could ever produce just by thinking.\n",
            "This principle is very powerful.  It's why the best abstract painting\n",
            "still falls short of Leonardo, for example.  And it applies to\n",
            "startups too.  No idea for a product could ever be so clever as the\n",
            "ones you can discover by smashing a beam of prototypes into a beam\n",
            "of users.\n",
            "5. Commitment Is a Self-Fulfilling Prophecy.I now have enough experience with startups to be able to say what\n",
            "the most important quality is in a startup founder, and it's not\n",
            "what you might think.  The most important quality in a startup\n",
            "founder is determination.  Not intelligence-- determination.This is a little depressing.  I'd like to believe Viaweb succeeded\n",
            "because we were smart, not merely determined.  A lot of people in\n",
            "the startup world want to believe that.  Not just founders, but\n",
            "investors too.  They like the idea of inhabiting a world ruled by\n",
            "intelligence.  And you can tell they really believe this, because\n",
            "it affects their investment decisions.Time after time VCs invest in startups founded by eminent professors.\n",
            "This may work in biotech, where a lot of startups simply commercialize\n",
            "existing research, but in software you want to invest in students,\n",
            "not professors.  Microsoft, Yahoo, and Google were all founded by\n",
            "people who dropped out of school to do it.  What students lack in\n",
            "experience they more than make up in dedication.Of course, if you want to get rich, it's not enough merely to be\n",
            "determined.  You have to be smart too, right?  I'd like to think\n",
            "so, but I've had an experience that convinced me otherwise: I spent\n",
            "several years living in New York.You can lose quite a lot in the brains department and it won't kill\n",
            "you.  But lose even a little bit in the commitment department, and\n",
            "that will kill you very rapidly.Running a startup is like walking on your hands: it's possible, but\n",
            "it requires extraordinary effort.  If an ordinary employee were\n",
            "asked to do the things a startup founder has to, he'd be very\n",
            "indignant.  Imagine if you were hired at some big company, and in\n",
            "addition to writing software ten times faster than you'd ever had\n",
            "to before, they expected you to answer support calls, administer\n",
            "the servers, design the web site, cold-call customers, find the\n",
            "company office space, and go out and get everyone lunch.And to do all this not in the calm, womb-like atmosphere of a big\n",
            "company, but against a backdrop of constant disasters.  That's the\n",
            "part that really demands determination.  In a startup, there's\n",
            "always some disaster happening.  So if you're the least bit inclined\n",
            "to find an excuse to quit, there's always one right there.But if you lack commitment, chances are it will have been hurting\n",
            "you long before you actually quit.  Everyone who deals with startups\n",
            "knows how important commitment is, so if they sense you're ambivalent,\n",
            "they won't give you much attention.  If you lack commitment, you'll\n",
            "just find that for some mysterious reason good things happen to\n",
            "your competitors but not to you.  If you lack commitment, it will\n",
            "seem to you that you're unlucky.Whereas if you're determined to stick around, people will pay\n",
            "attention to you, because odds are they'll have to deal with you\n",
            "later.  You're a local, not just a tourist, so everyone has to come\n",
            "to terms with you.At Y Combinator we sometimes mistakenly fund teams who have the\n",
            "attitude that they're going to give this startup thing a shot for\n",
            "three months, and if something great happens, they'll stick with\n",
            "it-- \"something great\" meaning either that someone wants to buy\n",
            "them or invest millions of dollars in them.  But if this is your\n",
            "attitude, \"something great\" is very unlikely to happen to you,\n",
            "because both acquirers and investors judge you by your level of\n",
            "commitment.If an acquirer thinks you're going to stick around no matter what,\n",
            "they'll be more likely to buy you, because if they don't and you\n",
            "stick around, you'll probably grow, your price will go up, and\n",
            "they'll be left wishing they'd bought you earlier.  Ditto for\n",
            "investors.  What really motivates investors, even big VCs, is not\n",
            "the hope of good returns, but the fear of missing out. \n",
            "[6]\n",
            "So if\n",
            "you make it clear you're going to succeed no matter what, and the only\n",
            "reason you need them is to make it happen a little faster, you're\n",
            "much more likely to get money.You can't fake this.  The only way to convince everyone that you're\n",
            "ready to fight to the death is actually to be ready to.You have to be the right kind of determined, though.  I carefully\n",
            "chose the word determined rather than stubborn, because stubbornness\n",
            "is a disastrous quality in a startup.  You have to be determined,\n",
            "but flexible, like a running back.  A successful running back doesn't\n",
            "just put his head down and try to run through people.  He improvises:\n",
            "if someone appears in front of him, he runs around them; if someone\n",
            "tries to grab him, he spins out of their grip; he'll even run in\n",
            "the wrong direction briefly if that will help.  The one thing he'll\n",
            "never do is stand still. \n",
            "[7]\n",
            "6. There Is Always Room.I was talking recently to a startup founder about whether it might\n",
            "be good to add a social component to their software.  He said he\n",
            "didn't think so, because the whole social thing was tapped out.\n",
            "Really?  So in a hundred years the only social networking sites\n",
            "will be the Facebook, MySpace, Flickr, and Del.icio.us?  Not likely.There is always room for new stuff.  At every point in history,\n",
            "even the darkest bits of the dark ages, people were discovering\"\n",
            "\n",
            "\n",
            "CONCISE SUMMARY:\u001b[0m\n",
            "Prompt after formatting:\n",
            "\u001b[32;1m\u001b[1;3mWrite a concise summary of the following:\n",
            "\n",
            "\n",
            "\"[7]\n",
            "6. There Is Always Room.I was talking recently to a startup founder about whether it might\n",
            "be good to add a social component to their software.  He said he\n",
            "didn't think so, because the whole social thing was tapped out.\n",
            "Really?  So in a hundred years the only social networking sites\n",
            "will be the Facebook, MySpace, Flickr, and Del.icio.us?  Not likely.There is always room for new stuff.  At every point in history,\n",
            "even the darkest bits of the dark ages, people were discovering\n",
            "things that made everyone say \"why didn't anyone think of that\n",
            "before?\"  We know this continued to be true up till 2004, when the\n",
            "Facebook was founded-- though strictly speaking someone else did\n",
            "think of that.The reason we don't see the opportunities all around us is that we\n",
            "adjust to however things are, and assume that's how things have to\n",
            "be.  For example, it would seem crazy to most people to try to make\n",
            "a better search engine than Google.  Surely that field, at least,\n",
            "is tapped out.  Really?  In a hundred years-- or even twenty-- are\n",
            "people still going to search for information using something like\n",
            "the current Google?  Even Google probably doesn't think that.In particular, I don't think there's any limit to the number of\n",
            "startups.  Sometimes you hear people saying \"All these guys starting\n",
            "startups now are going to be disappointed. How many little startups\n",
            "are Google and Yahoo going to buy, after all?\" That sounds cleverly\n",
            "skeptical, but I can prove it's mistaken.  No one proposes that\n",
            "there's some limit to the number of people who can be employed in\n",
            "an economy consisting of big, slow-moving companies with a couple\n",
            "thousand people each.  Why should there be any limit to the number\n",
            "who could be employed by small, fast-moving companies with ten each?\n",
            "It seems to me the only limit would be the number of people who\n",
            "want to work that hard.The limit on the number of startups is not the number that can get\n",
            "acquired by Google and Yahoo-- though it seems even that should\n",
            "be unlimited, if the startups were actually worth buying-- but the\n",
            "amount of wealth that can be created.  And I don't think there's\n",
            "any limit on that, except cosmological ones.So for all practical purposes, there is no limit to the number of\n",
            "startups.  Startups make wealth, which means they make things people\n",
            "want, and if there's a limit on the number of things people want,\n",
            "we are nowhere near it.  I still don't even have a flying car.\n",
            "7. Don't Get Your Hopes Up.This is another one I've been repeating since long before Y Combinator.\n",
            "It was practically the corporate motto at Viaweb.Startup founders are naturally optimistic.  They wouldn't do it\n",
            "otherwise.  But you should treat your optimism the way you'd treat\n",
            "the core of a nuclear reactor: as a source of power that's also\n",
            "very dangerous.  You have to build a shield around it, or it will\n",
            "fry you.The shielding of a reactor is not uniform; the reactor would be\n",
            "useless if it were.  It's pierced in a few places to let pipes in.\n",
            "An optimism shield has to be pierced too.  I think the place to\n",
            "draw the line is between what you expect of yourself, and what you\n",
            "expect of other people.  It's ok to be optimistic about what you\n",
            "can do, but assume the worst about machines and other people.This is particularly necessary in a startup, because you tend to\n",
            "be pushing the limits of whatever you're doing.  So things don't\n",
            "happen in the smooth, predictable way they do in the rest of the\n",
            "world.  Things change suddenly, and usually for the worse.Shielding your optimism is nowhere more important than with deals.\n",
            "If your startup is doing a deal, just assume it's not going to\n",
            "happen.  The VCs who say they're going to invest in you aren't.\n",
            "The company that says they're going to buy you isn't.  The big\n",
            "customer who wants to use your system in their whole company won't.\n",
            "Then if things work out you can be pleasantly surprised.The reason I warn startups not to get their hopes up is not to save\n",
            "them from being disappointed when things fall through.  It's\n",
            "for a more practical reason: to prevent them from leaning their\n",
            "company against something that's going to fall over, taking them\n",
            "with it.For example, if someone says they want to invest in you, there's a\n",
            "natural tendency to stop looking for other investors.  That's why\n",
            "people proposing deals seem so positive: they want you to\n",
            "stop looking.  And you want to stop too, because doing deals is a\n",
            "pain.  Raising money, in particular, is a huge time sink.  So you\n",
            "have to consciously force yourself to keep looking.Even if you ultimately do the first deal, it will be to your advantage\n",
            "to have kept looking, because you'll get better terms.  Deals are\n",
            "dynamic; unless you're negotiating with someone unusually honest,\n",
            "there's not a single point where you shake hands and the deal's\n",
            "done. There are usually a lot of subsidiary questions to be cleared\n",
            "up after the handshake, and if the other side senses weakness-- if\n",
            "they sense you need this deal-- they will be very tempted to screw\n",
            "you in the details.VCs and corp dev guys are professional negotiators.  They're trained\n",
            "to take advantage of weakness. \n",
            "[8]\n",
            "So while they're often nice\n",
            "guys, they just can't help it.  And as pros they do this more than\n",
            "you.  So don't even try to bluff them.  The only way a startup can\n",
            "have any leverage in a deal is genuinely not to need it.  And if\n",
            "you don't believe in a deal, you'll be less likely to depend on it.So I want to plant a hypnotic suggestion in your heads: when you\n",
            "hear someone say the words \"we want to invest in you\" or \"we want\n",
            "to acquire you,\" I want the following phrase to appear automatically\n",
            "in your head: don't get your hopes up.  Just continue running\n",
            "your company as if this deal didn't exist.  Nothing is more likely\n",
            "to make it close.The way to succeed in a startup is to focus on the goal of getting\n",
            "lots of users, and keep walking swiftly toward it while investors\n",
            "and acquirers scurry alongside trying to wave money in your face.\n",
            "Speed, not MoneyThe way I've described it, starting a startup sounds pretty stressful.\n",
            "It is.  When I talk to the founders of the companies we've funded,\n",
            "they all say the same thing: I knew it would be hard, but I didn't\n",
            "realize it would be this hard.So why do it?  It would be worth enduring a lot of pain and stress\n",
            "to do something grand or heroic, but just to make money?  Is making\n",
            "money really that important?No, not really.  It seems ridiculous to me when people take business\n",
            "too seriously.  I regard making money as a boring errand to be got\n",
            "out of the way as soon as possible.  There is nothing grand or\n",
            "heroic about starting a startup per se.So why do I spend so much time thinking about startups?  I'll tell\n",
            "you why.  Economically, a startup is best seen not as a way to get\n",
            "rich, but as a way to work faster.  You have to make a living, and\n",
            "a startup is a way to get that done quickly, instead of letting it\n",
            "drag on through your whole life.\n",
            "[9]We take it for granted most of the time, but human life is fairly\n",
            "miraculous.  It is also palpably short.  You're given this marvellous\n",
            "thing, and then poof, it's taken away.  You can see why people\n",
            "invent gods to explain it.  But even to people who don't believe\n",
            "in gods, life commands respect.  There are times in most of our\n",
            "lives when the days go by in a blur, and almost everyone has a\n",
            "sense, when this happens, of wasting something precious.  As Ben\n",
            "Franklin said, if you love life, don't waste time, because time is\n",
            "what life is made of.So no, there's nothing particularly grand about making money.  That's\n",
            "not what makes startups worth the trouble.  What's important about\n",
            "startups is the speed.  By compressing the dull but necessary task\n",
            "of making a living into the smallest possible time, you show respect\n",
            "for life, and there is something grand about that.Notes[1]\n",
            "Startups can die from releasing something full of bugs, and not\n",
            "fixing them fast enough, but I don't know of any that died from\n",
            "releasing something stable but minimal very early, then promptly\n",
            "improving it.[2]\n",
            "I know this is why I haven't released Arc.  The moment I do,\n",
            "I'll have people nagging me for features.[3]\n",
            "A web site is different from a book or movie or desktop application\n",
            "in this respect.  Users judge a site not as a single snapshot, but\n",
            "as an animation with multiple frames.  Of the two, I'd say the rate of\n",
            "improvement is more important to users than where you currently\n",
            "are.[4]\n",
            "It should not always tell this to users, however.  For example,\n",
            "MySpace is basically a replacement mall for mallrats.  But it was\n",
            "wiser for them, initially, to pretend that the site was about bands.[5]\n",
            "Similarly, don't make users register to try your site.  Maybe\n",
            "what you have is so valuable that visitors should gladly register\n",
            "to get at it.  But they've been trained to expect the opposite.\n",
            "Most of the things they've tried on the web have sucked-- and\n",
            "probably especially those that made them register.[6]\n",
            "VCs have rational reasons for behaving this way. They don't\n",
            "make their money (if they make money) off their median investments.\n",
            "In a typical fund, half the companies fail, most of the rest generate\n",
            "mediocre returns, and one or two \"make the fund\" by succeeding\n",
            "spectacularly.  So if they miss just a few of the most promising\n",
            "opportunities, it could hose the whole fund.[7]\n",
            "The attitude of a running back doesn't translate to soccer.\n",
            "Though it looks great when a forward dribbles past multiple defenders,\n",
            "a player who persists in trying such things will do worse in the\n",
            "long term than one who passes.[8]\n",
            "The reason Y Combinator never negotiates valuations\n",
            "is that we're not professional negotiators, and don't want to turn\n",
            "into them.[9]\n",
            "There are two ways to do \n",
            "work you love: (a) to make money, then work\n",
            "on what you love, or (b) to get a job where you get paid to work on\n",
            "stuff you love.  In practice the first phases of both\n",
            "consist mostly of unedifying schleps, and in (b) the second phase is less\n",
            "secure.Thanks to Sam Altman, Trevor Blackwell, Beau Hartshorne, Jessica \n",
            "Livingston, and Robert Morris for reading drafts of this.\"\n",
            "\n",
            "\n",
            "CONCISE SUMMARY:\u001b[0m\n",
            "\n",
            "\u001b[1m> Finished chain.\u001b[0m\n",
            "\n",
            "\n",
            "\u001b[1m> Entering new LLMChain chain...\u001b[0m\n",
            "Prompt after formatting:\n",
            "\u001b[32;1m\u001b[1;3mWrite a concise summary of the following:\n",
            "\n",
            "\n",
            "\" This essay discusses lessons learned from funding startups and the importance of releasing a minimal version 1 quickly, continuously improving and adding features, and making users happy. The author emphasizes the need to constantly think of improvements and cater to the casual visitors who make up the majority of website traffic. \n",
            "\n",
            "\n",
            "\n",
            "Startups should be able to clearly explain what they do in one or two sentences to everyone, including investors, partners, and employees. It is important to showcase the best aspects of the company on the front page. Startups should not fear established companies, but rather other startups that may be working on similar ideas. Commitment and determination are crucial qualities for startup founders. There is always room for new ideas and innovations, even in seemingly saturated markets.\n",
            "\n",
            "\n",
            "\n",
            "The author discusses the potential for new social networking sites and startups, emphasizing that there is always room for new ideas and opportunities. They caution against getting too optimistic about deals and advise startups to focus on gaining users rather than making money. The author also reflects on the value of time and the importance of working quickly in a startup. They also mention the two ways to do work you love: making money and then working on what you love, or finding a job that allows you to work on what you love.\"\n",
            "\n",
            "\n",
            "CONCISE SUMMARY:\u001b[0m\n",
            "\n",
            "\u001b[1m> Finished chain.\u001b[0m\n",
            "\n",
            "\u001b[1m> Finished chain.\u001b[0m\n"
          ]
        }
      ]
    },
    {
      "cell_type": "code",
      "source": [
        "output"
      ],
      "metadata": {
        "colab": {
          "base_uri": "https://localhost:8080/"
        },
        "id": "S-Fas_tsmoSJ",
        "outputId": "16fd192c-caa2-40c6-ccf0-6399e919acfc"
      },
      "execution_count": 133,
      "outputs": [
        {
          "output_type": "execute_result",
          "data": {
            "text/plain": [
              "{'input_documents': [Document(metadata={}, page_content='April 2006(This essay is derived from a talk at the 2006 \\nStartup School.)The startups we\\'ve funded so far are pretty quick, but they seem\\nquicker to learn some lessons than others.  I think it\\'s because\\nsome things about startups are kind of counterintuitive.We\\'ve now \\ninvested \\nin enough companies that I\\'ve learned a trick\\nfor determining which points are the counterintuitive ones:\\nthey\\'re the ones I have to keep repeating.So I\\'m going to number these points, and maybe with future startups\\nI\\'ll be able to pull off a form of Huffman coding. I\\'ll make them\\nall read this, and then instead of nagging them in detail, I\\'ll\\njust be able to say: number four!\\n1. Release Early.The thing I probably repeat most is this recipe for a startup: get\\na version 1 out fast, then improve it based on users\\' reactions.By \"release early\" I don\\'t mean you should release something full\\nof bugs, but that you should release something minimal.  Users hate\\nbugs, but they don\\'t seem to mind a minimal version 1, if there\\'s\\nmore coming soon.There are several reasons it pays to get version 1 done fast.  One\\nis that this is simply the right way to write software, whether for\\na startup or not.  I\\'ve been repeating that since 1993, and I haven\\'t seen much since to\\ncontradict it.  I\\'ve seen a lot of startups die because they were\\ntoo slow to release stuff, and none because they were too quick.\\n[1]One of the things that will surprise you if you build something\\npopular is that you won\\'t know your users.  Reddit now has almost half a million\\nunique visitors a month.  Who are all those people?  They have no\\nidea.  No web startup does.  And since you don\\'t know your users,\\nit\\'s dangerous to guess what they\\'ll like.  Better to release\\nsomething and let them tell you.Wufoo took this to heart and released\\ntheir form-builder before the underlying database.  You can\\'t even\\ndrive the thing yet, but 83,000 people came to sit in the driver\\'s\\nseat and hold the steering wheel.  And Wufoo got valuable feedback\\nfrom it: Linux users complained they used too much Flash, so they\\nrewrote their software not to.  If they\\'d waited to release everything\\nat once, they wouldn\\'t have discovered this problem till it was\\nmore deeply wired in.Even if you had no users, it would still be important to release\\nquickly, because for a startup the initial release acts as a shakedown\\ncruise.  If anything major is broken-- if the idea\\'s no good,\\nfor example, or the founders hate one another-- the stress of getting\\nthat first version out will expose it.  And if you have such problems\\nyou want to find them early.Perhaps the most important reason to release early, though, is that\\nit makes you work harder.  When you\\'re working on something that\\nisn\\'t released, problems are intriguing.  In something that\\'s out\\nthere, problems are alarming.  There is a lot more urgency once you\\nrelease.  And I think that\\'s precisely why people put it off.  They\\nknow they\\'ll have to work a lot harder once they do. \\n[2]\\n2. Keep Pumping Out Features.Of course, \"release early\" has a second component, without which\\nit would be bad advice.  If you\\'re going to start with something\\nthat doesn\\'t do much, you better improve it fast.What I find myself repeating is \"pump out features.\"  And this rule\\nisn\\'t just for the initial stages.  This is something all startups\\nshould do for as long as they want to be considered startups.I don\\'t mean, of course, that you should make your application ever\\nmore complex.  By \"feature\" I mean one unit of hacking-- one quantum\\nof making users\\' lives better.As with exercise, improvements beget improvements.  If you run every\\nday, you\\'ll probably feel like running tomorrow.  But if you skip\\nrunning for a couple weeks, it will be an effort to drag yourself\\nout.  So it is with hacking: the more ideas you implement, the more\\nideas you\\'ll have.  You should make your system better at least in\\nsome small way every day or two.This is not just a good way to get development done; it is also a\\nform of marketing.  Users love a site that\\'s constantly improving.\\nIn fact, users expect a site to improve.  Imagine if you visited a\\nsite that seemed very good, and then returned two months later and\\nnot one thing had changed.  Wouldn\\'t it start to seem lame? \\n[3]They\\'ll like you even better when you improve in response to their\\ncomments, because customers are used to companies ignoring them.\\nIf you\\'re the rare exception-- a company that actually listens--\\nyou\\'ll generate fanatical loyalty.  You won\\'t need to advertise,\\nbecause your users will do it for you.This seems obvious too, so why do I have to keep repeating it?  I\\nthink the problem here is that people get used to how things are.\\nOnce a product gets past the stage where it has glaring flaws, you\\nstart to get used to it, and gradually whatever features it happens\\nto have become its identity.  For example, I doubt many people at\\nYahoo (or Google for that matter) realized how much better web mail\\ncould be till Paul Buchheit showed them.I think the solution is to assume that anything you\\'ve made is far\\nshort of what it could be.  Force yourself, as a sort of intellectual\\nexercise, to keep thinking of improvements.  Ok, sure, what you\\nhave is perfect.  But if you had to change something, what would\\nit be?If your product seems finished, there are two possible explanations:\\n(a) it is finished, or (b) you lack imagination.  Experience suggests\\n(b) is a thousand times more likely.\\n3. Make Users Happy.Improving constantly is an instance of a more general rule: make\\nusers happy.  One thing all startups have in common is that they\\ncan\\'t force anyone to do anything.  They can\\'t force anyone to use\\ntheir software, and they can\\'t force anyone to do deals with them.\\nA startup has to sing for its supper.  That\\'s why the successful\\nones make great things.  They have to, or die.When you\\'re running a startup you feel like a little bit of debris\\nblown about by powerful winds.  The most powerful wind is users.\\nThey can either catch you and loft you up into the sky, as they did\\nwith Google, or leave you flat on the pavement, as they do with\\nmost startups.  Users are a fickle wind, but more powerful than any\\nother.  If they take you up, no competitor can keep you down.As a little piece of debris, the rational thing for you to do is\\nnot to lie flat, but to curl yourself into a shape the wind will\\ncatch.I like the wind metaphor because it reminds you how impersonal the\\nstream of traffic is.  The vast majority of people who visit your\\nsite will be casual visitors.  It\\'s them you have to design your\\nsite for.  The people who really care will find what they want by\\nthemselves.The median visitor will arrive with their finger poised on the Back\\nbutton.  Think about your own experience: most links you\\nfollow lead to something lame.  Anyone who has used the web for\\nmore than a couple weeks has been trained to click on Back after\\nfollowing a link.  So your site has to say \"Wait!  Don\\'t click on\\nBack.  This site isn\\'t lame.  Look at this, for example.\"There are two things you have to do to make people pause.  The most\\nimportant is to explain, as concisely as possible, what the hell\\nyour site is about.  How often have you visited a site that seemed\\nto assume you already knew what they did?  For example, the corporate\\nsite that says the\\ncompany makes\\n\\n  enterprise content management solutions for business that enable\\n  organizations to unify people, content and processes to minimize\\n  business risk, accelerate time-to-value and sustain lower total\\n  cost of ownership.'),\n",
              "  Document(metadata={}, page_content='An established company may get away with such an opaque description,\\nbut no startup can.  A startup\\nshould be able to explain in one or two sentences exactly what it\\ndoes. \\n[4]\\nAnd not just to users.  You need this for everyone:\\ninvestors, acquirers, partners, reporters, potential employees, and\\neven current employees.  You probably shouldn\\'t even start a company\\nto do something that can\\'t be described compellingly in one or two\\nsentences.The other thing I repeat is to give people everything you\\'ve got,\\nright away.  If you have something impressive, try to put it on the\\nfront page, because that\\'s the only one most visitors will see.\\nThough indeed there\\'s a paradox here: the more you push the good\\nstuff toward the front, the more likely visitors are to explore\\nfurther. \\n[5]In the best case these two suggestions get combined: you tell\\nvisitors what your site is about by showing them.  One of the\\nstandard pieces of advice in fiction writing is \"show, don\\'t tell.\"\\nDon\\'t say that a character\\'s angry; have him grind his teeth, or\\nbreak his pencil in half.  Nothing will explain what your site does\\nso well as using it.The industry term here is \"conversion.\"  The job of your site is\\nto convert casual visitors into users-- whatever your definition\\nof a user is.  You can measure this in your growth rate.  Either\\nyour site is catching on, or it isn\\'t, and you must know which.  If\\nyou have decent growth, you\\'ll win in the end, no matter how obscure\\nyou are now.  And if you don\\'t, you need to fix something.\\n4. Fear the Right Things.Another thing I find myself saying a lot is \"don\\'t worry.\"  Actually,\\nit\\'s more often \"don\\'t worry about this; worry about that instead.\"\\nStartups are right to be paranoid, but they sometimes fear the wrong\\nthings.Most visible disasters are not so alarming as they seem.  Disasters\\nare normal in a startup: a founder quits, you discover a patent\\nthat covers what you\\'re doing, your servers keep crashing, you run\\ninto an insoluble technical problem, you have to change your name,\\na deal falls through-- these are all par for the course.  They won\\'t\\nkill you unless you let them.Nor will most competitors.  A lot of startups worry \"what if Google\\nbuilds something like us?\"  Actually big companies are not the ones\\nyou have to worry about-- not even Google.  The people at Google\\nare smart, but no smarter than you; they\\'re not as motivated, because\\nGoogle is not going to go out of business if this one product fails;\\nand even at Google they have a lot of bureaucracy to slow them down.What you should fear, as a startup, is not the established players,\\nbut other startups you don\\'t know exist yet.  They\\'re way more\\ndangerous than Google because, like you, they\\'re cornered animals.Looking just at existing competitors can give you a false sense of\\nsecurity.  You should compete against what someone else could be\\ndoing, not just what you can see people doing.  A corollary is that\\nyou shouldn\\'t relax just because you have no visible competitors\\nyet.  No matter what your idea, there\\'s someone else out there\\nworking on the same thing.That\\'s the downside of it being easier to start a startup: more people\\nare doing it.  But I disagree with Caterina Fake when she says that\\nmakes this a bad time to start a startup.  More people are starting\\nstartups, but not as many more as could.  Most college graduates\\nstill think they have to get a job.  The average person can\\'t ignore\\nsomething that\\'s been beaten into their head since they were three\\njust because serving web pages recently got a lot cheaper.And in any case, competitors are not the biggest threat.  Way more\\nstartups hose themselves than get crushed by competitors.  There\\nare a lot of ways to do it, but the three main ones are internal\\ndisputes, inertia, and ignoring users.  Each is, by itself, enough\\nto kill you.  But if I had to pick the worst, it would be ignoring\\nusers.  If you want a recipe for a startup that\\'s going to die,\\nhere it is: a couple of founders who have some great idea they know\\neveryone is going to love, and that\\'s what they\\'re going to build,\\nno matter what.Almost everyone\\'s initial plan is broken.  If companies stuck to\\ntheir initial plans, Microsoft would be selling programming languages,\\nand Apple would be selling printed circuit boards.  In both cases\\ntheir customers told them what their business should be-- and they\\nwere smart enough to listen.As Richard Feynman said, the imagination of nature is greater than\\nthe imagination of man.  You\\'ll find more interesting things by\\nlooking at the world than you could ever produce just by thinking.\\nThis principle is very powerful.  It\\'s why the best abstract painting\\nstill falls short of Leonardo, for example.  And it applies to\\nstartups too.  No idea for a product could ever be so clever as the\\nones you can discover by smashing a beam of prototypes into a beam\\nof users.\\n5. Commitment Is a Self-Fulfilling Prophecy.I now have enough experience with startups to be able to say what\\nthe most important quality is in a startup founder, and it\\'s not\\nwhat you might think.  The most important quality in a startup\\nfounder is determination.  Not intelligence-- determination.This is a little depressing.  I\\'d like to believe Viaweb succeeded\\nbecause we were smart, not merely determined.  A lot of people in\\nthe startup world want to believe that.  Not just founders, but\\ninvestors too.  They like the idea of inhabiting a world ruled by\\nintelligence.  And you can tell they really believe this, because\\nit affects their investment decisions.Time after time VCs invest in startups founded by eminent professors.\\nThis may work in biotech, where a lot of startups simply commercialize\\nexisting research, but in software you want to invest in students,\\nnot professors.  Microsoft, Yahoo, and Google were all founded by\\npeople who dropped out of school to do it.  What students lack in\\nexperience they more than make up in dedication.Of course, if you want to get rich, it\\'s not enough merely to be\\ndetermined.  You have to be smart too, right?  I\\'d like to think\\nso, but I\\'ve had an experience that convinced me otherwise: I spent\\nseveral years living in New York.You can lose quite a lot in the brains department and it won\\'t kill\\nyou.  But lose even a little bit in the commitment department, and\\nthat will kill you very rapidly.Running a startup is like walking on your hands: it\\'s possible, but\\nit requires extraordinary effort.  If an ordinary employee were\\nasked to do the things a startup founder has to, he\\'d be very\\nindignant.  Imagine if you were hired at some big company, and in\\naddition to writing software ten times faster than you\\'d ever had\\nto before, they expected you to answer support calls, administer\\nthe servers, design the web site, cold-call customers, find the\\ncompany office space, and go out and get everyone lunch.And to do all this not in the calm, womb-like atmosphere of a big\\ncompany, but against a backdrop of constant disasters.  That\\'s the\\npart that really demands determination.  In a startup, there\\'s\\nalways some disaster happening.  So if you\\'re the least bit inclined\\nto find an excuse to quit, there\\'s always one right there.But if you lack commitment, chances are it will have been hurting\\nyou long before you actually quit.  Everyone who deals with startups\\nknows how important commitment is, so if they sense you\\'re ambivalent,\\nthey won\\'t give you much attention.  If you lack commitment, you\\'ll\\njust find that for some mysterious reason good things happen to\\nyour competitors but not to you.  If you lack commitment, it will\\nseem to you that you\\'re unlucky.Whereas if you\\'re determined to stick around, people will pay\\nattention to you, because odds are they\\'ll have to deal with you\\nlater.  You\\'re a local, not just a tourist, so everyone has to come\\nto terms with you.At Y Combinator we sometimes mistakenly fund teams who have the\\nattitude that they\\'re going to give this startup thing a shot for\\nthree months, and if something great happens, they\\'ll stick with\\nit-- \"something great\" meaning either that someone wants to buy\\nthem or invest millions of dollars in them.  But if this is your\\nattitude, \"something great\" is very unlikely to happen to you,\\nbecause both acquirers and investors judge you by your level of\\ncommitment.If an acquirer thinks you\\'re going to stick around no matter what,\\nthey\\'ll be more likely to buy you, because if they don\\'t and you\\nstick around, you\\'ll probably grow, your price will go up, and\\nthey\\'ll be left wishing they\\'d bought you earlier.  Ditto for\\ninvestors.  What really motivates investors, even big VCs, is not\\nthe hope of good returns, but the fear of missing out. \\n[6]\\nSo if\\nyou make it clear you\\'re going to succeed no matter what, and the only\\nreason you need them is to make it happen a little faster, you\\'re\\nmuch more likely to get money.You can\\'t fake this.  The only way to convince everyone that you\\'re\\nready to fight to the death is actually to be ready to.You have to be the right kind of determined, though.  I carefully\\nchose the word determined rather than stubborn, because stubbornness\\nis a disastrous quality in a startup.  You have to be determined,\\nbut flexible, like a running back.  A successful running back doesn\\'t\\njust put his head down and try to run through people.  He improvises:\\nif someone appears in front of him, he runs around them; if someone\\ntries to grab him, he spins out of their grip; he\\'ll even run in\\nthe wrong direction briefly if that will help.  The one thing he\\'ll\\nnever do is stand still. \\n[7]\\n6. There Is Always Room.I was talking recently to a startup founder about whether it might\\nbe good to add a social component to their software.  He said he\\ndidn\\'t think so, because the whole social thing was tapped out.\\nReally?  So in a hundred years the only social networking sites\\nwill be the Facebook, MySpace, Flickr, and Del.icio.us?  Not likely.There is always room for new stuff.  At every point in history,\\neven the darkest bits of the dark ages, people were discovering'),\n",
              "  Document(metadata={}, page_content='[7]\\n6. There Is Always Room.I was talking recently to a startup founder about whether it might\\nbe good to add a social component to their software.  He said he\\ndidn\\'t think so, because the whole social thing was tapped out.\\nReally?  So in a hundred years the only social networking sites\\nwill be the Facebook, MySpace, Flickr, and Del.icio.us?  Not likely.There is always room for new stuff.  At every point in history,\\neven the darkest bits of the dark ages, people were discovering\\nthings that made everyone say \"why didn\\'t anyone think of that\\nbefore?\"  We know this continued to be true up till 2004, when the\\nFacebook was founded-- though strictly speaking someone else did\\nthink of that.The reason we don\\'t see the opportunities all around us is that we\\nadjust to however things are, and assume that\\'s how things have to\\nbe.  For example, it would seem crazy to most people to try to make\\na better search engine than Google.  Surely that field, at least,\\nis tapped out.  Really?  In a hundred years-- or even twenty-- are\\npeople still going to search for information using something like\\nthe current Google?  Even Google probably doesn\\'t think that.In particular, I don\\'t think there\\'s any limit to the number of\\nstartups.  Sometimes you hear people saying \"All these guys starting\\nstartups now are going to be disappointed. How many little startups\\nare Google and Yahoo going to buy, after all?\" That sounds cleverly\\nskeptical, but I can prove it\\'s mistaken.  No one proposes that\\nthere\\'s some limit to the number of people who can be employed in\\nan economy consisting of big, slow-moving companies with a couple\\nthousand people each.  Why should there be any limit to the number\\nwho could be employed by small, fast-moving companies with ten each?\\nIt seems to me the only limit would be the number of people who\\nwant to work that hard.The limit on the number of startups is not the number that can get\\nacquired by Google and Yahoo-- though it seems even that should\\nbe unlimited, if the startups were actually worth buying-- but the\\namount of wealth that can be created.  And I don\\'t think there\\'s\\nany limit on that, except cosmological ones.So for all practical purposes, there is no limit to the number of\\nstartups.  Startups make wealth, which means they make things people\\nwant, and if there\\'s a limit on the number of things people want,\\nwe are nowhere near it.  I still don\\'t even have a flying car.\\n7. Don\\'t Get Your Hopes Up.This is another one I\\'ve been repeating since long before Y Combinator.\\nIt was practically the corporate motto at Viaweb.Startup founders are naturally optimistic.  They wouldn\\'t do it\\notherwise.  But you should treat your optimism the way you\\'d treat\\nthe core of a nuclear reactor: as a source of power that\\'s also\\nvery dangerous.  You have to build a shield around it, or it will\\nfry you.The shielding of a reactor is not uniform; the reactor would be\\nuseless if it were.  It\\'s pierced in a few places to let pipes in.\\nAn optimism shield has to be pierced too.  I think the place to\\ndraw the line is between what you expect of yourself, and what you\\nexpect of other people.  It\\'s ok to be optimistic about what you\\ncan do, but assume the worst about machines and other people.This is particularly necessary in a startup, because you tend to\\nbe pushing the limits of whatever you\\'re doing.  So things don\\'t\\nhappen in the smooth, predictable way they do in the rest of the\\nworld.  Things change suddenly, and usually for the worse.Shielding your optimism is nowhere more important than with deals.\\nIf your startup is doing a deal, just assume it\\'s not going to\\nhappen.  The VCs who say they\\'re going to invest in you aren\\'t.\\nThe company that says they\\'re going to buy you isn\\'t.  The big\\ncustomer who wants to use your system in their whole company won\\'t.\\nThen if things work out you can be pleasantly surprised.The reason I warn startups not to get their hopes up is not to save\\nthem from being disappointed when things fall through.  It\\'s\\nfor a more practical reason: to prevent them from leaning their\\ncompany against something that\\'s going to fall over, taking them\\nwith it.For example, if someone says they want to invest in you, there\\'s a\\nnatural tendency to stop looking for other investors.  That\\'s why\\npeople proposing deals seem so positive: they want you to\\nstop looking.  And you want to stop too, because doing deals is a\\npain.  Raising money, in particular, is a huge time sink.  So you\\nhave to consciously force yourself to keep looking.Even if you ultimately do the first deal, it will be to your advantage\\nto have kept looking, because you\\'ll get better terms.  Deals are\\ndynamic; unless you\\'re negotiating with someone unusually honest,\\nthere\\'s not a single point where you shake hands and the deal\\'s\\ndone. There are usually a lot of subsidiary questions to be cleared\\nup after the handshake, and if the other side senses weakness-- if\\nthey sense you need this deal-- they will be very tempted to screw\\nyou in the details.VCs and corp dev guys are professional negotiators.  They\\'re trained\\nto take advantage of weakness. \\n[8]\\nSo while they\\'re often nice\\nguys, they just can\\'t help it.  And as pros they do this more than\\nyou.  So don\\'t even try to bluff them.  The only way a startup can\\nhave any leverage in a deal is genuinely not to need it.  And if\\nyou don\\'t believe in a deal, you\\'ll be less likely to depend on it.So I want to plant a hypnotic suggestion in your heads: when you\\nhear someone say the words \"we want to invest in you\" or \"we want\\nto acquire you,\" I want the following phrase to appear automatically\\nin your head: don\\'t get your hopes up.  Just continue running\\nyour company as if this deal didn\\'t exist.  Nothing is more likely\\nto make it close.The way to succeed in a startup is to focus on the goal of getting\\nlots of users, and keep walking swiftly toward it while investors\\nand acquirers scurry alongside trying to wave money in your face.\\nSpeed, not MoneyThe way I\\'ve described it, starting a startup sounds pretty stressful.\\nIt is.  When I talk to the founders of the companies we\\'ve funded,\\nthey all say the same thing: I knew it would be hard, but I didn\\'t\\nrealize it would be this hard.So why do it?  It would be worth enduring a lot of pain and stress\\nto do something grand or heroic, but just to make money?  Is making\\nmoney really that important?No, not really.  It seems ridiculous to me when people take business\\ntoo seriously.  I regard making money as a boring errand to be got\\nout of the way as soon as possible.  There is nothing grand or\\nheroic about starting a startup per se.So why do I spend so much time thinking about startups?  I\\'ll tell\\nyou why.  Economically, a startup is best seen not as a way to get\\nrich, but as a way to work faster.  You have to make a living, and\\na startup is a way to get that done quickly, instead of letting it\\ndrag on through your whole life.\\n[9]We take it for granted most of the time, but human life is fairly\\nmiraculous.  It is also palpably short.  You\\'re given this marvellous\\nthing, and then poof, it\\'s taken away.  You can see why people\\ninvent gods to explain it.  But even to people who don\\'t believe\\nin gods, life commands respect.  There are times in most of our\\nlives when the days go by in a blur, and almost everyone has a\\nsense, when this happens, of wasting something precious.  As Ben\\nFranklin said, if you love life, don\\'t waste time, because time is\\nwhat life is made of.So no, there\\'s nothing particularly grand about making money.  That\\'s\\nnot what makes startups worth the trouble.  What\\'s important about\\nstartups is the speed.  By compressing the dull but necessary task\\nof making a living into the smallest possible time, you show respect\\nfor life, and there is something grand about that.Notes[1]\\nStartups can die from releasing something full of bugs, and not\\nfixing them fast enough, but I don\\'t know of any that died from\\nreleasing something stable but minimal very early, then promptly\\nimproving it.[2]\\nI know this is why I haven\\'t released Arc.  The moment I do,\\nI\\'ll have people nagging me for features.[3]\\nA web site is different from a book or movie or desktop application\\nin this respect.  Users judge a site not as a single snapshot, but\\nas an animation with multiple frames.  Of the two, I\\'d say the rate of\\nimprovement is more important to users than where you currently\\nare.[4]\\nIt should not always tell this to users, however.  For example,\\nMySpace is basically a replacement mall for mallrats.  But it was\\nwiser for them, initially, to pretend that the site was about bands.[5]\\nSimilarly, don\\'t make users register to try your site.  Maybe\\nwhat you have is so valuable that visitors should gladly register\\nto get at it.  But they\\'ve been trained to expect the opposite.\\nMost of the things they\\'ve tried on the web have sucked-- and\\nprobably especially those that made them register.[6]\\nVCs have rational reasons for behaving this way. They don\\'t\\nmake their money (if they make money) off their median investments.\\nIn a typical fund, half the companies fail, most of the rest generate\\nmediocre returns, and one or two \"make the fund\" by succeeding\\nspectacularly.  So if they miss just a few of the most promising\\nopportunities, it could hose the whole fund.[7]\\nThe attitude of a running back doesn\\'t translate to soccer.\\nThough it looks great when a forward dribbles past multiple defenders,\\na player who persists in trying such things will do worse in the\\nlong term than one who passes.[8]\\nThe reason Y Combinator never negotiates valuations\\nis that we\\'re not professional negotiators, and don\\'t want to turn\\ninto them.[9]\\nThere are two ways to do \\nwork you love: (a) to make money, then work\\non what you love, or (b) to get a job where you get paid to work on\\nstuff you love.  In practice the first phases of both\\nconsist mostly of unedifying schleps, and in (b) the second phase is less\\nsecure.Thanks to Sam Altman, Trevor Blackwell, Beau Hartshorne, Jessica \\nLivingston, and Robert Morris for reading drafts of this.')],\n",
              " 'output_text': '\\n\\nThis essay highlights the lessons learned from funding startups, including the importance of releasing a minimal version 1 quickly, continuously improving and adding features, and making users happy. The author emphasizes the need to constantly think of improvements and cater to casual visitors. They also discuss the value of time and the potential for new ideas and opportunities in seemingly saturated markets. The author advises startups to focus on gaining users rather than making money and reflects on the two ways to do work you love.'}"
            ]
          },
          "metadata": {},
          "execution_count": 133
        }
      ]
    },
    {
      "cell_type": "code",
      "source": [
        "print(output['output_text'])"
      ],
      "metadata": {
        "colab": {
          "base_uri": "https://localhost:8080/"
        },
        "id": "mbNXGMoUmrBA",
        "outputId": "a35bd87d-0923-466d-8c9d-a2f3ffa08197"
      },
      "execution_count": 135,
      "outputs": [
        {
          "output_type": "stream",
          "name": "stdout",
          "text": [
            "\n",
            "\n",
            "This essay highlights the lessons learned from funding startups, including the importance of releasing a minimal version 1 quickly, continuously improving and adding features, and making users happy. The author emphasizes the need to constantly think of improvements and cater to casual visitors. They also discuss the value of time and the potential for new ideas and opportunities in seemingly saturated markets. The author advises startups to focus on gaining users rather than making money and reflects on the two ways to do work you love.\n"
          ]
        }
      ]
    },
    {
      "cell_type": "code",
      "source": [
        "map_prompt = \"\"\"\n",
        "Write a concise summary of the following:\n",
        "\"{text}\"\n",
        "CONCISE SUMMARY:\n",
        "\"\"\"\n",
        "map_prompt_template = PromptTemplate(template=map_prompt, input_variables=[\"text\"])"
      ],
      "metadata": {
        "id": "z3GixWN47aai"
      },
      "execution_count": 136,
      "outputs": []
    },
    {
      "cell_type": "code",
      "source": [
        "combine_prompt = \"\"\"\n",
        "Write a concise summary of the following text delimited by triple backquotes.\n",
        "Return your response in bullet points which covers the key points of the text.\n",
        "```{text}```\n",
        "BULLET POINT SUMMARY:\n",
        "\"\"\"\n",
        "combine_prompt_template = PromptTemplate(template=combine_prompt, input_variables=[\"text\"])"
      ],
      "metadata": {
        "id": "oA_D_XVg7d4z"
      },
      "execution_count": 137,
      "outputs": []
    },
    {
      "cell_type": "code",
      "source": [
        "summary_chain = load_summarize_chain(llm=llm,\n",
        "                                     chain_type='map_reduce',\n",
        "                                     map_prompt=map_prompt_template,\n",
        "                                     combine_prompt=combine_prompt_template,\n",
        "                                      verbose=True\n",
        "                                    )"
      ],
      "metadata": {
        "id": "uYnukmPa7f0x"
      },
      "execution_count": 138,
      "outputs": []
    },
    {
      "cell_type": "code",
      "source": [
        "output = summary_chain.invoke(docs)"
      ],
      "metadata": {
        "id": "IuMPhtAh7h0l",
        "colab": {
          "base_uri": "https://localhost:8080/"
        },
        "outputId": "4c2b4498-ceb0-4b43-bc63-f60bf11e671a"
      },
      "execution_count": 139,
      "outputs": [
        {
          "output_type": "stream",
          "name": "stdout",
          "text": [
            "\n",
            "\n",
            "\u001b[1m> Entering new MapReduceDocumentsChain chain...\u001b[0m\n",
            "\n",
            "\n",
            "\u001b[1m> Entering new LLMChain chain...\u001b[0m\n",
            "Prompt after formatting:\n",
            "\u001b[32;1m\u001b[1;3m\n",
            "Write a concise summary of the following:\n",
            "\"April 2006(This essay is derived from a talk at the 2006 \n",
            "Startup School.)The startups we've funded so far are pretty quick, but they seem\n",
            "quicker to learn some lessons than others.  I think it's because\n",
            "some things about startups are kind of counterintuitive.We've now \n",
            "invested \n",
            "in enough companies that I've learned a trick\n",
            "for determining which points are the counterintuitive ones:\n",
            "they're the ones I have to keep repeating.So I'm going to number these points, and maybe with future startups\n",
            "I'll be able to pull off a form of Huffman coding. I'll make them\n",
            "all read this, and then instead of nagging them in detail, I'll\n",
            "just be able to say: number four!\n",
            "1. Release Early.The thing I probably repeat most is this recipe for a startup: get\n",
            "a version 1 out fast, then improve it based on users' reactions.By \"release early\" I don't mean you should release something full\n",
            "of bugs, but that you should release something minimal.  Users hate\n",
            "bugs, but they don't seem to mind a minimal version 1, if there's\n",
            "more coming soon.There are several reasons it pays to get version 1 done fast.  One\n",
            "is that this is simply the right way to write software, whether for\n",
            "a startup or not.  I've been repeating that since 1993, and I haven't seen much since to\n",
            "contradict it.  I've seen a lot of startups die because they were\n",
            "too slow to release stuff, and none because they were too quick.\n",
            "[1]One of the things that will surprise you if you build something\n",
            "popular is that you won't know your users.  Reddit now has almost half a million\n",
            "unique visitors a month.  Who are all those people?  They have no\n",
            "idea.  No web startup does.  And since you don't know your users,\n",
            "it's dangerous to guess what they'll like.  Better to release\n",
            "something and let them tell you.Wufoo took this to heart and released\n",
            "their form-builder before the underlying database.  You can't even\n",
            "drive the thing yet, but 83,000 people came to sit in the driver's\n",
            "seat and hold the steering wheel.  And Wufoo got valuable feedback\n",
            "from it: Linux users complained they used too much Flash, so they\n",
            "rewrote their software not to.  If they'd waited to release everything\n",
            "at once, they wouldn't have discovered this problem till it was\n",
            "more deeply wired in.Even if you had no users, it would still be important to release\n",
            "quickly, because for a startup the initial release acts as a shakedown\n",
            "cruise.  If anything major is broken-- if the idea's no good,\n",
            "for example, or the founders hate one another-- the stress of getting\n",
            "that first version out will expose it.  And if you have such problems\n",
            "you want to find them early.Perhaps the most important reason to release early, though, is that\n",
            "it makes you work harder.  When you're working on something that\n",
            "isn't released, problems are intriguing.  In something that's out\n",
            "there, problems are alarming.  There is a lot more urgency once you\n",
            "release.  And I think that's precisely why people put it off.  They\n",
            "know they'll have to work a lot harder once they do. \n",
            "[2]\n",
            "2. Keep Pumping Out Features.Of course, \"release early\" has a second component, without which\n",
            "it would be bad advice.  If you're going to start with something\n",
            "that doesn't do much, you better improve it fast.What I find myself repeating is \"pump out features.\"  And this rule\n",
            "isn't just for the initial stages.  This is something all startups\n",
            "should do for as long as they want to be considered startups.I don't mean, of course, that you should make your application ever\n",
            "more complex.  By \"feature\" I mean one unit of hacking-- one quantum\n",
            "of making users' lives better.As with exercise, improvements beget improvements.  If you run every\n",
            "day, you'll probably feel like running tomorrow.  But if you skip\n",
            "running for a couple weeks, it will be an effort to drag yourself\n",
            "out.  So it is with hacking: the more ideas you implement, the more\n",
            "ideas you'll have.  You should make your system better at least in\n",
            "some small way every day or two.This is not just a good way to get development done; it is also a\n",
            "form of marketing.  Users love a site that's constantly improving.\n",
            "In fact, users expect a site to improve.  Imagine if you visited a\n",
            "site that seemed very good, and then returned two months later and\n",
            "not one thing had changed.  Wouldn't it start to seem lame? \n",
            "[3]They'll like you even better when you improve in response to their\n",
            "comments, because customers are used to companies ignoring them.\n",
            "If you're the rare exception-- a company that actually listens--\n",
            "you'll generate fanatical loyalty.  You won't need to advertise,\n",
            "because your users will do it for you.This seems obvious too, so why do I have to keep repeating it?  I\n",
            "think the problem here is that people get used to how things are.\n",
            "Once a product gets past the stage where it has glaring flaws, you\n",
            "start to get used to it, and gradually whatever features it happens\n",
            "to have become its identity.  For example, I doubt many people at\n",
            "Yahoo (or Google for that matter) realized how much better web mail\n",
            "could be till Paul Buchheit showed them.I think the solution is to assume that anything you've made is far\n",
            "short of what it could be.  Force yourself, as a sort of intellectual\n",
            "exercise, to keep thinking of improvements.  Ok, sure, what you\n",
            "have is perfect.  But if you had to change something, what would\n",
            "it be?If your product seems finished, there are two possible explanations:\n",
            "(a) it is finished, or (b) you lack imagination.  Experience suggests\n",
            "(b) is a thousand times more likely.\n",
            "3. Make Users Happy.Improving constantly is an instance of a more general rule: make\n",
            "users happy.  One thing all startups have in common is that they\n",
            "can't force anyone to do anything.  They can't force anyone to use\n",
            "their software, and they can't force anyone to do deals with them.\n",
            "A startup has to sing for its supper.  That's why the successful\n",
            "ones make great things.  They have to, or die.When you're running a startup you feel like a little bit of debris\n",
            "blown about by powerful winds.  The most powerful wind is users.\n",
            "They can either catch you and loft you up into the sky, as they did\n",
            "with Google, or leave you flat on the pavement, as they do with\n",
            "most startups.  Users are a fickle wind, but more powerful than any\n",
            "other.  If they take you up, no competitor can keep you down.As a little piece of debris, the rational thing for you to do is\n",
            "not to lie flat, but to curl yourself into a shape the wind will\n",
            "catch.I like the wind metaphor because it reminds you how impersonal the\n",
            "stream of traffic is.  The vast majority of people who visit your\n",
            "site will be casual visitors.  It's them you have to design your\n",
            "site for.  The people who really care will find what they want by\n",
            "themselves.The median visitor will arrive with their finger poised on the Back\n",
            "button.  Think about your own experience: most links you\n",
            "follow lead to something lame.  Anyone who has used the web for\n",
            "more than a couple weeks has been trained to click on Back after\n",
            "following a link.  So your site has to say \"Wait!  Don't click on\n",
            "Back.  This site isn't lame.  Look at this, for example.\"There are two things you have to do to make people pause.  The most\n",
            "important is to explain, as concisely as possible, what the hell\n",
            "your site is about.  How often have you visited a site that seemed\n",
            "to assume you already knew what they did?  For example, the corporate\n",
            "site that says the\n",
            "company makes\n",
            "\n",
            "  enterprise content management solutions for business that enable\n",
            "  organizations to unify people, content and processes to minimize\n",
            "  business risk, accelerate time-to-value and sustain lower total\n",
            "  cost of ownership.\"\n",
            "CONCISE SUMMARY:\n",
            "\u001b[0m\n",
            "Prompt after formatting:\n",
            "\u001b[32;1m\u001b[1;3m\n",
            "Write a concise summary of the following:\n",
            "\"An established company may get away with such an opaque description,\n",
            "but no startup can.  A startup\n",
            "should be able to explain in one or two sentences exactly what it\n",
            "does. \n",
            "[4]\n",
            "And not just to users.  You need this for everyone:\n",
            "investors, acquirers, partners, reporters, potential employees, and\n",
            "even current employees.  You probably shouldn't even start a company\n",
            "to do something that can't be described compellingly in one or two\n",
            "sentences.The other thing I repeat is to give people everything you've got,\n",
            "right away.  If you have something impressive, try to put it on the\n",
            "front page, because that's the only one most visitors will see.\n",
            "Though indeed there's a paradox here: the more you push the good\n",
            "stuff toward the front, the more likely visitors are to explore\n",
            "further. \n",
            "[5]In the best case these two suggestions get combined: you tell\n",
            "visitors what your site is about by showing them.  One of the\n",
            "standard pieces of advice in fiction writing is \"show, don't tell.\"\n",
            "Don't say that a character's angry; have him grind his teeth, or\n",
            "break his pencil in half.  Nothing will explain what your site does\n",
            "so well as using it.The industry term here is \"conversion.\"  The job of your site is\n",
            "to convert casual visitors into users-- whatever your definition\n",
            "of a user is.  You can measure this in your growth rate.  Either\n",
            "your site is catching on, or it isn't, and you must know which.  If\n",
            "you have decent growth, you'll win in the end, no matter how obscure\n",
            "you are now.  And if you don't, you need to fix something.\n",
            "4. Fear the Right Things.Another thing I find myself saying a lot is \"don't worry.\"  Actually,\n",
            "it's more often \"don't worry about this; worry about that instead.\"\n",
            "Startups are right to be paranoid, but they sometimes fear the wrong\n",
            "things.Most visible disasters are not so alarming as they seem.  Disasters\n",
            "are normal in a startup: a founder quits, you discover a patent\n",
            "that covers what you're doing, your servers keep crashing, you run\n",
            "into an insoluble technical problem, you have to change your name,\n",
            "a deal falls through-- these are all par for the course.  They won't\n",
            "kill you unless you let them.Nor will most competitors.  A lot of startups worry \"what if Google\n",
            "builds something like us?\"  Actually big companies are not the ones\n",
            "you have to worry about-- not even Google.  The people at Google\n",
            "are smart, but no smarter than you; they're not as motivated, because\n",
            "Google is not going to go out of business if this one product fails;\n",
            "and even at Google they have a lot of bureaucracy to slow them down.What you should fear, as a startup, is not the established players,\n",
            "but other startups you don't know exist yet.  They're way more\n",
            "dangerous than Google because, like you, they're cornered animals.Looking just at existing competitors can give you a false sense of\n",
            "security.  You should compete against what someone else could be\n",
            "doing, not just what you can see people doing.  A corollary is that\n",
            "you shouldn't relax just because you have no visible competitors\n",
            "yet.  No matter what your idea, there's someone else out there\n",
            "working on the same thing.That's the downside of it being easier to start a startup: more people\n",
            "are doing it.  But I disagree with Caterina Fake when she says that\n",
            "makes this a bad time to start a startup.  More people are starting\n",
            "startups, but not as many more as could.  Most college graduates\n",
            "still think they have to get a job.  The average person can't ignore\n",
            "something that's been beaten into their head since they were three\n",
            "just because serving web pages recently got a lot cheaper.And in any case, competitors are not the biggest threat.  Way more\n",
            "startups hose themselves than get crushed by competitors.  There\n",
            "are a lot of ways to do it, but the three main ones are internal\n",
            "disputes, inertia, and ignoring users.  Each is, by itself, enough\n",
            "to kill you.  But if I had to pick the worst, it would be ignoring\n",
            "users.  If you want a recipe for a startup that's going to die,\n",
            "here it is: a couple of founders who have some great idea they know\n",
            "everyone is going to love, and that's what they're going to build,\n",
            "no matter what.Almost everyone's initial plan is broken.  If companies stuck to\n",
            "their initial plans, Microsoft would be selling programming languages,\n",
            "and Apple would be selling printed circuit boards.  In both cases\n",
            "their customers told them what their business should be-- and they\n",
            "were smart enough to listen.As Richard Feynman said, the imagination of nature is greater than\n",
            "the imagination of man.  You'll find more interesting things by\n",
            "looking at the world than you could ever produce just by thinking.\n",
            "This principle is very powerful.  It's why the best abstract painting\n",
            "still falls short of Leonardo, for example.  And it applies to\n",
            "startups too.  No idea for a product could ever be so clever as the\n",
            "ones you can discover by smashing a beam of prototypes into a beam\n",
            "of users.\n",
            "5. Commitment Is a Self-Fulfilling Prophecy.I now have enough experience with startups to be able to say what\n",
            "the most important quality is in a startup founder, and it's not\n",
            "what you might think.  The most important quality in a startup\n",
            "founder is determination.  Not intelligence-- determination.This is a little depressing.  I'd like to believe Viaweb succeeded\n",
            "because we were smart, not merely determined.  A lot of people in\n",
            "the startup world want to believe that.  Not just founders, but\n",
            "investors too.  They like the idea of inhabiting a world ruled by\n",
            "intelligence.  And you can tell they really believe this, because\n",
            "it affects their investment decisions.Time after time VCs invest in startups founded by eminent professors.\n",
            "This may work in biotech, where a lot of startups simply commercialize\n",
            "existing research, but in software you want to invest in students,\n",
            "not professors.  Microsoft, Yahoo, and Google were all founded by\n",
            "people who dropped out of school to do it.  What students lack in\n",
            "experience they more than make up in dedication.Of course, if you want to get rich, it's not enough merely to be\n",
            "determined.  You have to be smart too, right?  I'd like to think\n",
            "so, but I've had an experience that convinced me otherwise: I spent\n",
            "several years living in New York.You can lose quite a lot in the brains department and it won't kill\n",
            "you.  But lose even a little bit in the commitment department, and\n",
            "that will kill you very rapidly.Running a startup is like walking on your hands: it's possible, but\n",
            "it requires extraordinary effort.  If an ordinary employee were\n",
            "asked to do the things a startup founder has to, he'd be very\n",
            "indignant.  Imagine if you were hired at some big company, and in\n",
            "addition to writing software ten times faster than you'd ever had\n",
            "to before, they expected you to answer support calls, administer\n",
            "the servers, design the web site, cold-call customers, find the\n",
            "company office space, and go out and get everyone lunch.And to do all this not in the calm, womb-like atmosphere of a big\n",
            "company, but against a backdrop of constant disasters.  That's the\n",
            "part that really demands determination.  In a startup, there's\n",
            "always some disaster happening.  So if you're the least bit inclined\n",
            "to find an excuse to quit, there's always one right there.But if you lack commitment, chances are it will have been hurting\n",
            "you long before you actually quit.  Everyone who deals with startups\n",
            "knows how important commitment is, so if they sense you're ambivalent,\n",
            "they won't give you much attention.  If you lack commitment, you'll\n",
            "just find that for some mysterious reason good things happen to\n",
            "your competitors but not to you.  If you lack commitment, it will\n",
            "seem to you that you're unlucky.Whereas if you're determined to stick around, people will pay\n",
            "attention to you, because odds are they'll have to deal with you\n",
            "later.  You're a local, not just a tourist, so everyone has to come\n",
            "to terms with you.At Y Combinator we sometimes mistakenly fund teams who have the\n",
            "attitude that they're going to give this startup thing a shot for\n",
            "three months, and if something great happens, they'll stick with\n",
            "it-- \"something great\" meaning either that someone wants to buy\n",
            "them or invest millions of dollars in them.  But if this is your\n",
            "attitude, \"something great\" is very unlikely to happen to you,\n",
            "because both acquirers and investors judge you by your level of\n",
            "commitment.If an acquirer thinks you're going to stick around no matter what,\n",
            "they'll be more likely to buy you, because if they don't and you\n",
            "stick around, you'll probably grow, your price will go up, and\n",
            "they'll be left wishing they'd bought you earlier.  Ditto for\n",
            "investors.  What really motivates investors, even big VCs, is not\n",
            "the hope of good returns, but the fear of missing out. \n",
            "[6]\n",
            "So if\n",
            "you make it clear you're going to succeed no matter what, and the only\n",
            "reason you need them is to make it happen a little faster, you're\n",
            "much more likely to get money.You can't fake this.  The only way to convince everyone that you're\n",
            "ready to fight to the death is actually to be ready to.You have to be the right kind of determined, though.  I carefully\n",
            "chose the word determined rather than stubborn, because stubbornness\n",
            "is a disastrous quality in a startup.  You have to be determined,\n",
            "but flexible, like a running back.  A successful running back doesn't\n",
            "just put his head down and try to run through people.  He improvises:\n",
            "if someone appears in front of him, he runs around them; if someone\n",
            "tries to grab him, he spins out of their grip; he'll even run in\n",
            "the wrong direction briefly if that will help.  The one thing he'll\n",
            "never do is stand still. \n",
            "[7]\n",
            "6. There Is Always Room.I was talking recently to a startup founder about whether it might\n",
            "be good to add a social component to their software.  He said he\n",
            "didn't think so, because the whole social thing was tapped out.\n",
            "Really?  So in a hundred years the only social networking sites\n",
            "will be the Facebook, MySpace, Flickr, and Del.icio.us?  Not likely.There is always room for new stuff.  At every point in history,\n",
            "even the darkest bits of the dark ages, people were discovering\"\n",
            "CONCISE SUMMARY:\n",
            "\u001b[0m\n",
            "Prompt after formatting:\n",
            "\u001b[32;1m\u001b[1;3m\n",
            "Write a concise summary of the following:\n",
            "\"[7]\n",
            "6. There Is Always Room.I was talking recently to a startup founder about whether it might\n",
            "be good to add a social component to their software.  He said he\n",
            "didn't think so, because the whole social thing was tapped out.\n",
            "Really?  So in a hundred years the only social networking sites\n",
            "will be the Facebook, MySpace, Flickr, and Del.icio.us?  Not likely.There is always room for new stuff.  At every point in history,\n",
            "even the darkest bits of the dark ages, people were discovering\n",
            "things that made everyone say \"why didn't anyone think of that\n",
            "before?\"  We know this continued to be true up till 2004, when the\n",
            "Facebook was founded-- though strictly speaking someone else did\n",
            "think of that.The reason we don't see the opportunities all around us is that we\n",
            "adjust to however things are, and assume that's how things have to\n",
            "be.  For example, it would seem crazy to most people to try to make\n",
            "a better search engine than Google.  Surely that field, at least,\n",
            "is tapped out.  Really?  In a hundred years-- or even twenty-- are\n",
            "people still going to search for information using something like\n",
            "the current Google?  Even Google probably doesn't think that.In particular, I don't think there's any limit to the number of\n",
            "startups.  Sometimes you hear people saying \"All these guys starting\n",
            "startups now are going to be disappointed. How many little startups\n",
            "are Google and Yahoo going to buy, after all?\" That sounds cleverly\n",
            "skeptical, but I can prove it's mistaken.  No one proposes that\n",
            "there's some limit to the number of people who can be employed in\n",
            "an economy consisting of big, slow-moving companies with a couple\n",
            "thousand people each.  Why should there be any limit to the number\n",
            "who could be employed by small, fast-moving companies with ten each?\n",
            "It seems to me the only limit would be the number of people who\n",
            "want to work that hard.The limit on the number of startups is not the number that can get\n",
            "acquired by Google and Yahoo-- though it seems even that should\n",
            "be unlimited, if the startups were actually worth buying-- but the\n",
            "amount of wealth that can be created.  And I don't think there's\n",
            "any limit on that, except cosmological ones.So for all practical purposes, there is no limit to the number of\n",
            "startups.  Startups make wealth, which means they make things people\n",
            "want, and if there's a limit on the number of things people want,\n",
            "we are nowhere near it.  I still don't even have a flying car.\n",
            "7. Don't Get Your Hopes Up.This is another one I've been repeating since long before Y Combinator.\n",
            "It was practically the corporate motto at Viaweb.Startup founders are naturally optimistic.  They wouldn't do it\n",
            "otherwise.  But you should treat your optimism the way you'd treat\n",
            "the core of a nuclear reactor: as a source of power that's also\n",
            "very dangerous.  You have to build a shield around it, or it will\n",
            "fry you.The shielding of a reactor is not uniform; the reactor would be\n",
            "useless if it were.  It's pierced in a few places to let pipes in.\n",
            "An optimism shield has to be pierced too.  I think the place to\n",
            "draw the line is between what you expect of yourself, and what you\n",
            "expect of other people.  It's ok to be optimistic about what you\n",
            "can do, but assume the worst about machines and other people.This is particularly necessary in a startup, because you tend to\n",
            "be pushing the limits of whatever you're doing.  So things don't\n",
            "happen in the smooth, predictable way they do in the rest of the\n",
            "world.  Things change suddenly, and usually for the worse.Shielding your optimism is nowhere more important than with deals.\n",
            "If your startup is doing a deal, just assume it's not going to\n",
            "happen.  The VCs who say they're going to invest in you aren't.\n",
            "The company that says they're going to buy you isn't.  The big\n",
            "customer who wants to use your system in their whole company won't.\n",
            "Then if things work out you can be pleasantly surprised.The reason I warn startups not to get their hopes up is not to save\n",
            "them from being disappointed when things fall through.  It's\n",
            "for a more practical reason: to prevent them from leaning their\n",
            "company against something that's going to fall over, taking them\n",
            "with it.For example, if someone says they want to invest in you, there's a\n",
            "natural tendency to stop looking for other investors.  That's why\n",
            "people proposing deals seem so positive: they want you to\n",
            "stop looking.  And you want to stop too, because doing deals is a\n",
            "pain.  Raising money, in particular, is a huge time sink.  So you\n",
            "have to consciously force yourself to keep looking.Even if you ultimately do the first deal, it will be to your advantage\n",
            "to have kept looking, because you'll get better terms.  Deals are\n",
            "dynamic; unless you're negotiating with someone unusually honest,\n",
            "there's not a single point where you shake hands and the deal's\n",
            "done. There are usually a lot of subsidiary questions to be cleared\n",
            "up after the handshake, and if the other side senses weakness-- if\n",
            "they sense you need this deal-- they will be very tempted to screw\n",
            "you in the details.VCs and corp dev guys are professional negotiators.  They're trained\n",
            "to take advantage of weakness. \n",
            "[8]\n",
            "So while they're often nice\n",
            "guys, they just can't help it.  And as pros they do this more than\n",
            "you.  So don't even try to bluff them.  The only way a startup can\n",
            "have any leverage in a deal is genuinely not to need it.  And if\n",
            "you don't believe in a deal, you'll be less likely to depend on it.So I want to plant a hypnotic suggestion in your heads: when you\n",
            "hear someone say the words \"we want to invest in you\" or \"we want\n",
            "to acquire you,\" I want the following phrase to appear automatically\n",
            "in your head: don't get your hopes up.  Just continue running\n",
            "your company as if this deal didn't exist.  Nothing is more likely\n",
            "to make it close.The way to succeed in a startup is to focus on the goal of getting\n",
            "lots of users, and keep walking swiftly toward it while investors\n",
            "and acquirers scurry alongside trying to wave money in your face.\n",
            "Speed, not MoneyThe way I've described it, starting a startup sounds pretty stressful.\n",
            "It is.  When I talk to the founders of the companies we've funded,\n",
            "they all say the same thing: I knew it would be hard, but I didn't\n",
            "realize it would be this hard.So why do it?  It would be worth enduring a lot of pain and stress\n",
            "to do something grand or heroic, but just to make money?  Is making\n",
            "money really that important?No, not really.  It seems ridiculous to me when people take business\n",
            "too seriously.  I regard making money as a boring errand to be got\n",
            "out of the way as soon as possible.  There is nothing grand or\n",
            "heroic about starting a startup per se.So why do I spend so much time thinking about startups?  I'll tell\n",
            "you why.  Economically, a startup is best seen not as a way to get\n",
            "rich, but as a way to work faster.  You have to make a living, and\n",
            "a startup is a way to get that done quickly, instead of letting it\n",
            "drag on through your whole life.\n",
            "[9]We take it for granted most of the time, but human life is fairly\n",
            "miraculous.  It is also palpably short.  You're given this marvellous\n",
            "thing, and then poof, it's taken away.  You can see why people\n",
            "invent gods to explain it.  But even to people who don't believe\n",
            "in gods, life commands respect.  There are times in most of our\n",
            "lives when the days go by in a blur, and almost everyone has a\n",
            "sense, when this happens, of wasting something precious.  As Ben\n",
            "Franklin said, if you love life, don't waste time, because time is\n",
            "what life is made of.So no, there's nothing particularly grand about making money.  That's\n",
            "not what makes startups worth the trouble.  What's important about\n",
            "startups is the speed.  By compressing the dull but necessary task\n",
            "of making a living into the smallest possible time, you show respect\n",
            "for life, and there is something grand about that.Notes[1]\n",
            "Startups can die from releasing something full of bugs, and not\n",
            "fixing them fast enough, but I don't know of any that died from\n",
            "releasing something stable but minimal very early, then promptly\n",
            "improving it.[2]\n",
            "I know this is why I haven't released Arc.  The moment I do,\n",
            "I'll have people nagging me for features.[3]\n",
            "A web site is different from a book or movie or desktop application\n",
            "in this respect.  Users judge a site not as a single snapshot, but\n",
            "as an animation with multiple frames.  Of the two, I'd say the rate of\n",
            "improvement is more important to users than where you currently\n",
            "are.[4]\n",
            "It should not always tell this to users, however.  For example,\n",
            "MySpace is basically a replacement mall for mallrats.  But it was\n",
            "wiser for them, initially, to pretend that the site was about bands.[5]\n",
            "Similarly, don't make users register to try your site.  Maybe\n",
            "what you have is so valuable that visitors should gladly register\n",
            "to get at it.  But they've been trained to expect the opposite.\n",
            "Most of the things they've tried on the web have sucked-- and\n",
            "probably especially those that made them register.[6]\n",
            "VCs have rational reasons for behaving this way. They don't\n",
            "make their money (if they make money) off their median investments.\n",
            "In a typical fund, half the companies fail, most of the rest generate\n",
            "mediocre returns, and one or two \"make the fund\" by succeeding\n",
            "spectacularly.  So if they miss just a few of the most promising\n",
            "opportunities, it could hose the whole fund.[7]\n",
            "The attitude of a running back doesn't translate to soccer.\n",
            "Though it looks great when a forward dribbles past multiple defenders,\n",
            "a player who persists in trying such things will do worse in the\n",
            "long term than one who passes.[8]\n",
            "The reason Y Combinator never negotiates valuations\n",
            "is that we're not professional negotiators, and don't want to turn\n",
            "into them.[9]\n",
            "There are two ways to do \n",
            "work you love: (a) to make money, then work\n",
            "on what you love, or (b) to get a job where you get paid to work on\n",
            "stuff you love.  In practice the first phases of both\n",
            "consist mostly of unedifying schleps, and in (b) the second phase is less\n",
            "secure.Thanks to Sam Altman, Trevor Blackwell, Beau Hartshorne, Jessica \n",
            "Livingston, and Robert Morris for reading drafts of this.\"\n",
            "CONCISE SUMMARY:\n",
            "\u001b[0m\n",
            "\n",
            "\u001b[1m> Finished chain.\u001b[0m\n",
            "\n",
            "\n",
            "\u001b[1m> Entering new LLMChain chain...\u001b[0m\n",
            "Prompt after formatting:\n",
            "\u001b[32;1m\u001b[1;3m\n",
            "Write a concise summary of the following text delimited by triple backquotes.\n",
            "Return your response in bullet points which covers the key points of the text.\n",
            "```\n",
            "The essay discusses lessons learned from funding startups and offers advice for success. The main points include releasing a minimal version 1 quickly, constantly improving and adding features, and focusing on making users happy. The author emphasizes the importance of responding to user feedback and constantly striving for improvement.\n",
            "\n",
            "\n",
            "Startups should be able to clearly and concisely explain what they do in one or two sentences, not just to users but to investors, partners, and employees. It is important to showcase the best aspects of the company right away and to constantly listen to and engage with users. The determination and commitment of the founders is crucial for the success of a startup, and there is always room for new ideas and innovation. \n",
            "\n",
            "\n",
            "The author discusses the potential for new social networking sites and startups, emphasizing the importance of not getting too optimistic about deals and focusing on creating a successful business. They also mention the value of time and the speed at which startups can achieve success. The author also shares their thoughts on the process of making money and the importance of respecting life.```\n",
            "BULLET POINT SUMMARY:\n",
            "\u001b[0m\n",
            "\n",
            "\u001b[1m> Finished chain.\u001b[0m\n",
            "\n",
            "\u001b[1m> Finished chain.\u001b[0m\n"
          ]
        }
      ]
    },
    {
      "cell_type": "code",
      "source": [
        "output"
      ],
      "metadata": {
        "colab": {
          "base_uri": "https://localhost:8080/"
        },
        "id": "c86gsR_am7ml",
        "outputId": "ce2154f5-31b1-4fae-a6bf-cc055ea984c5"
      },
      "execution_count": 140,
      "outputs": [
        {
          "output_type": "execute_result",
          "data": {
            "text/plain": [
              "{'input_documents': [Document(metadata={}, page_content='April 2006(This essay is derived from a talk at the 2006 \\nStartup School.)The startups we\\'ve funded so far are pretty quick, but they seem\\nquicker to learn some lessons than others.  I think it\\'s because\\nsome things about startups are kind of counterintuitive.We\\'ve now \\ninvested \\nin enough companies that I\\'ve learned a trick\\nfor determining which points are the counterintuitive ones:\\nthey\\'re the ones I have to keep repeating.So I\\'m going to number these points, and maybe with future startups\\nI\\'ll be able to pull off a form of Huffman coding. I\\'ll make them\\nall read this, and then instead of nagging them in detail, I\\'ll\\njust be able to say: number four!\\n1. Release Early.The thing I probably repeat most is this recipe for a startup: get\\na version 1 out fast, then improve it based on users\\' reactions.By \"release early\" I don\\'t mean you should release something full\\nof bugs, but that you should release something minimal.  Users hate\\nbugs, but they don\\'t seem to mind a minimal version 1, if there\\'s\\nmore coming soon.There are several reasons it pays to get version 1 done fast.  One\\nis that this is simply the right way to write software, whether for\\na startup or not.  I\\'ve been repeating that since 1993, and I haven\\'t seen much since to\\ncontradict it.  I\\'ve seen a lot of startups die because they were\\ntoo slow to release stuff, and none because they were too quick.\\n[1]One of the things that will surprise you if you build something\\npopular is that you won\\'t know your users.  Reddit now has almost half a million\\nunique visitors a month.  Who are all those people?  They have no\\nidea.  No web startup does.  And since you don\\'t know your users,\\nit\\'s dangerous to guess what they\\'ll like.  Better to release\\nsomething and let them tell you.Wufoo took this to heart and released\\ntheir form-builder before the underlying database.  You can\\'t even\\ndrive the thing yet, but 83,000 people came to sit in the driver\\'s\\nseat and hold the steering wheel.  And Wufoo got valuable feedback\\nfrom it: Linux users complained they used too much Flash, so they\\nrewrote their software not to.  If they\\'d waited to release everything\\nat once, they wouldn\\'t have discovered this problem till it was\\nmore deeply wired in.Even if you had no users, it would still be important to release\\nquickly, because for a startup the initial release acts as a shakedown\\ncruise.  If anything major is broken-- if the idea\\'s no good,\\nfor example, or the founders hate one another-- the stress of getting\\nthat first version out will expose it.  And if you have such problems\\nyou want to find them early.Perhaps the most important reason to release early, though, is that\\nit makes you work harder.  When you\\'re working on something that\\nisn\\'t released, problems are intriguing.  In something that\\'s out\\nthere, problems are alarming.  There is a lot more urgency once you\\nrelease.  And I think that\\'s precisely why people put it off.  They\\nknow they\\'ll have to work a lot harder once they do. \\n[2]\\n2. Keep Pumping Out Features.Of course, \"release early\" has a second component, without which\\nit would be bad advice.  If you\\'re going to start with something\\nthat doesn\\'t do much, you better improve it fast.What I find myself repeating is \"pump out features.\"  And this rule\\nisn\\'t just for the initial stages.  This is something all startups\\nshould do for as long as they want to be considered startups.I don\\'t mean, of course, that you should make your application ever\\nmore complex.  By \"feature\" I mean one unit of hacking-- one quantum\\nof making users\\' lives better.As with exercise, improvements beget improvements.  If you run every\\nday, you\\'ll probably feel like running tomorrow.  But if you skip\\nrunning for a couple weeks, it will be an effort to drag yourself\\nout.  So it is with hacking: the more ideas you implement, the more\\nideas you\\'ll have.  You should make your system better at least in\\nsome small way every day or two.This is not just a good way to get development done; it is also a\\nform of marketing.  Users love a site that\\'s constantly improving.\\nIn fact, users expect a site to improve.  Imagine if you visited a\\nsite that seemed very good, and then returned two months later and\\nnot one thing had changed.  Wouldn\\'t it start to seem lame? \\n[3]They\\'ll like you even better when you improve in response to their\\ncomments, because customers are used to companies ignoring them.\\nIf you\\'re the rare exception-- a company that actually listens--\\nyou\\'ll generate fanatical loyalty.  You won\\'t need to advertise,\\nbecause your users will do it for you.This seems obvious too, so why do I have to keep repeating it?  I\\nthink the problem here is that people get used to how things are.\\nOnce a product gets past the stage where it has glaring flaws, you\\nstart to get used to it, and gradually whatever features it happens\\nto have become its identity.  For example, I doubt many people at\\nYahoo (or Google for that matter) realized how much better web mail\\ncould be till Paul Buchheit showed them.I think the solution is to assume that anything you\\'ve made is far\\nshort of what it could be.  Force yourself, as a sort of intellectual\\nexercise, to keep thinking of improvements.  Ok, sure, what you\\nhave is perfect.  But if you had to change something, what would\\nit be?If your product seems finished, there are two possible explanations:\\n(a) it is finished, or (b) you lack imagination.  Experience suggests\\n(b) is a thousand times more likely.\\n3. Make Users Happy.Improving constantly is an instance of a more general rule: make\\nusers happy.  One thing all startups have in common is that they\\ncan\\'t force anyone to do anything.  They can\\'t force anyone to use\\ntheir software, and they can\\'t force anyone to do deals with them.\\nA startup has to sing for its supper.  That\\'s why the successful\\nones make great things.  They have to, or die.When you\\'re running a startup you feel like a little bit of debris\\nblown about by powerful winds.  The most powerful wind is users.\\nThey can either catch you and loft you up into the sky, as they did\\nwith Google, or leave you flat on the pavement, as they do with\\nmost startups.  Users are a fickle wind, but more powerful than any\\nother.  If they take you up, no competitor can keep you down.As a little piece of debris, the rational thing for you to do is\\nnot to lie flat, but to curl yourself into a shape the wind will\\ncatch.I like the wind metaphor because it reminds you how impersonal the\\nstream of traffic is.  The vast majority of people who visit your\\nsite will be casual visitors.  It\\'s them you have to design your\\nsite for.  The people who really care will find what they want by\\nthemselves.The median visitor will arrive with their finger poised on the Back\\nbutton.  Think about your own experience: most links you\\nfollow lead to something lame.  Anyone who has used the web for\\nmore than a couple weeks has been trained to click on Back after\\nfollowing a link.  So your site has to say \"Wait!  Don\\'t click on\\nBack.  This site isn\\'t lame.  Look at this, for example.\"There are two things you have to do to make people pause.  The most\\nimportant is to explain, as concisely as possible, what the hell\\nyour site is about.  How often have you visited a site that seemed\\nto assume you already knew what they did?  For example, the corporate\\nsite that says the\\ncompany makes\\n\\n  enterprise content management solutions for business that enable\\n  organizations to unify people, content and processes to minimize\\n  business risk, accelerate time-to-value and sustain lower total\\n  cost of ownership.'),\n",
              "  Document(metadata={}, page_content='An established company may get away with such an opaque description,\\nbut no startup can.  A startup\\nshould be able to explain in one or two sentences exactly what it\\ndoes. \\n[4]\\nAnd not just to users.  You need this for everyone:\\ninvestors, acquirers, partners, reporters, potential employees, and\\neven current employees.  You probably shouldn\\'t even start a company\\nto do something that can\\'t be described compellingly in one or two\\nsentences.The other thing I repeat is to give people everything you\\'ve got,\\nright away.  If you have something impressive, try to put it on the\\nfront page, because that\\'s the only one most visitors will see.\\nThough indeed there\\'s a paradox here: the more you push the good\\nstuff toward the front, the more likely visitors are to explore\\nfurther. \\n[5]In the best case these two suggestions get combined: you tell\\nvisitors what your site is about by showing them.  One of the\\nstandard pieces of advice in fiction writing is \"show, don\\'t tell.\"\\nDon\\'t say that a character\\'s angry; have him grind his teeth, or\\nbreak his pencil in half.  Nothing will explain what your site does\\nso well as using it.The industry term here is \"conversion.\"  The job of your site is\\nto convert casual visitors into users-- whatever your definition\\nof a user is.  You can measure this in your growth rate.  Either\\nyour site is catching on, or it isn\\'t, and you must know which.  If\\nyou have decent growth, you\\'ll win in the end, no matter how obscure\\nyou are now.  And if you don\\'t, you need to fix something.\\n4. Fear the Right Things.Another thing I find myself saying a lot is \"don\\'t worry.\"  Actually,\\nit\\'s more often \"don\\'t worry about this; worry about that instead.\"\\nStartups are right to be paranoid, but they sometimes fear the wrong\\nthings.Most visible disasters are not so alarming as they seem.  Disasters\\nare normal in a startup: a founder quits, you discover a patent\\nthat covers what you\\'re doing, your servers keep crashing, you run\\ninto an insoluble technical problem, you have to change your name,\\na deal falls through-- these are all par for the course.  They won\\'t\\nkill you unless you let them.Nor will most competitors.  A lot of startups worry \"what if Google\\nbuilds something like us?\"  Actually big companies are not the ones\\nyou have to worry about-- not even Google.  The people at Google\\nare smart, but no smarter than you; they\\'re not as motivated, because\\nGoogle is not going to go out of business if this one product fails;\\nand even at Google they have a lot of bureaucracy to slow them down.What you should fear, as a startup, is not the established players,\\nbut other startups you don\\'t know exist yet.  They\\'re way more\\ndangerous than Google because, like you, they\\'re cornered animals.Looking just at existing competitors can give you a false sense of\\nsecurity.  You should compete against what someone else could be\\ndoing, not just what you can see people doing.  A corollary is that\\nyou shouldn\\'t relax just because you have no visible competitors\\nyet.  No matter what your idea, there\\'s someone else out there\\nworking on the same thing.That\\'s the downside of it being easier to start a startup: more people\\nare doing it.  But I disagree with Caterina Fake when she says that\\nmakes this a bad time to start a startup.  More people are starting\\nstartups, but not as many more as could.  Most college graduates\\nstill think they have to get a job.  The average person can\\'t ignore\\nsomething that\\'s been beaten into their head since they were three\\njust because serving web pages recently got a lot cheaper.And in any case, competitors are not the biggest threat.  Way more\\nstartups hose themselves than get crushed by competitors.  There\\nare a lot of ways to do it, but the three main ones are internal\\ndisputes, inertia, and ignoring users.  Each is, by itself, enough\\nto kill you.  But if I had to pick the worst, it would be ignoring\\nusers.  If you want a recipe for a startup that\\'s going to die,\\nhere it is: a couple of founders who have some great idea they know\\neveryone is going to love, and that\\'s what they\\'re going to build,\\nno matter what.Almost everyone\\'s initial plan is broken.  If companies stuck to\\ntheir initial plans, Microsoft would be selling programming languages,\\nand Apple would be selling printed circuit boards.  In both cases\\ntheir customers told them what their business should be-- and they\\nwere smart enough to listen.As Richard Feynman said, the imagination of nature is greater than\\nthe imagination of man.  You\\'ll find more interesting things by\\nlooking at the world than you could ever produce just by thinking.\\nThis principle is very powerful.  It\\'s why the best abstract painting\\nstill falls short of Leonardo, for example.  And it applies to\\nstartups too.  No idea for a product could ever be so clever as the\\nones you can discover by smashing a beam of prototypes into a beam\\nof users.\\n5. Commitment Is a Self-Fulfilling Prophecy.I now have enough experience with startups to be able to say what\\nthe most important quality is in a startup founder, and it\\'s not\\nwhat you might think.  The most important quality in a startup\\nfounder is determination.  Not intelligence-- determination.This is a little depressing.  I\\'d like to believe Viaweb succeeded\\nbecause we were smart, not merely determined.  A lot of people in\\nthe startup world want to believe that.  Not just founders, but\\ninvestors too.  They like the idea of inhabiting a world ruled by\\nintelligence.  And you can tell they really believe this, because\\nit affects their investment decisions.Time after time VCs invest in startups founded by eminent professors.\\nThis may work in biotech, where a lot of startups simply commercialize\\nexisting research, but in software you want to invest in students,\\nnot professors.  Microsoft, Yahoo, and Google were all founded by\\npeople who dropped out of school to do it.  What students lack in\\nexperience they more than make up in dedication.Of course, if you want to get rich, it\\'s not enough merely to be\\ndetermined.  You have to be smart too, right?  I\\'d like to think\\nso, but I\\'ve had an experience that convinced me otherwise: I spent\\nseveral years living in New York.You can lose quite a lot in the brains department and it won\\'t kill\\nyou.  But lose even a little bit in the commitment department, and\\nthat will kill you very rapidly.Running a startup is like walking on your hands: it\\'s possible, but\\nit requires extraordinary effort.  If an ordinary employee were\\nasked to do the things a startup founder has to, he\\'d be very\\nindignant.  Imagine if you were hired at some big company, and in\\naddition to writing software ten times faster than you\\'d ever had\\nto before, they expected you to answer support calls, administer\\nthe servers, design the web site, cold-call customers, find the\\ncompany office space, and go out and get everyone lunch.And to do all this not in the calm, womb-like atmosphere of a big\\ncompany, but against a backdrop of constant disasters.  That\\'s the\\npart that really demands determination.  In a startup, there\\'s\\nalways some disaster happening.  So if you\\'re the least bit inclined\\nto find an excuse to quit, there\\'s always one right there.But if you lack commitment, chances are it will have been hurting\\nyou long before you actually quit.  Everyone who deals with startups\\nknows how important commitment is, so if they sense you\\'re ambivalent,\\nthey won\\'t give you much attention.  If you lack commitment, you\\'ll\\njust find that for some mysterious reason good things happen to\\nyour competitors but not to you.  If you lack commitment, it will\\nseem to you that you\\'re unlucky.Whereas if you\\'re determined to stick around, people will pay\\nattention to you, because odds are they\\'ll have to deal with you\\nlater.  You\\'re a local, not just a tourist, so everyone has to come\\nto terms with you.At Y Combinator we sometimes mistakenly fund teams who have the\\nattitude that they\\'re going to give this startup thing a shot for\\nthree months, and if something great happens, they\\'ll stick with\\nit-- \"something great\" meaning either that someone wants to buy\\nthem or invest millions of dollars in them.  But if this is your\\nattitude, \"something great\" is very unlikely to happen to you,\\nbecause both acquirers and investors judge you by your level of\\ncommitment.If an acquirer thinks you\\'re going to stick around no matter what,\\nthey\\'ll be more likely to buy you, because if they don\\'t and you\\nstick around, you\\'ll probably grow, your price will go up, and\\nthey\\'ll be left wishing they\\'d bought you earlier.  Ditto for\\ninvestors.  What really motivates investors, even big VCs, is not\\nthe hope of good returns, but the fear of missing out. \\n[6]\\nSo if\\nyou make it clear you\\'re going to succeed no matter what, and the only\\nreason you need them is to make it happen a little faster, you\\'re\\nmuch more likely to get money.You can\\'t fake this.  The only way to convince everyone that you\\'re\\nready to fight to the death is actually to be ready to.You have to be the right kind of determined, though.  I carefully\\nchose the word determined rather than stubborn, because stubbornness\\nis a disastrous quality in a startup.  You have to be determined,\\nbut flexible, like a running back.  A successful running back doesn\\'t\\njust put his head down and try to run through people.  He improvises:\\nif someone appears in front of him, he runs around them; if someone\\ntries to grab him, he spins out of their grip; he\\'ll even run in\\nthe wrong direction briefly if that will help.  The one thing he\\'ll\\nnever do is stand still. \\n[7]\\n6. There Is Always Room.I was talking recently to a startup founder about whether it might\\nbe good to add a social component to their software.  He said he\\ndidn\\'t think so, because the whole social thing was tapped out.\\nReally?  So in a hundred years the only social networking sites\\nwill be the Facebook, MySpace, Flickr, and Del.icio.us?  Not likely.There is always room for new stuff.  At every point in history,\\neven the darkest bits of the dark ages, people were discovering'),\n",
              "  Document(metadata={}, page_content='[7]\\n6. There Is Always Room.I was talking recently to a startup founder about whether it might\\nbe good to add a social component to their software.  He said he\\ndidn\\'t think so, because the whole social thing was tapped out.\\nReally?  So in a hundred years the only social networking sites\\nwill be the Facebook, MySpace, Flickr, and Del.icio.us?  Not likely.There is always room for new stuff.  At every point in history,\\neven the darkest bits of the dark ages, people were discovering\\nthings that made everyone say \"why didn\\'t anyone think of that\\nbefore?\"  We know this continued to be true up till 2004, when the\\nFacebook was founded-- though strictly speaking someone else did\\nthink of that.The reason we don\\'t see the opportunities all around us is that we\\nadjust to however things are, and assume that\\'s how things have to\\nbe.  For example, it would seem crazy to most people to try to make\\na better search engine than Google.  Surely that field, at least,\\nis tapped out.  Really?  In a hundred years-- or even twenty-- are\\npeople still going to search for information using something like\\nthe current Google?  Even Google probably doesn\\'t think that.In particular, I don\\'t think there\\'s any limit to the number of\\nstartups.  Sometimes you hear people saying \"All these guys starting\\nstartups now are going to be disappointed. How many little startups\\nare Google and Yahoo going to buy, after all?\" That sounds cleverly\\nskeptical, but I can prove it\\'s mistaken.  No one proposes that\\nthere\\'s some limit to the number of people who can be employed in\\nan economy consisting of big, slow-moving companies with a couple\\nthousand people each.  Why should there be any limit to the number\\nwho could be employed by small, fast-moving companies with ten each?\\nIt seems to me the only limit would be the number of people who\\nwant to work that hard.The limit on the number of startups is not the number that can get\\nacquired by Google and Yahoo-- though it seems even that should\\nbe unlimited, if the startups were actually worth buying-- but the\\namount of wealth that can be created.  And I don\\'t think there\\'s\\nany limit on that, except cosmological ones.So for all practical purposes, there is no limit to the number of\\nstartups.  Startups make wealth, which means they make things people\\nwant, and if there\\'s a limit on the number of things people want,\\nwe are nowhere near it.  I still don\\'t even have a flying car.\\n7. Don\\'t Get Your Hopes Up.This is another one I\\'ve been repeating since long before Y Combinator.\\nIt was practically the corporate motto at Viaweb.Startup founders are naturally optimistic.  They wouldn\\'t do it\\notherwise.  But you should treat your optimism the way you\\'d treat\\nthe core of a nuclear reactor: as a source of power that\\'s also\\nvery dangerous.  You have to build a shield around it, or it will\\nfry you.The shielding of a reactor is not uniform; the reactor would be\\nuseless if it were.  It\\'s pierced in a few places to let pipes in.\\nAn optimism shield has to be pierced too.  I think the place to\\ndraw the line is between what you expect of yourself, and what you\\nexpect of other people.  It\\'s ok to be optimistic about what you\\ncan do, but assume the worst about machines and other people.This is particularly necessary in a startup, because you tend to\\nbe pushing the limits of whatever you\\'re doing.  So things don\\'t\\nhappen in the smooth, predictable way they do in the rest of the\\nworld.  Things change suddenly, and usually for the worse.Shielding your optimism is nowhere more important than with deals.\\nIf your startup is doing a deal, just assume it\\'s not going to\\nhappen.  The VCs who say they\\'re going to invest in you aren\\'t.\\nThe company that says they\\'re going to buy you isn\\'t.  The big\\ncustomer who wants to use your system in their whole company won\\'t.\\nThen if things work out you can be pleasantly surprised.The reason I warn startups not to get their hopes up is not to save\\nthem from being disappointed when things fall through.  It\\'s\\nfor a more practical reason: to prevent them from leaning their\\ncompany against something that\\'s going to fall over, taking them\\nwith it.For example, if someone says they want to invest in you, there\\'s a\\nnatural tendency to stop looking for other investors.  That\\'s why\\npeople proposing deals seem so positive: they want you to\\nstop looking.  And you want to stop too, because doing deals is a\\npain.  Raising money, in particular, is a huge time sink.  So you\\nhave to consciously force yourself to keep looking.Even if you ultimately do the first deal, it will be to your advantage\\nto have kept looking, because you\\'ll get better terms.  Deals are\\ndynamic; unless you\\'re negotiating with someone unusually honest,\\nthere\\'s not a single point where you shake hands and the deal\\'s\\ndone. There are usually a lot of subsidiary questions to be cleared\\nup after the handshake, and if the other side senses weakness-- if\\nthey sense you need this deal-- they will be very tempted to screw\\nyou in the details.VCs and corp dev guys are professional negotiators.  They\\'re trained\\nto take advantage of weakness. \\n[8]\\nSo while they\\'re often nice\\nguys, they just can\\'t help it.  And as pros they do this more than\\nyou.  So don\\'t even try to bluff them.  The only way a startup can\\nhave any leverage in a deal is genuinely not to need it.  And if\\nyou don\\'t believe in a deal, you\\'ll be less likely to depend on it.So I want to plant a hypnotic suggestion in your heads: when you\\nhear someone say the words \"we want to invest in you\" or \"we want\\nto acquire you,\" I want the following phrase to appear automatically\\nin your head: don\\'t get your hopes up.  Just continue running\\nyour company as if this deal didn\\'t exist.  Nothing is more likely\\nto make it close.The way to succeed in a startup is to focus on the goal of getting\\nlots of users, and keep walking swiftly toward it while investors\\nand acquirers scurry alongside trying to wave money in your face.\\nSpeed, not MoneyThe way I\\'ve described it, starting a startup sounds pretty stressful.\\nIt is.  When I talk to the founders of the companies we\\'ve funded,\\nthey all say the same thing: I knew it would be hard, but I didn\\'t\\nrealize it would be this hard.So why do it?  It would be worth enduring a lot of pain and stress\\nto do something grand or heroic, but just to make money?  Is making\\nmoney really that important?No, not really.  It seems ridiculous to me when people take business\\ntoo seriously.  I regard making money as a boring errand to be got\\nout of the way as soon as possible.  There is nothing grand or\\nheroic about starting a startup per se.So why do I spend so much time thinking about startups?  I\\'ll tell\\nyou why.  Economically, a startup is best seen not as a way to get\\nrich, but as a way to work faster.  You have to make a living, and\\na startup is a way to get that done quickly, instead of letting it\\ndrag on through your whole life.\\n[9]We take it for granted most of the time, but human life is fairly\\nmiraculous.  It is also palpably short.  You\\'re given this marvellous\\nthing, and then poof, it\\'s taken away.  You can see why people\\ninvent gods to explain it.  But even to people who don\\'t believe\\nin gods, life commands respect.  There are times in most of our\\nlives when the days go by in a blur, and almost everyone has a\\nsense, when this happens, of wasting something precious.  As Ben\\nFranklin said, if you love life, don\\'t waste time, because time is\\nwhat life is made of.So no, there\\'s nothing particularly grand about making money.  That\\'s\\nnot what makes startups worth the trouble.  What\\'s important about\\nstartups is the speed.  By compressing the dull but necessary task\\nof making a living into the smallest possible time, you show respect\\nfor life, and there is something grand about that.Notes[1]\\nStartups can die from releasing something full of bugs, and not\\nfixing them fast enough, but I don\\'t know of any that died from\\nreleasing something stable but minimal very early, then promptly\\nimproving it.[2]\\nI know this is why I haven\\'t released Arc.  The moment I do,\\nI\\'ll have people nagging me for features.[3]\\nA web site is different from a book or movie or desktop application\\nin this respect.  Users judge a site not as a single snapshot, but\\nas an animation with multiple frames.  Of the two, I\\'d say the rate of\\nimprovement is more important to users than where you currently\\nare.[4]\\nIt should not always tell this to users, however.  For example,\\nMySpace is basically a replacement mall for mallrats.  But it was\\nwiser for them, initially, to pretend that the site was about bands.[5]\\nSimilarly, don\\'t make users register to try your site.  Maybe\\nwhat you have is so valuable that visitors should gladly register\\nto get at it.  But they\\'ve been trained to expect the opposite.\\nMost of the things they\\'ve tried on the web have sucked-- and\\nprobably especially those that made them register.[6]\\nVCs have rational reasons for behaving this way. They don\\'t\\nmake their money (if they make money) off their median investments.\\nIn a typical fund, half the companies fail, most of the rest generate\\nmediocre returns, and one or two \"make the fund\" by succeeding\\nspectacularly.  So if they miss just a few of the most promising\\nopportunities, it could hose the whole fund.[7]\\nThe attitude of a running back doesn\\'t translate to soccer.\\nThough it looks great when a forward dribbles past multiple defenders,\\na player who persists in trying such things will do worse in the\\nlong term than one who passes.[8]\\nThe reason Y Combinator never negotiates valuations\\nis that we\\'re not professional negotiators, and don\\'t want to turn\\ninto them.[9]\\nThere are two ways to do \\nwork you love: (a) to make money, then work\\non what you love, or (b) to get a job where you get paid to work on\\nstuff you love.  In practice the first phases of both\\nconsist mostly of unedifying schleps, and in (b) the second phase is less\\nsecure.Thanks to Sam Altman, Trevor Blackwell, Beau Hartshorne, Jessica \\nLivingston, and Robert Morris for reading drafts of this.')],\n",
              " 'output_text': '- Lessons learned from funding startups and advice for success\\n- Main points include releasing a minimal version 1 quickly, constantly improving and adding features, and focusing on making users happy\\n- Importance of responding to user feedback and constantly striving for improvement\\n- Startups should be able to clearly and concisely explain what they do\\n- Showcase the best aspects of the company and engage with users\\n- Determination and commitment of founders crucial for success\\n- Room for new ideas and innovation\\n- Potential for new social networking sites and startups\\n- Importance of not getting too optimistic about deals and focusing on creating a successful business\\n- Value of time and speed in achieving success\\n- Thoughts on the process of making money and respecting life.'}"
            ]
          },
          "metadata": {},
          "execution_count": 140
        }
      ]
    },
    {
      "cell_type": "code",
      "source": [
        "output['output_text']"
      ],
      "metadata": {
        "colab": {
          "base_uri": "https://localhost:8080/",
          "height": 139
        },
        "id": "5e8NVV3Km8yl",
        "outputId": "9c29cdc1-39bc-43ab-c990-9d7b1fed5272"
      },
      "execution_count": 141,
      "outputs": [
        {
          "output_type": "execute_result",
          "data": {
            "text/plain": [
              "'- Lessons learned from funding startups and advice for success\\n- Main points include releasing a minimal version 1 quickly, constantly improving and adding features, and focusing on making users happy\\n- Importance of responding to user feedback and constantly striving for improvement\\n- Startups should be able to clearly and concisely explain what they do\\n- Showcase the best aspects of the company and engage with users\\n- Determination and commitment of founders crucial for success\\n- Room for new ideas and innovation\\n- Potential for new social networking sites and startups\\n- Importance of not getting too optimistic about deals and focusing on creating a successful business\\n- Value of time and speed in achieving success\\n- Thoughts on the process of making money and respecting life.'"
            ],
            "application/vnd.google.colaboratory.intrinsic+json": {
              "type": "string"
            }
          },
          "metadata": {},
          "execution_count": 141
        }
      ]
    },
    {
      "cell_type": "code",
      "source": [
        "print (output['output_text'])"
      ],
      "metadata": {
        "id": "tYeOROkc7mWj",
        "colab": {
          "base_uri": "https://localhost:8080/"
        },
        "outputId": "33890da6-41cf-42f6-9592-c5160814647f"
      },
      "execution_count": 142,
      "outputs": [
        {
          "output_type": "stream",
          "name": "stdout",
          "text": [
            "- Lessons learned from funding startups and advice for success\n",
            "- Main points include releasing a minimal version 1 quickly, constantly improving and adding features, and focusing on making users happy\n",
            "- Importance of responding to user feedback and constantly striving for improvement\n",
            "- Startups should be able to clearly and concisely explain what they do\n",
            "- Showcase the best aspects of the company and engage with users\n",
            "- Determination and commitment of founders crucial for success\n",
            "- Room for new ideas and innovation\n",
            "- Potential for new social networking sites and startups\n",
            "- Importance of not getting too optimistic about deals and focusing on creating a successful business\n",
            "- Value of time and speed in achieving success\n",
            "- Thoughts on the process of making money and respecting life.\n"
          ]
        }
      ]
    },
    {
      "cell_type": "markdown",
      "source": [
        "##Level 4: Best Representation Vectors - Summarize an entire book"
      ],
      "metadata": {
        "id": "GxKSPy9v7pVb"
      }
    },
    {
      "cell_type": "code",
      "source": [
        "from langchain.document_loaders import PyPDFLoader\n",
        "\n",
        "# Load the book\n",
        "loader = PyPDFLoader(\"IntoThinAirBook.pdf\")\n",
        "pages = loader.load()\n",
        "\n",
        "# Cut out the open and closing parts\n",
        "pages = pages[26:277]\n",
        "\n",
        "# Combine the pages, and replace the tabs with spaces\n",
        "text = \"\"\n",
        "\n",
        "for page in pages:\n",
        "    text += page.page_content\n",
        "\n",
        "text = text.replace('\\t', ' ')"
      ],
      "metadata": {
        "id": "bObNWo7s7ufP"
      },
      "execution_count": 156,
      "outputs": []
    },
    {
      "cell_type": "code",
      "source": [
        "num_tokens = llm.get_num_tokens(text)\n",
        "\n",
        "print (f\"This book has {num_tokens} tokens in it\")"
      ],
      "metadata": {
        "id": "Xzi5c2Je8_8_",
        "colab": {
          "base_uri": "https://localhost:8080/"
        },
        "outputId": "cc4520d9-957e-4b1e-cd5f-1769d437515d"
      },
      "execution_count": 157,
      "outputs": [
        {
          "output_type": "stream",
          "name": "stdout",
          "text": [
            "This book has 131888 tokens in it\n"
          ]
        }
      ]
    },
    {
      "cell_type": "code",
      "source": [
        "# Loaders\n",
        "from langchain.schema import Document\n",
        "\n",
        "# Splitters\n",
        "from langchain.text_splitter import RecursiveCharacterTextSplitter\n",
        "\n",
        "# Model\n",
        "from langchain.chat_models import ChatOpenAI\n",
        "\n",
        "# Embedding Support\n",
        "from langchain.vectorstores import FAISS\n",
        "from langchain.embeddings import OpenAIEmbeddings\n",
        "\n",
        "# Summarizer we'll use for Map Reduce\n",
        "from langchain.chains.summarize import load_summarize_chain\n",
        "\n",
        "# Data Science\n",
        "import numpy as np\n",
        "from sklearn.cluster import KMeans"
      ],
      "metadata": {
        "id": "sJsiyZDq9EmB"
      },
      "execution_count": 158,
      "outputs": []
    },
    {
      "cell_type": "code",
      "source": [
        "text_splitter = RecursiveCharacterTextSplitter(separators=[\"\\n\\n\", \"\\n\", \"\\t\"], chunk_size=10000, chunk_overlap=3000)\n",
        "\n",
        "docs = text_splitter.create_documents([text])"
      ],
      "metadata": {
        "id": "t2UGhuwN9HeP"
      },
      "execution_count": 159,
      "outputs": []
    },
    {
      "cell_type": "code",
      "source": [
        "num_documents = len(docs)\n",
        "\n",
        "print (f\"Now our book is split up into {num_documents} documents\")"
      ],
      "metadata": {
        "id": "MBpCWQiH9JW2",
        "colab": {
          "base_uri": "https://localhost:8080/"
        },
        "outputId": "507f6406-1433-4f0c-8176-d772efdc9604"
      },
      "execution_count": 160,
      "outputs": [
        {
          "output_type": "stream",
          "name": "stdout",
          "text": [
            "Now our book is split up into 78 documents\n"
          ]
        }
      ]
    },
    {
      "cell_type": "code",
      "source": [
        "embeddings = OpenAIEmbeddings()\n",
        "\n",
        "vectors = embeddings.embed_documents([x.page_content for x in docs])"
      ],
      "metadata": {
        "id": "q6xJgsHf9M7P"
      },
      "execution_count": 161,
      "outputs": []
    },
    {
      "cell_type": "code",
      "source": [
        "# Assuming 'embeddings' is a list or array of 1536-dimensional embeddings\n",
        "\n",
        "# Choose the number of clusters, this can be adjusted based on the book's content.\n",
        "# I played around and found ~10 was the best.\n",
        "# Usually if you have 10 passages from a book you can tell what it's about\n",
        "num_clusters = 11\n",
        "\n",
        "# Perform K-means clustering\n",
        "kmeans = KMeans(n_clusters=num_clusters, random_state=42).fit(vectors)"
      ],
      "metadata": {
        "id": "RlBScu0J9QTN"
      },
      "execution_count": 162,
      "outputs": []
    },
    {
      "cell_type": "code",
      "source": [
        "kmeans.labels_"
      ],
      "metadata": {
        "id": "U47AwXua9T4m",
        "colab": {
          "base_uri": "https://localhost:8080/"
        },
        "outputId": "22b2830f-ea0c-4484-99c2-e3c1a5fd6560"
      },
      "execution_count": 163,
      "outputs": [
        {
          "output_type": "execute_result",
          "data": {
            "text/plain": [
              "array([ 2,  2,  8,  8,  8,  4, 10, 10,  5,  4,  4,  4,  4, 10, 10, 10,  7,\n",
              "        4,  4,  4,  5,  5,  5,  3,  4,  6,  6,  6,  0,  0,  7,  3,  7,  2,\n",
              "        7,  3,  7,  7,  7,  7,  7,  1,  1,  7,  2,  2,  1,  2,  1,  1,  1,\n",
              "        1,  1,  1,  1,  1,  1,  1,  1,  4,  1,  7,  7,  4,  4,  7,  7,  3,\n",
              "        3,  3,  9,  9,  9,  9,  9,  9,  9,  9], dtype=int32)"
            ]
          },
          "metadata": {},
          "execution_count": 163
        }
      ]
    },
    {
      "cell_type": "code",
      "source": [
        "from sklearn.manifold import TSNE\n",
        "import matplotlib.pyplot as plt\n",
        "\n",
        "# Taking out the warnings\n",
        "import warnings\n",
        "from warnings import simplefilter\n",
        "\n",
        "# Filter out FutureWarnings\n",
        "simplefilter(action='ignore', category=FutureWarning)\n",
        "\n",
        "# Convert the vectors list to a NumPy array\n",
        "vectors = np.array(vectors)\n",
        "\n",
        "# Perform t-SNE and reduce to 2 dimensions\n",
        "tsne = TSNE(n_components=2, random_state=42)\n",
        "reduced_data_tsne = tsne.fit_transform(vectors)\n",
        "\n",
        "# Plot the reduced data\n",
        "plt.scatter(reduced_data_tsne[:, 0], reduced_data_tsne[:, 1], c=kmeans.labels_)\n",
        "plt.xlabel('Dimension 1')\n",
        "plt.ylabel('Dimension 2')\n",
        "plt.title('Book Embeddings Clustered')\n",
        "plt.show()"
      ],
      "metadata": {
        "id": "8EY82-Dg9YfB",
        "colab": {
          "base_uri": "https://localhost:8080/",
          "height": 472
        },
        "outputId": "b6f61f88-b6df-4a50-d5c8-2b2dda420488"
      },
      "execution_count": 164,
      "outputs": [
        {
          "output_type": "display_data",
          "data": {
            "text/plain": [
              "<Figure size 640x480 with 1 Axes>"
            ],
            "image/png": "[encoded data removed]"
          },
          "metadata": {}
        }
      ]
    },
    {
      "cell_type": "code",
      "source": [
        "# Find the closest embeddings to the centroids\n",
        "\n",
        "# Create an empty list that will hold your closest points\n",
        "closest_indices = []\n",
        "\n",
        "# Loop through the number of clusters you have\n",
        "for i in range(num_clusters):\n",
        "\n",
        "    # Get the list of distances from that particular cluster center\n",
        "    distances = np.linalg.norm(vectors - kmeans.cluster_centers_[i], axis=1)\n",
        "\n",
        "    # Find the list position of the closest one (using argmin to find the smallest distance)\n",
        "    closest_index = np.argmin(distances)\n",
        "\n",
        "    # Append that position to your closest indices list\n",
        "    closest_indices.append(closest_index)"
      ],
      "metadata": {
        "id": "7x4M1pMz9cwH"
      },
      "execution_count": 165,
      "outputs": []
    },
    {
      "cell_type": "code",
      "source": [
        "selected_indices = sorted(closest_indices)\n",
        "selected_indices"
      ],
      "metadata": {
        "id": "N-8zTYe19gtH",
        "colab": {
          "base_uri": "https://localhost:8080/"
        },
        "outputId": "1df4c001-5e76-499b-fa60-c6132943d7dd"
      },
      "execution_count": 166,
      "outputs": [
        {
          "output_type": "execute_result",
          "data": {
            "text/plain": [
              "[np.int64(3),\n",
              " np.int64(12),\n",
              " np.int64(13),\n",
              " np.int64(21),\n",
              " np.int64(26),\n",
              " np.int64(28),\n",
              " np.int64(40),\n",
              " np.int64(45),\n",
              " np.int64(49),\n",
              " np.int64(68),\n",
              " np.int64(75)]"
            ]
          },
          "metadata": {},
          "execution_count": 166
        }
      ]
    },
    {
      "cell_type": "code",
      "source": [
        "llm3 = ChatOpenAI(temperature=0,\n",
        "                 openai_api_key=OPENAI_API_KEY,\n",
        "                 max_tokens=1000,\n",
        "                 model='gpt-3.5-turbo'\n",
        "                )"
      ],
      "metadata": {
        "id": "ldACdyNV9i5_"
      },
      "execution_count": 167,
      "outputs": []
    },
    {
      "cell_type": "code",
      "source": [
        "map_prompt = \"\"\"\n",
        "You will be given a single passage of a book. This section will be enclosed in triple backticks (```)\n",
        "Your goal is to give a summary of this section so that a reader will have a full understanding of what happened.\n",
        "Your response should be at least three paragraphs and fully encompass what was said in the passage.\n",
        "\n",
        "```{text}```\n",
        "FULL SUMMARY:\n",
        "\"\"\"\n",
        "map_prompt_template = PromptTemplate(template=map_prompt, input_variables=[\"text\"])"
      ],
      "metadata": {
        "id": "lzcbut_-9m0Y"
      },
      "execution_count": 168,
      "outputs": []
    },
    {
      "cell_type": "code",
      "source": [
        "map_chain = load_summarize_chain(llm=llm3,\n",
        "                             chain_type=\"stuff\",\n",
        "                             prompt=map_prompt_template)"
      ],
      "metadata": {
        "id": "ecUTxUtU9pyo"
      },
      "execution_count": 169,
      "outputs": []
    },
    {
      "cell_type": "code",
      "source": [
        "selected_docs = [docs[doc] for doc in selected_indices]"
      ],
      "metadata": {
        "id": "4Fq_mOBs9rr_"
      },
      "execution_count": 170,
      "outputs": []
    },
    {
      "cell_type": "code",
      "source": [
        "# Make an empty list to hold your summaries\n",
        "summary_list = []\n",
        "\n",
        "# Loop through a range of the lenght of your selected docs\n",
        "for i, doc in enumerate(selected_docs):\n",
        "\n",
        "    # Go get a summary of the chunk\n",
        "    chunk_summary = map_chain.invoke([doc])\n",
        "\n",
        "    # Append that summary to your list\n",
        "    summary_list.append(chunk_summary['output_text'])\n",
        "\n",
        "    #print (f\"Summary #{i} (chunk #{selected_indices[i]}) - Preview: {chunk_summary[:250]} \\n\")\n",
        "    print (f\"Summary #{i} (chunk #{selected_indices[i]}) - Preview: {chunk_summary['output_text'][:250]} \\n\")"
      ],
      "metadata": {
        "id": "wBd16sOv9vBD",
        "colab": {
          "base_uri": "https://localhost:8080/"
        },
        "outputId": "f3619b58-5a11-46ae-fcbc-fe15d079fa4e"
      },
      "execution_count": 176,
      "outputs": [
        {
          "output_type": "stream",
          "name": "stdout",
          "text": [
            "Summary #0 (chunk #3) - Preview: The passage describes the changing perceptions and popularity of climbing Mount Everest over the years. It begins with the British celebrating the coronation of Queen Elizabeth II and the successful ascent of Everest by a British team, which sparked  \n",
            "\n",
            "Summary #1 (chunk #12) - Preview: In this passage, a climber named Tenzing falls into a crevasse on Everest, requiring a massive effort to be carried down to Base Camp due to the high altitude making helicopter evacuation unsafe. The importance of Sherpas in expeditions is emphasized \n",
            "\n",
            "Summary #2 (chunk #13) - Preview: In this passage, the author describes their journey to Everest Base Camp with their team, including Andy who falls ill with food poisoning. Despite feeling weak and dehydrated, Andy insists on continuing the trek to Base Camp. The group faces challen \n",
            "\n",
            "Summary #3 (chunk #21) - Preview: In this passage, we are introduced to two different stories of individuals attempting to climb Mount Everest. The first story follows Denman Ross, a Canadian with little experience in mountaineering, who embarks on an expedition with two Sherpas, Ang \n",
            "\n",
            "Summary #4 (chunk #26) - Preview: In this passage, the focus is on the rescue mission of a Sherpa named Ngawang who was suffering from High Altitude Pulmonary Edema (HAPE) while climbing Mount Everest. Despite showing symptoms of HAPE, Ngawang initially ignored instructions to descen \n",
            "\n",
            "Summary #5 (chunk #28) - Preview: The passage describes the impact of the Internet on communication during an Everest expedition, with multiple websites posting updates from different teams. It focuses on Sandy Hill Pittman, a millionaire socialite and climber attempting Everest for  \n",
            "\n",
            "Summary #6 (chunk #40) - Preview: In this passage, the author describes the night before a summit climb on Mount Everest. Despite being part of a large group of climbers, there is a sense of isolation and individualism among them. Each person is focused on their own goal of reaching  \n",
            "\n",
            "Summary #7 (chunk #45) - Preview: In this passage, the author describes his experience of reaching the summit of Mount Everest and the challenges he faced during the descent. Despite the elation of achieving a lifelong goal, the author is filled with apprehension about the dangerous  \n",
            "\n",
            "Summary #8 (chunk #49) - Preview: In this passage, we see a series of events unfolding on Mount Everest during a summit attempt. Lopsang discovers that a climber named Pittman has run out of oxygen, but fortunately, he has a spare canister to help her reach the summit. Meanwhile, Rob \n",
            "\n",
            "Summary #9 (chunk #68) - Preview: In this passage, we follow the story of Bruce Herrod, a member of the South African team attempting to summit Mount Everest. Despite being an experienced mountaineer, Herrod falls behind the group during the ascent and reaches the summit hours after  \n",
            "\n",
            "Summary #10 (chunk #75) - Preview: The passage from \"The Climb\" discusses the aftermath of the 1996 Everest disaster and the controversy surrounding Anatoli Boukreev's actions during the expedition. Boukreev is quoted as feeling maligned by American press and finding support from Euro \n",
            "\n"
          ]
        }
      ]
    },
    {
      "cell_type": "code",
      "source": [
        "summaries = \"\\n\".join(summary_list)\n",
        "\n",
        "# Convert it back to a document\n",
        "summaries = Document(page_content=summaries)\n",
        "\n",
        "print (f\"Your total summary has {llm.get_num_tokens(summaries.page_content)} tokens\")"
      ],
      "metadata": {
        "id": "obQi6Tta9zJh",
        "colab": {
          "base_uri": "https://localhost:8080/"
        },
        "outputId": "b96f5500-a8a0-4774-9334-24ec3d89cf64"
      },
      "execution_count": 177,
      "outputs": [
        {
          "output_type": "stream",
          "name": "stdout",
          "text": [
            "Your total summary has 3331 tokens\n"
          ]
        }
      ]
    },
    {
      "cell_type": "code",
      "source": [
        "llm4 = ChatOpenAI(temperature=0,\n",
        "                 openai_api_key=OPENAI_API_KEY,\n",
        "                 max_tokens=3000,\n",
        "                 model='gpt-4',\n",
        "                 request_timeout=120\n",
        "                )"
      ],
      "metadata": {
        "id": "6wZkbZfG93BI"
      },
      "execution_count": 178,
      "outputs": []
    },
    {
      "cell_type": "code",
      "source": [
        "combine_prompt = \"\"\"\n",
        "You will be given a series of summaries from a book. The summaries will be enclosed in triple backticks (```)\n",
        "Your goal is to give a verbose summary of what happened in the story.\n",
        "The reader should be able to grasp what happened in the book.\n",
        "\n",
        "```{text}```\n",
        "VERBOSE SUMMARY:\n",
        "\"\"\"\n",
        "combine_prompt_template = PromptTemplate(template=combine_prompt, input_variables=[\"text\"])"
      ],
      "metadata": {
        "id": "xx-2BNTZ95X_"
      },
      "execution_count": 179,
      "outputs": []
    },
    {
      "cell_type": "code",
      "source": [
        "reduce_chain = load_summarize_chain(llm=llm4,\n",
        "                             chain_type=\"stuff\",\n",
        "                             prompt=combine_prompt_template,verbose=True)"
      ],
      "metadata": {
        "id": "_YQp3dWY99RJ"
      },
      "execution_count": 180,
      "outputs": []
    },
    {
      "cell_type": "code",
      "source": [
        "output = reduce_chain.invoke([summaries])"
      ],
      "metadata": {
        "id": "hpUkAXWf9_Ow",
        "colab": {
          "base_uri": "https://localhost:8080/"
        },
        "outputId": "edcea031-0650-4b96-bcad-3668eb0e2e76"
      },
      "execution_count": 181,
      "outputs": [
        {
          "output_type": "stream",
          "name": "stdout",
          "text": [
            "\n",
            "\n",
            "\u001b[1m> Entering new StuffDocumentsChain chain...\u001b[0m\n",
            "\n",
            "\n",
            "\u001b[1m> Entering new LLMChain chain...\u001b[0m\n",
            "Prompt after formatting:\n",
            "\u001b[32;1m\u001b[1;3m\n",
            "You will be given a series of summaries from a book. The summaries will be enclosed in triple backticks (```)\n",
            "Your goal is to give a verbose summary of what happened in the story.\n",
            "The reader should be able to grasp what happened in the book.\n",
            "\n",
            "```The passage describes the changing perceptions and popularity of climbing Mount Everest over the years. It begins with the British celebrating the coronation of Queen Elizabeth II and the successful ascent of Everest by a British team, which sparked national pride and admiration. The passage then shifts to the 1963 ascent of Everest via the West Ridge by Tom Hornbein and Willi Unsoeld, highlighting the challenges they faced and the significance of their achievement. The narrator, who was a child at the time, was inspired by this event and developed a passion for climbing.\n",
            "\n",
            "The passage delves into the narrator's personal journey as a climber, detailing his early ambitions to climb Everest and his immersion in the climbing community. It discusses the evolving attitudes towards Everest, with some climbers dismissing it as lacking technical challenge and aesthetic appeal due to its popularity and commercialization. The passage also touches on the impact of wealthy climbers like Dick Bass, who popularized guided ascents of Everest and changed the perception of who could climb the mountain.\n",
            "\n",
            "Furthermore, the passage explores the increasing commercialization of Everest expeditions, with a growing number of guided ascents and climbers flocking to the mountain despite rising permit fees. The Nepalese government's attempts to regulate climbing on Everest by increasing permit fees and limiting the number of expeditions are discussed, as well as the shift of climbers to the Tibetan side of the mountain due to lower fees. Overall, the passage provides a comprehensive overview of the changing dynamics and challenges surrounding climbing Mount Everest.\n",
            "In this passage, a climber named Tenzing falls into a crevasse on Everest, requiring a massive effort to be carried down to Base Camp due to the high altitude making helicopter evacuation unsafe. The importance of Sherpas in expeditions is emphasized, with a tragic incident involving a young Sherpa named Kami Rita who falls to his death due to inexperience and lack of proper training. The passage also highlights the harsh conditions of the mountain, with climbers facing challenges such as illness, altitude sickness, and treacherous terrain.\n",
            "\n",
            "Despite the difficulties, Tenzing is successfully rescued and taken to Base Camp, where a helicopter will transport him to a hospital in Kathmandu. The climbers, including the narrator, are relieved by this news and prepare to leave Lobuje for Base Camp. However, they face further challenges such as illness and harsh conditions on the glacier. One climber, Andy, becomes severely ill but insists on continuing the journey, showing determination and resilience in the face of adversity.\n",
            "\n",
            "As the climbers make their way towards Base Camp, they encounter the unique landscape of the glacier, with ice pinnacles and Phantom Alley creating a surreal and otherworldly environment. The passage captures the physical and emotional toll of climbing Everest, highlighting the dangers, camaraderie, and perseverance required to navigate the treacherous terrain and reach their goal.\n",
            "In this passage, the author describes their journey to Everest Base Camp with their team, including Andy who falls ill with food poisoning. Despite feeling weak and dehydrated, Andy insists on continuing the trek to Base Camp. The group faces challenging terrain, including the Khumbu Glacier and Phantom Alley, before finally reaching Base Camp. The camp is described as a bustling village with modern amenities, maintained by commercial expeditions like Adventure Consultants led by Rob Hall.\n",
            "\n",
            "The author highlights the efforts made by commercial expeditions to keep Base Camp clean, with expeditions required to carry back trash and even remove waste from toilets. The passage also introduces Scott Fischer, a rival to Rob Hall, who leads his own commercial expedition to Everest. Despite being competitors, Fischer and Hall have a history of friendship and collaboration, having previously attempted climbs together and planned future expeditions.\n",
            "\n",
            "The passage delves into Fischer's background, describing his passion for mountaineering, his family life, and the founding of his company, Mountain Madness. Fischer's wife, Jean Price, plays a significant role in supporting his climbing career through her career as a pilot. The passage sets the stage for the interactions and dynamics between the various commercial expeditions at Everest Base Camp, highlighting the camaraderie and competition within the high-altitude climbing community.\n",
            "In this passage, we are introduced to two different stories of individuals attempting to climb Mount Everest. The first story follows Denman Ross, a Canadian with little experience in mountaineering, who embarks on an expedition with two Sherpas, Ang Dawa and another unnamed Sherpa. Despite Denman's courage and physical strength, he is ultimately defeated by a storm at 22,000 feet and decides to turn back, admitting his defeat. This contrasts with the story of Maurice Wilson, an Englishman who attempted a reckless ascent of Everest motivated by a misguided desire to publicize his beliefs. Wilson's lack of experience in both mountaineering and flying leads to his tragic death on the mountain.\n",
            "\n",
            "The passage also introduces us to Pete Schoening, a legendary climber who had previously achieved remarkable feats in mountaineering, including saving the lives of his fellow climbers in a dangerous situation on K2. Schoening, now almost sixty-nine years old, is attempting to climb Everest with a group led by Scott Fischer. Despite his legendary status, Schoening joins the group not as a client in need of guidance, but to avoid logistical hassles. The passage also mentions other climbers on different expeditions, highlighting the varying levels of experience and competence among climbers attempting to summit Everest.\n",
            "\n",
            "Furthermore, the passage touches on the presence of climbers from different expeditions on Everest, including a Taiwanese team with a reputation for being ill-prepared and causing rescue operations due to their lack of experience. This highlights the dangers of inexperienced climbers attempting such a challenging feat. Overall, the passage provides a glimpse into the diverse range of climbers attempting to conquer Everest, from legendary figures to inexperienced dreamers, each facing their own challenges and risks on the world's highest peak.\n",
            "In this passage, the focus is on the rescue mission of a Sherpa named Ngawang who was suffering from High Altitude Pulmonary Edema (HAPE) while climbing Mount Everest. Despite showing symptoms of HAPE, Ngawang initially ignored instructions to descend to Base Camp and instead went up to Camp Two, where his condition worsened. A team of climbers, including guide Neal Beidleman, had to drag Ngawang down the mountain using a deflated Gamow Bag as a makeshift toboggan. Ngawang's condition continued to deteriorate, and despite efforts to treat him with medication, supplemental oxygen, and the Gamow Bag, his situation did not improve.\n",
            "\n",
            "As Ngawang's condition worsened, Dr. Ingrid Hunt, who was in charge of medical care at Base Camp, faced challenges in convincing the Sherpas, including Ngima Kale Sherpa, that Ngawang needed to be evacuated due to HAPE. Ngawang and Ngima insisted that he was suffering from a stomachache rather than altitude illness, complicating the situation. Dr. Hunt consulted with other doctors, including Dr. Jim Litch, who arrived to assist in Ngawang's treatment. Despite their efforts, Ngawang's condition continued to deteriorate, and the lack of cooperation from the Sherpas and the absence of expedition leader Scott Fischer made the situation more critical.\n",
            "\n",
            "The passage also highlights the challenges faced by Dr. Hunt, who was relatively inexperienced in high-altitude medicine and struggled to manage the medical needs of the climbers at Base Camp. The lack of acclimatization and the physical demands of the environment added to her difficulties in treating Ngawang. The passage ends with Ngawang's condition worsening, Dr. Litch's arrival to assist in his treatment, and the realization that Ngawang should have been evacuated earlier. The tense and urgent situation underscores the risks and complexities of high-altitude climbing and the importance of experienced medical care in such extreme environments.\n",
            "The passage describes the impact of the Internet on communication during an Everest expedition, with multiple websites posting updates from different teams. It focuses on Sandy Hill Pittman, a millionaire socialite and climber attempting Everest for the third time to complete her Seven Summits challenge. Despite previous failed attempts, she was determined to reach the summit. The passage delves into Pittman's background, detailing her affluent lifestyle in New York and her pursuit of public attention through various ventures.\n",
            "\n",
            "Pittman's extravagant approach to climbing, including bringing gourmet food and electronic equipment to base camp, set her apart from traditional climbers. Her lavish lifestyle and high-profile connections, such as hosting a farewell party attended by celebrities, added to the intrigue surrounding her Everest expedition. Despite some viewing her as a grandstanding dilettante, Pittman's teammates found her energetic and upbeat, with some accepting her idiosyncrasies. The passage also highlights the mixed reactions to her involvement in climbing, with some questioning her abilities and others forming close friendships with her.\n",
            "\n",
            "Overall, the passage provides a detailed look at Sandy Hill Pittman's background, her previous attempts at Everest, and the unique approach she took to climbing the mountain. It also explores the reactions of her teammates and the climbing community to her presence on the expedition. Pittman's determination and extravagant lifestyle add layers to the narrative, showcasing the complexities of her character and the challenges she faced in pursuing her climbing goals.\n",
            "In this passage, the author describes the night before a summit climb on Mount Everest. Despite being part of a large group of climbers, there is a sense of isolation and individualism among them. Each person is focused on their own goal of reaching the summit, with little sense of camaraderie or loyalty to the group. The weather conditions are harsh, with strong winds making communication difficult and oxygen levels running low. However, a sudden calm in the weather signals the start of the summit climb.\n",
            "\n",
            "As the climbers begin their ascent, tensions arise within the groups. Some climbers, like Doug, struggle with the physical and mental challenges of the climb and consider turning back. The team dynamics are strained as different groups merge and individuals struggle to keep up with the pace set by their guides. The author reflects on the importance of following the lead of the guides and staying together as a group, despite personal frustrations and setbacks.\n",
            "\n",
            "The passage also highlights the risks and challenges of high-altitude climbing, including the use of techniques like short-roping to assist weaker climbers. As the climbers reach the Southeast Ridge, they must wait for the entire group to gather before continuing the ascent. The author grapples with feelings of frustration and impatience, but ultimately understands the importance of teamwork and following the guidance of the experienced climbers. The passage sets the stage for the intense physical and emotional journey that lies ahead as the climbers push towards the summit of Mount Everest.\n",
            "In this passage, the author describes his experience of reaching the summit of Mount Everest and the challenges he faced during the descent. Despite the elation of achieving a lifelong goal, the author is filled with apprehension about the dangerous journey back down the mountain. As he descends, he struggles with diminishing willpower and cognitive functions due to the lack of oxygen. The author encounters various climbers on the way down, including a Texan pilot who recognizes an approaching storm and a guide who is struggling with a frozen oxygen valve.\n",
            "\n",
            "The author's descent is fraught with challenges, including encountering a crowded Hillary Step and running out of oxygen. Despite the presence of full oxygen canisters at the South Summit, a guide insists they are empty due to a malfunctioning regulator. The author, mentally impaired by lack of oxygen, fails to recognize the seriousness of the situation and continues down the mountain. As conditions worsen with snowfall and poor visibility, the author faces the risk of falling off the ridge.\n",
            "\n",
            "Ultimately, the author's descent from the summit of Everest is marked by a series of challenges and misjudgments, highlighting the dangers and complexities of high-altitude mountaineering. The passage underscores the importance of clear communication, sound decision-making, and the impact of extreme conditions on physical and mental capabilities. Despite reaching the summit, the author's journey down the mountain is a harrowing ordeal that tests his resilience and highlights the unpredictable nature of such extreme environments.\n",
            "In this passage, we see a series of events unfolding on Mount Everest during a summit attempt. Lopsang discovers that a climber named Pittman has run out of oxygen, but fortunately, he has a spare canister to help her reach the summit. Meanwhile, Rob Hall and his team also reach the summit and radio back to Base Camp with the good news. However, it is revealed that Scott Fischer, another climber, is struggling with exhaustion and a recurring illness that he has kept hidden from his team.\n",
            "\n",
            "As Fischer continues his ascent, his physical and mental strain become more apparent, but he tries to push through and reach the summit. Despite his struggles, he interacts with other climbers on the way, including Martin Adams and Anatoli Boukreev. Fischer's condition worsens as he nears the summit, and he eventually collapses, prompting his team members to provide emergency medical assistance in the form of a steroid injection and extra oxygen.\n",
            "\n",
            "As the climbers begin their descent, more challenges arise, including a climber getting disoriented in a storm and descending the wrong side of the ridge. Mike Groom helps guide the disoriented climber back to safety while also assisting another climber, Beck, who is struggling with blindness. The passage highlights the physical and mental toll of climbing Everest, as well as the importance of teamwork and quick thinking in emergency situations.\n",
            "In this passage, we follow the story of Bruce Herrod, a member of the South African team attempting to summit Mount Everest. Despite being an experienced mountaineer, Herrod falls behind the group during the ascent and reaches the summit hours after his companions. He faces extreme fatigue, lack of oxygen, and darkness as he finally reaches the summit. Despite warnings and the dangerous conditions, Herrod perseveres and makes it to the top. However, he fails to radio back to the team at Camp Four, and he is presumed dead, becoming the twelfth casualty of the season.\n",
            "\n",
            "The passage also delves into the aftermath of the Everest expedition, with the author reflecting on the impact of the tragedy on those involved. Lou Kasischke visits Beck Weathers, who suffered severe injuries during the climb, and notes Beck's resilience and positive outlook on life despite his physical challenges. The author struggles with the memories of the expedition, finding it difficult to move past the experience and still haunted by thoughts of Everest. The passage also includes critical letters received by the author, including one from a relative of a deceased climber, expressing anger and frustration towards the author's portrayal of the events on Everest.\n",
            "\n",
            "Overall, this passage highlights the physical and emotional challenges faced by climbers on Mount Everest, the consequences of pushing limits in extreme conditions, and the lasting impact of such experiences on those involved. It also touches on themes of resilience, acceptance, and the complexities of assigning blame in tragic situations. The story of Bruce Herrod serves as a poignant reminder of the risks and sacrifices involved in high-altitude mountaineering.\n",
            "The passage from \"The Climb\" discusses the aftermath of the 1996 Everest disaster and the controversy surrounding Anatoli Boukreev's actions during the expedition. Boukreev is quoted as feeling maligned by American press and finding support from European colleagues like Reinhold Messner, although Messner later clarified that he disagreed with Boukreev's decisions on Everest. Boukreev's actions, particularly descending ahead of his clients and not using bottled oxygen, are criticized by Messner and other experienced climbers like David Breashears.\n",
            "\n",
            "The passage also delves into the author's own reflections on the Everest tragedy, admitting to potential mistakes that may have contributed to the deaths of teammates. The author acknowledges the heroism displayed by Boukreev in saving lives during the disaster but also raises concerns about some of his decisions. The author emphasizes the importance of providing a full and honest account of the events on Everest, despite the controversy and differing opinions.\n",
            "\n",
            "The section concludes with a tribute to Boukreev, highlighting his background as a Soviet climber who adapted to the changing world after the collapse of the Soviet Union. Boukreev's struggles to make a living as a guide and his dedication to climbing despite not enjoying guiding are discussed. The passage provides insight into Boukreev's character, his determination, and his continued pursuit of high-altitude ascents despite the challenges he faced.```\n",
            "VERBOSE SUMMARY:\n",
            "\u001b[0m\n",
            "\n",
            "\u001b[1m> Finished chain.\u001b[0m\n",
            "\n",
            "\u001b[1m> Finished chain.\u001b[0m\n"
          ]
        }
      ]
    },
    {
      "cell_type": "code",
      "source": [
        "output"
      ],
      "metadata": {
        "colab": {
          "base_uri": "https://localhost:8080/"
        },
        "id": "H-k1jMUts8Jn",
        "outputId": "adc166b2-4b7b-4c94-fa3f-c564c57cdba7"
      },
      "execution_count": 182,
      "outputs": [
        {
          "output_type": "execute_result",
          "data": {
            "text/plain": [
              "{'input_documents': [Document(metadata={}, page_content='The passage describes the changing perceptions and popularity of climbing Mount Everest over the years. It begins with the British celebrating the coronation of Queen Elizabeth II and the successful ascent of Everest by a British team, which sparked national pride and admiration. The passage then shifts to the 1963 ascent of Everest via the West Ridge by Tom Hornbein and Willi Unsoeld, highlighting the challenges they faced and the significance of their achievement. The narrator, who was a child at the time, was inspired by this event and developed a passion for climbing.\\n\\nThe passage delves into the narrator\\'s personal journey as a climber, detailing his early ambitions to climb Everest and his immersion in the climbing community. It discusses the evolving attitudes towards Everest, with some climbers dismissing it as lacking technical challenge and aesthetic appeal due to its popularity and commercialization. The passage also touches on the impact of wealthy climbers like Dick Bass, who popularized guided ascents of Everest and changed the perception of who could climb the mountain.\\n\\nFurthermore, the passage explores the increasing commercialization of Everest expeditions, with a growing number of guided ascents and climbers flocking to the mountain despite rising permit fees. The Nepalese government\\'s attempts to regulate climbing on Everest by increasing permit fees and limiting the number of expeditions are discussed, as well as the shift of climbers to the Tibetan side of the mountain due to lower fees. Overall, the passage provides a comprehensive overview of the changing dynamics and challenges surrounding climbing Mount Everest.\\nIn this passage, a climber named Tenzing falls into a crevasse on Everest, requiring a massive effort to be carried down to Base Camp due to the high altitude making helicopter evacuation unsafe. The importance of Sherpas in expeditions is emphasized, with a tragic incident involving a young Sherpa named Kami Rita who falls to his death due to inexperience and lack of proper training. The passage also highlights the harsh conditions of the mountain, with climbers facing challenges such as illness, altitude sickness, and treacherous terrain.\\n\\nDespite the difficulties, Tenzing is successfully rescued and taken to Base Camp, where a helicopter will transport him to a hospital in Kathmandu. The climbers, including the narrator, are relieved by this news and prepare to leave Lobuje for Base Camp. However, they face further challenges such as illness and harsh conditions on the glacier. One climber, Andy, becomes severely ill but insists on continuing the journey, showing determination and resilience in the face of adversity.\\n\\nAs the climbers make their way towards Base Camp, they encounter the unique landscape of the glacier, with ice pinnacles and Phantom Alley creating a surreal and otherworldly environment. The passage captures the physical and emotional toll of climbing Everest, highlighting the dangers, camaraderie, and perseverance required to navigate the treacherous terrain and reach their goal.\\nIn this passage, the author describes their journey to Everest Base Camp with their team, including Andy who falls ill with food poisoning. Despite feeling weak and dehydrated, Andy insists on continuing the trek to Base Camp. The group faces challenging terrain, including the Khumbu Glacier and Phantom Alley, before finally reaching Base Camp. The camp is described as a bustling village with modern amenities, maintained by commercial expeditions like Adventure Consultants led by Rob Hall.\\n\\nThe author highlights the efforts made by commercial expeditions to keep Base Camp clean, with expeditions required to carry back trash and even remove waste from toilets. The passage also introduces Scott Fischer, a rival to Rob Hall, who leads his own commercial expedition to Everest. Despite being competitors, Fischer and Hall have a history of friendship and collaboration, having previously attempted climbs together and planned future expeditions.\\n\\nThe passage delves into Fischer\\'s background, describing his passion for mountaineering, his family life, and the founding of his company, Mountain Madness. Fischer\\'s wife, Jean Price, plays a significant role in supporting his climbing career through her career as a pilot. The passage sets the stage for the interactions and dynamics between the various commercial expeditions at Everest Base Camp, highlighting the camaraderie and competition within the high-altitude climbing community.\\nIn this passage, we are introduced to two different stories of individuals attempting to climb Mount Everest. The first story follows Denman Ross, a Canadian with little experience in mountaineering, who embarks on an expedition with two Sherpas, Ang Dawa and another unnamed Sherpa. Despite Denman\\'s courage and physical strength, he is ultimately defeated by a storm at 22,000 feet and decides to turn back, admitting his defeat. This contrasts with the story of Maurice Wilson, an Englishman who attempted a reckless ascent of Everest motivated by a misguided desire to publicize his beliefs. Wilson\\'s lack of experience in both mountaineering and flying leads to his tragic death on the mountain.\\n\\nThe passage also introduces us to Pete Schoening, a legendary climber who had previously achieved remarkable feats in mountaineering, including saving the lives of his fellow climbers in a dangerous situation on K2. Schoening, now almost sixty-nine years old, is attempting to climb Everest with a group led by Scott Fischer. Despite his legendary status, Schoening joins the group not as a client in need of guidance, but to avoid logistical hassles. The passage also mentions other climbers on different expeditions, highlighting the varying levels of experience and competence among climbers attempting to summit Everest.\\n\\nFurthermore, the passage touches on the presence of climbers from different expeditions on Everest, including a Taiwanese team with a reputation for being ill-prepared and causing rescue operations due to their lack of experience. This highlights the dangers of inexperienced climbers attempting such a challenging feat. Overall, the passage provides a glimpse into the diverse range of climbers attempting to conquer Everest, from legendary figures to inexperienced dreamers, each facing their own challenges and risks on the world\\'s highest peak.\\nIn this passage, the focus is on the rescue mission of a Sherpa named Ngawang who was suffering from High Altitude Pulmonary Edema (HAPE) while climbing Mount Everest. Despite showing symptoms of HAPE, Ngawang initially ignored instructions to descend to Base Camp and instead went up to Camp Two, where his condition worsened. A team of climbers, including guide Neal Beidleman, had to drag Ngawang down the mountain using a deflated Gamow Bag as a makeshift toboggan. Ngawang\\'s condition continued to deteriorate, and despite efforts to treat him with medication, supplemental oxygen, and the Gamow Bag, his situation did not improve.\\n\\nAs Ngawang\\'s condition worsened, Dr. Ingrid Hunt, who was in charge of medical care at Base Camp, faced challenges in convincing the Sherpas, including Ngima Kale Sherpa, that Ngawang needed to be evacuated due to HAPE. Ngawang and Ngima insisted that he was suffering from a stomachache rather than altitude illness, complicating the situation. Dr. Hunt consulted with other doctors, including Dr. Jim Litch, who arrived to assist in Ngawang\\'s treatment. Despite their efforts, Ngawang\\'s condition continued to deteriorate, and the lack of cooperation from the Sherpas and the absence of expedition leader Scott Fischer made the situation more critical.\\n\\nThe passage also highlights the challenges faced by Dr. Hunt, who was relatively inexperienced in high-altitude medicine and struggled to manage the medical needs of the climbers at Base Camp. The lack of acclimatization and the physical demands of the environment added to her difficulties in treating Ngawang. The passage ends with Ngawang\\'s condition worsening, Dr. Litch\\'s arrival to assist in his treatment, and the realization that Ngawang should have been evacuated earlier. The tense and urgent situation underscores the risks and complexities of high-altitude climbing and the importance of experienced medical care in such extreme environments.\\nThe passage describes the impact of the Internet on communication during an Everest expedition, with multiple websites posting updates from different teams. It focuses on Sandy Hill Pittman, a millionaire socialite and climber attempting Everest for the third time to complete her Seven Summits challenge. Despite previous failed attempts, she was determined to reach the summit. The passage delves into Pittman\\'s background, detailing her affluent lifestyle in New York and her pursuit of public attention through various ventures.\\n\\nPittman\\'s extravagant approach to climbing, including bringing gourmet food and electronic equipment to base camp, set her apart from traditional climbers. Her lavish lifestyle and high-profile connections, such as hosting a farewell party attended by celebrities, added to the intrigue surrounding her Everest expedition. Despite some viewing her as a grandstanding dilettante, Pittman\\'s teammates found her energetic and upbeat, with some accepting her idiosyncrasies. The passage also highlights the mixed reactions to her involvement in climbing, with some questioning her abilities and others forming close friendships with her.\\n\\nOverall, the passage provides a detailed look at Sandy Hill Pittman\\'s background, her previous attempts at Everest, and the unique approach she took to climbing the mountain. It also explores the reactions of her teammates and the climbing community to her presence on the expedition. Pittman\\'s determination and extravagant lifestyle add layers to the narrative, showcasing the complexities of her character and the challenges she faced in pursuing her climbing goals.\\nIn this passage, the author describes the night before a summit climb on Mount Everest. Despite being part of a large group of climbers, there is a sense of isolation and individualism among them. Each person is focused on their own goal of reaching the summit, with little sense of camaraderie or loyalty to the group. The weather conditions are harsh, with strong winds making communication difficult and oxygen levels running low. However, a sudden calm in the weather signals the start of the summit climb.\\n\\nAs the climbers begin their ascent, tensions arise within the groups. Some climbers, like Doug, struggle with the physical and mental challenges of the climb and consider turning back. The team dynamics are strained as different groups merge and individuals struggle to keep up with the pace set by their guides. The author reflects on the importance of following the lead of the guides and staying together as a group, despite personal frustrations and setbacks.\\n\\nThe passage also highlights the risks and challenges of high-altitude climbing, including the use of techniques like short-roping to assist weaker climbers. As the climbers reach the Southeast Ridge, they must wait for the entire group to gather before continuing the ascent. The author grapples with feelings of frustration and impatience, but ultimately understands the importance of teamwork and following the guidance of the experienced climbers. The passage sets the stage for the intense physical and emotional journey that lies ahead as the climbers push towards the summit of Mount Everest.\\nIn this passage, the author describes his experience of reaching the summit of Mount Everest and the challenges he faced during the descent. Despite the elation of achieving a lifelong goal, the author is filled with apprehension about the dangerous journey back down the mountain. As he descends, he struggles with diminishing willpower and cognitive functions due to the lack of oxygen. The author encounters various climbers on the way down, including a Texan pilot who recognizes an approaching storm and a guide who is struggling with a frozen oxygen valve.\\n\\nThe author\\'s descent is fraught with challenges, including encountering a crowded Hillary Step and running out of oxygen. Despite the presence of full oxygen canisters at the South Summit, a guide insists they are empty due to a malfunctioning regulator. The author, mentally impaired by lack of oxygen, fails to recognize the seriousness of the situation and continues down the mountain. As conditions worsen with snowfall and poor visibility, the author faces the risk of falling off the ridge.\\n\\nUltimately, the author\\'s descent from the summit of Everest is marked by a series of challenges and misjudgments, highlighting the dangers and complexities of high-altitude mountaineering. The passage underscores the importance of clear communication, sound decision-making, and the impact of extreme conditions on physical and mental capabilities. Despite reaching the summit, the author\\'s journey down the mountain is a harrowing ordeal that tests his resilience and highlights the unpredictable nature of such extreme environments.\\nIn this passage, we see a series of events unfolding on Mount Everest during a summit attempt. Lopsang discovers that a climber named Pittman has run out of oxygen, but fortunately, he has a spare canister to help her reach the summit. Meanwhile, Rob Hall and his team also reach the summit and radio back to Base Camp with the good news. However, it is revealed that Scott Fischer, another climber, is struggling with exhaustion and a recurring illness that he has kept hidden from his team.\\n\\nAs Fischer continues his ascent, his physical and mental strain become more apparent, but he tries to push through and reach the summit. Despite his struggles, he interacts with other climbers on the way, including Martin Adams and Anatoli Boukreev. Fischer\\'s condition worsens as he nears the summit, and he eventually collapses, prompting his team members to provide emergency medical assistance in the form of a steroid injection and extra oxygen.\\n\\nAs the climbers begin their descent, more challenges arise, including a climber getting disoriented in a storm and descending the wrong side of the ridge. Mike Groom helps guide the disoriented climber back to safety while also assisting another climber, Beck, who is struggling with blindness. The passage highlights the physical and mental toll of climbing Everest, as well as the importance of teamwork and quick thinking in emergency situations.\\nIn this passage, we follow the story of Bruce Herrod, a member of the South African team attempting to summit Mount Everest. Despite being an experienced mountaineer, Herrod falls behind the group during the ascent and reaches the summit hours after his companions. He faces extreme fatigue, lack of oxygen, and darkness as he finally reaches the summit. Despite warnings and the dangerous conditions, Herrod perseveres and makes it to the top. However, he fails to radio back to the team at Camp Four, and he is presumed dead, becoming the twelfth casualty of the season.\\n\\nThe passage also delves into the aftermath of the Everest expedition, with the author reflecting on the impact of the tragedy on those involved. Lou Kasischke visits Beck Weathers, who suffered severe injuries during the climb, and notes Beck\\'s resilience and positive outlook on life despite his physical challenges. The author struggles with the memories of the expedition, finding it difficult to move past the experience and still haunted by thoughts of Everest. The passage also includes critical letters received by the author, including one from a relative of a deceased climber, expressing anger and frustration towards the author\\'s portrayal of the events on Everest.\\n\\nOverall, this passage highlights the physical and emotional challenges faced by climbers on Mount Everest, the consequences of pushing limits in extreme conditions, and the lasting impact of such experiences on those involved. It also touches on themes of resilience, acceptance, and the complexities of assigning blame in tragic situations. The story of Bruce Herrod serves as a poignant reminder of the risks and sacrifices involved in high-altitude mountaineering.\\nThe passage from \"The Climb\" discusses the aftermath of the 1996 Everest disaster and the controversy surrounding Anatoli Boukreev\\'s actions during the expedition. Boukreev is quoted as feeling maligned by American press and finding support from European colleagues like Reinhold Messner, although Messner later clarified that he disagreed with Boukreev\\'s decisions on Everest. Boukreev\\'s actions, particularly descending ahead of his clients and not using bottled oxygen, are criticized by Messner and other experienced climbers like David Breashears.\\n\\nThe passage also delves into the author\\'s own reflections on the Everest tragedy, admitting to potential mistakes that may have contributed to the deaths of teammates. The author acknowledges the heroism displayed by Boukreev in saving lives during the disaster but also raises concerns about some of his decisions. The author emphasizes the importance of providing a full and honest account of the events on Everest, despite the controversy and differing opinions.\\n\\nThe section concludes with a tribute to Boukreev, highlighting his background as a Soviet climber who adapted to the changing world after the collapse of the Soviet Union. Boukreev\\'s struggles to make a living as a guide and his dedication to climbing despite not enjoying guiding are discussed. The passage provides insight into Boukreev\\'s character, his determination, and his continued pursuit of high-altitude ascents despite the challenges he faced.')],\n",
              " 'output_text': \"The book provides a comprehensive account of the changing dynamics and challenges surrounding climbing Mount Everest. It begins by discussing the historical significance of the mountain, starting from the British ascent of Everest in 1953, which coincided with the coronation of Queen Elizabeth II, sparking national pride. The narrative then shifts to the 1963 ascent of Everest via the West Ridge by Tom Hornbein and Willi Unsoeld, emphasizing the challenges they faced and the significance of their achievement. The narrator, inspired by these events as a child, develops a passion for climbing and shares his personal journey as a climber.\\n\\nThe book delves into the evolving attitudes towards Everest, with some climbers dismissing it due to its popularity and commercialization. It discusses the impact of wealthy climbers like Dick Bass, who popularized guided ascents of Everest, changing the perception of who could climb the mountain. The increasing commercialization of Everest expeditions is explored, with a growing number of guided ascents and climbers flocking to the mountain despite rising permit fees. The Nepalese government's attempts to regulate climbing on Everest by increasing permit fees and limiting the number of expeditions are also discussed.\\n\\nThe narrative then shifts to a rescue mission on Everest, where a climber named Tenzing falls into a crevasse and requires a massive effort to be carried down to Base Camp. The importance of Sherpas in expeditions is emphasized, with a tragic incident involving a young Sherpa named Kami Rita who falls to his death due to inexperience and lack of proper training. Despite the difficulties, Tenzing is successfully rescued and taken to Base Camp, where a helicopter will transport him to a hospital in Kathmandu.\\n\\nThe author describes their journey to Everest Base Camp with their team, including a climber named Andy who falls ill with food poisoning. Despite feeling weak and dehydrated, Andy insists on continuing the trek to Base Camp. The group faces challenging terrain, including the Khumbu Glacier and Phantom Alley, before finally reaching Base Camp. The camp is described as a bustling village with modern amenities, maintained by commercial expeditions like Adventure Consultants led by Rob Hall.\\n\\nThe book introduces us to two different stories of individuals attempting to climb Mount Everest. The first story follows Denman Ross, a Canadian with little experience in mountaineering, who embarks on an expedition with two Sherpas, Ang Dawa and another unnamed Sherpa. Despite Denman's courage and physical strength, he is ultimately defeated by a storm at 22,000 feet and decides to turn back. This contrasts with the story of Maurice Wilson, an Englishman who attempted a reckless ascent of Everest motivated by a misguided desire to publicize his beliefs. Wilson's lack of experience in both mountaineering and flying leads to his tragic death on the mountain.\\n\\nThe book also focuses on the rescue mission of a Sherpa named Ngawang who was suffering from High Altitude Pulmonary Edema (HAPE) while climbing Mount Everest. Despite showing symptoms of HAPE, Ngawang initially ignored instructions to descend to Base Camp and instead went up to Camp Two, where his condition worsened. A team of climbers, including guide Neal Beidleman, had to drag Ngawang down the mountain using a deflated Gamow Bag as a makeshift toboggan. Ngawang's condition continued to deteriorate, and despite efforts to treat him with medication, supplemental oxygen, and the Gamow Bag, his situation did not improve.\\n\\nThe book describes the impact of the Internet on communication during an Everest expedition, with multiple websites posting updates from different teams. It focuses on Sandy Hill Pittman, a millionaire socialite and climber attempting Everest for the third time to complete her Seven Summits challenge. Despite previous failed attempts, she was determined to reach the summit. Pittman's extravagant approach to climbing, including bringing gourmet food and electronic equipment to base camp, set her apart from traditional climbers.\\n\\nThe author describes his experience of reaching the summit of Mount Everest and the challenges he faced during the descent. Despite the elation of achieving a lifelong goal, the author is filled with apprehension about the dangerous journey back down the mountain. As he descends, he struggles with diminishing willpower and cognitive functions due to the lack of oxygen. The author encounters various climbers on the way down, including a Texan pilot who recognizes an approaching storm and a guide who is struggling with a frozen oxygen valve.\\n\\nThe book follows the story of Bruce Herrod, a member of the South African team attempting to summit Mount Everest. Despite being an experienced mountaineer, Herrod falls behind the group during the ascent and reaches the summit hours after his companions. He faces extreme fatigue, lack of oxygen, and darkness as he finally reaches the summit. Despite warnings and the dangerous conditions, Herrod perseveres and makes it to the top. However, he fails to radio back to the team at Camp Four, and he is presumed dead, becoming the twelfth casualty of the season.\\n\\nThe book concludes by discussing the aftermath of the 1996 Everest disaster and the controversy surrounding Anatoli Boukreev's actions during the expedition. Boukreev is quoted as feeling maligned by American press and finding support from European colleagues like Reinhold Messner, although Messner later clarified that he disagreed with Boukreev's decisions on Everest. Boukreev's actions, particularly descending ahead of his clients and not using bottled oxygen, are criticized by Messner and other experienced climbers like David Breashears. The author acknowledges the heroism displayed by Boukreev in saving lives during the disaster but also raises concerns about some of his decisions. The book ends with a tribute to Boukreev, highlighting his background as a Soviet climber who adapted to the changing world after the collapse of the Soviet Union.\"}"
            ]
          },
          "metadata": {},
          "execution_count": 182
        }
      ]
    },
    {
      "cell_type": "code",
      "source": [
        "output['output_text']"
      ],
      "metadata": {
        "colab": {
          "base_uri": "https://localhost:8080/",
          "height": 174
        },
        "id": "2hjIWF-6tHPi",
        "outputId": "37d44281-01a7-4afb-9fd3-e0ea860e38a1"
      },
      "execution_count": 183,
      "outputs": [
        {
          "output_type": "execute_result",
          "data": {
            "text/plain": [
              "\"The book provides a comprehensive account of the changing dynamics and challenges surrounding climbing Mount Everest. It begins by discussing the historical significance of the mountain, starting from the British ascent of Everest in 1953, which coincided with the coronation of Queen Elizabeth II, sparking national pride. The narrative then shifts to the 1963 ascent of Everest via the West Ridge by Tom Hornbein and Willi Unsoeld, emphasizing the challenges they faced and the significance of their achievement. The narrator, inspired by these events as a child, develops a passion for climbing and shares his personal journey as a climber.\\n\\nThe book delves into the evolving attitudes towards Everest, with some climbers dismissing it due to its popularity and commercialization. It discusses the impact of wealthy climbers like Dick Bass, who popularized guided ascents of Everest, changing the perception of who could climb the mountain. The increasing commercialization of Everest expeditions is explored, with a growing number of guided ascents and climbers flocking to the mountain despite rising permit fees. The Nepalese government's attempts to regulate climbing on Everest by increasing permit fees and limiting the number of expeditions are also discussed.\\n\\nThe narrative then shifts to a rescue mission on Everest, where a climber named Tenzing falls into a crevasse and requires a massive effort to be carried down to Base Camp. The importance of Sherpas in expeditions is emphasized, with a tragic incident involving a young Sherpa named Kami Rita who falls to his death due to inexperience and lack of proper training. Despite the difficulties, Tenzing is successfully rescued and taken to Base Camp, where a helicopter will transport him to a hospital in Kathmandu.\\n\\nThe author describes their journey to Everest Base Camp with their team, including a climber named Andy who falls ill with food poisoning. Despite feeling weak and dehydrated, Andy insists on continuing the trek to Base Camp. The group faces challenging terrain, including the Khumbu Glacier and Phantom Alley, before finally reaching Base Camp. The camp is described as a bustling village with modern amenities, maintained by commercial expeditions like Adventure Consultants led by Rob Hall.\\n\\nThe book introduces us to two different stories of individuals attempting to climb Mount Everest. The first story follows Denman Ross, a Canadian with little experience in mountaineering, who embarks on an expedition with two Sherpas, Ang Dawa and another unnamed Sherpa. Despite Denman's courage and physical strength, he is ultimately defeated by a storm at 22,000 feet and decides to turn back. This contrasts with the story of Maurice Wilson, an Englishman who attempted a reckless ascent of Everest motivated by a misguided desire to publicize his beliefs. Wilson's lack of experience in both mountaineering and flying leads to his tragic death on the mountain.\\n\\nThe book also focuses on the rescue mission of a Sherpa named Ngawang who was suffering from High Altitude Pulmonary Edema (HAPE) while climbing Mount Everest. Despite showing symptoms of HAPE, Ngawang initially ignored instructions to descend to Base Camp and instead went up to Camp Two, where his condition worsened. A team of climbers, including guide Neal Beidleman, had to drag Ngawang down the mountain using a deflated Gamow Bag as a makeshift toboggan. Ngawang's condition continued to deteriorate, and despite efforts to treat him with medication, supplemental oxygen, and the Gamow Bag, his situation did not improve.\\n\\nThe book describes the impact of the Internet on communication during an Everest expedition, with multiple websites posting updates from different teams. It focuses on Sandy Hill Pittman, a millionaire socialite and climber attempting Everest for the third time to complete her Seven Summits challenge. Despite previous failed attempts, she was determined to reach the summit. Pittman's extravagant approach to climbing, including bringing gourmet food and electronic equipment to base camp, set her apart from traditional climbers.\\n\\nThe author describes his experience of reaching the summit of Mount Everest and the challenges he faced during the descent. Despite the elation of achieving a lifelong goal, the author is filled with apprehension about the dangerous journey back down the mountain. As he descends, he struggles with diminishing willpower and cognitive functions due to the lack of oxygen. The author encounters various climbers on the way down, including a Texan pilot who recognizes an approaching storm and a guide who is struggling with a frozen oxygen valve.\\n\\nThe book follows the story of Bruce Herrod, a member of the South African team attempting to summit Mount Everest. Despite being an experienced mountaineer, Herrod falls behind the group during the ascent and reaches the summit hours after his companions. He faces extreme fatigue, lack of oxygen, and darkness as he finally reaches the summit. Despite warnings and the dangerous conditions, Herrod perseveres and makes it to the top. However, he fails to radio back to the team at Camp Four, and he is presumed dead, becoming the twelfth casualty of the season.\\n\\nThe book concludes by discussing the aftermath of the 1996 Everest disaster and the controversy surrounding Anatoli Boukreev's actions during the expedition. Boukreev is quoted as feeling maligned by American press and finding support from European colleagues like Reinhold Messner, although Messner later clarified that he disagreed with Boukreev's decisions on Everest. Boukreev's actions, particularly descending ahead of his clients and not using bottled oxygen, are criticized by Messner and other experienced climbers like David Breashears. The author acknowledges the heroism displayed by Boukreev in saving lives during the disaster but also raises concerns about some of his decisions. The book ends with a tribute to Boukreev, highlighting his background as a Soviet climber who adapted to the changing world after the collapse of the Soviet Union.\""
            ],
            "application/vnd.google.colaboratory.intrinsic+json": {
              "type": "string"
            }
          },
          "metadata": {},
          "execution_count": 183
        }
      ]
    },
    {
      "cell_type": "code",
      "source": [
        "print (output['output_text'])"
      ],
      "metadata": {
        "id": "g8fbONJT-F4Y",
        "colab": {
          "base_uri": "https://localhost:8080/"
        },
        "outputId": "debd7e16-fe40-49df-c3c2-a696b7b8f85d"
      },
      "execution_count": 184,
      "outputs": [
        {
          "output_type": "stream",
          "name": "stdout",
          "text": [
            "The book provides a comprehensive account of the changing dynamics and challenges surrounding climbing Mount Everest. It begins by discussing the historical significance of the mountain, starting from the British ascent of Everest in 1953, which coincided with the coronation of Queen Elizabeth II, sparking national pride. The narrative then shifts to the 1963 ascent of Everest via the West Ridge by Tom Hornbein and Willi Unsoeld, emphasizing the challenges they faced and the significance of their achievement. The narrator, inspired by these events as a child, develops a passion for climbing and shares his personal journey as a climber.\n",
            "\n",
            "The book delves into the evolving attitudes towards Everest, with some climbers dismissing it due to its popularity and commercialization. It discusses the impact of wealthy climbers like Dick Bass, who popularized guided ascents of Everest, changing the perception of who could climb the mountain. The increasing commercialization of Everest expeditions is explored, with a growing number of guided ascents and climbers flocking to the mountain despite rising permit fees. The Nepalese government's attempts to regulate climbing on Everest by increasing permit fees and limiting the number of expeditions are also discussed.\n",
            "\n",
            "The narrative then shifts to a rescue mission on Everest, where a climber named Tenzing falls into a crevasse and requires a massive effort to be carried down to Base Camp. The importance of Sherpas in expeditions is emphasized, with a tragic incident involving a young Sherpa named Kami Rita who falls to his death due to inexperience and lack of proper training. Despite the difficulties, Tenzing is successfully rescued and taken to Base Camp, where a helicopter will transport him to a hospital in Kathmandu.\n",
            "\n",
            "The author describes their journey to Everest Base Camp with their team, including a climber named Andy who falls ill with food poisoning. Despite feeling weak and dehydrated, Andy insists on continuing the trek to Base Camp. The group faces challenging terrain, including the Khumbu Glacier and Phantom Alley, before finally reaching Base Camp. The camp is described as a bustling village with modern amenities, maintained by commercial expeditions like Adventure Consultants led by Rob Hall.\n",
            "\n",
            "The book introduces us to two different stories of individuals attempting to climb Mount Everest. The first story follows Denman Ross, a Canadian with little experience in mountaineering, who embarks on an expedition with two Sherpas, Ang Dawa and another unnamed Sherpa. Despite Denman's courage and physical strength, he is ultimately defeated by a storm at 22,000 feet and decides to turn back. This contrasts with the story of Maurice Wilson, an Englishman who attempted a reckless ascent of Everest motivated by a misguided desire to publicize his beliefs. Wilson's lack of experience in both mountaineering and flying leads to his tragic death on the mountain.\n",
            "\n",
            "The book also focuses on the rescue mission of a Sherpa named Ngawang who was suffering from High Altitude Pulmonary Edema (HAPE) while climbing Mount Everest. Despite showing symptoms of HAPE, Ngawang initially ignored instructions to descend to Base Camp and instead went up to Camp Two, where his condition worsened. A team of climbers, including guide Neal Beidleman, had to drag Ngawang down the mountain using a deflated Gamow Bag as a makeshift toboggan. Ngawang's condition continued to deteriorate, and despite efforts to treat him with medication, supplemental oxygen, and the Gamow Bag, his situation did not improve.\n",
            "\n",
            "The book describes the impact of the Internet on communication during an Everest expedition, with multiple websites posting updates from different teams. It focuses on Sandy Hill Pittman, a millionaire socialite and climber attempting Everest for the third time to complete her Seven Summits challenge. Despite previous failed attempts, she was determined to reach the summit. Pittman's extravagant approach to climbing, including bringing gourmet food and electronic equipment to base camp, set her apart from traditional climbers.\n",
            "\n",
            "The author describes his experience of reaching the summit of Mount Everest and the challenges he faced during the descent. Despite the elation of achieving a lifelong goal, the author is filled with apprehension about the dangerous journey back down the mountain. As he descends, he struggles with diminishing willpower and cognitive functions due to the lack of oxygen. The author encounters various climbers on the way down, including a Texan pilot who recognizes an approaching storm and a guide who is struggling with a frozen oxygen valve.\n",
            "\n",
            "The book follows the story of Bruce Herrod, a member of the South African team attempting to summit Mount Everest. Despite being an experienced mountaineer, Herrod falls behind the group during the ascent and reaches the summit hours after his companions. He faces extreme fatigue, lack of oxygen, and darkness as he finally reaches the summit. Despite warnings and the dangerous conditions, Herrod perseveres and makes it to the top. However, he fails to radio back to the team at Camp Four, and he is presumed dead, becoming the twelfth casualty of the season.\n",
            "\n",
            "The book concludes by discussing the aftermath of the 1996 Everest disaster and the controversy surrounding Anatoli Boukreev's actions during the expedition. Boukreev is quoted as feeling maligned by American press and finding support from European colleagues like Reinhold Messner, although Messner later clarified that he disagreed with Boukreev's decisions on Everest. Boukreev's actions, particularly descending ahead of his clients and not using bottled oxygen, are criticized by Messner and other experienced climbers like David Breashears. The author acknowledges the heroism displayed by Boukreev in saving lives during the disaster but also raises concerns about some of his decisions. The book ends with a tribute to Boukreev, highlighting his background as a Soviet climber who adapted to the changing world after the collapse of the Soviet Union.\n"
          ]
        }
      ]
    },
    {
      "cell_type": "markdown",
      "source": [
        "##Level 5: Agents - Summarize an unknown amount of text"
      ],
      "metadata": {
        "id": "g9gP75s_-IOA"
      }
    },
    {
      "cell_type": "code",
      "source": [
        "from langchain import OpenAI\n",
        "from langchain.chat_models import ChatOpenAI\n",
        "from langchain.agents import initialize_agent, Tool\n",
        "from langchain.utilities import WikipediaAPIWrapper\n",
        "\n",
        "llm = ChatOpenAI(temperature=0, model_name='gpt-4', openai_api_key=OPENAI_API_KEY)"
      ],
      "metadata": {
        "id": "J1mnmBev-KTY"
      },
      "execution_count": 185,
      "outputs": []
    },
    {
      "cell_type": "code",
      "source": [
        "!pip install wikipedia"
      ],
      "metadata": {
        "id": "eERQrZye-Qgv",
        "colab": {
          "base_uri": "https://localhost:8080/"
        },
        "outputId": "26a6679d-1a1c-4b12-98a3-dc2517155a34"
      },
      "execution_count": 186,
      "outputs": [
        {
          "output_type": "stream",
          "name": "stdout",
          "text": [
            "Collecting wikipedia\n",
            "  Downloading wikipedia-1.4.0.tar.gz (27 kB)\n",
            "  Preparing metadata (setup.py) ... \u001b[?25l\u001b[?25hdone\n",
            "Requirement already satisfied: beautifulsoup4 in /usr/local/lib/python3.11/dist-packages (from wikipedia) (4.13.3)\n",
            "Requirement already satisfied: requests<3.0.0,>=2.0.0 in /usr/local/lib/python3.11/dist-packages (from wikipedia) (2.32.3)\n",
            "Requirement already satisfied: charset-normalizer<4,>=2 in /usr/local/lib/python3.11/dist-packages (from requests<3.0.0,>=2.0.0->wikipedia) (3.4.1)\n",
            "Requirement already satisfied: idna<4,>=2.5 in /usr/local/lib/python3.11/dist-packages (from requests<3.0.0,>=2.0.0->wikipedia) (3.10)\n",
            "Requirement already satisfied: urllib3<3,>=1.21.1 in /usr/local/lib/python3.11/dist-packages (from requests<3.0.0,>=2.0.0->wikipedia) (2.3.0)\n",
            "Requirement already satisfied: certifi>=2017.4.17 in /usr/local/lib/python3.11/dist-packages (from requests<3.0.0,>=2.0.0->wikipedia) (2025.1.31)\n",
            "Requirement already satisfied: soupsieve>1.2 in /usr/local/lib/python3.11/dist-packages (from beautifulsoup4->wikipedia) (2.6)\n",
            "Requirement already satisfied: typing-extensions>=4.0.0 in /usr/local/lib/python3.11/dist-packages (from beautifulsoup4->wikipedia) (4.12.2)\n",
            "Building wheels for collected packages: wikipedia\n",
            "  Building wheel for wikipedia (setup.py) ... \u001b[?25l\u001b[?25hdone\n",
            "  Created wheel for wikipedia: filename=wikipedia-1.4.0-py3-none-any.whl size=11679 sha256=a35b2a5ccc8e02b1dd8aab18b523ad23c7a2fbbac95ed807d7538b78237de7b9\n",
            "  Stored in directory: /root/.cache/pip/wheels/8f/ab/cb/45ccc40522d3a1c41e1d2ad53b8f33a62f394011ec38cd71c6\n",
            "Successfully built wikipedia\n",
            "Installing collected packages: wikipedia\n",
            "Successfully installed wikipedia-1.4.0\n"
          ]
        }
      ]
    },
    {
      "cell_type": "code",
      "source": [
        "wikipedia = WikipediaAPIWrapper()"
      ],
      "metadata": {
        "id": "WMEHAu08-Tq3"
      },
      "execution_count": 187,
      "outputs": []
    },
    {
      "cell_type": "code",
      "source": [
        "tools = [\n",
        "    Tool(\n",
        "        name=\"Wikipedia\",\n",
        "        func=wikipedia.run,\n",
        "        description=\"Useful for when you need to get information from wikipedia about a single topic\"\n",
        "    ),\n",
        "]"
      ],
      "metadata": {
        "id": "pVEyvbgY-Vsh"
      },
      "execution_count": 188,
      "outputs": []
    },
    {
      "cell_type": "code",
      "source": [
        "agent_executor = initialize_agent(tools, llm, agent='zero-shot-react-description', verbose=True)"
      ],
      "metadata": {
        "id": "SeKE7OTM-ZYZ"
      },
      "execution_count": 189,
      "outputs": []
    },
    {
      "cell_type": "code",
      "source": [
        "output = agent_executor.invoke(\"Can you please provide a quick summary of Napoleon Bonaparte? \\\n",
        "                          Then do a separate search and tell me what the commonalities are with Serena Williams\")"
      ],
      "metadata": {
        "id": "DLBferhv-cFz",
        "colab": {
          "base_uri": "https://localhost:8080/"
        },
        "outputId": "6579a910-3474-4875-a090-add57984097f"
      },
      "execution_count": 190,
      "outputs": [
        {
          "output_type": "stream",
          "name": "stdout",
          "text": [
            "\n",
            "\n",
            "\u001b[1m> Entering new AgentExecutor chain...\u001b[0m\n",
            "\u001b[32;1m\u001b[1;3mI need to first get a summary of Napoleon Bonaparte. Then, I will get a summary of Serena Williams. After that, I will compare the two summaries to find commonalities.\n",
            "Action: Wikipedia\n",
            "Action Input: Napoleon Bonaparte\u001b[0m\n",
            "Observation: \u001b[36;1m\u001b[1;3mPage: Napoleon\n",
            "Summary: Napoleon Bonaparte (born Napoleone Buonaparte; 15 August 1769 – 5 May 1821), later known by his regnal name Napoleon I, was a French general and statesman who rose to prominence during the French Revolution and led a series of military campaigns across Europe during the French Revolutionary and Napoleonic Wars from 1796 to 1815. He led the French Republic as First Consul from 1799 to 1804, then ruled the French Empire as Emperor of the French from 1804 to 1814, and briefly again in 1815. He was King of Italy from 1805 to 1814 and Protector of the Confederation of the Rhine from 1806 to 1813.\n",
            "Born on the island of Corsica to a family of Italian origin, Napoleon moved to mainland France in 1779 and was commissioned as an officer in the French Royal Army in 1785. He supported the French Revolution in 1789, and promoted its cause in Corsica. He rose rapidly through the ranks after winning the siege of Toulon in 1793 and defeating royalist insurgents in Paris on 13 Vendémiaire in 1795. In 1796, Napoleon commanded a military campaign against the Austrians and their Italian allies in the War of the First Coalition, scoring decisive victories and becoming a national hero. He led an invasion of Egypt and Syria in 1798 which served as a springboard to political power. In November 1799, Napoleon engineered the Coup of 18 Brumaire against the Directory, and became First Consul of the Republic. He won the Battle of Marengo in 1800, which secured France's victory in the War of the Second Coalition, and in 1803 sold the territory of Louisiana to the United States. In December 1804, Napoleon crowned himself Emperor of the French, further expanding his power.\n",
            "The breakdown of the Treaty of Amiens led to the War of the Third Coalition by 1805. Napoleon shattered the coalition with a decisive victory at the Battle of Austerlitz, which led to the dissolution of the Holy Roman Empire. In the War of the Fourth Coalition, Napoleon defeated Prussia at the Battle of Jena–Auerstedt in 1806, marched his Grande Armée into Eastern Europe, and defeated the Russians in 1807 at the Battle of Friedland. Seeking to extend his trade embargo against Britain, Napoleon invaded the Iberian Peninsula and installed his brother Joseph as King of Spain in 1808, provoking the Peninsular War. In 1809, the Austrians again challenged France in the War of the Fifth Coalition, in which Napoleon solidified his grip over Europe after winning the Battle of Wagram. In summer 1812, he launched an invasion of Russia, briefly occupying Moscow before conducting a catastrophic retreat of his army that winter. In 1813, Prussia and Austria joined Russia in the War of the Sixth Coalition, in which Napoleon was decisively defeated at the Battle of Leipzig. The coalition invaded France and captured Paris, forcing Napoleon to abdicate in April 1814. They exiled him to the Mediterranean island of Elba and restored the Bourbons to power. Ten months later, Napoleon escaped from Elba on a brig, landed in France with a thousand men, and marched on Paris, again taking control of the country. His opponents responded by forming a Seventh Coalition, which defeated him at the Battle of Waterloo in June 1815. Napoleon was exiled to the remote island of Saint Helena in the South Atlantic, where he died of stomach cancer in 1821, aged 51.\n",
            "Napoleon is considered one of the greatest military commanders in history and Napoleonic tactics are still studied at military schools worldwide. His legacy endures through the modernizing legal and administrative reforms he enacted in France and Western Europe, embodied in the Napoleonic Code. He established a system of public education, abolished the vestiges of feudalism, emancipated Jews and other religious minorities, abolished the Spanish Inquisition, enacted the principle of equality before the law for an emerging middle class, and centralized state power at the expense of religious authorities. His conquests acted as a catalyst for poli\u001b[0m\n",
            "Thought:\u001b[32;1m\u001b[1;3mI now have a detailed summary of Napoleon Bonaparte's life and achievements. Next, I need to get a summary of Serena Williams to find commonalities.\n",
            "Action: Wikipedia\n",
            "Action Input: Serena Williams\u001b[0m\n",
            "Observation: \u001b[36;1m\u001b[1;3mPage: Serena Williams\n",
            "Summary: Serena Jameka Williams (born September 26, 1981) is an American former professional tennis player. Widely regarded as one of the greatest tennis players of all time, she was ranked as the world No. 1 in women's singles by the Women's Tennis Association (WTA) for 319 weeks (third-most of all time), and finished as the year-end No. 1 five times. Williams won 73 WTA Tour-level singles titles, including 23 major women's singles titles — the most in the Open Era, and the second-most of all time. She is the only player to accomplish a career Golden Slam in both singles and doubles.\n",
            "Along with her elder sister Venus, Serena Williams was coached by her parents Oracene Price and Richard Williams. Turning professional in 1995, she won her first major singles title at the 1999 US Open. From the 2002 French Open to the 2003 Australian Open she was dominant, winning all four major singles titles (each time over Venus in the final) to achieve both a career Grand Slam and a non-calendar year Grand Slam (nicknamed the \"Serena Slam\"). The next few years saw Williams capture two more major singles titles, but suffer from injury and decline in form. Starting in 2007, however, she gradually returned to form despite continued injuries, reclaiming the world No. 1 singles ranking. Beginning with the 2012 Wimbledon Championships, Williams returned to dominance, claiming Olympic gold (completing the career Golden Slam in singles) and winning eight out of thirteen singles majors, including all four in a row from 2014–2015 to achieve a second \"Serena Slam\". At the 2017 Australian Open, she won her 23rd major singles title, surpassing Steffi Graf's Open Era record. After becoming pregnant, Williams took a break from professional tennis, but reached four major finals upon returning to play. In August 2022, Williams announced her impending \"evolution\" away from professional tennis, and played her final match at the 2022 US Open.\n",
            "Williams also won 23 WTA Tour-level doubles titles. This includes 14 major women's doubles titles, all won with her sister Venus, and the pair was unbeaten in major doubles finals (the best unbeaten record in major finals in any discipline of the sport). The sisters achieved a non-calendar year Grand Slam between the 2009 Wimbledon Championships and the 2010 French Open, which granted them the doubles world No. 1 ranking. Williams won four Olympic gold medals, three in women's doubles—an all-time joint record in tennis, shared with her sister. The duo are the only women in the Open Era to win Olympic gold in both singles and doubles. Williams also won two mixed doubles majors, both in 1998. She is the only player, male or female, to complete three career Golden Slams – one in women's singles and two in women's doubles.\n",
            "The ascent of the Williams sisters has been credited with ushering in a new era of power and athleticism on the women's professional tennis tour. Serena holds a combined 39 major titles — 23 in singles, 14 in women's doubles, and two in mixed doubles — placing her joint-third on the all-time list and second in the Open Era for total major titles. She is the most recent woman to simultaneously hold all four major singles titles (2002–2003 and 2014–2015), and to win the Surface Slam (major titles on hard, clay and grass courts in the same calendar year), which she accomplished in 2015. She is also, with Venus, the most recent player to have simultaneously held all four major women's doubles titles (2009–2010).\n",
            "Williams was the world's highest paid woman athlete in 2016, earning almost $29 million. She repeated this feat in 2017 when she was the only woman on Forbes' list of the 100 highest-paid athletes, with $27 million in prize money and endorsements. She is the highest-earning woman athlete of all time.\n",
            "Williams won the Laureus World Sportswoman of the Year a record four times (2003, 2010, 2016, 2018), Comeback of the Year once (2007), and in December 2015 was named Sportsperson of the\u001b[0m\n",
            "Thought:\u001b[32;1m\u001b[1;3mI now have a detailed summary of Serena Williams' life and achievements. I can now compare the two summaries to find commonalities.\n",
            "Thought: Both Napoleon Bonaparte and Serena Williams are considered among the greatest in their respective fields - military leadership and tennis. They both achieved remarkable success and have left enduring legacies. They also both faced significant challenges and setbacks in their careers, but demonstrated resilience and the ability to make comebacks. \n",
            "Final Answer: Napoleon Bonaparte and Serena Williams are both considered among the greatest in their respective fields - military leadership for Napoleon and tennis for Serena. They have both achieved remarkable success and have left enduring legacies. They also faced significant challenges and setbacks in their careers, but demonstrated resilience and the ability to make comebacks.\u001b[0m\n",
            "\n",
            "\u001b[1m> Finished chain.\u001b[0m\n"
          ]
        }
      ]
    },
    {
      "cell_type": "code",
      "source": [
        "output"
      ],
      "metadata": {
        "colab": {
          "base_uri": "https://localhost:8080/"
        },
        "id": "wyNL4Sx_th8o",
        "outputId": "2e163abe-8946-4f8c-e448-8c8cec9e1a0e"
      },
      "execution_count": 191,
      "outputs": [
        {
          "output_type": "execute_result",
          "data": {
            "text/plain": [
              "{'input': 'Can you please provide a quick summary of Napoleon Bonaparte?                           Then do a separate search and tell me what the commonalities are with Serena Williams',\n",
              " 'output': 'Napoleon Bonaparte and Serena Williams are both considered among the greatest in their respective fields - military leadership for Napoleon and tennis for Serena. They have both achieved remarkable success and have left enduring legacies. They also faced significant challenges and setbacks in their careers, but demonstrated resilience and the ability to make comebacks.'}"
            ]
          },
          "metadata": {},
          "execution_count": 191
        }
      ]
    },
    {
      "cell_type": "code",
      "source": [
        "output['output']"
      ],
      "metadata": {
        "colab": {
          "base_uri": "https://localhost:8080/",
          "height": 70
        },
        "id": "QK5juLH1tjw6",
        "outputId": "249cfd1a-687a-432b-9f23-fb5ea2acbd06"
      },
      "execution_count": 192,
      "outputs": [
        {
          "output_type": "execute_result",
          "data": {
            "text/plain": [
              "'Napoleon Bonaparte and Serena Williams are both considered among the greatest in their respective fields - military leadership for Napoleon and tennis for Serena. They have both achieved remarkable success and have left enduring legacies. They also faced significant challenges and setbacks in their careers, but demonstrated resilience and the ability to make comebacks.'"
            ],
            "application/vnd.google.colaboratory.intrinsic+json": {
              "type": "string"
            }
          },
          "metadata": {},
          "execution_count": 192
        }
      ]
    },
    {
      "cell_type": "code",
      "source": [
        "print (output)"
      ],
      "metadata": {
        "id": "5jZnC5Rw-fzC",
        "colab": {
          "base_uri": "https://localhost:8080/"
        },
        "outputId": "d4f991b7-f09a-4c63-e06b-1bc969d19044"
      },
      "execution_count": 193,
      "outputs": [
        {
          "output_type": "stream",
          "name": "stdout",
          "text": [
            "{'input': 'Can you please provide a quick summary of Napoleon Bonaparte?                           Then do a separate search and tell me what the commonalities are with Serena Williams', 'output': 'Napoleon Bonaparte and Serena Williams are both considered among the greatest in their respective fields - military leadership for Napoleon and tennis for Serena. They have both achieved remarkable success and have left enduring legacies. They also faced significant challenges and setbacks in their careers, but demonstrated resilience and the ability to make comebacks.'}\n"
          ]
        }
      ]
    }
  ]
}