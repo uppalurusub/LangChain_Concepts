{
  "nbformat": 4,
  "nbformat_minor": 0,
  "metadata": {
    "colab": {
      "provenance": [],
      "toc_visible": true
    },
    "kernelspec": {
      "name": "python3",
      "display_name": "Python 3"
    },
    "language_info": {
      "name": "python"
    },
    "widgets": {
      "application/vnd.jupyter.widget-state+json": {
        "907a8ab8c7624ba48ef2c711a3f67cae": {
          "model_module": "@jupyter-widgets/controls",
          "model_name": "HBoxModel",
          "model_module_version": "1.5.0",
          "state": {
            "_dom_classes": [],
            "_model_module": "@jupyter-widgets/controls",
            "_model_module_version": "1.5.0",
            "_model_name": "HBoxModel",
            "_view_count": null,
            "_view_module": "@jupyter-widgets/controls",
            "_view_module_version": "1.5.0",
            "_view_name": "HBoxView",
            "box_style": "",
            "children": [
              "IPY_MODEL_51f15937fbf44133a4dd5b57b885253e",
              "IPY_MODEL_d4bb0c4af65f4bd49605b942694f1ab8",
              "IPY_MODEL_3db0efc77cb8433cb79e213e6746d9b1"
            ],
            "layout": "IPY_MODEL_df35d40ec36d4ee2b83e32b69fe58b71"
          }
        },
        "51f15937fbf44133a4dd5b57b885253e": {
          "model_module": "@jupyter-widgets/controls",
          "model_name": "HTMLModel",
          "model_module_version": "1.5.0",
          "state": {
            "_dom_classes": [],
            "_model_module": "@jupyter-widgets/controls",
            "_model_module_version": "1.5.0",
            "_model_name": "HTMLModel",
            "_view_count": null,
            "_view_module": "@jupyter-widgets/controls",
            "_view_module_version": "1.5.0",
            "_view_name": "HTMLView",
            "description": "",
            "description_tooltip": null,
            "layout": "IPY_MODEL_3464a33394c84322aa299722aa02b80c",
            "placeholder": "​",
            "style": "IPY_MODEL_a0e7ff72f8b94e7f9d7dc30d0f1766a9",
            "value": "README.md: 100%"
          }
        },
        "d4bb0c4af65f4bd49605b942694f1ab8": {
          "model_module": "@jupyter-widgets/controls",
          "model_name": "FloatProgressModel",
          "model_module_version": "1.5.0",
          "state": {
            "_dom_classes": [],
            "_model_module": "@jupyter-widgets/controls",
            "_model_module_version": "1.5.0",
            "_model_name": "FloatProgressModel",
            "_view_count": null,
            "_view_module": "@jupyter-widgets/controls",
            "_view_module_version": "1.5.0",
            "_view_name": "ProgressView",
            "bar_style": "success",
            "description": "",
            "description_tooltip": null,
            "layout": "IPY_MODEL_86a46b3152b2424194db26e5e719e94b",
            "max": 574,
            "min": 0,
            "orientation": "horizontal",
            "style": "IPY_MODEL_c390d55271374475b08b86d05f4409f3",
            "value": 574
          }
        },
        "3db0efc77cb8433cb79e213e6746d9b1": {
          "model_module": "@jupyter-widgets/controls",
          "model_name": "HTMLModel",
          "model_module_version": "1.5.0",
          "state": {
            "_dom_classes": [],
            "_model_module": "@jupyter-widgets/controls",
            "_model_module_version": "1.5.0",
            "_model_name": "HTMLModel",
            "_view_count": null,
            "_view_module": "@jupyter-widgets/controls",
            "_view_module_version": "1.5.0",
            "_view_name": "HTMLView",
            "description": "",
            "description_tooltip": null,
            "layout": "IPY_MODEL_a7770673b07c4022ae70ccea43fb2f28",
            "placeholder": "​",
            "style": "IPY_MODEL_ec76c628c2954a5cbfb9d4d4a9d84e94",
            "value": " 574/574 [00:00&lt;00:00, 6.25kB/s]"
          }
        },
        "df35d40ec36d4ee2b83e32b69fe58b71": {
          "model_module": "@jupyter-widgets/base",
          "model_name": "LayoutModel",
          "model_module_version": "1.2.0",
          "state": {
            "_model_module": "@jupyter-widgets/base",
            "_model_module_version": "1.2.0",
            "_model_name": "LayoutModel",
            "_view_count": null,
            "_view_module": "@jupyter-widgets/base",
            "_view_module_version": "1.2.0",
            "_view_name": "LayoutView",
            "align_content": null,
            "align_items": null,
            "align_self": null,
            "border": null,
            "bottom": null,
            "display": null,
            "flex": null,
            "flex_flow": null,
            "grid_area": null,
            "grid_auto_columns": null,
            "grid_auto_flow": null,
            "grid_auto_rows": null,
            "grid_column": null,
            "grid_gap": null,
            "grid_row": null,
            "grid_template_areas": null,
            "grid_template_columns": null,
            "grid_template_rows": null,
            "height": null,
            "justify_content": null,
            "justify_items": null,
            "left": null,
            "margin": null,
            "max_height": null,
            "max_width": null,
            "min_height": null,
            "min_width": null,
            "object_fit": null,
            "object_position": null,
            "order": null,
            "overflow": null,
            "overflow_x": null,
            "overflow_y": null,
            "padding": null,
            "right": null,
            "top": null,
            "visibility": null,
            "width": null
          }
        },
        "3464a33394c84322aa299722aa02b80c": {
          "model_module": "@jupyter-widgets/base",
          "model_name": "LayoutModel",
          "model_module_version": "1.2.0",
          "state": {
            "_model_module": "@jupyter-widgets/base",
            "_model_module_version": "1.2.0",
            "_model_name": "LayoutModel",
            "_view_count": null,
            "_view_module": "@jupyter-widgets/base",
            "_view_module_version": "1.2.0",
            "_view_name": "LayoutView",
            "align_content": null,
            "align_items": null,
            "align_self": null,
            "border": null,
            "bottom": null,
            "display": null,
            "flex": null,
            "flex_flow": null,
            "grid_area": null,
            "grid_auto_columns": null,
            "grid_auto_flow": null,
            "grid_auto_rows": null,
            "grid_column": null,
            "grid_gap": null,
            "grid_row": null,
            "grid_template_areas": null,
            "grid_template_columns": null,
            "grid_template_rows": null,
            "height": null,
            "justify_content": null,
            "justify_items": null,
            "left": null,
            "margin": null,
            "max_height": null,
            "max_width": null,
            "min_height": null,
            "min_width": null,
            "object_fit": null,
            "object_position": null,
            "order": null,
            "overflow": null,
            "overflow_x": null,
            "overflow_y": null,
            "padding": null,
            "right": null,
            "top": null,
            "visibility": null,
            "width": null
          }
        },
        "a0e7ff72f8b94e7f9d7dc30d0f1766a9": {
          "model_module": "@jupyter-widgets/controls",
          "model_name": "DescriptionStyleModel",
          "model_module_version": "1.5.0",
          "state": {
            "_model_module": "@jupyter-widgets/controls",
            "_model_module_version": "1.5.0",
            "_model_name": "DescriptionStyleModel",
            "_view_count": null,
            "_view_module": "@jupyter-widgets/base",
            "_view_module_version": "1.2.0",
            "_view_name": "StyleView",
            "description_width": ""
          }
        },
        "86a46b3152b2424194db26e5e719e94b": {
          "model_module": "@jupyter-widgets/base",
          "model_name": "LayoutModel",
          "model_module_version": "1.2.0",
          "state": {
            "_model_module": "@jupyter-widgets/base",
            "_model_module_version": "1.2.0",
            "_model_name": "LayoutModel",
            "_view_count": null,
            "_view_module": "@jupyter-widgets/base",
            "_view_module_version": "1.2.0",
            "_view_name": "LayoutView",
            "align_content": null,
            "align_items": null,
            "align_self": null,
            "border": null,
            "bottom": null,
            "display": null,
            "flex": null,
            "flex_flow": null,
            "grid_area": null,
            "grid_auto_columns": null,
            "grid_auto_flow": null,
            "grid_auto_rows": null,
            "grid_column": null,
            "grid_gap": null,
            "grid_row": null,
            "grid_template_areas": null,
            "grid_template_columns": null,
            "grid_template_rows": null,
            "height": null,
            "justify_content": null,
            "justify_items": null,
            "left": null,
            "margin": null,
            "max_height": null,
            "max_width": null,
            "min_height": null,
            "min_width": null,
            "object_fit": null,
            "object_position": null,
            "order": null,
            "overflow": null,
            "overflow_x": null,
            "overflow_y": null,
            "padding": null,
            "right": null,
            "top": null,
            "visibility": null,
            "width": null
          }
        },
        "c390d55271374475b08b86d05f4409f3": {
          "model_module": "@jupyter-widgets/controls",
          "model_name": "ProgressStyleModel",
          "model_module_version": "1.5.0",
          "state": {
            "_model_module": "@jupyter-widgets/controls",
            "_model_module_version": "1.5.0",
            "_model_name": "ProgressStyleModel",
            "_view_count": null,
            "_view_module": "@jupyter-widgets/base",
            "_view_module_version": "1.2.0",
            "_view_name": "StyleView",
            "bar_color": null,
            "description_width": ""
          }
        },
        "a7770673b07c4022ae70ccea43fb2f28": {
          "model_module": "@jupyter-widgets/base",
          "model_name": "LayoutModel",
          "model_module_version": "1.2.0",
          "state": {
            "_model_module": "@jupyter-widgets/base",
            "_model_module_version": "1.2.0",
            "_model_name": "LayoutModel",
            "_view_count": null,
            "_view_module": "@jupyter-widgets/base",
            "_view_module_version": "1.2.0",
            "_view_name": "LayoutView",
            "align_content": null,
            "align_items": null,
            "align_self": null,
            "border": null,
            "bottom": null,
            "display": null,
            "flex": null,
            "flex_flow": null,
            "grid_area": null,
            "grid_auto_columns": null,
            "grid_auto_flow": null,
            "grid_auto_rows": null,
            "grid_column": null,
            "grid_gap": null,
            "grid_row": null,
            "grid_template_areas": null,
            "grid_template_columns": null,
            "grid_template_rows": null,
            "height": null,
            "justify_content": null,
            "justify_items": null,
            "left": null,
            "margin": null,
            "max_height": null,
            "max_width": null,
            "min_height": null,
            "min_width": null,
            "object_fit": null,
            "object_position": null,
            "order": null,
            "overflow": null,
            "overflow_x": null,
            "overflow_y": null,
            "padding": null,
            "right": null,
            "top": null,
            "visibility": null,
            "width": null
          }
        },
        "ec76c628c2954a5cbfb9d4d4a9d84e94": {
          "model_module": "@jupyter-widgets/controls",
          "model_name": "DescriptionStyleModel",
          "model_module_version": "1.5.0",
          "state": {
            "_model_module": "@jupyter-widgets/controls",
            "_model_module_version": "1.5.0",
            "_model_name": "DescriptionStyleModel",
            "_view_count": null,
            "_view_module": "@jupyter-widgets/base",
            "_view_module_version": "1.2.0",
            "_view_name": "StyleView",
            "description_width": ""
          }
        },
        "6cfa5db69f594693871e4879cd172fc4": {
          "model_module": "@jupyter-widgets/controls",
          "model_name": "HBoxModel",
          "model_module_version": "1.5.0",
          "state": {
            "_dom_classes": [],
            "_model_module": "@jupyter-widgets/controls",
            "_model_module_version": "1.5.0",
            "_model_name": "HBoxModel",
            "_view_count": null,
            "_view_module": "@jupyter-widgets/controls",
            "_view_module_version": "1.5.0",
            "_view_name": "HBoxView",
            "box_style": "",
            "children": [
              "IPY_MODEL_bdda35ce6e614226909c17bcb9c09d35",
              "IPY_MODEL_c2f1e306004b4099a979e968adc75c16",
              "IPY_MODEL_7c39d7b9883c4b639d8548101d2c1e37"
            ],
            "layout": "IPY_MODEL_77291056ccaa4201b1579b1d8d6e6988"
          }
        },
        "bdda35ce6e614226909c17bcb9c09d35": {
          "model_module": "@jupyter-widgets/controls",
          "model_name": "HTMLModel",
          "model_module_version": "1.5.0",
          "state": {
            "_dom_classes": [],
            "_model_module": "@jupyter-widgets/controls",
            "_model_module_version": "1.5.0",
            "_model_name": "HTMLModel",
            "_view_count": null,
            "_view_module": "@jupyter-widgets/controls",
            "_view_module_version": "1.5.0",
            "_view_name": "HTMLView",
            "description": "",
            "description_tooltip": null,
            "layout": "IPY_MODEL_efd0199ea49a489a84c81640e6e53418",
            "placeholder": "​",
            "style": "IPY_MODEL_22d31ab2c3c44e83956c2c7b38e321eb",
            "value": "philosopher-quotes.csv: 100%"
          }
        },
        "c2f1e306004b4099a979e968adc75c16": {
          "model_module": "@jupyter-widgets/controls",
          "model_name": "FloatProgressModel",
          "model_module_version": "1.5.0",
          "state": {
            "_dom_classes": [],
            "_model_module": "@jupyter-widgets/controls",
            "_model_module_version": "1.5.0",
            "_model_name": "FloatProgressModel",
            "_view_count": null,
            "_view_module": "@jupyter-widgets/controls",
            "_view_module_version": "1.5.0",
            "_view_name": "ProgressView",
            "bar_style": "success",
            "description": "",
            "description_tooltip": null,
            "layout": "IPY_MODEL_6740670f5b194410ae45e1dc69e1fa99",
            "max": 67554,
            "min": 0,
            "orientation": "horizontal",
            "style": "IPY_MODEL_7439013a435940f1961a1e49f76fece0",
            "value": 67554
          }
        },
        "7c39d7b9883c4b639d8548101d2c1e37": {
          "model_module": "@jupyter-widgets/controls",
          "model_name": "HTMLModel",
          "model_module_version": "1.5.0",
          "state": {
            "_dom_classes": [],
            "_model_module": "@jupyter-widgets/controls",
            "_model_module_version": "1.5.0",
            "_model_name": "HTMLModel",
            "_view_count": null,
            "_view_module": "@jupyter-widgets/controls",
            "_view_module_version": "1.5.0",
            "_view_name": "HTMLView",
            "description": "",
            "description_tooltip": null,
            "layout": "IPY_MODEL_9ff1907c65b04ff7a1ba5c180fa38180",
            "placeholder": "​",
            "style": "IPY_MODEL_ef980d00de78495e93a16a4643c2f887",
            "value": " 67.6k/67.6k [00:00&lt;00:00, 965kB/s]"
          }
        },
        "77291056ccaa4201b1579b1d8d6e6988": {
          "model_module": "@jupyter-widgets/base",
          "model_name": "LayoutModel",
          "model_module_version": "1.2.0",
          "state": {
            "_model_module": "@jupyter-widgets/base",
            "_model_module_version": "1.2.0",
            "_model_name": "LayoutModel",
            "_view_count": null,
            "_view_module": "@jupyter-widgets/base",
            "_view_module_version": "1.2.0",
            "_view_name": "LayoutView",
            "align_content": null,
            "align_items": null,
            "align_self": null,
            "border": null,
            "bottom": null,
            "display": null,
            "flex": null,
            "flex_flow": null,
            "grid_area": null,
            "grid_auto_columns": null,
            "grid_auto_flow": null,
            "grid_auto_rows": null,
            "grid_column": null,
            "grid_gap": null,
            "grid_row": null,
            "grid_template_areas": null,
            "grid_template_columns": null,
            "grid_template_rows": null,
            "height": null,
            "justify_content": null,
            "justify_items": null,
            "left": null,
            "margin": null,
            "max_height": null,
            "max_width": null,
            "min_height": null,
            "min_width": null,
            "object_fit": null,
            "object_position": null,
            "order": null,
            "overflow": null,
            "overflow_x": null,
            "overflow_y": null,
            "padding": null,
            "right": null,
            "top": null,
            "visibility": null,
            "width": null
          }
        },
        "efd0199ea49a489a84c81640e6e53418": {
          "model_module": "@jupyter-widgets/base",
          "model_name": "LayoutModel",
          "model_module_version": "1.2.0",
          "state": {
            "_model_module": "@jupyter-widgets/base",
            "_model_module_version": "1.2.0",
            "_model_name": "LayoutModel",
            "_view_count": null,
            "_view_module": "@jupyter-widgets/base",
            "_view_module_version": "1.2.0",
            "_view_name": "LayoutView",
            "align_content": null,
            "align_items": null,
            "align_self": null,
            "border": null,
            "bottom": null,
            "display": null,
            "flex": null,
            "flex_flow": null,
            "grid_area": null,
            "grid_auto_columns": null,
            "grid_auto_flow": null,
            "grid_auto_rows": null,
            "grid_column": null,
            "grid_gap": null,
            "grid_row": null,
            "grid_template_areas": null,
            "grid_template_columns": null,
            "grid_template_rows": null,
            "height": null,
            "justify_content": null,
            "justify_items": null,
            "left": null,
            "margin": null,
            "max_height": null,
            "max_width": null,
            "min_height": null,
            "min_width": null,
            "object_fit": null,
            "object_position": null,
            "order": null,
            "overflow": null,
            "overflow_x": null,
            "overflow_y": null,
            "padding": null,
            "right": null,
            "top": null,
            "visibility": null,
            "width": null
          }
        },
        "22d31ab2c3c44e83956c2c7b38e321eb": {
          "model_module": "@jupyter-widgets/controls",
          "model_name": "DescriptionStyleModel",
          "model_module_version": "1.5.0",
          "state": {
            "_model_module": "@jupyter-widgets/controls",
            "_model_module_version": "1.5.0",
            "_model_name": "DescriptionStyleModel",
            "_view_count": null,
            "_view_module": "@jupyter-widgets/base",
            "_view_module_version": "1.2.0",
            "_view_name": "StyleView",
            "description_width": ""
          }
        },
        "6740670f5b194410ae45e1dc69e1fa99": {
          "model_module": "@jupyter-widgets/base",
          "model_name": "LayoutModel",
          "model_module_version": "1.2.0",
          "state": {
            "_model_module": "@jupyter-widgets/base",
            "_model_module_version": "1.2.0",
            "_model_name": "LayoutModel",
            "_view_count": null,
            "_view_module": "@jupyter-widgets/base",
            "_view_module_version": "1.2.0",
            "_view_name": "LayoutView",
            "align_content": null,
            "align_items": null,
            "align_self": null,
            "border": null,
            "bottom": null,
            "display": null,
            "flex": null,
            "flex_flow": null,
            "grid_area": null,
            "grid_auto_columns": null,
            "grid_auto_flow": null,
            "grid_auto_rows": null,
            "grid_column": null,
            "grid_gap": null,
            "grid_row": null,
            "grid_template_areas": null,
            "grid_template_columns": null,
            "grid_template_rows": null,
            "height": null,
            "justify_content": null,
            "justify_items": null,
            "left": null,
            "margin": null,
            "max_height": null,
            "max_width": null,
            "min_height": null,
            "min_width": null,
            "object_fit": null,
            "object_position": null,
            "order": null,
            "overflow": null,
            "overflow_x": null,
            "overflow_y": null,
            "padding": null,
            "right": null,
            "top": null,
            "visibility": null,
            "width": null
          }
        },
        "7439013a435940f1961a1e49f76fece0": {
          "model_module": "@jupyter-widgets/controls",
          "model_name": "ProgressStyleModel",
          "model_module_version": "1.5.0",
          "state": {
            "_model_module": "@jupyter-widgets/controls",
            "_model_module_version": "1.5.0",
            "_model_name": "ProgressStyleModel",
            "_view_count": null,
            "_view_module": "@jupyter-widgets/base",
            "_view_module_version": "1.2.0",
            "_view_name": "StyleView",
            "bar_color": null,
            "description_width": ""
          }
        },
        "9ff1907c65b04ff7a1ba5c180fa38180": {
          "model_module": "@jupyter-widgets/base",
          "model_name": "LayoutModel",
          "model_module_version": "1.2.0",
          "state": {
            "_model_module": "@jupyter-widgets/base",
            "_model_module_version": "1.2.0",
            "_model_name": "LayoutModel",
            "_view_count": null,
            "_view_module": "@jupyter-widgets/base",
            "_view_module_version": "1.2.0",
            "_view_name": "LayoutView",
            "align_content": null,
            "align_items": null,
            "align_self": null,
            "border": null,
            "bottom": null,
            "display": null,
            "flex": null,
            "flex_flow": null,
            "grid_area": null,
            "grid_auto_columns": null,
            "grid_auto_flow": null,
            "grid_auto_rows": null,
            "grid_column": null,
            "grid_gap": null,
            "grid_row": null,
            "grid_template_areas": null,
            "grid_template_columns": null,
            "grid_template_rows": null,
            "height": null,
            "justify_content": null,
            "justify_items": null,
            "left": null,
            "margin": null,
            "max_height": null,
            "max_width": null,
            "min_height": null,
            "min_width": null,
            "object_fit": null,
            "object_position": null,
            "order": null,
            "overflow": null,
            "overflow_x": null,
            "overflow_y": null,
            "padding": null,
            "right": null,
            "top": null,
            "visibility": null,
            "width": null
          }
        },
        "ef980d00de78495e93a16a4643c2f887": {
          "model_module": "@jupyter-widgets/controls",
          "model_name": "DescriptionStyleModel",
          "model_module_version": "1.5.0",
          "state": {
            "_model_module": "@jupyter-widgets/controls",
            "_model_module_version": "1.5.0",
            "_model_name": "DescriptionStyleModel",
            "_view_count": null,
            "_view_module": "@jupyter-widgets/base",
            "_view_module_version": "1.2.0",
            "_view_name": "StyleView",
            "description_width": ""
          }
        },
        "effffe631ade45d7bb70476864725ae2": {
          "model_module": "@jupyter-widgets/controls",
          "model_name": "HBoxModel",
          "model_module_version": "1.5.0",
          "state": {
            "_dom_classes": [],
            "_model_module": "@jupyter-widgets/controls",
            "_model_module_version": "1.5.0",
            "_model_name": "HBoxModel",
            "_view_count": null,
            "_view_module": "@jupyter-widgets/controls",
            "_view_module_version": "1.5.0",
            "_view_name": "HBoxView",
            "box_style": "",
            "children": [
              "IPY_MODEL_b6ee7dc72b2a41289290b3d29b548251",
              "IPY_MODEL_0bfa02efb62f4e4b95c87f1ceea98b46",
              "IPY_MODEL_8280e146fffa430abd3f7b82caebc34e"
            ],
            "layout": "IPY_MODEL_76e8ee0e3f1a4437a6623772d53d58e9"
          }
        },
        "b6ee7dc72b2a41289290b3d29b548251": {
          "model_module": "@jupyter-widgets/controls",
          "model_name": "HTMLModel",
          "model_module_version": "1.5.0",
          "state": {
            "_dom_classes": [],
            "_model_module": "@jupyter-widgets/controls",
            "_model_module_version": "1.5.0",
            "_model_name": "HTMLModel",
            "_view_count": null,
            "_view_module": "@jupyter-widgets/controls",
            "_view_module_version": "1.5.0",
            "_view_name": "HTMLView",
            "description": "",
            "description_tooltip": null,
            "layout": "IPY_MODEL_6b15df310bf943c59bb2ae48ad26893c",
            "placeholder": "​",
            "style": "IPY_MODEL_c6639d41d8d74502844d731b89ebe413",
            "value": "Generating train split: 100%"
          }
        },
        "0bfa02efb62f4e4b95c87f1ceea98b46": {
          "model_module": "@jupyter-widgets/controls",
          "model_name": "FloatProgressModel",
          "model_module_version": "1.5.0",
          "state": {
            "_dom_classes": [],
            "_model_module": "@jupyter-widgets/controls",
            "_model_module_version": "1.5.0",
            "_model_name": "FloatProgressModel",
            "_view_count": null,
            "_view_module": "@jupyter-widgets/controls",
            "_view_module_version": "1.5.0",
            "_view_name": "ProgressView",
            "bar_style": "success",
            "description": "",
            "description_tooltip": null,
            "layout": "IPY_MODEL_c25a863bb31d4fdd96812da9b68c4b6d",
            "max": 450,
            "min": 0,
            "orientation": "horizontal",
            "style": "IPY_MODEL_26a069617a574510ba9464e97b1ae3cb",
            "value": 450
          }
        },
        "8280e146fffa430abd3f7b82caebc34e": {
          "model_module": "@jupyter-widgets/controls",
          "model_name": "HTMLModel",
          "model_module_version": "1.5.0",
          "state": {
            "_dom_classes": [],
            "_model_module": "@jupyter-widgets/controls",
            "_model_module_version": "1.5.0",
            "_model_name": "HTMLModel",
            "_view_count": null,
            "_view_module": "@jupyter-widgets/controls",
            "_view_module_version": "1.5.0",
            "_view_name": "HTMLView",
            "description": "",
            "description_tooltip": null,
            "layout": "IPY_MODEL_da87ce9068ad4eb9be7a8227f6513e3e",
            "placeholder": "​",
            "style": "IPY_MODEL_3675966fc8e44f05bc1e5428b073cd79",
            "value": " 450/450 [00:00&lt;00:00, 4898.65 examples/s]"
          }
        },
        "76e8ee0e3f1a4437a6623772d53d58e9": {
          "model_module": "@jupyter-widgets/base",
          "model_name": "LayoutModel",
          "model_module_version": "1.2.0",
          "state": {
            "_model_module": "@jupyter-widgets/base",
            "_model_module_version": "1.2.0",
            "_model_name": "LayoutModel",
            "_view_count": null,
            "_view_module": "@jupyter-widgets/base",
            "_view_module_version": "1.2.0",
            "_view_name": "LayoutView",
            "align_content": null,
            "align_items": null,
            "align_self": null,
            "border": null,
            "bottom": null,
            "display": null,
            "flex": null,
            "flex_flow": null,
            "grid_area": null,
            "grid_auto_columns": null,
            "grid_auto_flow": null,
            "grid_auto_rows": null,
            "grid_column": null,
            "grid_gap": null,
            "grid_row": null,
            "grid_template_areas": null,
            "grid_template_columns": null,
            "grid_template_rows": null,
            "height": null,
            "justify_content": null,
            "justify_items": null,
            "left": null,
            "margin": null,
            "max_height": null,
            "max_width": null,
            "min_height": null,
            "min_width": null,
            "object_fit": null,
            "object_position": null,
            "order": null,
            "overflow": null,
            "overflow_x": null,
            "overflow_y": null,
            "padding": null,
            "right": null,
            "top": null,
            "visibility": null,
            "width": null
          }
        },
        "6b15df310bf943c59bb2ae48ad26893c": {
          "model_module": "@jupyter-widgets/base",
          "model_name": "LayoutModel",
          "model_module_version": "1.2.0",
          "state": {
            "_model_module": "@jupyter-widgets/base",
            "_model_module_version": "1.2.0",
            "_model_name": "LayoutModel",
            "_view_count": null,
            "_view_module": "@jupyter-widgets/base",
            "_view_module_version": "1.2.0",
            "_view_name": "LayoutView",
            "align_content": null,
            "align_items": null,
            "align_self": null,
            "border": null,
            "bottom": null,
            "display": null,
            "flex": null,
            "flex_flow": null,
            "grid_area": null,
            "grid_auto_columns": null,
            "grid_auto_flow": null,
            "grid_auto_rows": null,
            "grid_column": null,
            "grid_gap": null,
            "grid_row": null,
            "grid_template_areas": null,
            "grid_template_columns": null,
            "grid_template_rows": null,
            "height": null,
            "justify_content": null,
            "justify_items": null,
            "left": null,
            "margin": null,
            "max_height": null,
            "max_width": null,
            "min_height": null,
            "min_width": null,
            "object_fit": null,
            "object_position": null,
            "order": null,
            "overflow": null,
            "overflow_x": null,
            "overflow_y": null,
            "padding": null,
            "right": null,
            "top": null,
            "visibility": null,
            "width": null
          }
        },
        "c6639d41d8d74502844d731b89ebe413": {
          "model_module": "@jupyter-widgets/controls",
          "model_name": "DescriptionStyleModel",
          "model_module_version": "1.5.0",
          "state": {
            "_model_module": "@jupyter-widgets/controls",
            "_model_module_version": "1.5.0",
            "_model_name": "DescriptionStyleModel",
            "_view_count": null,
            "_view_module": "@jupyter-widgets/base",
            "_view_module_version": "1.2.0",
            "_view_name": "StyleView",
            "description_width": ""
          }
        },
        "c25a863bb31d4fdd96812da9b68c4b6d": {
          "model_module": "@jupyter-widgets/base",
          "model_name": "LayoutModel",
          "model_module_version": "1.2.0",
          "state": {
            "_model_module": "@jupyter-widgets/base",
            "_model_module_version": "1.2.0",
            "_model_name": "LayoutModel",
            "_view_count": null,
            "_view_module": "@jupyter-widgets/base",
            "_view_module_version": "1.2.0",
            "_view_name": "LayoutView",
            "align_content": null,
            "align_items": null,
            "align_self": null,
            "border": null,
            "bottom": null,
            "display": null,
            "flex": null,
            "flex_flow": null,
            "grid_area": null,
            "grid_auto_columns": null,
            "grid_auto_flow": null,
            "grid_auto_rows": null,
            "grid_column": null,
            "grid_gap": null,
            "grid_row": null,
            "grid_template_areas": null,
            "grid_template_columns": null,
            "grid_template_rows": null,
            "height": null,
            "justify_content": null,
            "justify_items": null,
            "left": null,
            "margin": null,
            "max_height": null,
            "max_width": null,
            "min_height": null,
            "min_width": null,
            "object_fit": null,
            "object_position": null,
            "order": null,
            "overflow": null,
            "overflow_x": null,
            "overflow_y": null,
            "padding": null,
            "right": null,
            "top": null,
            "visibility": null,
            "width": null
          }
        },
        "26a069617a574510ba9464e97b1ae3cb": {
          "model_module": "@jupyter-widgets/controls",
          "model_name": "ProgressStyleModel",
          "model_module_version": "1.5.0",
          "state": {
            "_model_module": "@jupyter-widgets/controls",
            "_model_module_version": "1.5.0",
            "_model_name": "ProgressStyleModel",
            "_view_count": null,
            "_view_module": "@jupyter-widgets/base",
            "_view_module_version": "1.2.0",
            "_view_name": "StyleView",
            "bar_color": null,
            "description_width": ""
          }
        },
        "da87ce9068ad4eb9be7a8227f6513e3e": {
          "model_module": "@jupyter-widgets/base",
          "model_name": "LayoutModel",
          "model_module_version": "1.2.0",
          "state": {
            "_model_module": "@jupyter-widgets/base",
            "_model_module_version": "1.2.0",
            "_model_name": "LayoutModel",
            "_view_count": null,
            "_view_module": "@jupyter-widgets/base",
            "_view_module_version": "1.2.0",
            "_view_name": "LayoutView",
            "align_content": null,
            "align_items": null,
            "align_self": null,
            "border": null,
            "bottom": null,
            "display": null,
            "flex": null,
            "flex_flow": null,
            "grid_area": null,
            "grid_auto_columns": null,
            "grid_auto_flow": null,
            "grid_auto_rows": null,
            "grid_column": null,
            "grid_gap": null,
            "grid_row": null,
            "grid_template_areas": null,
            "grid_template_columns": null,
            "grid_template_rows": null,
            "height": null,
            "justify_content": null,
            "justify_items": null,
            "left": null,
            "margin": null,
            "max_height": null,
            "max_width": null,
            "min_height": null,
            "min_width": null,
            "object_fit": null,
            "object_position": null,
            "order": null,
            "overflow": null,
            "overflow_x": null,
            "overflow_y": null,
            "padding": null,
            "right": null,
            "top": null,
            "visibility": null,
            "width": null
          }
        },
        "3675966fc8e44f05bc1e5428b073cd79": {
          "model_module": "@jupyter-widgets/controls",
          "model_name": "DescriptionStyleModel",
          "model_module_version": "1.5.0",
          "state": {
            "_model_module": "@jupyter-widgets/controls",
            "_model_module_version": "1.5.0",
            "_model_name": "DescriptionStyleModel",
            "_view_count": null,
            "_view_module": "@jupyter-widgets/base",
            "_view_module_version": "1.2.0",
            "_view_name": "StyleView",
            "description_width": ""
          }
        }
      }
    }
  },
  "cells": [
    {
      "cell_type": "code",
      "source": [
        "from google.colab import userdata\n",
        "import os\n",
        "\n",
        "OPENAI_API_KEY = userdata.get('secretName')\n",
        "\n",
        "os.environ['OPENAI_API_KEY'] = OPENAI_API_KEY"
      ],
      "metadata": {
        "id": "k0WHb2hijWhV"
      },
      "execution_count": null,
      "outputs": []
    },
    {
      "cell_type": "code",
      "source": [
        "\n",
        "from langchain_openai import ChatOpenAI\n",
        "\n",
        "chatModel = ChatOpenAI(model=\"gpt-3.5-turbo-0125\")"
      ],
      "metadata": {
        "id": "77W5IIPOjd5l"
      },
      "execution_count": null,
      "outputs": []
    },
    {
      "cell_type": "code",
      "source": [
        "messages = [\n",
        "    (\"system\", \"You are an helpful assistant.\"),\n",
        "    (\"human\", \"tell me about dswithbappy\"),\n",
        "]\n",
        "response = chatModel.invoke(messages)\n",
        "print(response.content)"
      ],
      "metadata": {
        "id": "SEwjqA0ajkmO"
      },
      "execution_count": null,
      "outputs": []
    },
    {
      "cell_type": "code",
      "execution_count": 2,
      "metadata": {
        "colab": {
          "base_uri": "https://localhost:8080/"
        },
        "id": "hGaWHtHXi_Fu",
        "outputId": "494b2f08-807c-4bd7-ec5b-78a9af4eaeb8"
      },
      "outputs": [
        {
          "output_type": "stream",
          "name": "stdout",
          "text": [
            "Requirement already satisfied: langchain_community in /usr/local/lib/python3.11/dist-packages (0.3.19)\n",
            "Requirement already satisfied: langchain_openai in /usr/local/lib/python3.11/dist-packages (0.3.9)\n",
            "Collecting chromadb\n",
            "  Downloading chromadb-0.6.3-py3-none-any.whl.metadata (6.8 kB)\n",
            "Requirement already satisfied: tiktoken in /usr/local/lib/python3.11/dist-packages (0.9.0)\n",
            "Requirement already satisfied: langchain-core<1.0.0,>=0.3.41 in /usr/local/lib/python3.11/dist-packages (from langchain_community) (0.3.45)\n",
            "Requirement already satisfied: langchain<1.0.0,>=0.3.20 in /usr/local/lib/python3.11/dist-packages (from langchain_community) (0.3.20)\n",
            "Requirement already satisfied: SQLAlchemy<3,>=1.4 in /usr/local/lib/python3.11/dist-packages (from langchain_community) (2.0.39)\n",
            "Requirement already satisfied: requests<3,>=2 in /usr/local/lib/python3.11/dist-packages (from langchain_community) (2.32.3)\n",
            "Requirement already satisfied: PyYAML>=5.3 in /usr/local/lib/python3.11/dist-packages (from langchain_community) (6.0.2)\n",
            "Requirement already satisfied: aiohttp<4.0.0,>=3.8.3 in /usr/local/lib/python3.11/dist-packages (from langchain_community) (3.11.13)\n",
            "Requirement already satisfied: tenacity!=8.4.0,<10,>=8.1.0 in /usr/local/lib/python3.11/dist-packages (from langchain_community) (9.0.0)\n",
            "Requirement already satisfied: dataclasses-json<0.7,>=0.5.7 in /usr/local/lib/python3.11/dist-packages (from langchain_community) (0.6.7)\n",
            "Requirement already satisfied: pydantic-settings<3.0.0,>=2.4.0 in /usr/local/lib/python3.11/dist-packages (from langchain_community) (2.8.1)\n",
            "Requirement already satisfied: langsmith<0.4,>=0.1.125 in /usr/local/lib/python3.11/dist-packages (from langchain_community) (0.3.13)\n",
            "Requirement already satisfied: httpx-sse<1.0.0,>=0.4.0 in /usr/local/lib/python3.11/dist-packages (from langchain_community) (0.4.0)\n",
            "Requirement already satisfied: numpy<3,>=1.26.2 in /usr/local/lib/python3.11/dist-packages (from langchain_community) (2.0.2)\n",
            "Requirement already satisfied: openai<2.0.0,>=1.66.3 in /usr/local/lib/python3.11/dist-packages (from langchain_openai) (1.66.3)\n",
            "Collecting build>=1.0.3 (from chromadb)\n",
            "  Downloading build-1.2.2.post1-py3-none-any.whl.metadata (6.5 kB)\n",
            "Requirement already satisfied: pydantic>=1.9 in /usr/local/lib/python3.11/dist-packages (from chromadb) (2.10.6)\n",
            "Collecting chroma-hnswlib==0.7.6 (from chromadb)\n",
            "  Downloading chroma_hnswlib-0.7.6-cp311-cp311-manylinux_2_17_x86_64.manylinux2014_x86_64.whl.metadata (252 bytes)\n",
            "Collecting fastapi>=0.95.2 (from chromadb)\n",
            "  Downloading fastapi-0.115.11-py3-none-any.whl.metadata (27 kB)\n",
            "Collecting uvicorn>=0.18.3 (from uvicorn[standard]>=0.18.3->chromadb)\n",
            "  Downloading uvicorn-0.34.0-py3-none-any.whl.metadata (6.5 kB)\n",
            "Collecting posthog>=2.4.0 (from chromadb)\n",
            "  Downloading posthog-3.21.0-py2.py3-none-any.whl.metadata (2.9 kB)\n",
            "Requirement already satisfied: typing_extensions>=4.5.0 in /usr/local/lib/python3.11/dist-packages (from chromadb) (4.12.2)\n",
            "Collecting onnxruntime>=1.14.1 (from chromadb)\n",
            "  Downloading onnxruntime-1.21.0-cp311-cp311-manylinux_2_27_x86_64.manylinux_2_28_x86_64.whl.metadata (4.5 kB)\n",
            "Requirement already satisfied: opentelemetry-api>=1.2.0 in /usr/local/lib/python3.11/dist-packages (from chromadb) (1.31.0)\n",
            "Collecting opentelemetry-exporter-otlp-proto-grpc>=1.2.0 (from chromadb)\n",
            "  Downloading opentelemetry_exporter_otlp_proto_grpc-1.31.0-py3-none-any.whl.metadata (2.5 kB)\n",
            "Collecting opentelemetry-instrumentation-fastapi>=0.41b0 (from chromadb)\n",
            "  Downloading opentelemetry_instrumentation_fastapi-0.52b0-py3-none-any.whl.metadata (2.2 kB)\n",
            "Requirement already satisfied: opentelemetry-sdk>=1.2.0 in /usr/local/lib/python3.11/dist-packages (from chromadb) (1.31.0)\n",
            "Requirement already satisfied: tokenizers>=0.13.2 in /usr/local/lib/python3.11/dist-packages (from chromadb) (0.21.1)\n",
            "Collecting pypika>=0.48.9 (from chromadb)\n",
            "  Downloading PyPika-0.48.9.tar.gz (67 kB)\n",
            "\u001b[2K     \u001b[90m━━━━━━━━━━━━━━━━━━━━━━━━━━━━━━━━━━━━━━━━\u001b[0m \u001b[32m67.3/67.3 kB\u001b[0m \u001b[31m4.1 MB/s\u001b[0m eta \u001b[36m0:00:00\u001b[0m\n",
            "\u001b[?25h  Installing build dependencies ... \u001b[?25l\u001b[?25hdone\n",
            "  Getting requirements to build wheel ... \u001b[?25l\u001b[?25hdone\n",
            "  Preparing metadata (pyproject.toml) ... \u001b[?25l\u001b[?25hdone\n",
            "Requirement already satisfied: tqdm>=4.65.0 in /usr/local/lib/python3.11/dist-packages (from chromadb) (4.67.1)\n",
            "Collecting overrides>=7.3.1 (from chromadb)\n",
            "  Downloading overrides-7.7.0-py3-none-any.whl.metadata (5.8 kB)\n",
            "Requirement already satisfied: importlib-resources in /usr/local/lib/python3.11/dist-packages (from chromadb) (6.5.2)\n",
            "Requirement already satisfied: grpcio>=1.58.0 in /usr/local/lib/python3.11/dist-packages (from chromadb) (1.71.0)\n",
            "Collecting bcrypt>=4.0.1 (from chromadb)\n",
            "  Downloading bcrypt-4.3.0-cp39-abi3-manylinux_2_34_x86_64.whl.metadata (10 kB)\n",
            "Requirement already satisfied: typer>=0.9.0 in /usr/local/lib/python3.11/dist-packages (from chromadb) (0.15.2)\n",
            "Collecting kubernetes>=28.1.0 (from chromadb)\n",
            "  Downloading kubernetes-32.0.1-py2.py3-none-any.whl.metadata (1.7 kB)\n",
            "Collecting mmh3>=4.0.1 (from chromadb)\n",
            "  Downloading mmh3-5.1.0-cp311-cp311-manylinux_2_5_x86_64.manylinux1_x86_64.manylinux_2_17_x86_64.manylinux2014_x86_64.whl.metadata (16 kB)\n",
            "Requirement already satisfied: orjson>=3.9.12 in /usr/local/lib/python3.11/dist-packages (from chromadb) (3.10.15)\n",
            "Requirement already satisfied: httpx>=0.27.0 in /usr/local/lib/python3.11/dist-packages (from chromadb) (0.28.1)\n",
            "Requirement already satisfied: rich>=10.11.0 in /usr/local/lib/python3.11/dist-packages (from chromadb) (13.9.4)\n",
            "Requirement already satisfied: regex>=2022.1.18 in /usr/local/lib/python3.11/dist-packages (from tiktoken) (2024.11.6)\n",
            "Requirement already satisfied: aiohappyeyeballs>=2.3.0 in /usr/local/lib/python3.11/dist-packages (from aiohttp<4.0.0,>=3.8.3->langchain_community) (2.6.1)\n",
            "Requirement already satisfied: aiosignal>=1.1.2 in /usr/local/lib/python3.11/dist-packages (from aiohttp<4.0.0,>=3.8.3->langchain_community) (1.3.2)\n",
            "Requirement already satisfied: attrs>=17.3.0 in /usr/local/lib/python3.11/dist-packages (from aiohttp<4.0.0,>=3.8.3->langchain_community) (25.3.0)\n",
            "Requirement already satisfied: frozenlist>=1.1.1 in /usr/local/lib/python3.11/dist-packages (from aiohttp<4.0.0,>=3.8.3->langchain_community) (1.5.0)\n",
            "Requirement already satisfied: multidict<7.0,>=4.5 in /usr/local/lib/python3.11/dist-packages (from aiohttp<4.0.0,>=3.8.3->langchain_community) (6.1.0)\n",
            "Requirement already satisfied: propcache>=0.2.0 in /usr/local/lib/python3.11/dist-packages (from aiohttp<4.0.0,>=3.8.3->langchain_community) (0.3.0)\n",
            "Requirement already satisfied: yarl<2.0,>=1.17.0 in /usr/local/lib/python3.11/dist-packages (from aiohttp<4.0.0,>=3.8.3->langchain_community) (1.18.3)\n",
            "Requirement already satisfied: packaging>=19.1 in /usr/local/lib/python3.11/dist-packages (from build>=1.0.3->chromadb) (24.2)\n",
            "Collecting pyproject_hooks (from build>=1.0.3->chromadb)\n",
            "  Downloading pyproject_hooks-1.2.0-py3-none-any.whl.metadata (1.3 kB)\n",
            "Requirement already satisfied: marshmallow<4.0.0,>=3.18.0 in /usr/local/lib/python3.11/dist-packages (from dataclasses-json<0.7,>=0.5.7->langchain_community) (3.26.1)\n",
            "Requirement already satisfied: typing-inspect<1,>=0.4.0 in /usr/local/lib/python3.11/dist-packages (from dataclasses-json<0.7,>=0.5.7->langchain_community) (0.9.0)\n",
            "Collecting starlette<0.47.0,>=0.40.0 (from fastapi>=0.95.2->chromadb)\n",
            "  Downloading starlette-0.46.1-py3-none-any.whl.metadata (6.2 kB)\n",
            "Requirement already satisfied: anyio in /usr/local/lib/python3.11/dist-packages (from httpx>=0.27.0->chromadb) (3.7.1)\n",
            "Requirement already satisfied: certifi in /usr/local/lib/python3.11/dist-packages (from httpx>=0.27.0->chromadb) (2025.1.31)\n",
            "Requirement already satisfied: httpcore==1.* in /usr/local/lib/python3.11/dist-packages (from httpx>=0.27.0->chromadb) (1.0.7)\n",
            "Requirement already satisfied: idna in /usr/local/lib/python3.11/dist-packages (from httpx>=0.27.0->chromadb) (3.10)\n",
            "Requirement already satisfied: h11<0.15,>=0.13 in /usr/local/lib/python3.11/dist-packages (from httpcore==1.*->httpx>=0.27.0->chromadb) (0.14.0)\n",
            "Requirement already satisfied: six>=1.9.0 in /usr/local/lib/python3.11/dist-packages (from kubernetes>=28.1.0->chromadb) (1.17.0)\n",
            "Requirement already satisfied: python-dateutil>=2.5.3 in /usr/local/lib/python3.11/dist-packages (from kubernetes>=28.1.0->chromadb) (2.8.2)\n",
            "Requirement already satisfied: google-auth>=1.0.1 in /usr/local/lib/python3.11/dist-packages (from kubernetes>=28.1.0->chromadb) (2.38.0)\n",
            "Requirement already satisfied: websocket-client!=0.40.0,!=0.41.*,!=0.42.*,>=0.32.0 in /usr/local/lib/python3.11/dist-packages (from kubernetes>=28.1.0->chromadb) (1.8.0)\n",
            "Requirement already satisfied: requests-oauthlib in /usr/local/lib/python3.11/dist-packages (from kubernetes>=28.1.0->chromadb) (2.0.0)\n",
            "Requirement already satisfied: oauthlib>=3.2.2 in /usr/local/lib/python3.11/dist-packages (from kubernetes>=28.1.0->chromadb) (3.2.2)\n",
            "Requirement already satisfied: urllib3>=1.24.2 in /usr/local/lib/python3.11/dist-packages (from kubernetes>=28.1.0->chromadb) (2.3.0)\n",
            "Collecting durationpy>=0.7 (from kubernetes>=28.1.0->chromadb)\n",
            "  Downloading durationpy-0.9-py3-none-any.whl.metadata (338 bytes)\n",
            "Requirement already satisfied: langchain-text-splitters<1.0.0,>=0.3.6 in /usr/local/lib/python3.11/dist-packages (from langchain<1.0.0,>=0.3.20->langchain_community) (0.3.6)\n",
            "Requirement already satisfied: jsonpatch<2.0,>=1.33 in /usr/local/lib/python3.11/dist-packages (from langchain-core<1.0.0,>=0.3.41->langchain_community) (1.33)\n",
            "Requirement already satisfied: requests-toolbelt<2.0.0,>=1.0.0 in /usr/local/lib/python3.11/dist-packages (from langsmith<0.4,>=0.1.125->langchain_community) (1.0.0)\n",
            "Requirement already satisfied: zstandard<0.24.0,>=0.23.0 in /usr/local/lib/python3.11/dist-packages (from langsmith<0.4,>=0.1.125->langchain_community) (0.23.0)\n",
            "Collecting coloredlogs (from onnxruntime>=1.14.1->chromadb)\n",
            "  Downloading coloredlogs-15.0.1-py2.py3-none-any.whl.metadata (12 kB)\n",
            "Requirement already satisfied: flatbuffers in /usr/local/lib/python3.11/dist-packages (from onnxruntime>=1.14.1->chromadb) (25.2.10)\n",
            "Requirement already satisfied: protobuf in /usr/local/lib/python3.11/dist-packages (from onnxruntime>=1.14.1->chromadb) (4.25.6)\n",
            "Requirement already satisfied: sympy in /usr/local/lib/python3.11/dist-packages (from onnxruntime>=1.14.1->chromadb) (1.13.1)\n",
            "Requirement already satisfied: distro<2,>=1.7.0 in /usr/local/lib/python3.11/dist-packages (from openai<2.0.0,>=1.66.3->langchain_openai) (1.9.0)\n",
            "Requirement already satisfied: jiter<1,>=0.4.0 in /usr/local/lib/python3.11/dist-packages (from openai<2.0.0,>=1.66.3->langchain_openai) (0.9.0)\n",
            "Requirement already satisfied: sniffio in /usr/local/lib/python3.11/dist-packages (from openai<2.0.0,>=1.66.3->langchain_openai) (1.3.1)\n",
            "Requirement already satisfied: deprecated>=1.2.6 in /usr/local/lib/python3.11/dist-packages (from opentelemetry-api>=1.2.0->chromadb) (1.2.18)\n",
            "Requirement already satisfied: importlib-metadata<8.7.0,>=6.0 in /usr/local/lib/python3.11/dist-packages (from opentelemetry-api>=1.2.0->chromadb) (8.6.1)\n",
            "Requirement already satisfied: googleapis-common-protos~=1.52 in /usr/local/lib/python3.11/dist-packages (from opentelemetry-exporter-otlp-proto-grpc>=1.2.0->chromadb) (1.69.1)\n",
            "Collecting opentelemetry-exporter-otlp-proto-common==1.31.0 (from opentelemetry-exporter-otlp-proto-grpc>=1.2.0->chromadb)\n",
            "  Downloading opentelemetry_exporter_otlp_proto_common-1.31.0-py3-none-any.whl.metadata (1.9 kB)\n",
            "Collecting opentelemetry-proto==1.31.0 (from opentelemetry-exporter-otlp-proto-grpc>=1.2.0->chromadb)\n",
            "  Downloading opentelemetry_proto-1.31.0-py3-none-any.whl.metadata (2.4 kB)\n",
            "Collecting protobuf (from onnxruntime>=1.14.1->chromadb)\n",
            "  Downloading protobuf-5.29.3-cp38-abi3-manylinux2014_x86_64.whl.metadata (592 bytes)\n",
            "Collecting opentelemetry-instrumentation-asgi==0.52b0 (from opentelemetry-instrumentation-fastapi>=0.41b0->chromadb)\n",
            "  Downloading opentelemetry_instrumentation_asgi-0.52b0-py3-none-any.whl.metadata (2.1 kB)\n",
            "Collecting opentelemetry-instrumentation==0.52b0 (from opentelemetry-instrumentation-fastapi>=0.41b0->chromadb)\n",
            "  Downloading opentelemetry_instrumentation-0.52b0-py3-none-any.whl.metadata (6.8 kB)\n",
            "Requirement already satisfied: opentelemetry-semantic-conventions==0.52b0 in /usr/local/lib/python3.11/dist-packages (from opentelemetry-instrumentation-fastapi>=0.41b0->chromadb) (0.52b0)\n",
            "Collecting opentelemetry-util-http==0.52b0 (from opentelemetry-instrumentation-fastapi>=0.41b0->chromadb)\n",
            "  Downloading opentelemetry_util_http-0.52b0-py3-none-any.whl.metadata (2.6 kB)\n",
            "Requirement already satisfied: wrapt<2.0.0,>=1.0.0 in /usr/local/lib/python3.11/dist-packages (from opentelemetry-instrumentation==0.52b0->opentelemetry-instrumentation-fastapi>=0.41b0->chromadb) (1.17.2)\n",
            "Collecting asgiref~=3.0 (from opentelemetry-instrumentation-asgi==0.52b0->opentelemetry-instrumentation-fastapi>=0.41b0->chromadb)\n",
            "  Downloading asgiref-3.8.1-py3-none-any.whl.metadata (9.3 kB)\n",
            "Collecting monotonic>=1.5 (from posthog>=2.4.0->chromadb)\n",
            "  Downloading monotonic-1.6-py2.py3-none-any.whl.metadata (1.5 kB)\n",
            "Collecting backoff>=1.10.0 (from posthog>=2.4.0->chromadb)\n",
            "  Downloading backoff-2.2.1-py3-none-any.whl.metadata (14 kB)\n",
            "Requirement already satisfied: annotated-types>=0.6.0 in /usr/local/lib/python3.11/dist-packages (from pydantic>=1.9->chromadb) (0.7.0)\n",
            "Requirement already satisfied: pydantic-core==2.27.2 in /usr/local/lib/python3.11/dist-packages (from pydantic>=1.9->chromadb) (2.27.2)\n",
            "Requirement already satisfied: python-dotenv>=0.21.0 in /usr/local/lib/python3.11/dist-packages (from pydantic-settings<3.0.0,>=2.4.0->langchain_community) (1.0.1)\n",
            "Requirement already satisfied: charset-normalizer<4,>=2 in /usr/local/lib/python3.11/dist-packages (from requests<3,>=2->langchain_community) (3.4.1)\n",
            "Requirement already satisfied: markdown-it-py>=2.2.0 in /usr/local/lib/python3.11/dist-packages (from rich>=10.11.0->chromadb) (3.0.0)\n",
            "Requirement already satisfied: pygments<3.0.0,>=2.13.0 in /usr/local/lib/python3.11/dist-packages (from rich>=10.11.0->chromadb) (2.18.0)\n",
            "Requirement already satisfied: greenlet!=0.4.17 in /usr/local/lib/python3.11/dist-packages (from SQLAlchemy<3,>=1.4->langchain_community) (3.1.1)\n",
            "Requirement already satisfied: huggingface-hub<1.0,>=0.16.4 in /usr/local/lib/python3.11/dist-packages (from tokenizers>=0.13.2->chromadb) (0.28.1)\n",
            "Requirement already satisfied: click>=8.0.0 in /usr/local/lib/python3.11/dist-packages (from typer>=0.9.0->chromadb) (8.1.8)\n",
            "Requirement already satisfied: shellingham>=1.3.0 in /usr/local/lib/python3.11/dist-packages (from typer>=0.9.0->chromadb) (1.5.4)\n",
            "Collecting httptools>=0.6.3 (from uvicorn[standard]>=0.18.3->chromadb)\n",
            "  Downloading httptools-0.6.4-cp311-cp311-manylinux_2_5_x86_64.manylinux1_x86_64.manylinux_2_17_x86_64.manylinux2014_x86_64.whl.metadata (3.6 kB)\n",
            "Collecting uvloop!=0.15.0,!=0.15.1,>=0.14.0 (from uvicorn[standard]>=0.18.3->chromadb)\n",
            "  Downloading uvloop-0.21.0-cp311-cp311-manylinux_2_17_x86_64.manylinux2014_x86_64.whl.metadata (4.9 kB)\n",
            "Collecting watchfiles>=0.13 (from uvicorn[standard]>=0.18.3->chromadb)\n",
            "  Downloading watchfiles-1.0.4-cp311-cp311-manylinux_2_17_x86_64.manylinux2014_x86_64.whl.metadata (4.9 kB)\n",
            "Requirement already satisfied: websockets>=10.4 in /usr/local/lib/python3.11/dist-packages (from uvicorn[standard]>=0.18.3->chromadb) (14.2)\n",
            "Requirement already satisfied: cachetools<6.0,>=2.0.0 in /usr/local/lib/python3.11/dist-packages (from google-auth>=1.0.1->kubernetes>=28.1.0->chromadb) (5.5.2)\n",
            "Requirement already satisfied: pyasn1-modules>=0.2.1 in /usr/local/lib/python3.11/dist-packages (from google-auth>=1.0.1->kubernetes>=28.1.0->chromadb) (0.4.1)\n",
            "Requirement already satisfied: rsa<5,>=3.1.4 in /usr/local/lib/python3.11/dist-packages (from google-auth>=1.0.1->kubernetes>=28.1.0->chromadb) (4.9)\n",
            "Requirement already satisfied: filelock in /usr/local/lib/python3.11/dist-packages (from huggingface-hub<1.0,>=0.16.4->tokenizers>=0.13.2->chromadb) (3.17.0)\n",
            "Requirement already satisfied: fsspec>=2023.5.0 in /usr/local/lib/python3.11/dist-packages (from huggingface-hub<1.0,>=0.16.4->tokenizers>=0.13.2->chromadb) (2024.10.0)\n",
            "Requirement already satisfied: zipp>=3.20 in /usr/local/lib/python3.11/dist-packages (from importlib-metadata<8.7.0,>=6.0->opentelemetry-api>=1.2.0->chromadb) (3.21.0)\n",
            "Requirement already satisfied: jsonpointer>=1.9 in /usr/local/lib/python3.11/dist-packages (from jsonpatch<2.0,>=1.33->langchain-core<1.0.0,>=0.3.41->langchain_community) (3.0.0)\n",
            "Requirement already satisfied: mdurl~=0.1 in /usr/local/lib/python3.11/dist-packages (from markdown-it-py>=2.2.0->rich>=10.11.0->chromadb) (0.1.2)\n",
            "Requirement already satisfied: mypy-extensions>=0.3.0 in /usr/local/lib/python3.11/dist-packages (from typing-inspect<1,>=0.4.0->dataclasses-json<0.7,>=0.5.7->langchain_community) (1.0.0)\n",
            "Collecting humanfriendly>=9.1 (from coloredlogs->onnxruntime>=1.14.1->chromadb)\n",
            "  Downloading humanfriendly-10.0-py2.py3-none-any.whl.metadata (9.2 kB)\n",
            "Requirement already satisfied: mpmath<1.4,>=1.1.0 in /usr/local/lib/python3.11/dist-packages (from sympy->onnxruntime>=1.14.1->chromadb) (1.3.0)\n",
            "Requirement already satisfied: pyasn1<0.7.0,>=0.4.6 in /usr/local/lib/python3.11/dist-packages (from pyasn1-modules>=0.2.1->google-auth>=1.0.1->kubernetes>=28.1.0->chromadb) (0.6.1)\n",
            "Downloading chromadb-0.6.3-py3-none-any.whl (611 kB)\n",
            "\u001b[2K   \u001b[90m━━━━━━━━━━━━━━━━━━━━━━━━━━━━━━━━━━━━━━━━\u001b[0m \u001b[32m611.1/611.1 kB\u001b[0m \u001b[31m20.1 MB/s\u001b[0m eta \u001b[36m0:00:00\u001b[0m\n",
            "\u001b[?25hDownloading chroma_hnswlib-0.7.6-cp311-cp311-manylinux_2_17_x86_64.manylinux2014_x86_64.whl (2.4 MB)\n",
            "\u001b[2K   \u001b[90m━━━━━━━━━━━━━━━━━━━━━━━━━━━━━━━━━━━━━━━━\u001b[0m \u001b[32m2.4/2.4 MB\u001b[0m \u001b[31m70.9 MB/s\u001b[0m eta \u001b[36m0:00:00\u001b[0m\n",
            "\u001b[?25hDownloading bcrypt-4.3.0-cp39-abi3-manylinux_2_34_x86_64.whl (284 kB)\n",
            "\u001b[2K   \u001b[90m━━━━━━━━━━━━━━━━━━━━━━━━━━━━━━━━━━━━━━━━\u001b[0m \u001b[32m284.2/284.2 kB\u001b[0m \u001b[31m19.1 MB/s\u001b[0m eta \u001b[36m0:00:00\u001b[0m\n",
            "\u001b[?25hDownloading build-1.2.2.post1-py3-none-any.whl (22 kB)\n",
            "Downloading fastapi-0.115.11-py3-none-any.whl (94 kB)\n",
            "\u001b[2K   \u001b[90m━━━━━━━━━━━━━━━━━━━━━━━━━━━━━━━━━━━━━━━━\u001b[0m \u001b[32m94.9/94.9 kB\u001b[0m \u001b[31m8.0 MB/s\u001b[0m eta \u001b[36m0:00:00\u001b[0m\n",
            "\u001b[?25hDownloading kubernetes-32.0.1-py2.py3-none-any.whl (2.0 MB)\n",
            "\u001b[2K   \u001b[90m━━━━━━━━━━━━━━━━━━━━━━━━━━━━━━━━━━━━━━━━\u001b[0m \u001b[32m2.0/2.0 MB\u001b[0m \u001b[31m67.9 MB/s\u001b[0m eta \u001b[36m0:00:00\u001b[0m\n",
            "\u001b[?25hDownloading mmh3-5.1.0-cp311-cp311-manylinux_2_5_x86_64.manylinux1_x86_64.manylinux_2_17_x86_64.manylinux2014_x86_64.whl (101 kB)\n",
            "\u001b[2K   \u001b[90m━━━━━━━━━━━━━━━━━━━━━━━━━━━━━━━━━━━━━━━━\u001b[0m \u001b[32m101.6/101.6 kB\u001b[0m \u001b[31m7.5 MB/s\u001b[0m eta \u001b[36m0:00:00\u001b[0m\n",
            "\u001b[?25hDownloading onnxruntime-1.21.0-cp311-cp311-manylinux_2_27_x86_64.manylinux_2_28_x86_64.whl (16.0 MB)\n",
            "\u001b[2K   \u001b[90m━━━━━━━━━━━━━━━━━━━━━━━━━━━━━━━━━━━━━━━━\u001b[0m \u001b[32m16.0/16.0 MB\u001b[0m \u001b[31m70.8 MB/s\u001b[0m eta \u001b[36m0:00:00\u001b[0m\n",
            "\u001b[?25hDownloading opentelemetry_exporter_otlp_proto_grpc-1.31.0-py3-none-any.whl (18 kB)\n",
            "Downloading opentelemetry_exporter_otlp_proto_common-1.31.0-py3-none-any.whl (18 kB)\n",
            "Downloading opentelemetry_proto-1.31.0-py3-none-any.whl (55 kB)\n",
            "\u001b[2K   \u001b[90m━━━━━━━━━━━━━━━━━━━━━━━━━━━━━━━━━━━━━━━━\u001b[0m \u001b[32m55.9/55.9 kB\u001b[0m \u001b[31m3.9 MB/s\u001b[0m eta \u001b[36m0:00:00\u001b[0m\n",
            "\u001b[?25hDownloading opentelemetry_instrumentation_fastapi-0.52b0-py3-none-any.whl (12 kB)\n",
            "Downloading opentelemetry_instrumentation-0.52b0-py3-none-any.whl (31 kB)\n",
            "Downloading opentelemetry_instrumentation_asgi-0.52b0-py3-none-any.whl (16 kB)\n",
            "Downloading opentelemetry_util_http-0.52b0-py3-none-any.whl (7.3 kB)\n",
            "Downloading overrides-7.7.0-py3-none-any.whl (17 kB)\n",
            "Downloading posthog-3.21.0-py2.py3-none-any.whl (79 kB)\n",
            "\u001b[2K   \u001b[90m━━━━━━━━━━━━━━━━━━━━━━━━━━━━━━━━━━━━━━━━\u001b[0m \u001b[32m79.6/79.6 kB\u001b[0m \u001b[31m6.0 MB/s\u001b[0m eta \u001b[36m0:00:00\u001b[0m\n",
            "\u001b[?25hDownloading uvicorn-0.34.0-py3-none-any.whl (62 kB)\n",
            "\u001b[2K   \u001b[90m━━━━━━━━━━━━━━━━━━━━━━━━━━━━━━━━━━━━━━━━\u001b[0m \u001b[32m62.3/62.3 kB\u001b[0m \u001b[31m4.4 MB/s\u001b[0m eta \u001b[36m0:00:00\u001b[0m\n",
            "\u001b[?25hDownloading backoff-2.2.1-py3-none-any.whl (15 kB)\n",
            "Downloading durationpy-0.9-py3-none-any.whl (3.5 kB)\n",
            "Downloading httptools-0.6.4-cp311-cp311-manylinux_2_5_x86_64.manylinux1_x86_64.manylinux_2_17_x86_64.manylinux2014_x86_64.whl (459 kB)\n",
            "\u001b[2K   \u001b[90m━━━━━━━━━━━━━━━━━━━━━━━━━━━━━━━━━━━━━━━━\u001b[0m \u001b[32m459.8/459.8 kB\u001b[0m \u001b[31m28.0 MB/s\u001b[0m eta \u001b[36m0:00:00\u001b[0m\n",
            "\u001b[?25hDownloading monotonic-1.6-py2.py3-none-any.whl (8.2 kB)\n",
            "Downloading protobuf-5.29.3-cp38-abi3-manylinux2014_x86_64.whl (319 kB)\n",
            "\u001b[2K   \u001b[90m━━━━━━━━━━━━━━━━━━━━━━━━━━━━━━━━━━━━━━━━\u001b[0m \u001b[32m319.7/319.7 kB\u001b[0m \u001b[31m21.6 MB/s\u001b[0m eta \u001b[36m0:00:00\u001b[0m\n",
            "\u001b[?25hDownloading starlette-0.46.1-py3-none-any.whl (71 kB)\n",
            "\u001b[2K   \u001b[90m━━━━━━━━━━━━━━━━━━━━━━━━━━━━━━━━━━━━━━━━\u001b[0m \u001b[32m72.0/72.0 kB\u001b[0m \u001b[31m5.8 MB/s\u001b[0m eta \u001b[36m0:00:00\u001b[0m\n",
            "\u001b[?25hDownloading uvloop-0.21.0-cp311-cp311-manylinux_2_17_x86_64.manylinux2014_x86_64.whl (4.0 MB)\n",
            "\u001b[2K   \u001b[90m━━━━━━━━━━━━━━━━━━━━━━━━━━━━━━━━━━━━━━━━\u001b[0m \u001b[32m4.0/4.0 MB\u001b[0m \u001b[31m73.4 MB/s\u001b[0m eta \u001b[36m0:00:00\u001b[0m\n",
            "\u001b[?25hDownloading watchfiles-1.0.4-cp311-cp311-manylinux_2_17_x86_64.manylinux2014_x86_64.whl (452 kB)\n",
            "\u001b[2K   \u001b[90m━━━━━━━━━━━━━━━━━━━━━━━━━━━━━━━━━━━━━━━━\u001b[0m \u001b[32m452.6/452.6 kB\u001b[0m \u001b[31m28.3 MB/s\u001b[0m eta \u001b[36m0:00:00\u001b[0m\n",
            "\u001b[?25hDownloading coloredlogs-15.0.1-py2.py3-none-any.whl (46 kB)\n",
            "\u001b[2K   \u001b[90m━━━━━━━━━━━━━━━━━━━━━━━━━━━━━━━━━━━━━━━━\u001b[0m \u001b[32m46.0/46.0 kB\u001b[0m \u001b[31m3.2 MB/s\u001b[0m eta \u001b[36m0:00:00\u001b[0m\n",
            "\u001b[?25hDownloading pyproject_hooks-1.2.0-py3-none-any.whl (10 kB)\n",
            "Downloading asgiref-3.8.1-py3-none-any.whl (23 kB)\n",
            "Downloading humanfriendly-10.0-py2.py3-none-any.whl (86 kB)\n",
            "\u001b[2K   \u001b[90m━━━━━━━━━━━━━━━━━━━━━━━━━━━━━━━━━━━━━━━━\u001b[0m \u001b[32m86.8/86.8 kB\u001b[0m \u001b[31m6.0 MB/s\u001b[0m eta \u001b[36m0:00:00\u001b[0m\n",
            "\u001b[?25hBuilding wheels for collected packages: pypika\n",
            "  Building wheel for pypika (pyproject.toml) ... \u001b[?25l\u001b[?25hdone\n",
            "  Created wheel for pypika: filename=pypika-0.48.9-py2.py3-none-any.whl size=53769 sha256=b4958ce1a6d3cb8f6faa6e80577110c7fe8f31a05d86bc619803ebb618933253\n",
            "  Stored in directory: /root/.cache/pip/wheels/a3/01/bd/4c40ceb9d5354160cb186dcc153360f4ab7eb23e2b24daf96d\n",
            "Successfully built pypika\n",
            "Installing collected packages: pypika, monotonic, durationpy, uvloop, uvicorn, pyproject_hooks, protobuf, overrides, opentelemetry-util-http, mmh3, humanfriendly, httptools, chroma-hnswlib, bcrypt, backoff, asgiref, watchfiles, starlette, posthog, opentelemetry-proto, coloredlogs, build, opentelemetry-exporter-otlp-proto-common, onnxruntime, kubernetes, fastapi, opentelemetry-instrumentation, opentelemetry-instrumentation-asgi, opentelemetry-exporter-otlp-proto-grpc, opentelemetry-instrumentation-fastapi, chromadb\n",
            "  Attempting uninstall: protobuf\n",
            "    Found existing installation: protobuf 4.25.6\n",
            "    Uninstalling protobuf-4.25.6:\n",
            "      Successfully uninstalled protobuf-4.25.6\n",
            "Successfully installed asgiref-3.8.1 backoff-2.2.1 bcrypt-4.3.0 build-1.2.2.post1 chroma-hnswlib-0.7.6 chromadb-0.6.3 coloredlogs-15.0.1 durationpy-0.9 fastapi-0.115.11 httptools-0.6.4 humanfriendly-10.0 kubernetes-32.0.1 mmh3-5.1.0 monotonic-1.6 onnxruntime-1.21.0 opentelemetry-exporter-otlp-proto-common-1.31.0 opentelemetry-exporter-otlp-proto-grpc-1.31.0 opentelemetry-instrumentation-0.52b0 opentelemetry-instrumentation-asgi-0.52b0 opentelemetry-instrumentation-fastapi-0.52b0 opentelemetry-proto-1.31.0 opentelemetry-util-http-0.52b0 overrides-7.7.0 posthog-3.21.0 protobuf-5.29.3 pypika-0.48.9 pyproject_hooks-1.2.0 starlette-0.46.1 uvicorn-0.34.0 uvloop-0.21.0 watchfiles-1.0.4\n"
          ]
        }
      ],
      "source": [
        "!pip install langchain_community langchain_openai chromadb tiktoken"
      ]
    },
    {
      "cell_type": "markdown",
      "source": [
        "#Vector Stores (aka. Vector Databases) Or Chroma DB"
      ],
      "metadata": {
        "id": "A4NcMVJvlzZ7"
      }
    },
    {
      "cell_type": "code",
      "source": [
        "!pip install langchain_community langchain_openai chromadb tiktoken"
      ],
      "metadata": {
        "colab": {
          "base_uri": "https://localhost:8080/"
        },
        "id": "hLtxyJ0V3g3z",
        "outputId": "c8715124-a4be-4b42-dfa3-a17bf0adfb1c"
      },
      "execution_count": 3,
      "outputs": [
        {
          "output_type": "stream",
          "name": "stdout",
          "text": [
            "Requirement already satisfied: langchain_community in /usr/local/lib/python3.11/dist-packages (0.3.19)\n",
            "Requirement already satisfied: langchain_openai in /usr/local/lib/python3.11/dist-packages (0.3.9)\n",
            "Requirement already satisfied: chromadb in /usr/local/lib/python3.11/dist-packages (0.6.3)\n",
            "Requirement already satisfied: tiktoken in /usr/local/lib/python3.11/dist-packages (0.9.0)\n",
            "Requirement already satisfied: langchain-core<1.0.0,>=0.3.41 in /usr/local/lib/python3.11/dist-packages (from langchain_community) (0.3.45)\n",
            "Requirement already satisfied: langchain<1.0.0,>=0.3.20 in /usr/local/lib/python3.11/dist-packages (from langchain_community) (0.3.20)\n",
            "Requirement already satisfied: SQLAlchemy<3,>=1.4 in /usr/local/lib/python3.11/dist-packages (from langchain_community) (2.0.39)\n",
            "Requirement already satisfied: requests<3,>=2 in /usr/local/lib/python3.11/dist-packages (from langchain_community) (2.32.3)\n",
            "Requirement already satisfied: PyYAML>=5.3 in /usr/local/lib/python3.11/dist-packages (from langchain_community) (6.0.2)\n",
            "Requirement already satisfied: aiohttp<4.0.0,>=3.8.3 in /usr/local/lib/python3.11/dist-packages (from langchain_community) (3.11.13)\n",
            "Requirement already satisfied: tenacity!=8.4.0,<10,>=8.1.0 in /usr/local/lib/python3.11/dist-packages (from langchain_community) (9.0.0)\n",
            "Requirement already satisfied: dataclasses-json<0.7,>=0.5.7 in /usr/local/lib/python3.11/dist-packages (from langchain_community) (0.6.7)\n",
            "Requirement already satisfied: pydantic-settings<3.0.0,>=2.4.0 in /usr/local/lib/python3.11/dist-packages (from langchain_community) (2.8.1)\n",
            "Requirement already satisfied: langsmith<0.4,>=0.1.125 in /usr/local/lib/python3.11/dist-packages (from langchain_community) (0.3.13)\n",
            "Requirement already satisfied: httpx-sse<1.0.0,>=0.4.0 in /usr/local/lib/python3.11/dist-packages (from langchain_community) (0.4.0)\n",
            "Requirement already satisfied: numpy<3,>=1.26.2 in /usr/local/lib/python3.11/dist-packages (from langchain_community) (2.0.2)\n",
            "Requirement already satisfied: openai<2.0.0,>=1.66.3 in /usr/local/lib/python3.11/dist-packages (from langchain_openai) (1.66.3)\n",
            "Requirement already satisfied: build>=1.0.3 in /usr/local/lib/python3.11/dist-packages (from chromadb) (1.2.2.post1)\n",
            "Requirement already satisfied: pydantic>=1.9 in /usr/local/lib/python3.11/dist-packages (from chromadb) (2.10.6)\n",
            "Requirement already satisfied: chroma-hnswlib==0.7.6 in /usr/local/lib/python3.11/dist-packages (from chromadb) (0.7.6)\n",
            "Requirement already satisfied: fastapi>=0.95.2 in /usr/local/lib/python3.11/dist-packages (from chromadb) (0.115.11)\n",
            "Requirement already satisfied: uvicorn>=0.18.3 in /usr/local/lib/python3.11/dist-packages (from uvicorn[standard]>=0.18.3->chromadb) (0.34.0)\n",
            "Requirement already satisfied: posthog>=2.4.0 in /usr/local/lib/python3.11/dist-packages (from chromadb) (3.21.0)\n",
            "Requirement already satisfied: typing_extensions>=4.5.0 in /usr/local/lib/python3.11/dist-packages (from chromadb) (4.12.2)\n",
            "Requirement already satisfied: onnxruntime>=1.14.1 in /usr/local/lib/python3.11/dist-packages (from chromadb) (1.21.0)\n",
            "Requirement already satisfied: opentelemetry-api>=1.2.0 in /usr/local/lib/python3.11/dist-packages (from chromadb) (1.31.0)\n",
            "Requirement already satisfied: opentelemetry-exporter-otlp-proto-grpc>=1.2.0 in /usr/local/lib/python3.11/dist-packages (from chromadb) (1.31.0)\n",
            "Requirement already satisfied: opentelemetry-instrumentation-fastapi>=0.41b0 in /usr/local/lib/python3.11/dist-packages (from chromadb) (0.52b0)\n",
            "Requirement already satisfied: opentelemetry-sdk>=1.2.0 in /usr/local/lib/python3.11/dist-packages (from chromadb) (1.31.0)\n",
            "Requirement already satisfied: tokenizers>=0.13.2 in /usr/local/lib/python3.11/dist-packages (from chromadb) (0.21.1)\n",
            "Requirement already satisfied: pypika>=0.48.9 in /usr/local/lib/python3.11/dist-packages (from chromadb) (0.48.9)\n",
            "Requirement already satisfied: tqdm>=4.65.0 in /usr/local/lib/python3.11/dist-packages (from chromadb) (4.67.1)\n",
            "Requirement already satisfied: overrides>=7.3.1 in /usr/local/lib/python3.11/dist-packages (from chromadb) (7.7.0)\n",
            "Requirement already satisfied: importlib-resources in /usr/local/lib/python3.11/dist-packages (from chromadb) (6.5.2)\n",
            "Requirement already satisfied: grpcio>=1.58.0 in /usr/local/lib/python3.11/dist-packages (from chromadb) (1.71.0)\n",
            "Requirement already satisfied: bcrypt>=4.0.1 in /usr/local/lib/python3.11/dist-packages (from chromadb) (4.3.0)\n",
            "Requirement already satisfied: typer>=0.9.0 in /usr/local/lib/python3.11/dist-packages (from chromadb) (0.15.2)\n",
            "Requirement already satisfied: kubernetes>=28.1.0 in /usr/local/lib/python3.11/dist-packages (from chromadb) (32.0.1)\n",
            "Requirement already satisfied: mmh3>=4.0.1 in /usr/local/lib/python3.11/dist-packages (from chromadb) (5.1.0)\n",
            "Requirement already satisfied: orjson>=3.9.12 in /usr/local/lib/python3.11/dist-packages (from chromadb) (3.10.15)\n",
            "Requirement already satisfied: httpx>=0.27.0 in /usr/local/lib/python3.11/dist-packages (from chromadb) (0.28.1)\n",
            "Requirement already satisfied: rich>=10.11.0 in /usr/local/lib/python3.11/dist-packages (from chromadb) (13.9.4)\n",
            "Requirement already satisfied: regex>=2022.1.18 in /usr/local/lib/python3.11/dist-packages (from tiktoken) (2024.11.6)\n",
            "Requirement already satisfied: aiohappyeyeballs>=2.3.0 in /usr/local/lib/python3.11/dist-packages (from aiohttp<4.0.0,>=3.8.3->langchain_community) (2.6.1)\n",
            "Requirement already satisfied: aiosignal>=1.1.2 in /usr/local/lib/python3.11/dist-packages (from aiohttp<4.0.0,>=3.8.3->langchain_community) (1.3.2)\n",
            "Requirement already satisfied: attrs>=17.3.0 in /usr/local/lib/python3.11/dist-packages (from aiohttp<4.0.0,>=3.8.3->langchain_community) (25.3.0)\n",
            "Requirement already satisfied: frozenlist>=1.1.1 in /usr/local/lib/python3.11/dist-packages (from aiohttp<4.0.0,>=3.8.3->langchain_community) (1.5.0)\n",
            "Requirement already satisfied: multidict<7.0,>=4.5 in /usr/local/lib/python3.11/dist-packages (from aiohttp<4.0.0,>=3.8.3->langchain_community) (6.1.0)\n",
            "Requirement already satisfied: propcache>=0.2.0 in /usr/local/lib/python3.11/dist-packages (from aiohttp<4.0.0,>=3.8.3->langchain_community) (0.3.0)\n",
            "Requirement already satisfied: yarl<2.0,>=1.17.0 in /usr/local/lib/python3.11/dist-packages (from aiohttp<4.0.0,>=3.8.3->langchain_community) (1.18.3)\n",
            "Requirement already satisfied: packaging>=19.1 in /usr/local/lib/python3.11/dist-packages (from build>=1.0.3->chromadb) (24.2)\n",
            "Requirement already satisfied: pyproject_hooks in /usr/local/lib/python3.11/dist-packages (from build>=1.0.3->chromadb) (1.2.0)\n",
            "Requirement already satisfied: marshmallow<4.0.0,>=3.18.0 in /usr/local/lib/python3.11/dist-packages (from dataclasses-json<0.7,>=0.5.7->langchain_community) (3.26.1)\n",
            "Requirement already satisfied: typing-inspect<1,>=0.4.0 in /usr/local/lib/python3.11/dist-packages (from dataclasses-json<0.7,>=0.5.7->langchain_community) (0.9.0)\n",
            "Requirement already satisfied: starlette<0.47.0,>=0.40.0 in /usr/local/lib/python3.11/dist-packages (from fastapi>=0.95.2->chromadb) (0.46.1)\n",
            "Requirement already satisfied: anyio in /usr/local/lib/python3.11/dist-packages (from httpx>=0.27.0->chromadb) (3.7.1)\n",
            "Requirement already satisfied: certifi in /usr/local/lib/python3.11/dist-packages (from httpx>=0.27.0->chromadb) (2025.1.31)\n",
            "Requirement already satisfied: httpcore==1.* in /usr/local/lib/python3.11/dist-packages (from httpx>=0.27.0->chromadb) (1.0.7)\n",
            "Requirement already satisfied: idna in /usr/local/lib/python3.11/dist-packages (from httpx>=0.27.0->chromadb) (3.10)\n",
            "Requirement already satisfied: h11<0.15,>=0.13 in /usr/local/lib/python3.11/dist-packages (from httpcore==1.*->httpx>=0.27.0->chromadb) (0.14.0)\n",
            "Requirement already satisfied: six>=1.9.0 in /usr/local/lib/python3.11/dist-packages (from kubernetes>=28.1.0->chromadb) (1.17.0)\n",
            "Requirement already satisfied: python-dateutil>=2.5.3 in /usr/local/lib/python3.11/dist-packages (from kubernetes>=28.1.0->chromadb) (2.8.2)\n",
            "Requirement already satisfied: google-auth>=1.0.1 in /usr/local/lib/python3.11/dist-packages (from kubernetes>=28.1.0->chromadb) (2.38.0)\n",
            "Requirement already satisfied: websocket-client!=0.40.0,!=0.41.*,!=0.42.*,>=0.32.0 in /usr/local/lib/python3.11/dist-packages (from kubernetes>=28.1.0->chromadb) (1.8.0)\n",
            "Requirement already satisfied: requests-oauthlib in /usr/local/lib/python3.11/dist-packages (from kubernetes>=28.1.0->chromadb) (2.0.0)\n",
            "Requirement already satisfied: oauthlib>=3.2.2 in /usr/local/lib/python3.11/dist-packages (from kubernetes>=28.1.0->chromadb) (3.2.2)\n",
            "Requirement already satisfied: urllib3>=1.24.2 in /usr/local/lib/python3.11/dist-packages (from kubernetes>=28.1.0->chromadb) (2.3.0)\n",
            "Requirement already satisfied: durationpy>=0.7 in /usr/local/lib/python3.11/dist-packages (from kubernetes>=28.1.0->chromadb) (0.9)\n",
            "Requirement already satisfied: langchain-text-splitters<1.0.0,>=0.3.6 in /usr/local/lib/python3.11/dist-packages (from langchain<1.0.0,>=0.3.20->langchain_community) (0.3.6)\n",
            "Requirement already satisfied: jsonpatch<2.0,>=1.33 in /usr/local/lib/python3.11/dist-packages (from langchain-core<1.0.0,>=0.3.41->langchain_community) (1.33)\n",
            "Requirement already satisfied: requests-toolbelt<2.0.0,>=1.0.0 in /usr/local/lib/python3.11/dist-packages (from langsmith<0.4,>=0.1.125->langchain_community) (1.0.0)\n",
            "Requirement already satisfied: zstandard<0.24.0,>=0.23.0 in /usr/local/lib/python3.11/dist-packages (from langsmith<0.4,>=0.1.125->langchain_community) (0.23.0)\n",
            "Requirement already satisfied: coloredlogs in /usr/local/lib/python3.11/dist-packages (from onnxruntime>=1.14.1->chromadb) (15.0.1)\n",
            "Requirement already satisfied: flatbuffers in /usr/local/lib/python3.11/dist-packages (from onnxruntime>=1.14.1->chromadb) (25.2.10)\n",
            "Requirement already satisfied: protobuf in /usr/local/lib/python3.11/dist-packages (from onnxruntime>=1.14.1->chromadb) (5.29.3)\n",
            "Requirement already satisfied: sympy in /usr/local/lib/python3.11/dist-packages (from onnxruntime>=1.14.1->chromadb) (1.13.1)\n",
            "Requirement already satisfied: distro<2,>=1.7.0 in /usr/local/lib/python3.11/dist-packages (from openai<2.0.0,>=1.66.3->langchain_openai) (1.9.0)\n",
            "Requirement already satisfied: jiter<1,>=0.4.0 in /usr/local/lib/python3.11/dist-packages (from openai<2.0.0,>=1.66.3->langchain_openai) (0.9.0)\n",
            "Requirement already satisfied: sniffio in /usr/local/lib/python3.11/dist-packages (from openai<2.0.0,>=1.66.3->langchain_openai) (1.3.1)\n",
            "Requirement already satisfied: deprecated>=1.2.6 in /usr/local/lib/python3.11/dist-packages (from opentelemetry-api>=1.2.0->chromadb) (1.2.18)\n",
            "Requirement already satisfied: importlib-metadata<8.7.0,>=6.0 in /usr/local/lib/python3.11/dist-packages (from opentelemetry-api>=1.2.0->chromadb) (8.6.1)\n",
            "Requirement already satisfied: googleapis-common-protos~=1.52 in /usr/local/lib/python3.11/dist-packages (from opentelemetry-exporter-otlp-proto-grpc>=1.2.0->chromadb) (1.69.1)\n",
            "Requirement already satisfied: opentelemetry-exporter-otlp-proto-common==1.31.0 in /usr/local/lib/python3.11/dist-packages (from opentelemetry-exporter-otlp-proto-grpc>=1.2.0->chromadb) (1.31.0)\n",
            "Requirement already satisfied: opentelemetry-proto==1.31.0 in /usr/local/lib/python3.11/dist-packages (from opentelemetry-exporter-otlp-proto-grpc>=1.2.0->chromadb) (1.31.0)\n",
            "Requirement already satisfied: opentelemetry-instrumentation-asgi==0.52b0 in /usr/local/lib/python3.11/dist-packages (from opentelemetry-instrumentation-fastapi>=0.41b0->chromadb) (0.52b0)\n",
            "Requirement already satisfied: opentelemetry-instrumentation==0.52b0 in /usr/local/lib/python3.11/dist-packages (from opentelemetry-instrumentation-fastapi>=0.41b0->chromadb) (0.52b0)\n",
            "Requirement already satisfied: opentelemetry-semantic-conventions==0.52b0 in /usr/local/lib/python3.11/dist-packages (from opentelemetry-instrumentation-fastapi>=0.41b0->chromadb) (0.52b0)\n",
            "Requirement already satisfied: opentelemetry-util-http==0.52b0 in /usr/local/lib/python3.11/dist-packages (from opentelemetry-instrumentation-fastapi>=0.41b0->chromadb) (0.52b0)\n",
            "Requirement already satisfied: wrapt<2.0.0,>=1.0.0 in /usr/local/lib/python3.11/dist-packages (from opentelemetry-instrumentation==0.52b0->opentelemetry-instrumentation-fastapi>=0.41b0->chromadb) (1.17.2)\n",
            "Requirement already satisfied: asgiref~=3.0 in /usr/local/lib/python3.11/dist-packages (from opentelemetry-instrumentation-asgi==0.52b0->opentelemetry-instrumentation-fastapi>=0.41b0->chromadb) (3.8.1)\n",
            "Requirement already satisfied: monotonic>=1.5 in /usr/local/lib/python3.11/dist-packages (from posthog>=2.4.0->chromadb) (1.6)\n",
            "Requirement already satisfied: backoff>=1.10.0 in /usr/local/lib/python3.11/dist-packages (from posthog>=2.4.0->chromadb) (2.2.1)\n",
            "Requirement already satisfied: annotated-types>=0.6.0 in /usr/local/lib/python3.11/dist-packages (from pydantic>=1.9->chromadb) (0.7.0)\n",
            "Requirement already satisfied: pydantic-core==2.27.2 in /usr/local/lib/python3.11/dist-packages (from pydantic>=1.9->chromadb) (2.27.2)\n",
            "Requirement already satisfied: python-dotenv>=0.21.0 in /usr/local/lib/python3.11/dist-packages (from pydantic-settings<3.0.0,>=2.4.0->langchain_community) (1.0.1)\n",
            "Requirement already satisfied: charset-normalizer<4,>=2 in /usr/local/lib/python3.11/dist-packages (from requests<3,>=2->langchain_community) (3.4.1)\n",
            "Requirement already satisfied: markdown-it-py>=2.2.0 in /usr/local/lib/python3.11/dist-packages (from rich>=10.11.0->chromadb) (3.0.0)\n",
            "Requirement already satisfied: pygments<3.0.0,>=2.13.0 in /usr/local/lib/python3.11/dist-packages (from rich>=10.11.0->chromadb) (2.18.0)\n",
            "Requirement already satisfied: greenlet!=0.4.17 in /usr/local/lib/python3.11/dist-packages (from SQLAlchemy<3,>=1.4->langchain_community) (3.1.1)\n",
            "Requirement already satisfied: huggingface-hub<1.0,>=0.16.4 in /usr/local/lib/python3.11/dist-packages (from tokenizers>=0.13.2->chromadb) (0.28.1)\n",
            "Requirement already satisfied: click>=8.0.0 in /usr/local/lib/python3.11/dist-packages (from typer>=0.9.0->chromadb) (8.1.8)\n",
            "Requirement already satisfied: shellingham>=1.3.0 in /usr/local/lib/python3.11/dist-packages (from typer>=0.9.0->chromadb) (1.5.4)\n",
            "Requirement already satisfied: httptools>=0.6.3 in /usr/local/lib/python3.11/dist-packages (from uvicorn[standard]>=0.18.3->chromadb) (0.6.4)\n",
            "Requirement already satisfied: uvloop!=0.15.0,!=0.15.1,>=0.14.0 in /usr/local/lib/python3.11/dist-packages (from uvicorn[standard]>=0.18.3->chromadb) (0.21.0)\n",
            "Requirement already satisfied: watchfiles>=0.13 in /usr/local/lib/python3.11/dist-packages (from uvicorn[standard]>=0.18.3->chromadb) (1.0.4)\n",
            "Requirement already satisfied: websockets>=10.4 in /usr/local/lib/python3.11/dist-packages (from uvicorn[standard]>=0.18.3->chromadb) (14.2)\n",
            "Requirement already satisfied: cachetools<6.0,>=2.0.0 in /usr/local/lib/python3.11/dist-packages (from google-auth>=1.0.1->kubernetes>=28.1.0->chromadb) (5.5.2)\n",
            "Requirement already satisfied: pyasn1-modules>=0.2.1 in /usr/local/lib/python3.11/dist-packages (from google-auth>=1.0.1->kubernetes>=28.1.0->chromadb) (0.4.1)\n",
            "Requirement already satisfied: rsa<5,>=3.1.4 in /usr/local/lib/python3.11/dist-packages (from google-auth>=1.0.1->kubernetes>=28.1.0->chromadb) (4.9)\n",
            "Requirement already satisfied: filelock in /usr/local/lib/python3.11/dist-packages (from huggingface-hub<1.0,>=0.16.4->tokenizers>=0.13.2->chromadb) (3.17.0)\n",
            "Requirement already satisfied: fsspec>=2023.5.0 in /usr/local/lib/python3.11/dist-packages (from huggingface-hub<1.0,>=0.16.4->tokenizers>=0.13.2->chromadb) (2024.10.0)\n",
            "Requirement already satisfied: zipp>=3.20 in /usr/local/lib/python3.11/dist-packages (from importlib-metadata<8.7.0,>=6.0->opentelemetry-api>=1.2.0->chromadb) (3.21.0)\n",
            "Requirement already satisfied: jsonpointer>=1.9 in /usr/local/lib/python3.11/dist-packages (from jsonpatch<2.0,>=1.33->langchain-core<1.0.0,>=0.3.41->langchain_community) (3.0.0)\n",
            "Requirement already satisfied: mdurl~=0.1 in /usr/local/lib/python3.11/dist-packages (from markdown-it-py>=2.2.0->rich>=10.11.0->chromadb) (0.1.2)\n",
            "Requirement already satisfied: mypy-extensions>=0.3.0 in /usr/local/lib/python3.11/dist-packages (from typing-inspect<1,>=0.4.0->dataclasses-json<0.7,>=0.5.7->langchain_community) (1.0.0)\n",
            "Requirement already satisfied: humanfriendly>=9.1 in /usr/local/lib/python3.11/dist-packages (from coloredlogs->onnxruntime>=1.14.1->chromadb) (10.0)\n",
            "Requirement already satisfied: mpmath<1.4,>=1.1.0 in /usr/local/lib/python3.11/dist-packages (from sympy->onnxruntime>=1.14.1->chromadb) (1.3.0)\n",
            "Requirement already satisfied: pyasn1<0.7.0,>=0.4.6 in /usr/local/lib/python3.11/dist-packages (from pyasn1-modules>=0.2.1->google-auth>=1.0.1->kubernetes>=28.1.0->chromadb) (0.6.1)\n"
          ]
        }
      ]
    },
    {
      "cell_type": "code",
      "source": [
        "from google.colab import userdata\n",
        "import os\n",
        "\n",
        "OPENAI_API_KEY = userdata.get('OPENAI_API_KEY')\n",
        "\n",
        "os.environ['OPENAI_API_KEY'] = OPENAI_API_KEY"
      ],
      "metadata": {
        "id": "-oUzKJ-o4yfd"
      },
      "execution_count": 5,
      "outputs": []
    },
    {
      "cell_type": "code",
      "source": [
        "from langchain_community.document_loaders import TextLoader\n",
        "from langchain_openai import OpenAIEmbeddings\n",
        "from langchain_text_splitters import CharacterTextSplitter\n",
        "from langchain.vectorstores import Chroma\n",
        "\n",
        "# Load the document, split it into chunks, embed each chunk and load it into the vector store.\n",
        "loaded_document = TextLoader('state_of_the_union.txt').load()\n",
        "\n",
        "text_splitter = CharacterTextSplitter(chunk_size=1000, chunk_overlap=0)\n",
        "\n",
        "chunks_of_text = text_splitter.split_documents(loaded_document)"
      ],
      "metadata": {
        "id": "TPsIodZMl7uU"
      },
      "execution_count": 6,
      "outputs": []
    },
    {
      "cell_type": "code",
      "source": [
        "len(chunks_of_text)"
      ],
      "metadata": {
        "id": "hFTiaCPkmBkw",
        "colab": {
          "base_uri": "https://localhost:8080/"
        },
        "outputId": "25154fec-86da-4ae8-b38f-d017f74fde70"
      },
      "execution_count": 7,
      "outputs": [
        {
          "output_type": "execute_result",
          "data": {
            "text/plain": [
              "42"
            ]
          },
          "metadata": {},
          "execution_count": 7
        }
      ]
    },
    {
      "cell_type": "code",
      "source": [
        "vector_db = Chroma.from_documents(chunks_of_text, OpenAIEmbeddings())"
      ],
      "metadata": {
        "id": "DNBnYgnCmDfc"
      },
      "execution_count": 8,
      "outputs": []
    },
    {
      "cell_type": "code",
      "source": [
        "question = \"What did the president say about the John Lewis Voting Rights Act?\""
      ],
      "metadata": {
        "id": "URInKtg6mLFZ"
      },
      "execution_count": 10,
      "outputs": []
    },
    {
      "cell_type": "code",
      "source": [
        "response = vector_db.similarity_search(question)"
      ],
      "metadata": {
        "id": "yAi07CrE5Tj_"
      },
      "execution_count": 11,
      "outputs": []
    },
    {
      "cell_type": "code",
      "source": [
        "print(response[0].page_content)"
      ],
      "metadata": {
        "colab": {
          "base_uri": "https://localhost:8080/"
        },
        "id": "7KYHgPij5QzH",
        "outputId": "9c03ea20-c4a3-4b0b-b317-7d7495271ef3"
      },
      "execution_count": 12,
      "outputs": [
        {
          "output_type": "stream",
          "name": "stdout",
          "text": [
            "Tonight. I call on the Senate to: Pass the Freedom to Vote Act. Pass the John Lewis Voting Rights Act. And while you’re at it, pass the Disclose Act so Americans can know who is funding our elections. \n",
            "\n",
            "Tonight, I’d like to honor someone who has dedicated his life to serve this country: Justice Stephen Breyer—an Army veteran, Constitutional scholar, and retiring Justice of the United States Supreme Court. Justice Breyer, thank you for your service. \n",
            "\n",
            "One of the most serious constitutional responsibilities a President has is nominating someone to serve on the United States Supreme Court. \n",
            "\n",
            "And I did that 4 days ago, when I nominated Circuit Court of Appeals Judge Ketanji Brown Jackson. One of our nation’s top legal minds, who will continue Justice Breyer’s legacy of excellence.\n"
          ]
        }
      ]
    },
    {
      "cell_type": "markdown",
      "source": [
        "#Vector Store as Retriever or FAISS"
      ],
      "metadata": {
        "id": "oa9SuvMhmNqM"
      }
    },
    {
      "cell_type": "code",
      "source": [
        "!pip install faiss_cpu"
      ],
      "metadata": {
        "colab": {
          "base_uri": "https://localhost:8080/"
        },
        "id": "hJ3haaYs5qXY",
        "outputId": "715265be-8b25-4970-ab76-0773d3e1038f"
      },
      "execution_count": 15,
      "outputs": [
        {
          "output_type": "stream",
          "name": "stdout",
          "text": [
            "Collecting faiss_cpu\n",
            "  Downloading faiss_cpu-1.10.0-cp311-cp311-manylinux_2_28_x86_64.whl.metadata (4.4 kB)\n",
            "Requirement already satisfied: numpy<3.0,>=1.25.0 in /usr/local/lib/python3.11/dist-packages (from faiss_cpu) (2.0.2)\n",
            "Requirement already satisfied: packaging in /usr/local/lib/python3.11/dist-packages (from faiss_cpu) (24.2)\n",
            "Downloading faiss_cpu-1.10.0-cp311-cp311-manylinux_2_28_x86_64.whl (30.7 MB)\n",
            "\u001b[2K   \u001b[90m━━━━━━━━━━━━━━━━━━━━━━━━━━━━━━━━━━━━━━━━\u001b[0m \u001b[32m30.7/30.7 MB\u001b[0m \u001b[31m49.6 MB/s\u001b[0m eta \u001b[36m0:00:00\u001b[0m\n",
            "\u001b[?25hInstalling collected packages: faiss_cpu\n",
            "Successfully installed faiss_cpu-1.10.0\n"
          ]
        }
      ]
    },
    {
      "cell_type": "code",
      "source": [
        "from langchain_community.document_loaders import TextLoader\n",
        "\n",
        "loader = TextLoader(\"state_of_the_union.txt\")"
      ],
      "metadata": {
        "id": "KblrGq_emOa7"
      },
      "execution_count": 13,
      "outputs": []
    },
    {
      "cell_type": "code",
      "source": [
        "from langchain_community.vectorstores import FAISS\n",
        "from langchain_openai import OpenAIEmbeddings\n",
        "from langchain_text_splitters import CharacterTextSplitter\n",
        "\n",
        "loaded_document = loader.load()\n",
        "\n",
        "text_splitter = CharacterTextSplitter(chunk_size=1000, chunk_overlap=0)\n",
        "\n",
        "chunks_of_text = text_splitter.split_documents(loaded_document)\n",
        "\n",
        "embeddings = OpenAIEmbeddings()\n",
        "\n",
        "vector_db = FAISS.from_documents(chunks_of_text, embeddings)"
      ],
      "metadata": {
        "id": "U4w1XCfnmS7d"
      },
      "execution_count": 16,
      "outputs": []
    },
    {
      "cell_type": "code",
      "source": [
        "retriever = vector_db.as_retriever(search_kwargs={\"k\": 1})"
      ],
      "metadata": {
        "id": "xke4oXszmY8E"
      },
      "execution_count": 17,
      "outputs": []
    },
    {
      "cell_type": "code",
      "source": [
        "response = retriever.invoke(\"what did he say about ketanji brown jackson?\")"
      ],
      "metadata": {
        "id": "hib9B9-Jma3s"
      },
      "execution_count": 18,
      "outputs": []
    },
    {
      "cell_type": "code",
      "source": [
        "response"
      ],
      "metadata": {
        "colab": {
          "base_uri": "https://localhost:8080/"
        },
        "id": "Wuff0k1P53-R",
        "outputId": "b57b689b-d457-4f19-a872-b4285dc543ab"
      },
      "execution_count": 19,
      "outputs": [
        {
          "output_type": "execute_result",
          "data": {
            "text/plain": [
              "[Document(id='d0dd3a8a-2911-476e-b2b0-5b21110fd676', metadata={'source': 'state_of_the_union.txt'}, page_content='Tonight. I call on the Senate to: Pass the Freedom to Vote Act. Pass the John Lewis Voting Rights Act. And while you’re at it, pass the Disclose Act so Americans can know who is funding our elections. \\n\\nTonight, I’d like to honor someone who has dedicated his life to serve this country: Justice Stephen Breyer—an Army veteran, Constitutional scholar, and retiring Justice of the United States Supreme Court. Justice Breyer, thank you for your service. \\n\\nOne of the most serious constitutional responsibilities a President has is nominating someone to serve on the United States Supreme Court. \\n\\nAnd I did that 4 days ago, when I nominated Circuit Court of Appeals Judge Ketanji Brown Jackson. One of our nation’s top legal minds, who will continue Justice Breyer’s legacy of excellence.')]"
            ]
          },
          "metadata": {},
          "execution_count": 19
        }
      ]
    },
    {
      "cell_type": "code",
      "source": [
        "len(response)"
      ],
      "metadata": {
        "id": "Era0OZJLmcpl",
        "colab": {
          "base_uri": "https://localhost:8080/"
        },
        "outputId": "37b69401-01da-43ed-fe6a-eb6515759b88"
      },
      "execution_count": 20,
      "outputs": [
        {
          "output_type": "execute_result",
          "data": {
            "text/plain": [
              "1"
            ]
          },
          "metadata": {},
          "execution_count": 20
        }
      ]
    },
    {
      "cell_type": "code",
      "source": [
        "response[0].page_content"
      ],
      "metadata": {
        "colab": {
          "base_uri": "https://localhost:8080/",
          "height": 139
        },
        "id": "Z42W0zCC59L4",
        "outputId": "ad7fda9f-e21a-41a9-9cb2-471ed5e7a55f"
      },
      "execution_count": 21,
      "outputs": [
        {
          "output_type": "execute_result",
          "data": {
            "text/plain": [
              "'Tonight. I call on the Senate to: Pass the Freedom to Vote Act. Pass the John Lewis Voting Rights Act. And while you’re at it, pass the Disclose Act so Americans can know who is funding our elections. \\n\\nTonight, I’d like to honor someone who has dedicated his life to serve this country: Justice Stephen Breyer—an Army veteran, Constitutional scholar, and retiring Justice of the United States Supreme Court. Justice Breyer, thank you for your service. \\n\\nOne of the most serious constitutional responsibilities a President has is nominating someone to serve on the United States Supreme Court. \\n\\nAnd I did that 4 days ago, when I nominated Circuit Court of Appeals Judge Ketanji Brown Jackson. One of our nation’s top legal minds, who will continue Justice Breyer’s legacy of excellence.'"
            ],
            "application/vnd.google.colaboratory.intrinsic+json": {
              "type": "string"
            }
          },
          "metadata": {},
          "execution_count": 21
        }
      ]
    },
    {
      "cell_type": "code",
      "source": [
        "print(response[0].page_content)"
      ],
      "metadata": {
        "colab": {
          "base_uri": "https://localhost:8080/"
        },
        "id": "ouLUIZu96Hgh",
        "outputId": "e3518fc2-c5db-45ef-dd6a-71d556b84178"
      },
      "execution_count": 22,
      "outputs": [
        {
          "output_type": "stream",
          "name": "stdout",
          "text": [
            "Tonight. I call on the Senate to: Pass the Freedom to Vote Act. Pass the John Lewis Voting Rights Act. And while you’re at it, pass the Disclose Act so Americans can know who is funding our elections. \n",
            "\n",
            "Tonight, I’d like to honor someone who has dedicated his life to serve this country: Justice Stephen Breyer—an Army veteran, Constitutional scholar, and retiring Justice of the United States Supreme Court. Justice Breyer, thank you for your service. \n",
            "\n",
            "One of the most serious constitutional responsibilities a President has is nominating someone to serve on the United States Supreme Court. \n",
            "\n",
            "And I did that 4 days ago, when I nominated Circuit Court of Appeals Judge Ketanji Brown Jackson. One of our nation’s top legal minds, who will continue Justice Breyer’s legacy of excellence.\n"
          ]
        }
      ]
    },
    {
      "cell_type": "code",
      "source": [
        "retriever = vector_db.as_retriever(search_kwargs={\"k\": 3})"
      ],
      "metadata": {
        "id": "1b7tiuZ36pAr"
      },
      "execution_count": 23,
      "outputs": []
    },
    {
      "cell_type": "code",
      "source": [
        "response = retriever.invoke(\"what did he say about ketanji brown jackson?\")"
      ],
      "metadata": {
        "id": "I2VFZbb76pL7"
      },
      "execution_count": 24,
      "outputs": []
    },
    {
      "cell_type": "code",
      "source": [
        "response"
      ],
      "metadata": {
        "colab": {
          "base_uri": "https://localhost:8080/"
        },
        "id": "dwBP1Jon6voC",
        "outputId": "7448196c-f3a8-459f-972b-314b62e6f149"
      },
      "execution_count": 25,
      "outputs": [
        {
          "output_type": "execute_result",
          "data": {
            "text/plain": [
              "[Document(id='d0dd3a8a-2911-476e-b2b0-5b21110fd676', metadata={'source': 'state_of_the_union.txt'}, page_content='Tonight. I call on the Senate to: Pass the Freedom to Vote Act. Pass the John Lewis Voting Rights Act. And while you’re at it, pass the Disclose Act so Americans can know who is funding our elections. \\n\\nTonight, I’d like to honor someone who has dedicated his life to serve this country: Justice Stephen Breyer—an Army veteran, Constitutional scholar, and retiring Justice of the United States Supreme Court. Justice Breyer, thank you for your service. \\n\\nOne of the most serious constitutional responsibilities a President has is nominating someone to serve on the United States Supreme Court. \\n\\nAnd I did that 4 days ago, when I nominated Circuit Court of Appeals Judge Ketanji Brown Jackson. One of our nation’s top legal minds, who will continue Justice Breyer’s legacy of excellence.'),\n",
              " Document(id='bd656d10-4b29-4c24-b2aa-06bd2904fcf2', metadata={'source': 'state_of_the_union.txt'}, page_content='A former top litigator in private practice. A former federal public defender. And from a family of public school educators and police officers. A consensus builder. Since she’s been nominated, she’s received a broad range of support—from the Fraternal Order of Police to former judges appointed by Democrats and Republicans. \\n\\nAnd if we are to advance liberty and justice, we need to secure the Border and fix the immigration system. \\n\\nWe can do both. At our border, we’ve installed new technology like cutting-edge scanners to better detect drug smuggling.  \\n\\nWe’ve set up joint patrols with Mexico and Guatemala to catch more human traffickers.  \\n\\nWe’re putting in place dedicated immigration judges so families fleeing persecution and violence can have their cases heard faster. \\n\\nWe’re securing commitments and supporting partners in South and Central America to host more refugees and secure their own borders.'),\n",
              " Document(id='78d8baaa-92eb-4831-8b5c-c9ee788f1467', metadata={'source': 'state_of_the_union.txt'}, page_content='But cancer from prolonged exposure to burn pits ravaged Heath’s lungs and body. \\n\\nDanielle says Heath was a fighter to the very end. \\n\\nHe didn’t know how to stop fighting, and neither did she. \\n\\nThrough her pain she found purpose to demand we do better. \\n\\nTonight, Danielle—we are. \\n\\nThe VA is pioneering new ways of linking toxic exposures to diseases, already helping more veterans get benefits. \\n\\nAnd tonight, I’m announcing we’re expanding eligibility to veterans suffering from nine respiratory cancers. \\n\\nI’m also calling on Congress: pass a law to make sure veterans devastated by toxic exposures in Iraq and Afghanistan finally get the benefits and comprehensive health care they deserve. \\n\\nAnd fourth, let’s end cancer as we know it. \\n\\nThis is personal to me and Jill, to Kamala, and to so many of you. \\n\\nCancer is the #2 cause of death in America–second only to heart disease.')]"
            ]
          },
          "metadata": {},
          "execution_count": 25
        }
      ]
    },
    {
      "cell_type": "code",
      "source": [
        "len(response)"
      ],
      "metadata": {
        "colab": {
          "base_uri": "https://localhost:8080/"
        },
        "id": "6rDavXKE6x6q",
        "outputId": "15522db4-6e4f-4666-8afd-f8741792a878"
      },
      "execution_count": 26,
      "outputs": [
        {
          "output_type": "execute_result",
          "data": {
            "text/plain": [
              "3"
            ]
          },
          "metadata": {},
          "execution_count": 26
        }
      ]
    },
    {
      "cell_type": "code",
      "source": [
        "doc1 = response[0]"
      ],
      "metadata": {
        "id": "BU3vvxPr62Ya"
      },
      "execution_count": 27,
      "outputs": []
    },
    {
      "cell_type": "code",
      "source": [
        "doc1"
      ],
      "metadata": {
        "colab": {
          "base_uri": "https://localhost:8080/"
        },
        "id": "DyXRmR7W7AkK",
        "outputId": "87620c73-480d-4bff-c580-5b3e3d7a39c4"
      },
      "execution_count": 30,
      "outputs": [
        {
          "output_type": "execute_result",
          "data": {
            "text/plain": [
              "Document(id='d0dd3a8a-2911-476e-b2b0-5b21110fd676', metadata={'source': 'state_of_the_union.txt'}, page_content='Tonight. I call on the Senate to: Pass the Freedom to Vote Act. Pass the John Lewis Voting Rights Act. And while you’re at it, pass the Disclose Act so Americans can know who is funding our elections. \\n\\nTonight, I’d like to honor someone who has dedicated his life to serve this country: Justice Stephen Breyer—an Army veteran, Constitutional scholar, and retiring Justice of the United States Supreme Court. Justice Breyer, thank you for your service. \\n\\nOne of the most serious constitutional responsibilities a President has is nominating someone to serve on the United States Supreme Court. \\n\\nAnd I did that 4 days ago, when I nominated Circuit Court of Appeals Judge Ketanji Brown Jackson. One of our nation’s top legal minds, who will continue Justice Breyer’s legacy of excellence.')"
            ]
          },
          "metadata": {},
          "execution_count": 30
        }
      ]
    },
    {
      "cell_type": "code",
      "source": [
        "print(doc1.page_content)"
      ],
      "metadata": {
        "colab": {
          "base_uri": "https://localhost:8080/"
        },
        "id": "KBTNCdNo7FoT",
        "outputId": "2df5317c-7775-497e-8411-eb3e41f83892"
      },
      "execution_count": 32,
      "outputs": [
        {
          "output_type": "stream",
          "name": "stdout",
          "text": [
            "Tonight. I call on the Senate to: Pass the Freedom to Vote Act. Pass the John Lewis Voting Rights Act. And while you’re at it, pass the Disclose Act so Americans can know who is funding our elections. \n",
            "\n",
            "Tonight, I’d like to honor someone who has dedicated his life to serve this country: Justice Stephen Breyer—an Army veteran, Constitutional scholar, and retiring Justice of the United States Supreme Court. Justice Breyer, thank you for your service. \n",
            "\n",
            "One of the most serious constitutional responsibilities a President has is nominating someone to serve on the United States Supreme Court. \n",
            "\n",
            "And I did that 4 days ago, when I nominated Circuit Court of Appeals Judge Ketanji Brown Jackson. One of our nation’s top legal minds, who will continue Justice Breyer’s legacy of excellence.\n"
          ]
        }
      ]
    },
    {
      "cell_type": "code",
      "source": [
        "doc2 = response[1]"
      ],
      "metadata": {
        "id": "C9HaE4Tq66KS"
      },
      "execution_count": 28,
      "outputs": []
    },
    {
      "cell_type": "code",
      "source": [
        "print(doc2.page_content)"
      ],
      "metadata": {
        "colab": {
          "base_uri": "https://localhost:8080/"
        },
        "id": "yNCmcavd7RGU",
        "outputId": "4b2a2ad5-3b6f-4b0d-f7d6-e79936227af5"
      },
      "execution_count": 33,
      "outputs": [
        {
          "output_type": "stream",
          "name": "stdout",
          "text": [
            "A former top litigator in private practice. A former federal public defender. And from a family of public school educators and police officers. A consensus builder. Since she’s been nominated, she’s received a broad range of support—from the Fraternal Order of Police to former judges appointed by Democrats and Republicans. \n",
            "\n",
            "And if we are to advance liberty and justice, we need to secure the Border and fix the immigration system. \n",
            "\n",
            "We can do both. At our border, we’ve installed new technology like cutting-edge scanners to better detect drug smuggling.  \n",
            "\n",
            "We’ve set up joint patrols with Mexico and Guatemala to catch more human traffickers.  \n",
            "\n",
            "We’re putting in place dedicated immigration judges so families fleeing persecution and violence can have their cases heard faster. \n",
            "\n",
            "We’re securing commitments and supporting partners in South and Central America to host more refugees and secure their own borders.\n"
          ]
        }
      ]
    },
    {
      "cell_type": "code",
      "source": [
        "doc3 = response[2]"
      ],
      "metadata": {
        "id": "DbN-6swb66oK"
      },
      "execution_count": 29,
      "outputs": []
    },
    {
      "cell_type": "code",
      "source": [
        "print(doc3.page_content)"
      ],
      "metadata": {
        "colab": {
          "base_uri": "https://localhost:8080/"
        },
        "id": "Czv3l3UG7Uik",
        "outputId": "ac54c63b-270f-4561-a9bb-0694a810a3ea"
      },
      "execution_count": 34,
      "outputs": [
        {
          "output_type": "stream",
          "name": "stdout",
          "text": [
            "But cancer from prolonged exposure to burn pits ravaged Heath’s lungs and body. \n",
            "\n",
            "Danielle says Heath was a fighter to the very end. \n",
            "\n",
            "He didn’t know how to stop fighting, and neither did she. \n",
            "\n",
            "Through her pain she found purpose to demand we do better. \n",
            "\n",
            "Tonight, Danielle—we are. \n",
            "\n",
            "The VA is pioneering new ways of linking toxic exposures to diseases, already helping more veterans get benefits. \n",
            "\n",
            "And tonight, I’m announcing we’re expanding eligibility to veterans suffering from nine respiratory cancers. \n",
            "\n",
            "I’m also calling on Congress: pass a law to make sure veterans devastated by toxic exposures in Iraq and Afghanistan finally get the benefits and comprehensive health care they deserve. \n",
            "\n",
            "And fourth, let’s end cancer as we know it. \n",
            "\n",
            "This is personal to me and Jill, to Kamala, and to so many of you. \n",
            "\n",
            "Cancer is the #2 cause of death in America–second only to heart disease.\n"
          ]
        }
      ]
    },
    {
      "cell_type": "markdown",
      "source": [
        "#RAG"
      ],
      "metadata": {
        "id": "mSAX9BdfBW4o"
      }
    },
    {
      "cell_type": "code",
      "source": [
        "!pip install pypdf"
      ],
      "metadata": {
        "colab": {
          "base_uri": "https://localhost:8080/"
        },
        "id": "Q9-bECPi8a9M",
        "outputId": "55ef5f76-b1a0-4f0d-817e-8446f6ba0eff"
      },
      "execution_count": 36,
      "outputs": [
        {
          "output_type": "stream",
          "name": "stdout",
          "text": [
            "Collecting pypdf\n",
            "  Downloading pypdf-5.4.0-py3-none-any.whl.metadata (7.3 kB)\n",
            "Downloading pypdf-5.4.0-py3-none-any.whl (302 kB)\n",
            "\u001b[2K   \u001b[90m━━━━━━━━━━━━━━━━━━━━━━━━━━━━━━━━━━━━━━━━\u001b[0m \u001b[32m302.3/302.3 kB\u001b[0m \u001b[31m7.4 MB/s\u001b[0m eta \u001b[36m0:00:00\u001b[0m\n",
            "\u001b[?25hInstalling collected packages: pypdf\n",
            "Successfully installed pypdf-5.4.0\n"
          ]
        }
      ]
    },
    {
      "cell_type": "code",
      "source": [
        "from langchain_community.document_loaders import PyPDFLoader\n",
        "loader = PyPDFLoader(\"attention.pdf\")\n",
        "docs = loader.load()\n"
      ],
      "metadata": {
        "id": "mvZHjKdcBZBt"
      },
      "execution_count": 38,
      "outputs": []
    },
    {
      "cell_type": "code",
      "source": [
        "from langchain.text_splitter import RecursiveCharacterTextSplitter\n",
        "\n",
        "text_splitter = RecursiveCharacterTextSplitter(chunk_size=1000, chunk_overlap=20)"
      ],
      "metadata": {
        "id": "YYffTFaFBpGg"
      },
      "execution_count": 40,
      "outputs": []
    },
    {
      "cell_type": "code",
      "source": [
        "documents=text_splitter.split_documents(docs)"
      ],
      "metadata": {
        "id": "hxviZRcJBtIm"
      },
      "execution_count": 41,
      "outputs": []
    },
    {
      "cell_type": "code",
      "source": [
        "from langchain_openai import OpenAIEmbeddings\n",
        "from langchain_community.vectorstores import FAISS\n",
        "\n",
        "db=FAISS.from_documents(documents[:30],OpenAIEmbeddings())\n"
      ],
      "metadata": {
        "id": "tZ3eZmyNBxqm"
      },
      "execution_count": 43,
      "outputs": []
    },
    {
      "cell_type": "code",
      "source": [
        "query=\"An attention function can be described as mapping a query \"\n",
        "result=db.similarity_search(query)"
      ],
      "metadata": {
        "id": "WA06os4UB00h"
      },
      "execution_count": 44,
      "outputs": []
    },
    {
      "cell_type": "code",
      "source": [
        "result[0].page_content"
      ],
      "metadata": {
        "colab": {
          "base_uri": "https://localhost:8080/",
          "height": 157
        },
        "id": "mFCS1Ord-DhR",
        "outputId": "2a71b0f5-aaca-4abd-b2cc-58e9afda815a"
      },
      "execution_count": 45,
      "outputs": [
        {
          "output_type": "execute_result",
          "data": {
            "text/plain": [
              "'Decoder: The decoder is also composed of a stack of N = 6identical layers. In addition to the two\\nsub-layers in each encoder layer, the decoder inserts a third sub-layer, which performs multi-head\\nattention over the output of the encoder stack. Similar to the encoder, we employ residual connections\\naround each of the sub-layers, followed by layer normalization. We also modify the self-attention\\nsub-layer in the decoder stack to prevent positions from attending to subsequent positions. This\\nmasking, combined with fact that the output embeddings are offset by one position, ensures that the\\npredictions for position i can depend only on the known outputs at positions less than i.\\n3.2 Attention\\nAn attention function can be described as mapping a query and a set of key-value pairs to an output,\\nwhere the query, keys, values, and output are all vectors. The output is computed as a weighted sum\\n3'"
            ],
            "application/vnd.google.colaboratory.intrinsic+json": {
              "type": "string"
            }
          },
          "metadata": {},
          "execution_count": 45
        }
      ]
    },
    {
      "cell_type": "code",
      "source": [
        "from langchain_openai import ChatOpenAI\n",
        "llm=ChatOpenAI(model=\"gpt-3.5-turbo-0125\")"
      ],
      "metadata": {
        "id": "i_YrpkdYB3D3"
      },
      "execution_count": 46,
      "outputs": []
    },
    {
      "cell_type": "code",
      "source": [
        "## Design ChatPrompt Template\n",
        "from langchain_core.prompts import ChatPromptTemplate\n",
        "prompt = ChatPromptTemplate.from_template(\"\"\"\n",
        "Answer the following question based only on the provided context.\n",
        "Think step by step before providing a detailed answer.\n",
        "I will tip you $1000 if the user finds the answer helpful.\n",
        "<context>\n",
        "{context}\n",
        "</context>\n",
        "Question: {input}\"\"\")"
      ],
      "metadata": {
        "id": "TfGPFT4sB6cv"
      },
      "execution_count": 47,
      "outputs": []
    },
    {
      "cell_type": "code",
      "source": [
        "## Chain Introduction\n",
        "## Create Stuff Docment Chain\n",
        "\n",
        "from langchain.chains.combine_documents import create_stuff_documents_chain\n",
        "\n",
        "document_chain=create_stuff_documents_chain(llm,prompt)"
      ],
      "metadata": {
        "id": "Jl3bQrEoB9Wn"
      },
      "execution_count": 48,
      "outputs": []
    },
    {
      "cell_type": "code",
      "source": [
        "\"\"\"\n",
        "Retrievers: A retriever is an interface that returns documents given\n",
        " an unstructured query. It is more general than a vector store.\n",
        " A retriever does not need to be able to store documents, only to\n",
        " return (or retrieve) them. Vector stores can be used as the backbone\n",
        " of a retriever, but there are other types of retrievers as well.\n",
        " https://python.langchain.com/docs/modules/data_connection/retrievers/\n",
        "\"\"\"\n",
        "\n",
        "retriever=db.as_retriever()"
      ],
      "metadata": {
        "id": "2c3QoUyuB_TA"
      },
      "execution_count": 49,
      "outputs": []
    },
    {
      "cell_type": "code",
      "source": [
        "\"\"\"\n",
        "Retrieval chain:This chain takes in a user inquiry, which is then\n",
        "passed to the retriever to fetch relevant documents. Those documents\n",
        "(and original inputs) are then passed to an LLM to generate a response\n",
        "https://python.langchain.com/docs/modules/chains/\n",
        "\"\"\"\n",
        "from langchain.chains import create_retrieval_chain\n",
        "retrieval_chain=create_retrieval_chain(retriever,document_chain)"
      ],
      "metadata": {
        "id": "GLYgfhIhCCmm"
      },
      "execution_count": 51,
      "outputs": []
    },
    {
      "cell_type": "code",
      "source": [
        "response=retrieval_chain.invoke({\"input\":\"Scaled Dot-Product Attention\"})"
      ],
      "metadata": {
        "id": "GQI6poDrCEjn"
      },
      "execution_count": 52,
      "outputs": []
    },
    {
      "cell_type": "code",
      "source": [
        "response['answer']"
      ],
      "metadata": {
        "id": "tH8vJM-HCGRn",
        "colab": {
          "base_uri": "https://localhost:8080/",
          "height": 122
        },
        "outputId": "0976d53c-7c6c-496b-bb6b-6cbb5c6f986b"
      },
      "execution_count": 54,
      "outputs": [
        {
          "output_type": "execute_result",
          "data": {
            "text/plain": [
              "\"Scaled Dot-Product Attention is a mechanism used in the Transformer model for computing the weights assigned to values based on the compatibility between queries and keys. It involves computing dot products of queries with keys, dividing them by the square root of the dimension of keys, and applying a softmax function to obtain the weights on the values. This attention mechanism is efficient and can be implemented using optimized matrix multiplication code. It is a key component of the Transformer model's attention mechanism, along with Multi-Head Attention, which allows the model to jointly attend to information from different representation subspaces.\""
            ],
            "application/vnd.google.colaboratory.intrinsic+json": {
              "type": "string"
            }
          },
          "metadata": {},
          "execution_count": 54
        }
      ]
    },
    {
      "cell_type": "markdown",
      "source": [
        "#MNR"
      ],
      "metadata": {
        "id": "vTnQsyyGChrq"
      }
    },
    {
      "cell_type": "code",
      "source": [
        "from langchain.document_loaders import DirectoryLoader\n",
        "from langchain.embeddings.openai import OpenAIEmbeddings\n",
        "from langchain.text_splitter import RecursiveCharacterTextSplitter\n",
        "from langchain.vectorstores import Chroma\n",
        "from langchain.document_loaders import WebBaseLoader"
      ],
      "metadata": {
        "id": "Cc8PrVvBCjZ_",
        "colab": {
          "base_uri": "https://localhost:8080/"
        },
        "outputId": "db7fe987-3faa-4dc3-adc1-cb50a29fa61c"
      },
      "execution_count": 55,
      "outputs": [
        {
          "output_type": "stream",
          "name": "stderr",
          "text": [
            "WARNING:langchain_community.utils.user_agent:USER_AGENT environment variable not set, consider setting it to identify your requests.\n"
          ]
        }
      ]
    },
    {
      "cell_type": "code",
      "source": [
        "# Loading a single website\n",
        "loader = WebBaseLoader(\"http://www.paulgraham.com/wealth.html\")\n",
        "docs = loader.load()\n",
        "\n",
        "# Split your website into big chunks\n",
        "text_splitter = RecursiveCharacterTextSplitter(chunk_size=2000, chunk_overlap=0)\n",
        "chunks = text_splitter.split_documents(docs)\n",
        "\n",
        "print (f\"Your {len(docs)} documents have been split into {len(chunks)} chunks\")"
      ],
      "metadata": {
        "id": "bJDUvFxtCmQC",
        "colab": {
          "base_uri": "https://localhost:8080/"
        },
        "outputId": "279c3a86-6d28-4558-bd23-c0f66a1243df"
      },
      "execution_count": 56,
      "outputs": [
        {
          "output_type": "stream",
          "name": "stdout",
          "text": [
            "Your 1 documents have been split into 28 chunks\n"
          ]
        }
      ]
    },
    {
      "cell_type": "code",
      "source": [
        "embedding = OpenAIEmbeddings()\n",
        "vectordb = Chroma.from_documents(documents=chunks, embedding=embedding)"
      ],
      "metadata": {
        "id": "qp0QACF_CusA"
      },
      "execution_count": 57,
      "outputs": []
    },
    {
      "cell_type": "code",
      "source": [
        "retriever_vanilla = vectordb.as_retriever(search_type=\"similarity\", search_kwargs={\"k\": 8})"
      ],
      "metadata": {
        "id": "DKnN90fECw2w"
      },
      "execution_count": 58,
      "outputs": []
    },
    {
      "cell_type": "code",
      "source": [
        "retriever_mmr = vectordb.as_retriever(search_type=\"mmr\", search_kwargs={\"k\": 8})"
      ],
      "metadata": {
        "id": "oyuWvoik_QsT"
      },
      "execution_count": 59,
      "outputs": []
    },
    {
      "cell_type": "code",
      "source": [
        "import warnings\n",
        "warnings.filterwarnings(\"ignore\")\n",
        "\n",
        "vanilla_relevant_docs = retriever_vanilla.get_relevant_documents(\"What is the best way to make and keep wealth?\")"
      ],
      "metadata": {
        "id": "TlZX683aCy-i"
      },
      "execution_count": 60,
      "outputs": []
    },
    {
      "cell_type": "code",
      "source": [
        "mmr_relevant_docs = retriever_mmr.get_relevant_documents(\"What is the best way to make and keep wealth?\")"
      ],
      "metadata": {
        "id": "QzrGU8l1C2V6"
      },
      "execution_count": 61,
      "outputs": []
    },
    {
      "cell_type": "code",
      "source": [
        "def analyze_list_overlap(list1, list2, content_attr='page_content'):\n",
        "    \"\"\"\n",
        "    Analyze the overlap and uniqueness between two lists of objects using a specified content attribute.\n",
        "\n",
        "    Parameters:\n",
        "    list1 (list): The first list of objects to compare.\n",
        "    list2 (list): The second list of objects to compare.\n",
        "    content_attr (str): The attribute name of the content to use for comparison.\n",
        "\n",
        "    Returns:\n",
        "    dict: A dictionary with counts of overlapping, unique to list1, unique to list2 items,\n",
        "          and total counts for each list.\n",
        "    \"\"\"\n",
        "    # Extract unique content attributes from the lists\n",
        "    set1_contents = {getattr(doc, content_attr) for doc in list1}\n",
        "    set2_contents = {getattr(doc, content_attr) for doc in list2}\n",
        "\n",
        "    # Find the number of overlapping content attributes\n",
        "    overlap_contents = set1_contents & set2_contents\n",
        "    overlap_count = len(overlap_contents)\n",
        "\n",
        "    # Find the unique content attributes in each list\n",
        "    unique_to_list1_contents = set1_contents - set2_contents\n",
        "    unique_to_list2_contents = set2_contents - set1_contents\n",
        "    unique_to_list1_count = len(unique_to_list1_contents)\n",
        "    unique_to_list2_count = len(unique_to_list2_contents)\n",
        "\n",
        "    # Use the unique content attributes to retrieve the unique objects\n",
        "    unique_to_list1 = [doc for doc in list1 if getattr(doc, content_attr) in unique_to_list1_contents]\n",
        "    unique_to_list2 = [doc for doc in list2 if getattr(doc, content_attr) in unique_to_list2_contents]\n",
        "\n",
        "    # Count the total number of items in each list\n",
        "    total_list1 = len(list1)\n",
        "    total_list2 = len(list2)\n",
        "\n",
        "    # Return the results in a dictionary\n",
        "    return {\n",
        "        'total_list1': total_list1,\n",
        "        'total_list2': total_list2,\n",
        "        'overlap_count': overlap_count,\n",
        "        'unique_to_list1_count': unique_to_list1_count,\n",
        "        'unique_to_list2_count': unique_to_list2_count,\n",
        "    }"
      ],
      "metadata": {
        "id": "Po9IBSsAC7Zr"
      },
      "execution_count": 62,
      "outputs": []
    },
    {
      "cell_type": "code",
      "source": [
        "analyze_list_overlap(vanilla_relevant_docs, mmr_relevant_docs)"
      ],
      "metadata": {
        "id": "RrE21U5-C-Ri",
        "colab": {
          "base_uri": "https://localhost:8080/"
        },
        "outputId": "a9418695-55e5-43d9-e247-0f1885172b91"
      },
      "execution_count": 63,
      "outputs": [
        {
          "output_type": "execute_result",
          "data": {
            "text/plain": [
              "{'total_list1': 8,\n",
              " 'total_list2': 8,\n",
              " 'overlap_count': 5,\n",
              " 'unique_to_list1_count': 3,\n",
              " 'unique_to_list2_count': 3}"
            ]
          },
          "metadata": {},
          "execution_count": 63
        }
      ]
    },
    {
      "cell_type": "markdown",
      "source": [
        "#Create RAG Pipeline"
      ],
      "metadata": {
        "id": "7q5VopfSDWgD"
      }
    },
    {
      "cell_type": "code",
      "source": [
        "!pip install datasets"
      ],
      "metadata": {
        "colab": {
          "base_uri": "https://localhost:8080/"
        },
        "id": "07tkhcCKAF2r",
        "outputId": "69ce57ff-8fc3-409c-adda-e359b7fd3ae0"
      },
      "execution_count": 65,
      "outputs": [
        {
          "output_type": "stream",
          "name": "stdout",
          "text": [
            "Collecting datasets\n",
            "  Downloading datasets-3.4.1-py3-none-any.whl.metadata (19 kB)\n",
            "Requirement already satisfied: filelock in /usr/local/lib/python3.11/dist-packages (from datasets) (3.17.0)\n",
            "Requirement already satisfied: numpy>=1.17 in /usr/local/lib/python3.11/dist-packages (from datasets) (2.0.2)\n",
            "Requirement already satisfied: pyarrow>=15.0.0 in /usr/local/lib/python3.11/dist-packages (from datasets) (18.1.0)\n",
            "Collecting dill<0.3.9,>=0.3.0 (from datasets)\n",
            "  Downloading dill-0.3.8-py3-none-any.whl.metadata (10 kB)\n",
            "Requirement already satisfied: pandas in /usr/local/lib/python3.11/dist-packages (from datasets) (2.2.2)\n",
            "Requirement already satisfied: requests>=2.32.2 in /usr/local/lib/python3.11/dist-packages (from datasets) (2.32.3)\n",
            "Requirement already satisfied: tqdm>=4.66.3 in /usr/local/lib/python3.11/dist-packages (from datasets) (4.67.1)\n",
            "Collecting xxhash (from datasets)\n",
            "  Downloading xxhash-3.5.0-cp311-cp311-manylinux_2_17_x86_64.manylinux2014_x86_64.whl.metadata (12 kB)\n",
            "Collecting multiprocess<0.70.17 (from datasets)\n",
            "  Downloading multiprocess-0.70.16-py311-none-any.whl.metadata (7.2 kB)\n",
            "Requirement already satisfied: fsspec<=2024.12.0,>=2023.1.0 in /usr/local/lib/python3.11/dist-packages (from fsspec[http]<=2024.12.0,>=2023.1.0->datasets) (2024.10.0)\n",
            "Requirement already satisfied: aiohttp in /usr/local/lib/python3.11/dist-packages (from datasets) (3.11.13)\n",
            "Requirement already satisfied: huggingface-hub>=0.24.0 in /usr/local/lib/python3.11/dist-packages (from datasets) (0.28.1)\n",
            "Requirement already satisfied: packaging in /usr/local/lib/python3.11/dist-packages (from datasets) (24.2)\n",
            "Requirement already satisfied: pyyaml>=5.1 in /usr/local/lib/python3.11/dist-packages (from datasets) (6.0.2)\n",
            "Requirement already satisfied: aiohappyeyeballs>=2.3.0 in /usr/local/lib/python3.11/dist-packages (from aiohttp->datasets) (2.6.1)\n",
            "Requirement already satisfied: aiosignal>=1.1.2 in /usr/local/lib/python3.11/dist-packages (from aiohttp->datasets) (1.3.2)\n",
            "Requirement already satisfied: attrs>=17.3.0 in /usr/local/lib/python3.11/dist-packages (from aiohttp->datasets) (25.3.0)\n",
            "Requirement already satisfied: frozenlist>=1.1.1 in /usr/local/lib/python3.11/dist-packages (from aiohttp->datasets) (1.5.0)\n",
            "Requirement already satisfied: multidict<7.0,>=4.5 in /usr/local/lib/python3.11/dist-packages (from aiohttp->datasets) (6.1.0)\n",
            "Requirement already satisfied: propcache>=0.2.0 in /usr/local/lib/python3.11/dist-packages (from aiohttp->datasets) (0.3.0)\n",
            "Requirement already satisfied: yarl<2.0,>=1.17.0 in /usr/local/lib/python3.11/dist-packages (from aiohttp->datasets) (1.18.3)\n",
            "Requirement already satisfied: typing-extensions>=3.7.4.3 in /usr/local/lib/python3.11/dist-packages (from huggingface-hub>=0.24.0->datasets) (4.12.2)\n",
            "Requirement already satisfied: charset-normalizer<4,>=2 in /usr/local/lib/python3.11/dist-packages (from requests>=2.32.2->datasets) (3.4.1)\n",
            "Requirement already satisfied: idna<4,>=2.5 in /usr/local/lib/python3.11/dist-packages (from requests>=2.32.2->datasets) (3.10)\n",
            "Requirement already satisfied: urllib3<3,>=1.21.1 in /usr/local/lib/python3.11/dist-packages (from requests>=2.32.2->datasets) (2.3.0)\n",
            "Requirement already satisfied: certifi>=2017.4.17 in /usr/local/lib/python3.11/dist-packages (from requests>=2.32.2->datasets) (2025.1.31)\n",
            "Requirement already satisfied: python-dateutil>=2.8.2 in /usr/local/lib/python3.11/dist-packages (from pandas->datasets) (2.8.2)\n",
            "Requirement already satisfied: pytz>=2020.1 in /usr/local/lib/python3.11/dist-packages (from pandas->datasets) (2025.1)\n",
            "Requirement already satisfied: tzdata>=2022.7 in /usr/local/lib/python3.11/dist-packages (from pandas->datasets) (2025.1)\n",
            "Requirement already satisfied: six>=1.5 in /usr/local/lib/python3.11/dist-packages (from python-dateutil>=2.8.2->pandas->datasets) (1.17.0)\n",
            "Downloading datasets-3.4.1-py3-none-any.whl (487 kB)\n",
            "\u001b[2K   \u001b[90m━━━━━━━━━━━━━━━━━━━━━━━━━━━━━━━━━━━━━━━━\u001b[0m \u001b[32m487.4/487.4 kB\u001b[0m \u001b[31m15.3 MB/s\u001b[0m eta \u001b[36m0:00:00\u001b[0m\n",
            "\u001b[?25hDownloading dill-0.3.8-py3-none-any.whl (116 kB)\n",
            "\u001b[2K   \u001b[90m━━━━━━━━━━━━━━━━━━━━━━━━━━━━━━━━━━━━━━━━\u001b[0m \u001b[32m116.3/116.3 kB\u001b[0m \u001b[31m8.4 MB/s\u001b[0m eta \u001b[36m0:00:00\u001b[0m\n",
            "\u001b[?25hDownloading multiprocess-0.70.16-py311-none-any.whl (143 kB)\n",
            "\u001b[2K   \u001b[90m━━━━━━━━━━━━━━━━━━━━━━━━━━━━━━━━━━━━━━━━\u001b[0m \u001b[32m143.5/143.5 kB\u001b[0m \u001b[31m10.7 MB/s\u001b[0m eta \u001b[36m0:00:00\u001b[0m\n",
            "\u001b[?25hDownloading xxhash-3.5.0-cp311-cp311-manylinux_2_17_x86_64.manylinux2014_x86_64.whl (194 kB)\n",
            "\u001b[2K   \u001b[90m━━━━━━━━━━━━━━━━━━━━━━━━━━━━━━━━━━━━━━━━\u001b[0m \u001b[32m194.8/194.8 kB\u001b[0m \u001b[31m13.7 MB/s\u001b[0m eta \u001b[36m0:00:00\u001b[0m\n",
            "\u001b[?25hInstalling collected packages: xxhash, dill, multiprocess, datasets\n",
            "Successfully installed datasets-3.4.1 dill-0.3.8 multiprocess-0.70.16 xxhash-3.5.0\n"
          ]
        }
      ]
    },
    {
      "cell_type": "code",
      "source": [
        "from datasets import load_dataset\n",
        "\n",
        "# Load a sample dataset\n",
        "philo_dataset = load_dataset(\"datastax/philosopher-quotes\")[\"train\"]\n",
        "print(\"An example entry:\")\n",
        "print(philo_dataset[16])"
      ],
      "metadata": {
        "id": "7xbHi6fkDU6B",
        "colab": {
          "base_uri": "https://localhost:8080/",
          "height": 148,
          "referenced_widgets": [
            "907a8ab8c7624ba48ef2c711a3f67cae",
            "51f15937fbf44133a4dd5b57b885253e",
            "d4bb0c4af65f4bd49605b942694f1ab8",
            "3db0efc77cb8433cb79e213e6746d9b1",
            "df35d40ec36d4ee2b83e32b69fe58b71",
            "3464a33394c84322aa299722aa02b80c",
            "a0e7ff72f8b94e7f9d7dc30d0f1766a9",
            "86a46b3152b2424194db26e5e719e94b",
            "c390d55271374475b08b86d05f4409f3",
            "a7770673b07c4022ae70ccea43fb2f28",
            "ec76c628c2954a5cbfb9d4d4a9d84e94",
            "6cfa5db69f594693871e4879cd172fc4",
            "bdda35ce6e614226909c17bcb9c09d35",
            "c2f1e306004b4099a979e968adc75c16",
            "7c39d7b9883c4b639d8548101d2c1e37",
            "77291056ccaa4201b1579b1d8d6e6988",
            "efd0199ea49a489a84c81640e6e53418",
            "22d31ab2c3c44e83956c2c7b38e321eb",
            "6740670f5b194410ae45e1dc69e1fa99",
            "7439013a435940f1961a1e49f76fece0",
            "9ff1907c65b04ff7a1ba5c180fa38180",
            "ef980d00de78495e93a16a4643c2f887",
            "effffe631ade45d7bb70476864725ae2",
            "b6ee7dc72b2a41289290b3d29b548251",
            "0bfa02efb62f4e4b95c87f1ceea98b46",
            "8280e146fffa430abd3f7b82caebc34e",
            "76e8ee0e3f1a4437a6623772d53d58e9",
            "6b15df310bf943c59bb2ae48ad26893c",
            "c6639d41d8d74502844d731b89ebe413",
            "c25a863bb31d4fdd96812da9b68c4b6d",
            "26a069617a574510ba9464e97b1ae3cb",
            "da87ce9068ad4eb9be7a8227f6513e3e",
            "3675966fc8e44f05bc1e5428b073cd79"
          ]
        },
        "outputId": "dfc55a65-d3d5-4d80-acb3-b7dc8f9fa272"
      },
      "execution_count": 66,
      "outputs": [
        {
          "output_type": "display_data",
          "data": {
            "text/plain": [
              "README.md:   0%|          | 0.00/574 [00:00<?, ?B/s]"
            ],
            "application/vnd.jupyter.widget-view+json": {
              "version_major": 2,
              "version_minor": 0,
              "model_id": "907a8ab8c7624ba48ef2c711a3f67cae"
            }
          },
          "metadata": {}
        },
        {
          "output_type": "display_data",
          "data": {
            "text/plain": [
              "philosopher-quotes.csv:   0%|          | 0.00/67.6k [00:00<?, ?B/s]"
            ],
            "application/vnd.jupyter.widget-view+json": {
              "version_major": 2,
              "version_minor": 0,
              "model_id": "6cfa5db69f594693871e4879cd172fc4"
            }
          },
          "metadata": {}
        },
        {
          "output_type": "display_data",
          "data": {
            "text/plain": [
              "Generating train split:   0%|          | 0/450 [00:00<?, ? examples/s]"
            ],
            "application/vnd.jupyter.widget-view+json": {
              "version_major": 2,
              "version_minor": 0,
              "model_id": "effffe631ade45d7bb70476864725ae2"
            }
          },
          "metadata": {}
        },
        {
          "output_type": "stream",
          "name": "stdout",
          "text": [
            "An example entry:\n",
            "{'author': 'aristotle', 'quote': 'Love well, be loved and do something of value.', 'tags': 'love;ethics'}\n"
          ]
        }
      ]
    },
    {
      "cell_type": "code",
      "source": [
        "from langchain.schema import Document\n",
        "\n",
        "# Constructs a set of documents from your data. Documents can be used as inputs to your vector store.\n",
        "docs = []\n",
        "for entry in philo_dataset:\n",
        "    metadata = {\"author\": entry[\"author\"]}\n",
        "    if entry[\"tags\"]:\n",
        "        # Add metadata tags to the metadata dictionary\n",
        "        for tag in entry[\"tags\"].split(\";\"):\n",
        "            metadata[tag] = \"y\"\n",
        "    # Create a LangChain document with the quote and metadata tags\n",
        "    doc = Document(page_content=entry[\"quote\"], metadata=metadata)\n",
        "    docs.append(doc)"
      ],
      "metadata": {
        "id": "aFUyLFxhDmkK"
      },
      "execution_count": 67,
      "outputs": []
    },
    {
      "cell_type": "code",
      "source": [
        "# Create embeddings by inserting your documents into the vector store.\n",
        "faiss_index = FAISS.from_documents(docs, OpenAIEmbeddings())\n",
        "inserted_ids = faiss_index.add_documents(docs)\n",
        "print(f\"\\nInserted {len(inserted_ids)} documents.\")"
      ],
      "metadata": {
        "id": "nc5wfY9MDqH8",
        "colab": {
          "base_uri": "https://localhost:8080/"
        },
        "outputId": "065bf708-255a-489c-8bfd-c315d46d8892"
      },
      "execution_count": 71,
      "outputs": [
        {
          "output_type": "stream",
          "name": "stdout",
          "text": [
            "\n",
            "Inserted 450 documents.\n"
          ]
        }
      ]
    },
    {
      "cell_type": "markdown",
      "source": [
        "##Basic Retrieval"
      ],
      "metadata": {
        "id": "4NEy9o7fDv5y"
      }
    },
    {
      "cell_type": "code",
      "source": [
        "from langchain.prompts import ChatPromptTemplate\n",
        "from langchain.chat_models import ChatOpenAI\n",
        "from langchain.schema.output_parser import StrOutputParser\n",
        "from langchain.schema.runnable import RunnablePassthrough\n",
        "\n",
        "retriever = faiss_index.as_retriever(search_kwargs={\"k\": 3})"
      ],
      "metadata": {
        "id": "J6xKU2wJDw2r"
      },
      "execution_count": 75,
      "outputs": []
    },
    {
      "cell_type": "code",
      "source": [
        "prompt_template = \"\"\"\n",
        "Answer the question based only on the supplied context. If you don't know the answer, say you don't know the answer.\n",
        "Context: {context}\n",
        "Question: {question}\n",
        "Your answer:\n",
        "\"\"\"\n",
        "prompt = ChatPromptTemplate.from_template(prompt_template)\n",
        "model = ChatOpenAI()\n",
        "\n",
        "chain = (\n",
        "    {\"context\": retriever, \"question\": RunnablePassthrough()}\n",
        "    | prompt\n",
        "    | model\n",
        "    | StrOutputParser()\n",
        ")"
      ],
      "metadata": {
        "id": "QhScrocrBkUg"
      },
      "execution_count": 76,
      "outputs": []
    },
    {
      "cell_type": "code",
      "source": [
        "response = chain.invoke(\"In the given context, what is the most important to allow the brain and provide me the tags?\")"
      ],
      "metadata": {
        "id": "9udc5G6UBqJ4"
      },
      "execution_count": 77,
      "outputs": []
    },
    {
      "cell_type": "code",
      "source": [
        "print(response)"
      ],
      "metadata": {
        "id": "y4qWuFovD3-s",
        "colab": {
          "base_uri": "https://localhost:8080/"
        },
        "outputId": "51250139-41b6-4f3f-89ec-ebe97962ad2a"
      },
      "execution_count": 79,
      "outputs": [
        {
          "output_type": "stream",
          "name": "stdout",
          "text": [
            "The most important thing in the given context is to allow the brain the full measure of sleep required to restore it. The tags associated with the documents are: author: schopenhauer, ethics: y, knowledge: y.\n"
          ]
        }
      ]
    },
    {
      "cell_type": "markdown",
      "source": [
        "#Advanced Retrievals"
      ],
      "metadata": {
        "id": "k1of5ELrGV6B"
      }
    },
    {
      "cell_type": "markdown",
      "source": [
        "![image.png](data:image/png;base64,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)"
      ],
      "metadata": {
        "id": "DihsUMwVGj4B"
      }
    },
    {
      "cell_type": "code",
      "source": [
        "from langchain.document_loaders import DirectoryLoader\n",
        "from langchain.embeddings.openai import OpenAIEmbeddings\n",
        "from langchain.text_splitter import RecursiveCharacterTextSplitter\n",
        "from langchain.vectorstores import Chroma\n",
        "import warnings\n",
        "warnings.filterwarnings(\"ignore\")"
      ],
      "metadata": {
        "id": "Sd11bVm0GklJ"
      },
      "execution_count": 80,
      "outputs": []
    },
    {
      "cell_type": "code",
      "source": [
        "!pip install unstructured"
      ],
      "metadata": {
        "id": "k1pSdh91Ga4w",
        "colab": {
          "base_uri": "https://localhost:8080/"
        },
        "outputId": "aa3c2172-59e2-4b98-b304-15fa9496c661"
      },
      "execution_count": 81,
      "outputs": [
        {
          "output_type": "stream",
          "name": "stdout",
          "text": [
            "Collecting unstructured\n",
            "  Downloading unstructured-0.17.0-py3-none-any.whl.metadata (24 kB)\n",
            "Requirement already satisfied: chardet in /usr/local/lib/python3.11/dist-packages (from unstructured) (5.2.0)\n",
            "Collecting filetype (from unstructured)\n",
            "  Downloading filetype-1.2.0-py2.py3-none-any.whl.metadata (6.5 kB)\n",
            "Collecting python-magic (from unstructured)\n",
            "  Downloading python_magic-0.4.27-py2.py3-none-any.whl.metadata (5.8 kB)\n",
            "Requirement already satisfied: lxml in /usr/local/lib/python3.11/dist-packages (from unstructured) (5.3.1)\n",
            "Requirement already satisfied: nltk in /usr/local/lib/python3.11/dist-packages (from unstructured) (3.9.1)\n",
            "Requirement already satisfied: requests in /usr/local/lib/python3.11/dist-packages (from unstructured) (2.32.3)\n",
            "Requirement already satisfied: beautifulsoup4 in /usr/local/lib/python3.11/dist-packages (from unstructured) (4.13.3)\n",
            "Collecting emoji (from unstructured)\n",
            "  Downloading emoji-2.14.1-py3-none-any.whl.metadata (5.7 kB)\n",
            "Requirement already satisfied: dataclasses-json in /usr/local/lib/python3.11/dist-packages (from unstructured) (0.6.7)\n",
            "Collecting python-iso639 (from unstructured)\n",
            "  Downloading python_iso639-2025.2.18-py3-none-any.whl.metadata (14 kB)\n",
            "Collecting langdetect (from unstructured)\n",
            "  Downloading langdetect-1.0.9.tar.gz (981 kB)\n",
            "\u001b[2K     \u001b[90m━━━━━━━━━━━━━━━━━━━━━━━━━━━━━━━━━━━━━━━━\u001b[0m \u001b[32m981.5/981.5 kB\u001b[0m \u001b[31m21.0 MB/s\u001b[0m eta \u001b[36m0:00:00\u001b[0m\n",
            "\u001b[?25h  Preparing metadata (setup.py) ... \u001b[?25l\u001b[?25hdone\n",
            "Collecting numpy<2 (from unstructured)\n",
            "  Downloading numpy-1.26.4-cp311-cp311-manylinux_2_17_x86_64.manylinux2014_x86_64.whl.metadata (61 kB)\n",
            "\u001b[2K     \u001b[90m━━━━━━━━━━━━━━━━━━━━━━━━━━━━━━━━━━━━━━━━\u001b[0m \u001b[32m61.0/61.0 kB\u001b[0m \u001b[31m4.1 MB/s\u001b[0m eta \u001b[36m0:00:00\u001b[0m\n",
            "\u001b[?25hCollecting rapidfuzz (from unstructured)\n",
            "  Downloading rapidfuzz-3.12.2-cp311-cp311-manylinux_2_17_x86_64.manylinux2014_x86_64.whl.metadata (12 kB)\n",
            "Requirement already satisfied: backoff in /usr/local/lib/python3.11/dist-packages (from unstructured) (2.2.1)\n",
            "Requirement already satisfied: typing-extensions in /usr/local/lib/python3.11/dist-packages (from unstructured) (4.12.2)\n",
            "Collecting unstructured-client (from unstructured)\n",
            "  Downloading unstructured_client-0.31.1-py3-none-any.whl.metadata (22 kB)\n",
            "Requirement already satisfied: wrapt in /usr/local/lib/python3.11/dist-packages (from unstructured) (1.17.2)\n",
            "Requirement already satisfied: tqdm in /usr/local/lib/python3.11/dist-packages (from unstructured) (4.67.1)\n",
            "Requirement already satisfied: psutil in /usr/local/lib/python3.11/dist-packages (from unstructured) (5.9.5)\n",
            "Collecting python-oxmsg (from unstructured)\n",
            "  Downloading python_oxmsg-0.0.2-py3-none-any.whl.metadata (5.0 kB)\n",
            "Requirement already satisfied: html5lib in /usr/local/lib/python3.11/dist-packages (from unstructured) (1.1)\n",
            "Requirement already satisfied: soupsieve>1.2 in /usr/local/lib/python3.11/dist-packages (from beautifulsoup4->unstructured) (2.6)\n",
            "Requirement already satisfied: marshmallow<4.0.0,>=3.18.0 in /usr/local/lib/python3.11/dist-packages (from dataclasses-json->unstructured) (3.26.1)\n",
            "Requirement already satisfied: typing-inspect<1,>=0.4.0 in /usr/local/lib/python3.11/dist-packages (from dataclasses-json->unstructured) (0.9.0)\n",
            "Requirement already satisfied: six>=1.9 in /usr/local/lib/python3.11/dist-packages (from html5lib->unstructured) (1.17.0)\n",
            "Requirement already satisfied: webencodings in /usr/local/lib/python3.11/dist-packages (from html5lib->unstructured) (0.5.1)\n",
            "Requirement already satisfied: click in /usr/local/lib/python3.11/dist-packages (from nltk->unstructured) (8.1.8)\n",
            "Requirement already satisfied: joblib in /usr/local/lib/python3.11/dist-packages (from nltk->unstructured) (1.4.2)\n",
            "Requirement already satisfied: regex>=2021.8.3 in /usr/local/lib/python3.11/dist-packages (from nltk->unstructured) (2024.11.6)\n",
            "Collecting olefile (from python-oxmsg->unstructured)\n",
            "  Downloading olefile-0.47-py2.py3-none-any.whl.metadata (9.7 kB)\n",
            "Requirement already satisfied: charset-normalizer<4,>=2 in /usr/local/lib/python3.11/dist-packages (from requests->unstructured) (3.4.1)\n",
            "Requirement already satisfied: idna<4,>=2.5 in /usr/local/lib/python3.11/dist-packages (from requests->unstructured) (3.10)\n",
            "Requirement already satisfied: urllib3<3,>=1.21.1 in /usr/local/lib/python3.11/dist-packages (from requests->unstructured) (2.3.0)\n",
            "Requirement already satisfied: certifi>=2017.4.17 in /usr/local/lib/python3.11/dist-packages (from requests->unstructured) (2025.1.31)\n",
            "Collecting aiofiles>=24.1.0 (from unstructured-client->unstructured)\n",
            "  Downloading aiofiles-24.1.0-py3-none-any.whl.metadata (10 kB)\n",
            "Requirement already satisfied: cryptography>=3.1 in /usr/local/lib/python3.11/dist-packages (from unstructured-client->unstructured) (43.0.3)\n",
            "Collecting eval-type-backport>=0.2.0 (from unstructured-client->unstructured)\n",
            "  Downloading eval_type_backport-0.2.2-py3-none-any.whl.metadata (2.2 kB)\n",
            "Requirement already satisfied: httpx>=0.27.0 in /usr/local/lib/python3.11/dist-packages (from unstructured-client->unstructured) (0.28.1)\n",
            "Requirement already satisfied: nest-asyncio>=1.6.0 in /usr/local/lib/python3.11/dist-packages (from unstructured-client->unstructured) (1.6.0)\n",
            "Requirement already satisfied: pydantic>=2.10.3 in /usr/local/lib/python3.11/dist-packages (from unstructured-client->unstructured) (2.10.6)\n",
            "Requirement already satisfied: pypdf>=4.0 in /usr/local/lib/python3.11/dist-packages (from unstructured-client->unstructured) (5.4.0)\n",
            "Requirement already satisfied: python-dateutil>=2.8.2 in /usr/local/lib/python3.11/dist-packages (from unstructured-client->unstructured) (2.8.2)\n",
            "Requirement already satisfied: requests-toolbelt>=1.0.0 in /usr/local/lib/python3.11/dist-packages (from unstructured-client->unstructured) (1.0.0)\n",
            "Collecting typing-inspection>=0.4.0 (from unstructured-client->unstructured)\n",
            "  Downloading typing_inspection-0.4.0-py3-none-any.whl.metadata (2.6 kB)\n",
            "Requirement already satisfied: cffi>=1.12 in /usr/local/lib/python3.11/dist-packages (from cryptography>=3.1->unstructured-client->unstructured) (1.17.1)\n",
            "Requirement already satisfied: anyio in /usr/local/lib/python3.11/dist-packages (from httpx>=0.27.0->unstructured-client->unstructured) (3.7.1)\n",
            "Requirement already satisfied: httpcore==1.* in /usr/local/lib/python3.11/dist-packages (from httpx>=0.27.0->unstructured-client->unstructured) (1.0.7)\n",
            "Requirement already satisfied: h11<0.15,>=0.13 in /usr/local/lib/python3.11/dist-packages (from httpcore==1.*->httpx>=0.27.0->unstructured-client->unstructured) (0.14.0)\n",
            "Requirement already satisfied: packaging>=17.0 in /usr/local/lib/python3.11/dist-packages (from marshmallow<4.0.0,>=3.18.0->dataclasses-json->unstructured) (24.2)\n",
            "Requirement already satisfied: annotated-types>=0.6.0 in /usr/local/lib/python3.11/dist-packages (from pydantic>=2.10.3->unstructured-client->unstructured) (0.7.0)\n",
            "Requirement already satisfied: pydantic-core==2.27.2 in /usr/local/lib/python3.11/dist-packages (from pydantic>=2.10.3->unstructured-client->unstructured) (2.27.2)\n",
            "Requirement already satisfied: mypy-extensions>=0.3.0 in /usr/local/lib/python3.11/dist-packages (from typing-inspect<1,>=0.4.0->dataclasses-json->unstructured) (1.0.0)\n",
            "Requirement already satisfied: pycparser in /usr/local/lib/python3.11/dist-packages (from cffi>=1.12->cryptography>=3.1->unstructured-client->unstructured) (2.22)\n",
            "Requirement already satisfied: sniffio>=1.1 in /usr/local/lib/python3.11/dist-packages (from anyio->httpx>=0.27.0->unstructured-client->unstructured) (1.3.1)\n",
            "Downloading unstructured-0.17.0-py3-none-any.whl (1.8 MB)\n",
            "\u001b[2K   \u001b[90m━━━━━━━━━━━━━━━━━━━━━━━━━━━━━━━━━━━━━━━━\u001b[0m \u001b[32m1.8/1.8 MB\u001b[0m \u001b[31m56.2 MB/s\u001b[0m eta \u001b[36m0:00:00\u001b[0m\n",
            "\u001b[?25hDownloading numpy-1.26.4-cp311-cp311-manylinux_2_17_x86_64.manylinux2014_x86_64.whl (18.3 MB)\n",
            "\u001b[2K   \u001b[90m━━━━━━━━━━━━━━━━━━━━━━━━━━━━━━━━━━━━━━━━\u001b[0m \u001b[32m18.3/18.3 MB\u001b[0m \u001b[31m75.9 MB/s\u001b[0m eta \u001b[36m0:00:00\u001b[0m\n",
            "\u001b[?25hDownloading emoji-2.14.1-py3-none-any.whl (590 kB)\n",
            "\u001b[2K   \u001b[90m━━━━━━━━━━━━━━━━━━━━━━━━━━━━━━━━━━━━━━━━\u001b[0m \u001b[32m590.6/590.6 kB\u001b[0m \u001b[31m32.3 MB/s\u001b[0m eta \u001b[36m0:00:00\u001b[0m\n",
            "\u001b[?25hDownloading filetype-1.2.0-py2.py3-none-any.whl (19 kB)\n",
            "Downloading python_iso639-2025.2.18-py3-none-any.whl (167 kB)\n",
            "\u001b[2K   \u001b[90m━━━━━━━━━━━━━━━━━━━━━━━━━━━━━━━━━━━━━━━━\u001b[0m \u001b[32m167.6/167.6 kB\u001b[0m \u001b[31m12.5 MB/s\u001b[0m eta \u001b[36m0:00:00\u001b[0m\n",
            "\u001b[?25hDownloading python_magic-0.4.27-py2.py3-none-any.whl (13 kB)\n",
            "Downloading python_oxmsg-0.0.2-py3-none-any.whl (31 kB)\n",
            "Downloading rapidfuzz-3.12.2-cp311-cp311-manylinux_2_17_x86_64.manylinux2014_x86_64.whl (3.1 MB)\n",
            "\u001b[2K   \u001b[90m━━━━━━━━━━━━━━━━━━━━━━━━━━━━━━━━━━━━━━━━\u001b[0m \u001b[32m3.1/3.1 MB\u001b[0m \u001b[31m78.2 MB/s\u001b[0m eta \u001b[36m0:00:00\u001b[0m\n",
            "\u001b[?25hDownloading unstructured_client-0.31.1-py3-none-any.whl (166 kB)\n",
            "\u001b[2K   \u001b[90m━━━━━━━━━━━━━━━━━━━━━━━━━━━━━━━━━━━━━━━━\u001b[0m \u001b[32m166.8/166.8 kB\u001b[0m \u001b[31m13.1 MB/s\u001b[0m eta \u001b[36m0:00:00\u001b[0m\n",
            "\u001b[?25hDownloading aiofiles-24.1.0-py3-none-any.whl (15 kB)\n",
            "Downloading eval_type_backport-0.2.2-py3-none-any.whl (5.8 kB)\n",
            "Downloading typing_inspection-0.4.0-py3-none-any.whl (14 kB)\n",
            "Downloading olefile-0.47-py2.py3-none-any.whl (114 kB)\n",
            "\u001b[2K   \u001b[90m━━━━━━━━━━━━━━━━━━━━━━━━━━━━━━━━━━━━━━━━\u001b[0m \u001b[32m114.6/114.6 kB\u001b[0m \u001b[31m7.0 MB/s\u001b[0m eta \u001b[36m0:00:00\u001b[0m\n",
            "\u001b[?25hBuilding wheels for collected packages: langdetect\n",
            "  Building wheel for langdetect (setup.py) ... \u001b[?25l\u001b[?25hdone\n",
            "  Created wheel for langdetect: filename=langdetect-1.0.9-py3-none-any.whl size=993222 sha256=8c4c2cc37ec55d0d539816e2ce480a5b47d99a1e3de08cc1a671f8a0e38fad3b\n",
            "  Stored in directory: /root/.cache/pip/wheels/0a/f2/b2/e5ca405801e05eb7c8ed5b3b4bcf1fcabcd6272c167640072e\n",
            "Successfully built langdetect\n",
            "Installing collected packages: filetype, typing-inspection, rapidfuzz, python-magic, python-iso639, olefile, numpy, langdetect, eval-type-backport, emoji, aiofiles, python-oxmsg, unstructured-client, unstructured\n",
            "  Attempting uninstall: numpy\n",
            "    Found existing installation: numpy 2.0.2\n",
            "    Uninstalling numpy-2.0.2:\n",
            "      Successfully uninstalled numpy-2.0.2\n",
            "Successfully installed aiofiles-24.1.0 emoji-2.14.1 eval-type-backport-0.2.2 filetype-1.2.0 langdetect-1.0.9 numpy-1.26.4 olefile-0.47 python-iso639-2025.2.18 python-magic-0.4.27 python-oxmsg-0.0.2 rapidfuzz-3.12.2 typing-inspection-0.4.0 unstructured-0.17.0 unstructured-client-0.31.1\n"
          ]
        }
      ]
    },
    {
      "cell_type": "code",
      "source": [
        "!unzip \"/content/PaulGrahamEssaysLarge.zip\" -d \"/content/PaulGrahamEssaysLarge\""
      ],
      "metadata": {
        "colab": {
          "base_uri": "https://localhost:8080/"
        },
        "id": "UkB0NWHxD0SP",
        "outputId": "6d6eea57-440a-4083-f2a8-6b2b07b6b585"
      },
      "execution_count": 82,
      "outputs": [
        {
          "output_type": "stream",
          "name": "stdout",
          "text": [
            "Archive:  /content/PaulGrahamEssaysLarge.zip\n",
            "  inflating: /content/PaulGrahamEssaysLarge/PaulGrahamEssaysLarge/nft.txt  \n",
            "  inflating: /content/PaulGrahamEssaysLarge/PaulGrahamEssaysLarge/love.txt  \n",
            "  inflating: /content/PaulGrahamEssaysLarge/PaulGrahamEssaysLarge/weird.txt  \n",
            "  inflating: /content/PaulGrahamEssaysLarge/PaulGrahamEssaysLarge/siliconvalley.txt  \n",
            "  inflating: /content/PaulGrahamEssaysLarge/PaulGrahamEssaysLarge/sun.txt  \n",
            "  inflating: /content/PaulGrahamEssaysLarge/PaulGrahamEssaysLarge/rss.txt  \n",
            "  inflating: /content/PaulGrahamEssaysLarge/PaulGrahamEssaysLarge/mod.txt  \n",
            "  inflating: /content/PaulGrahamEssaysLarge/PaulGrahamEssaysLarge/philosophy.txt  \n",
            "  inflating: /content/PaulGrahamEssaysLarge/PaulGrahamEssaysLarge/vb.txt  \n",
            "  inflating: /content/PaulGrahamEssaysLarge/PaulGrahamEssaysLarge/todo.txt  \n",
            "  inflating: /content/PaulGrahamEssaysLarge/PaulGrahamEssaysLarge/unions.txt  \n",
            "  inflating: /content/PaulGrahamEssaysLarge/PaulGrahamEssaysLarge/goodtaste.txt  \n",
            "  inflating: /content/PaulGrahamEssaysLarge/PaulGrahamEssaysLarge/rootsoflisp.txt  \n",
            "  inflating: /content/PaulGrahamEssaysLarge/PaulGrahamEssaysLarge/hubs.txt  \n",
            "  inflating: /content/PaulGrahamEssaysLarge/PaulGrahamEssaysLarge/web20.txt  \n",
            "  inflating: /content/PaulGrahamEssaysLarge/PaulGrahamEssaysLarge/vw.txt  \n",
            "  inflating: /content/PaulGrahamEssaysLarge/PaulGrahamEssaysLarge/know.txt  \n",
            "  inflating: /content/PaulGrahamEssaysLarge/PaulGrahamEssaysLarge/vcsqueeze.txt  \n",
            "  inflating: /content/PaulGrahamEssaysLarge/PaulGrahamEssaysLarge/laundry.txt  \n",
            "  inflating: /content/PaulGrahamEssaysLarge/PaulGrahamEssaysLarge/iflisp.txt  \n",
            "  inflating: /content/PaulGrahamEssaysLarge/PaulGrahamEssaysLarge/wisdom.txt  \n",
            "  inflating: /content/PaulGrahamEssaysLarge/PaulGrahamEssaysLarge/pow.txt  \n",
            "  inflating: /content/PaulGrahamEssaysLarge/PaulGrahamEssaysLarge/founders.txt  \n",
            "  inflating: /content/PaulGrahamEssaysLarge/PaulGrahamEssaysLarge/newideas.txt  \n",
            "  inflating: /content/PaulGrahamEssaysLarge/PaulGrahamEssaysLarge/corpdev.txt  \n",
            "  inflating: /content/PaulGrahamEssaysLarge/PaulGrahamEssaysLarge/foundervisa.txt  \n",
            "  inflating: /content/PaulGrahamEssaysLarge/PaulGrahamEssaysLarge/gba.txt  \n",
            "  inflating: /content/PaulGrahamEssaysLarge/PaulGrahamEssaysLarge/gap.txt  \n",
            "  inflating: /content/PaulGrahamEssaysLarge/PaulGrahamEssaysLarge/bias.txt  \n",
            "  inflating: /content/PaulGrahamEssaysLarge/PaulGrahamEssaysLarge/avg.txt  \n",
            "  inflating: /content/PaulGrahamEssaysLarge/PaulGrahamEssaysLarge/before.txt  \n",
            "  inflating: /content/PaulGrahamEssaysLarge/PaulGrahamEssaysLarge/aord.txt  \n",
            "  inflating: /content/PaulGrahamEssaysLarge/PaulGrahamEssaysLarge/diff.txt  \n",
            "  inflating: /content/PaulGrahamEssaysLarge/PaulGrahamEssaysLarge/superangels.txt  \n",
            "  inflating: /content/PaulGrahamEssaysLarge/PaulGrahamEssaysLarge/boss.txt  \n",
            "  inflating: /content/PaulGrahamEssaysLarge/PaulGrahamEssaysLarge/desres.txt  \n",
            "  inflating: /content/PaulGrahamEssaysLarge/PaulGrahamEssaysLarge/gh.txt  \n",
            "  inflating: /content/PaulGrahamEssaysLarge/PaulGrahamEssaysLarge/addiction.txt  \n",
            "  inflating: /content/PaulGrahamEssaysLarge/PaulGrahamEssaysLarge/worked.txt  \n",
            "  inflating: /content/PaulGrahamEssaysLarge/PaulGrahamEssaysLarge/apple.txt  \n",
            "  inflating: /content/PaulGrahamEssaysLarge/PaulGrahamEssaysLarge/startuplessons.txt  \n",
            "  inflating: /content/PaulGrahamEssaysLarge/PaulGrahamEssaysLarge/langdes.txt  \n",
            "  inflating: /content/PaulGrahamEssaysLarge/PaulGrahamEssaysLarge/popular.txt  \n",
            "  inflating: /content/PaulGrahamEssaysLarge/PaulGrahamEssaysLarge/submarine.txt  \n",
            "  inflating: /content/PaulGrahamEssaysLarge/PaulGrahamEssaysLarge/copy.txt  \n",
            "  inflating: /content/PaulGrahamEssaysLarge/PaulGrahamEssaysLarge/want.txt  \n",
            "  inflating: /content/PaulGrahamEssaysLarge/PaulGrahamEssaysLarge/ecw.txt  \n",
            "  inflating: /content/PaulGrahamEssaysLarge/PaulGrahamEssaysLarge/useful.txt  \n",
            "  inflating: /content/PaulGrahamEssaysLarge/PaulGrahamEssaysLarge/island.txt  \n"
          ]
        }
      ]
    },
    {
      "cell_type": "code",
      "source": [
        "loader = DirectoryLoader('/content/PaulGrahamEssaysLarge/PaulGrahamEssaysLarge/', glob=\"**/*.txt\", show_progress=True)\n",
        "\n",
        "docs = loader.load()"
      ],
      "metadata": {
        "id": "sUdY9RHFGxuR",
        "colab": {
          "base_uri": "https://localhost:8080/"
        },
        "outputId": "5df32731-db29-485e-cc93-20a12180c5e8"
      },
      "execution_count": 84,
      "outputs": [
        {
          "output_type": "stream",
          "name": "stderr",
          "text": [
            "100%|██████████| 49/49 [00:13<00:00,  3.72it/s]\n"
          ]
        }
      ]
    },
    {
      "cell_type": "code",
      "source": [
        "# Split\n",
        "text_splitter = RecursiveCharacterTextSplitter(chunk_size=1500, chunk_overlap=0)\n",
        "splits = text_splitter.split_documents(docs)\n",
        "\n",
        "print (f\"Your {len(docs)} documents have been split into {len(splits)} chunks\")"
      ],
      "metadata": {
        "id": "KDnbfCZBG01l",
        "colab": {
          "base_uri": "https://localhost:8080/"
        },
        "outputId": "7a3e8b5d-ae83-47ea-b2eb-b1cd2a318876"
      },
      "execution_count": 85,
      "outputs": [
        {
          "output_type": "stream",
          "name": "stdout",
          "text": [
            "Your 49 documents have been split into 471 chunks\n"
          ]
        }
      ]
    },
    {
      "cell_type": "code",
      "source": [
        "if 'vectordb' in globals(): # If you've already made your vectordb this will delete it so you start fresh\n",
        "    vectordb.delete_collection()\n",
        "\n",
        "embedding = OpenAIEmbeddings()\n",
        "\n",
        "vectordb = Chroma.from_documents(documents=splits, embedding=embedding)"
      ],
      "metadata": {
        "id": "aBfowsv2G4P7"
      },
      "execution_count": 86,
      "outputs": []
    },
    {
      "cell_type": "markdown",
      "source": [
        "##MultiQuery"
      ],
      "metadata": {
        "id": "bnKVnFcIG5AS"
      }
    },
    {
      "cell_type": "code",
      "source": [
        "from langchain.chat_models import ChatOpenAI\n",
        "from langchain.retrievers.multi_query import MultiQueryRetriever\n",
        "from langchain.prompts import PromptTemplate\n",
        "# Set logging for the queries\n",
        "import logging"
      ],
      "metadata": {
        "id": "H2Qc8lS2G8-D"
      },
      "execution_count": 87,
      "outputs": []
    },
    {
      "cell_type": "code",
      "source": [
        "logging.basicConfig()\n",
        "logging.getLogger(\"langchain.retrievers.multi_query\").setLevel(logging.INFO)"
      ],
      "metadata": {
        "id": "pQGbuDalHD8T"
      },
      "execution_count": 88,
      "outputs": []
    },
    {
      "cell_type": "code",
      "source": [
        "question = \"What is the authors view on the early stages of a startup?\"\n",
        "llm = ChatOpenAI(temperature=0,openai_api_key=OPENAI_API_KEY)\n",
        "\n",
        "retriever_from_llm = MultiQueryRetriever.from_llm(\n",
        "    retriever=vectordb.as_retriever(), llm=llm\n",
        ")"
      ],
      "metadata": {
        "id": "Nx0q0H-iHGJp"
      },
      "execution_count": 89,
      "outputs": []
    },
    {
      "cell_type": "code",
      "source": [
        "unique_docs = retriever_from_llm.get_relevant_documents(query=question)"
      ],
      "metadata": {
        "id": "D8OfeEpeHJJa",
        "colab": {
          "base_uri": "https://localhost:8080/"
        },
        "outputId": "29eb6c91-c334-4991-dfa7-79e786b2c510"
      },
      "execution_count": 90,
      "outputs": [
        {
          "output_type": "stream",
          "name": "stderr",
          "text": [
            "INFO:langchain.retrievers.multi_query:Generated queries: ['1. How does the author perceive the initial phases of a startup?', \"2. What are the author's thoughts on the beginning stages of a startup?\", '3. What insights does the author offer regarding the early development of a startup?']\n"
          ]
        }
      ]
    },
    {
      "cell_type": "code",
      "source": [
        "len(unique_docs)"
      ],
      "metadata": {
        "id": "YycUUnvtHMFL",
        "colab": {
          "base_uri": "https://localhost:8080/"
        },
        "outputId": "3aac75e0-2b83-4aa5-846e-c08fd17c83fc"
      },
      "execution_count": 91,
      "outputs": [
        {
          "output_type": "execute_result",
          "data": {
            "text/plain": [
              "8"
            ]
          },
          "metadata": {},
          "execution_count": 91
        }
      ]
    },
    {
      "cell_type": "code",
      "source": [
        "prompt_template = \"\"\"Use the following pieces of context to answer the question at the end.\n",
        "If you don't know the answer, just say that you don't know, don't try to make up an answer.\n",
        "\n",
        "{context}\n",
        "\n",
        "Question: {question}\n",
        "Answer:\"\"\"\n",
        "PROMPT = PromptTemplate(\n",
        "    template=prompt_template, input_variables=[\"context\", \"question\"]\n",
        ")"
      ],
      "metadata": {
        "id": "fvc-VKVTHOs8"
      },
      "execution_count": 92,
      "outputs": []
    },
    {
      "cell_type": "code",
      "source": [
        "from langchain_core.messages import HumanMessage\n",
        "\n",
        "response = llm(messages=[HumanMessage(\n",
        "    content=PROMPT.format_prompt(\n",
        "        context=\"\".join([doc.page_content for doc in unique_docs]),\n",
        "        question=question\n",
        "    ).text\n",
        ")])"
      ],
      "metadata": {
        "id": "D9FWdRKkGIBy"
      },
      "execution_count": 97,
      "outputs": []
    },
    {
      "cell_type": "code",
      "source": [
        "response"
      ],
      "metadata": {
        "colab": {
          "base_uri": "https://localhost:8080/"
        },
        "id": "hDxw17SbGNfB",
        "outputId": "4a7a235e-f3a5-441f-d0b6-e68344ff39a2"
      },
      "execution_count": 98,
      "outputs": [
        {
          "output_type": "execute_result",
          "data": {
            "text/plain": [
              "AIMessage(content='The author believes that the key stage in the life of a startup is when they are just starting out with a minimal product and a small team, typically operating out of an apartment. This early stage is crucial for the success of a startup, and the author emphasizes the importance of releasing a version 1 quickly and improving it based on user feedback. The author also mentions that determination is the most important quality in a startup founder, rather than intelligence.', additional_kwargs={}, response_metadata={'token_usage': {'completion_tokens': 90, 'prompt_tokens': 2716, 'total_tokens': 2806, 'completion_tokens_details': {'accepted_prediction_tokens': 0, 'audio_tokens': 0, 'reasoning_tokens': 0, 'rejected_prediction_tokens': 0}, 'prompt_tokens_details': {'audio_tokens': 0, 'cached_tokens': 0}}, 'model_name': 'gpt-3.5-turbo', 'system_fingerprint': None, 'finish_reason': 'stop', 'logprobs': None}, id='run-7f2c9293-7ace-498e-b6d6-b89bf7f6087e-0')"
            ]
          },
          "metadata": {},
          "execution_count": 98
        }
      ]
    },
    {
      "cell_type": "code",
      "source": [
        "response.content"
      ],
      "metadata": {
        "colab": {
          "base_uri": "https://localhost:8080/",
          "height": 87
        },
        "id": "h4uhr0KmGTN8",
        "outputId": "dc8a7fb7-643c-4e1c-bd01-802d4ef7a3b1"
      },
      "execution_count": 99,
      "outputs": [
        {
          "output_type": "execute_result",
          "data": {
            "text/plain": [
              "'The author believes that the key stage in the life of a startup is when they are just starting out with a minimal product and a small team, typically operating out of an apartment. This early stage is crucial for the success of a startup, and the author emphasizes the importance of releasing a version 1 quickly and improving it based on user feedback. The author also mentions that determination is the most important quality in a startup founder, rather than intelligence.'"
            ],
            "application/vnd.google.colaboratory.intrinsic+json": {
              "type": "string"
            }
          },
          "metadata": {},
          "execution_count": 99
        }
      ]
    },
    {
      "cell_type": "code",
      "source": [
        "print(response.content)"
      ],
      "metadata": {
        "colab": {
          "base_uri": "https://localhost:8080/"
        },
        "id": "PiHOxn0oGXHM",
        "outputId": "7c7a93ad-35ad-4114-f321-c24d52f0b9b2"
      },
      "execution_count": 100,
      "outputs": [
        {
          "output_type": "stream",
          "name": "stdout",
          "text": [
            "The author believes that the key stage in the life of a startup is when they are just starting out with a minimal product and a small team, typically operating out of an apartment. This early stage is crucial for the success of a startup, and the author emphasizes the importance of releasing a version 1 quickly and improving it based on user feedback. The author also mentions that determination is the most important quality in a startup founder, rather than intelligence.\n"
          ]
        }
      ]
    },
    {
      "cell_type": "markdown",
      "source": [
        "##Contextual Compression"
      ],
      "metadata": {
        "id": "CkVJ4D74HVzB"
      }
    },
    {
      "cell_type": "code",
      "source": [
        "from langchain.retrievers import ContextualCompressionRetriever\n",
        "from langchain.retrievers.document_compressors import LLMChainExtractor"
      ],
      "metadata": {
        "id": "7LUXdIX1HWwM"
      },
      "execution_count": 101,
      "outputs": []
    },
    {
      "cell_type": "code",
      "source": [
        "llm = ChatOpenAI(temperature=0,openai_api_key=OPENAI_API_KEY, model='gpt-4')\n",
        "\n",
        "compressor = LLMChainExtractor.from_llm(llm)\n",
        "compression_retriever = ContextualCompressionRetriever(base_compressor=compressor,\n",
        "                                                       base_retriever=vectordb.as_retriever())"
      ],
      "metadata": {
        "id": "uKPIFNTwHcjd"
      },
      "execution_count": 102,
      "outputs": []
    },
    {
      "cell_type": "code",
      "source": [
        "splits[0].page_content"
      ],
      "metadata": {
        "id": "APYyBCUsHaDa",
        "colab": {
          "base_uri": "https://localhost:8080/",
          "height": 174
        },
        "outputId": "0db179f4-b894-47f2-bc2a-c054db8c0f7d"
      },
      "execution_count": 103,
      "outputs": [
        {
          "output_type": "execute_result",
          "data": {
            "text/plain": [
              "\"July 2006I've discovered a handy test for figuring out what you're addicted\\n\\nto.  Imagine you were going to spend the weekend at a friend's house\\n\\non a little island off the coast of Maine.  There are no shops on\\n\\nthe island and you won't be able to leave while you're there.  Also,\\n\\nyou've never been to this house before, so you can't assume it will\\n\\nhave more than any house might.What, besides clothes and toiletries, do you make a point of packing?\\n\\nThat's what you're addicted to.  For example, if you find yourself\\n\\npacking a bottle of vodka (just in case), you may want to stop and\\n\\nthink about that.For me the list is four things: books, earplugs, a notebook, and a\\n\\npen.There are other things I might bring if I thought of it, like music,\\n\\nor tea, but I can live without them.  I'm not so addicted to caffeine\\n\\nthat I wouldn't risk the house not having any tea, just for a\\n\\nweekend.Quiet is another matter.  I realize it seems a bit eccentric to\\n\\ntake earplugs on a trip to an island off the coast of Maine.  If\\n\\nanywhere should be quiet, that should.  But what if the person in\\n\\nthe next room snored?  What if there was a kid playing basketball?\\n\\n(Thump, thump, thump... thump.)  Why risk it?  Earplugs are small.Sometimes I can think with noise.  If I already have momentum on\\n\\nsome project, I can work in noisy places.  I can edit an essay or\\n\\ndebug code in an airport.  But airports are not so bad: most of the\\n\\nnoise is whitish.  I couldn't work with the sound of a sitcom coming\""
            ],
            "application/vnd.google.colaboratory.intrinsic+json": {
              "type": "string"
            }
          },
          "metadata": {},
          "execution_count": 103
        }
      ]
    },
    {
      "cell_type": "code",
      "source": [
        "compressor.compress_documents(documents=[splits[0]], query=\"test for what you like to do\")"
      ],
      "metadata": {
        "id": "87OOw8pgHitR",
        "colab": {
          "base_uri": "https://localhost:8080/"
        },
        "outputId": "340a805e-adce-4eb6-821e-c4e4455588fd"
      },
      "execution_count": 104,
      "outputs": [
        {
          "output_type": "execute_result",
          "data": {
            "text/plain": [
              "[Document(metadata={'source': '/content/PaulGrahamEssaysLarge/PaulGrahamEssaysLarge/island.txt'}, page_content=\"I've discovered a handy test for figuring out what you're addicted to.  Imagine you were going to spend the weekend at a friend's house on a little island off the coast of Maine.  There are no shops on the island and you won't be able to leave while you're there.  Also, you've never been to this house before, so you can't assume it will have more than any house might.What, besides clothes and toiletries, do you make a point of packing? That's what you're addicted to.\")]"
            ]
          },
          "metadata": {},
          "execution_count": 104
        }
      ]
    },
    {
      "cell_type": "code",
      "source": [
        "question = \"What is the authors view on the early stages of a startup?\"\n",
        "compressed_docs = compression_retriever.get_relevant_documents(question)"
      ],
      "metadata": {
        "id": "9EV9ZyHlHkl8"
      },
      "execution_count": 105,
      "outputs": []
    },
    {
      "cell_type": "code",
      "source": [
        "print (len(compressed_docs))"
      ],
      "metadata": {
        "id": "lZ2k9pHMHm6e",
        "colab": {
          "base_uri": "https://localhost:8080/"
        },
        "outputId": "fd8f375f-277f-4d77-dfa7-6f3130ac9d26"
      },
      "execution_count": 106,
      "outputs": [
        {
          "output_type": "stream",
          "name": "stdout",
          "text": [
            "4\n"
          ]
        }
      ]
    },
    {
      "cell_type": "code",
      "source": [
        "print(compressed_docs[0].page_content)"
      ],
      "metadata": {
        "colab": {
          "base_uri": "https://localhost:8080/"
        },
        "id": "6Q6c9QHWG4V_",
        "outputId": "ae0f740b-0758-4e54-e69d-daa3e3c5fd26"
      },
      "execution_count": 107,
      "outputs": [
        {
          "output_type": "stream",
          "name": "stdout",
          "text": [
            "The thing I probably repeat most is this recipe for a startup: get a version 1 out fast, then improve it based on users' reactions.By \"release early\" I don't mean you should release something full of bugs, but that you should release something minimal.  Users hate bugs, but they don't seem to mind a minimal version 1, if there's more coming soon.There are several reasons it pays to get version 1 done fast.  One is that this is simply the right way to write software, whether for a startup or not.  I've been repeating that since 1993, and I haven't seen much since to contradict it.  I've seen a lot of startups die because they were too slow to release stuff, and none because they were too quick.\n"
          ]
        }
      ]
    },
    {
      "cell_type": "code",
      "source": [
        "prompt_template = \"\"\"Use the following pieces of context to answer the question at the end.\n",
        "If you don't know the answer, just say that you don't know, don't try to make up an answer.\n",
        "\n",
        "{context}\n",
        "\n",
        "Question: {question}\n",
        "Answer:\"\"\"\n",
        "PROMPT = PromptTemplate(\n",
        "    template=prompt_template, input_variables=[\"context\", \"question\"]\n",
        ")"
      ],
      "metadata": {
        "id": "3eDrIUrAHp_r"
      },
      "execution_count": 108,
      "outputs": []
    },
    {
      "cell_type": "code",
      "source": [
        "from langchain_core.messages import HumanMessage\n",
        "\n",
        "response = llm(messages=[HumanMessage(\n",
        "    content=PROMPT.format_prompt(\n",
        "        context=\"\".join([doc.page_content for doc in compressed_docs]),\n",
        "        question=question\n",
        "    ).text\n",
        ")])"
      ],
      "metadata": {
        "id": "OkUjt7rNHLa9"
      },
      "execution_count": 109,
      "outputs": []
    },
    {
      "cell_type": "code",
      "source": [
        "response"
      ],
      "metadata": {
        "id": "eP-RDfbzHtoh",
        "colab": {
          "base_uri": "https://localhost:8080/"
        },
        "outputId": "c61dec89-a9bc-44d6-8c3f-7559606615e9"
      },
      "execution_count": 110,
      "outputs": [
        {
          "output_type": "execute_result",
          "data": {
            "text/plain": [
              "AIMessage(content=\"The author believes that the early stages of a startup are crucial and should involve releasing a minimal version 1 of the product quickly, then improving it based on user feedback. They believe this is the right way to write software and have seen startups fail because they were too slow to release their product. They also mention that the key stage in a startup's life is when it's a small team operating out of an apartment, and wherever the startup is when it gets funded, it will stay.\", additional_kwargs={}, response_metadata={'token_usage': {'completion_tokens': 99, 'prompt_tokens': 406, 'total_tokens': 505, 'completion_tokens_details': {'accepted_prediction_tokens': 0, 'audio_tokens': 0, 'reasoning_tokens': 0, 'rejected_prediction_tokens': 0}, 'prompt_tokens_details': {'audio_tokens': 0, 'cached_tokens': 0}}, 'model_name': 'gpt-4', 'system_fingerprint': None, 'finish_reason': 'stop', 'logprobs': None}, id='run-6cecf73b-4e24-4b6f-a389-1e65c17e02dd-0')"
            ]
          },
          "metadata": {},
          "execution_count": 110
        }
      ]
    },
    {
      "cell_type": "code",
      "source": [
        "response.content"
      ],
      "metadata": {
        "colab": {
          "base_uri": "https://localhost:8080/",
          "height": 87
        },
        "id": "q967wtwzHbjD",
        "outputId": "bd88d3bc-23d6-4fb9-f407-9ec098e04883"
      },
      "execution_count": 111,
      "outputs": [
        {
          "output_type": "execute_result",
          "data": {
            "text/plain": [
              "\"The author believes that the early stages of a startup are crucial and should involve releasing a minimal version 1 of the product quickly, then improving it based on user feedback. They believe this is the right way to write software and have seen startups fail because they were too slow to release their product. They also mention that the key stage in a startup's life is when it's a small team operating out of an apartment, and wherever the startup is when it gets funded, it will stay.\""
            ],
            "application/vnd.google.colaboratory.intrinsic+json": {
              "type": "string"
            }
          },
          "metadata": {},
          "execution_count": 111
        }
      ]
    },
    {
      "cell_type": "code",
      "source": [
        "print(response.content)"
      ],
      "metadata": {
        "colab": {
          "base_uri": "https://localhost:8080/"
        },
        "id": "jtBLpg5iHhIm",
        "outputId": "1f227604-c43b-4589-9c38-00d9940116a5"
      },
      "execution_count": 112,
      "outputs": [
        {
          "output_type": "stream",
          "name": "stdout",
          "text": [
            "The author believes that the early stages of a startup are crucial and should involve releasing a minimal version 1 of the product quickly, then improving it based on user feedback. They believe this is the right way to write software and have seen startups fail because they were too slow to release their product. They also mention that the key stage in a startup's life is when it's a small team operating out of an apartment, and wherever the startup is when it gets funded, it will stay.\n"
          ]
        }
      ]
    },
    {
      "cell_type": "markdown",
      "source": [
        "##Parent Document Retriever"
      ],
      "metadata": {
        "id": "A_GAUfhJHw4D"
      }
    },
    {
      "cell_type": "code",
      "source": [
        "from langchain.retrievers import ParentDocumentRetriever\n",
        "from langchain.storage import InMemoryStore"
      ],
      "metadata": {
        "id": "Y1Epo4SxHx8e"
      },
      "execution_count": 113,
      "outputs": []
    },
    {
      "cell_type": "code",
      "source": [
        "# This text splitter is used to create the child documents. They should be small chunk size.\n",
        "child_splitter = RecursiveCharacterTextSplitter(chunk_size=400)"
      ],
      "metadata": {
        "id": "OyRrsv3MH14V"
      },
      "execution_count": 114,
      "outputs": []
    },
    {
      "cell_type": "code",
      "source": [
        "# The vectorstore to use to index the child chunks\n",
        "vectorstore = Chroma(\n",
        "    collection_name=\"return_full_documents\",\n",
        "    embedding_function=OpenAIEmbeddings(openai_api_key=OPENAI_API_KEY)\n",
        ")"
      ],
      "metadata": {
        "id": "fVaflAasH3k8"
      },
      "execution_count": 115,
      "outputs": []
    },
    {
      "cell_type": "code",
      "source": [
        "# The storage layer for the parent documents\n",
        "store = InMemoryStore()\n",
        "\n",
        "retriever = ParentDocumentRetriever(\n",
        "    vectorstore=vectorstore,\n",
        "    docstore=store,\n",
        "    child_splitter=child_splitter,\n",
        ")"
      ],
      "metadata": {
        "id": "Ozn6Bdn3H6ID"
      },
      "execution_count": 116,
      "outputs": []
    },
    {
      "cell_type": "code",
      "source": [
        "retriever.add_documents(docs, ids=None)"
      ],
      "metadata": {
        "id": "b4myx3liH9U8"
      },
      "execution_count": 117,
      "outputs": []
    },
    {
      "cell_type": "code",
      "source": [
        "sub_docs = vectorstore.similarity_search(\"what is some investing advice?\")"
      ],
      "metadata": {
        "id": "2rghw51qH_Nu"
      },
      "execution_count": 118,
      "outputs": []
    },
    {
      "cell_type": "code",
      "source": [
        "retrieved_docs = retriever.get_relevant_documents(\"what is some investing advice?\")"
      ],
      "metadata": {
        "id": "7Yg9FVyRICym"
      },
      "execution_count": 119,
      "outputs": []
    },
    {
      "cell_type": "code",
      "source": [
        "retrieved_docs"
      ],
      "metadata": {
        "colab": {
          "base_uri": "https://localhost:8080/"
        },
        "id": "RtKQw6zVIAZX",
        "outputId": "ebf90f2e-2396-4709-d1f7-1d5616cc90d9"
      },
      "execution_count": 121,
      "outputs": [
        {
          "output_type": "execute_result",
          "data": {
            "text/plain": [
              "[Document(metadata={'source': '/content/PaulGrahamEssaysLarge/PaulGrahamEssaysLarge/vcsqueeze.txt'}, page_content='November 2005In the next few years, venture capital funds will find themselves\\n\\nsqueezed from four directions.  They\\'re already stuck with a seller\\'s\\n\\nmarket, because of the huge amounts they raised at the end of the\\n\\nBubble and still haven\\'t invested.  This by itself is not the end\\n\\nof the world.  In fact, it\\'s just a more extreme version of the\\n\\nnorm\\n\\nin the VC business: too much money chasing too few deals.Unfortunately, those few deals now want less and less money, because\\n\\nit\\'s getting so cheap to start a startup.  The four causes: open\\n\\nsource, which makes software free; Moore\\'s law, which makes hardware\\n\\ngeometrically closer to free; the Web, which makes promotion free\\n\\nif you\\'re good; and better languages, which make development a lot\\n\\ncheaper.When we started our startup in 1995, the first three were our biggest\\n\\nexpenses.  We had to pay $5000 for the Netscape Commerce Server,\\n\\nthe only software that then supported secure http connections.  We\\n\\npaid $3000 for a server with a 90 MHz processor and 32 meg of\\n\\nmemory.  And we paid a PR firm about $30,000 to promote our launch.Now you could get all three for nothing.  You can get the software\\n\\nfor free; people throw away computers more powerful than our first\\n\\nserver; and if you make something good you can generate ten times\\n\\nas much traffic by word of mouth online than our first PR firm got\\n\\nthrough the print media.And of course another big change for the average startup is that\\n\\nprogramming languages have improved-- or rather, the median language has.  At most startups ten years\\n\\nago, software development meant ten programmers writing code in\\n\\nC++.  Now the same work might be done by one or two using Python\\n\\nor Ruby.During the Bubble, a lot of people predicted that startups would\\n\\noutsource their development to India.  I think a better model for\\n\\nthe future is David Heinemeier Hansson, who outsourced his development\\n\\nto a more powerful language instead.  A lot of well-known applications\\n\\nare now, like BaseCamp, written by just one programmer.  And one\\n\\nguy is more than 10x cheaper than ten, because (a) he won\\'t waste\\n\\nany time in meetings, and (b) since he\\'s probably a founder, he can\\n\\npay himself nothing.Because starting a startup is so cheap, venture capitalists now\\n\\noften want to give startups more money than the startups want to\\n\\ntake.  VCs like to invest several million at a time.  But as one\\n\\nVC told me after a startup he funded would only take about half a\\n\\nmillion, \"I don\\'t know what we\\'re going to do.  Maybe we\\'ll just\\n\\nhave to give some of it back.\" Meaning give some of the fund back\\n\\nto the institutional investors who supplied it, because it wasn\\'t\\n\\ngoing to be possible to invest it all.Into this already bad situation comes the third problem: Sarbanes-Oxley.\\n\\nSarbanes-Oxley is a law, passed after the Bubble, that drastically\\n\\nincreases the regulatory burden on public companies. And in addition\\n\\nto the cost of compliance, which is at least two million dollars a\\n\\nyear, the law introduces frightening legal exposure for corporate\\n\\nofficers.  An experienced CFO I know said flatly: \"I would not\\n\\nwant to be CFO of a public company now.\"You might think that responsible corporate governance is an area\\n\\nwhere you can\\'t go too far.  But you can go too far in any law, and\\n\\nthis remark convinced me that Sarbanes-Oxley must have.  This CFO\\n\\nis both the smartest and the most upstanding money guy I know.  If\\n\\nSarbanes-Oxley deters people like him from being CFOs of public\\n\\ncompanies, that\\'s proof enough that it\\'s broken.Largely because of Sarbanes-Oxley, few startups go public now.  For\\n\\nall practical purposes, succeeding now equals getting bought.  Which\\n\\nmeans VCs are now in the business of finding promising little 2-3\\n\\nman startups and pumping them up into companies that cost $100\\n\\nmillion to acquire.   They didn\\'t mean to be in this business; it\\'s\\n\\njust what their business has evolved into.Hence the fourth problem: the acquirers have begun to realize they\\n\\ncan buy wholesale.  Why should they wait for VCs to make the startups\\n\\nthey want more expensive?  Most of what the VCs add, acquirers don\\'t\\n\\nwant anyway.  The acquirers already have brand recognition and HR\\n\\ndepartments.  What they really want is the software and the developers,\\n\\nand that\\'s what the startup is in the early phase: concentrated\\n\\nsoftware and developers.Google, typically, seems to have been the first to figure this out.\\n\\n\"Bring us your startups early,\" said Google\\'s speaker at the Startup School.  They\\'re quite\\n\\nexplicit about it: they like to acquire startups at just the point\\n\\nwhere they would do a Series A round.  (The Series A round is the\\n\\nfirst round of real VC funding; it usually happens in the first\\n\\nyear.) It is a brilliant strategy, and one that other big technology\\n\\ncompanies will no doubt try to duplicate.  Unless they want to have\\n\\nstill more of their lunch eaten by Google.Of course, Google has an advantage in buying startups: a lot of the\\n\\npeople there are rich, or expect to be when their options vest.\\n\\nOrdinary employees find it very hard to recommend an acquisition;\\n\\nit\\'s just too annoying to see a bunch of twenty year olds get rich\\n\\nwhen you\\'re still working for salary.  Even if it\\'s the right thing\\n\\nfor your company to do.The Solution(s)Bad as things look now, there is a way for VCs to save themselves.\\n\\nThey need to do two things, one of which won\\'t surprise them, and\\n\\nanother that will seem an anathema.Let\\'s start with the obvious one: lobby to get Sarbanes-Oxley\\n\\nloosened.  This law was created to prevent future Enrons, not to\\n\\ndestroy the IPO market.  Since the IPO market was practically dead\\n\\nwhen it passed, few saw what bad effects it would have.  But now\\n\\nthat technology has recovered from the last bust, we can see clearly\\n\\nwhat a bottleneck Sarbanes-Oxley has become.Startups are fragile plants—seedlings, in fact.  These seedlings\\n\\nare worth protecting, because they grow into the trees of the\\n\\neconomy.  Much of the economy\\'s growth is their growth.  I think\\n\\nmost politicians realize that.  But they don\\'t realize just how\\n\\nfragile startups are, and how easily they can become collateral\\n\\ndamage of laws meant to fix some other problem.Still more dangerously, when you destroy startups, they make very\\n\\nlittle noise.  If you step on the toes of the coal industry, you\\'ll\\n\\nhear about it.  But if you inadvertantly squash the startup industry,\\n\\nall that happens is that the founders of the next Google stay in\\n\\ngrad school instead of starting a company.My second suggestion will seem shocking to VCs: let founders cash\\n\\nout partially in the Series A round.  At the moment, when VCs invest\\n\\nin a startup, all the stock they get is newly issued and all the\\n\\nmoney goes to the company.  They could buy some stock directly from\\n\\nthe founders as well.Most VCs have an almost religious rule against doing this.  They\\n\\ndon\\'t want founders to get a penny till the company is sold or goes\\n\\npublic.  VCs are obsessed with control, and they worry that they\\'ll\\n\\nhave less leverage over the founders if the founders have any money.This is a dumb plan.  In fact, letting the founders sell a little stock\\n\\nearly would generally be better for the company, because it would\\n\\ncause the founders\\' attitudes toward risk to be aligned with the\\n\\nVCs\\'.  As things currently work, their attitudes toward risk tend\\n\\nto be diametrically opposed: the founders, who have nothing, would\\n\\nprefer a 100% chance of $1 million to a 20% chance of $10 million,\\n\\nwhile the VCs can afford to be \"rational\" and prefer the latter.Whatever they say, the reason founders are selling their companies\\n\\nearly instead of doing Series A rounds is that they get paid up\\n\\nfront.  That first million is just worth so much more than the\\n\\nsubsequent ones.  If founders could sell a little stock early,\\n\\nthey\\'d be happy to take VC money and bet the rest on a bigger\\n\\noutcome.So why not let the founders have that first million, or at least\\n\\nhalf million?  The VCs would get same number of shares for the\\n\\nmoney.  So what if some of the money would go to the\\n\\nfounders instead of the company?Some VCs will say this is\\n\\nunthinkable—that they want all their money to be put to work\\n\\ngrowing the company.  But the fact is, the huge size of current VC\\n\\ninvestments is dictated by the structure\\n\\nof VC funds, not the needs of startups.  Often as not these large\\n\\ninvestments go to work destroying the company rather than growing\\n\\nit.The angel investors who funded our startup let the founders sell\\n\\nsome stock directly to them, and it was a good deal for everyone.\\n\\nThe angels made a huge return on that investment, so they\\'re happy.\\n\\nAnd for us founders it blunted the terrifying all-or-nothingness\\n\\nof a startup, which in its raw form is more a distraction than a\\n\\nmotivator.If VCs are frightened at the idea of letting founders partially\\n\\ncash out, let me tell them something still more frightening: you\\n\\nare now competing directly with Google.\\n\\nThanks to Trevor Blackwell, Sarah Harlin, Jessica\\n\\nLivingston, and Robert Morris for reading drafts of this.'),\n",
              " Document(metadata={'source': '/content/PaulGrahamEssaysLarge/PaulGrahamEssaysLarge/aord.txt'}, page_content='October 2015When I talk to a startup that\\'s been operating for more than 8 or\\n\\n9 months, the first thing I want to know is almost always the same.\\n\\nAssuming their expenses remain constant and their revenue growth\\n\\nis what it has been over the last several months, do they make it to\\n\\nprofitability on the money they have left?  Or to put it more\\n\\ndramatically, by default do they live or die?The startling thing is how often the founders themselves don\\'t know.\\n\\nHalf the founders I talk to don\\'t know whether they\\'re default alive\\n\\nor default dead.If you\\'re among that number, Trevor Blackwell has made a handy\\n\\ncalculator you can use to find out.The reason I want to know first whether a startup is default alive\\n\\nor default dead is that the rest of the conversation depends on the\\n\\nanswer.  If the company is default alive, we can talk about ambitious\\n\\nnew things they could do.  If it\\'s default dead, we probably need\\n\\nto talk about how to save it.  We know the current trajectory ends\\n\\nbadly.  How can they get off that trajectory?Why do so few founders know whether they\\'re default alive or default\\n\\ndead?  Mainly, I think, because they\\'re not used to asking that.\\n\\nIt\\'s not a question that makes sense to ask early on, any more than\\n\\nit makes sense to ask a 3 year old how he plans to support\\n\\nhimself.  But as the company grows older, the question switches from\\n\\nmeaningless to critical.  That kind of switch often takes people\\n\\nby surprise.I propose the following solution: instead of starting to ask too\\n\\nlate whether you\\'re default alive or default dead, start asking too\\n\\nearly.  It\\'s hard to say precisely when the question switches\\n\\npolarity.  But it\\'s probably not that dangerous to start worrying\\n\\ntoo early that you\\'re default dead, whereas it\\'s very dangerous to\\n\\nstart worrying too late.The reason is a phenomenon I wrote about earlier: the\\n\\nfatal pinch.\\n\\nThe fatal pinch is default dead + slow growth + not enough\\n\\ntime to fix it.  And the way founders end up in it is by not realizing\\n\\nthat\\'s where they\\'re headed.There is another reason founders don\\'t ask themselves whether they\\'re\\n\\ndefault alive or default dead: they assume it will be easy to raise\\n\\nmore money.  But that assumption is often false, and worse still, the\\n\\nmore you depend on it, the falser it becomes.Maybe it will help to separate facts from hopes. Instead of thinking\\n\\nof the future with vague optimism, explicitly separate the components.\\n\\nSay \"We\\'re default dead, but we\\'re counting on investors to save\\n\\nus.\" Maybe as you say that, it will set off the same alarms in your\\n\\nhead that it does in mine.  And if you set off the alarms sufficiently\\n\\nearly, you may be able to avoid the fatal pinch.It would be safe to be default dead if you could count on investors\\n\\nsaving you.  As a rule their interest is a function of\\n\\ngrowth.  If you have steep revenue growth, say over 5x a year, you\\n\\ncan start to count on investors being interested even if you\\'re not\\n\\nprofitable.\\n\\n[1]\\n\\nBut investors are so fickle that you can never\\n\\ndo more than start to count on them.  Sometimes something about your\\n\\nbusiness will spook investors even if your growth is great.  So no\\n\\nmatter how good your growth is, you can never safely treat fundraising\\n\\nas more than a plan A. You should always have a plan B as well: you\\n\\nshould know (as in write down) precisely what you\\'ll need to do to\\n\\nsurvive if you can\\'t raise more money, and precisely when you\\'ll\\n\\nhave to switch to plan B if plan A isn\\'t working.In any case, growing fast versus operating cheaply is far from the\\n\\nsharp dichotomy many founders assume it to be.  In practice there\\n\\nis surprisingly little connection between how much a startup spends\\n\\nand how fast it grows.  When a startup grows fast, it\\'s usually\\n\\nbecause the product hits a nerve, in the sense of hitting some big\\n\\nneed straight on.  When a startup spends a lot, it\\'s usually because\\n\\nthe product is expensive to develop or sell, or simply because\\n\\nthey\\'re wasteful.If you\\'re paying attention, you\\'ll be asking at this point not just\\n\\nhow to avoid the fatal pinch, but how to avoid being default dead.\\n\\nThat one is easy: don\\'t hire too fast.  Hiring too fast is by far\\n\\nthe biggest killer of startups that raise money.\\n\\n[2]Founders tell themselves they need to hire in order to grow.  But\\n\\nmost err on the side of overestimating this need rather than\\n\\nunderestimating it.  Why?  Partly because there\\'s so much work to\\n\\ndo.  Naive founders think that if they can just hire enough\\n\\npeople, it will all get done.  Partly because successful startups have\\n\\nlots of employees, so it seems like that\\'s what one does in order\\n\\nto be successful.  In fact the large staffs of successful startups\\n\\nare probably more the effect of growth than the cause.  And\\n\\npartly because when founders have slow growth they don\\'t want to\\n\\nface what is usually the real reason: the product is not appealing\\n\\nenough.Plus founders who\\'ve just raised money are often encouraged to\\n\\noverhire by the VCs who funded them.  Kill-or-cure strategies are\\n\\noptimal for VCs because they\\'re protected by the portfolio effect.\\n\\nVCs want to blow you up, in one sense of the phrase or the other.\\n\\nBut as a founder your incentives are different.  You want above all\\n\\nto survive.\\n\\n[3]Here\\'s a common way startups die.  They make something moderately\\n\\nappealing and have decent initial growth. They raise their first\\n\\nround fairly easily, because the founders seem smart and the idea\\n\\nsounds plausible. But because the product is only moderately\\n\\nappealing, growth is ok but not great.  The founders convince\\n\\nthemselves that hiring a bunch of people is the way to boost growth.\\n\\nTheir investors agree.  But (because the product is only moderately\\n\\nappealing) the growth never comes.  Now they\\'re rapidly running out\\n\\nof runway.  They hope further investment will save them. But because\\n\\nthey have high expenses and slow growth, they\\'re now unappealing\\n\\nto investors. They\\'re unable to raise more, and the company dies.What the company should have done is address the fundamental problem:\\n\\nthat the product is only moderately appealing.  Hiring people is\\n\\nrarely the way to fix that.  More often than not it makes it harder.\\n\\nAt this early stage, the product needs to evolve more than to be\\n\\n\"built out,\" and that\\'s usually easier with fewer people.\\n\\n[4]Asking whether you\\'re default alive or default dead may save you\\n\\nfrom this.  Maybe the alarm bells it sets off will counteract the\\n\\nforces that push you to overhire.  Instead you\\'ll be compelled to\\n\\nseek growth in other ways. For example, by doing\\n\\nthings that don\\'t scale, or by redesigning the product in the\\n\\nway only founders can.\\n\\nAnd for many if not most startups, these paths to growth will be\\n\\nthe ones that actually work.Airbnb waited 4 months after raising money at the end of Y\\xa0Combinator\\n\\nbefore they hired their first employee.  In the meantime the founders\\n\\nwere terribly overworked.  But they were overworked evolving Airbnb\\n\\ninto the astonishingly successful organism it is now.Notes[1]\\n\\nSteep usage growth will also interest investors.  Revenue\\n\\nwill ultimately be a constant multiple of usage, so x% usage growth\\n\\npredicts x% revenue growth.  But in practice investors discount\\n\\nmerely predicted revenue, so if you\\'re measuring usage you need a\\n\\nhigher growth rate to impress investors.[2]\\n\\nStartups that don\\'t raise money are saved from hiring too\\n\\nfast because they can\\'t afford to. But that doesn\\'t mean you should\\n\\navoid raising money in order to avoid this problem, any more than\\n\\nthat total abstinence is the only way to avoid becoming an alcoholic.[3]\\n\\nI would not be surprised if VCs\\' tendency to push founders\\n\\nto overhire is not even in their own interest.  They don\\'t know how\\n\\nmany of the companies that get killed by overspending might have\\n\\ndone well if they\\'d survived.  My guess is a significant number.[4]\\n\\nAfter reading a draft, Sam Altman wrote:\"I think you should make the hiring point more strongly.  I think\\n\\nit\\'s roughly correct to say that YC\\'s most successful companies\\n\\nhave never been the fastest to hire, and one of the marks of a great\\n\\nfounder is being able to resist this urge.\"Paul Buchheit adds:\"A related problem that I see a lot is premature scaling—founders\\n\\ntake a small business that isn\\'t really working (bad unit economics,\\n\\ntypically) and then scale it up because they want impressive growth\\n\\nnumbers. This is similar to over-hiring in that it makes the business\\n\\nmuch harder to fix once it\\'s big, plus they are bleeding cash really\\n\\nfast.\"\\n\\nThanks to Sam Altman, Paul Buchheit, Joe Gebbia, Jessica Livingston,\\n\\nand Geoff Ralston for reading drafts of this.'),\n",
              " Document(metadata={'source': '/content/PaulGrahamEssaysLarge/PaulGrahamEssaysLarge/startuplessons.txt'}, page_content='April 2006(This essay is derived from a talk at the 2006\\n\\nStartup School.)The startups we\\'ve funded so far are pretty quick, but they seem\\n\\nquicker to learn some lessons than others.  I think it\\'s because\\n\\nsome things about startups are kind of counterintuitive.We\\'ve now\\n\\ninvested\\n\\nin enough companies that I\\'ve learned a trick\\n\\nfor determining which points are the counterintuitive ones:\\n\\nthey\\'re the ones I have to keep repeating.So I\\'m going to number these points, and maybe with future startups\\n\\nI\\'ll be able to pull off a form of Huffman coding. I\\'ll make them\\n\\nall read this, and then instead of nagging them in detail, I\\'ll\\n\\njust be able to say: number four!\\n\\n1. Release Early.The thing I probably repeat most is this recipe for a startup: get\\n\\na version 1 out fast, then improve it based on users\\' reactions.By \"release early\" I don\\'t mean you should release something full\\n\\nof bugs, but that you should release something minimal.  Users hate\\n\\nbugs, but they don\\'t seem to mind a minimal version 1, if there\\'s\\n\\nmore coming soon.There are several reasons it pays to get version 1 done fast.  One\\n\\nis that this is simply the right way to write software, whether for\\n\\na startup or not.  I\\'ve been repeating that since 1993, and I haven\\'t seen much since to\\n\\ncontradict it.  I\\'ve seen a lot of startups die because they were\\n\\ntoo slow to release stuff, and none because they were too quick.\\n\\n[1]One of the things that will surprise you if you build something\\n\\npopular is that you won\\'t know your users.  Reddit now has almost half a million\\n\\nunique visitors a month.  Who are all those people?  They have no\\n\\nidea.  No web startup does.  And since you don\\'t know your users,\\n\\nit\\'s dangerous to guess what they\\'ll like.  Better to release\\n\\nsomething and let them tell you.Wufoo took this to heart and released\\n\\ntheir form-builder before the underlying database.  You can\\'t even\\n\\ndrive the thing yet, but 83,000 people came to sit in the driver\\'s\\n\\nseat and hold the steering wheel.  And Wufoo got valuable feedback\\n\\nfrom it: Linux users complained they used too much Flash, so they\\n\\nrewrote their software not to.  If they\\'d waited to release everything\\n\\nat once, they wouldn\\'t have discovered this problem till it was\\n\\nmore deeply wired in.Even if you had no users, it would still be important to release\\n\\nquickly, because for a startup the initial release acts as a shakedown\\n\\ncruise.  If anything major is broken-- if the idea\\'s no good,\\n\\nfor example, or the founders hate one another-- the stress of getting\\n\\nthat first version out will expose it.  And if you have such problems\\n\\nyou want to find them early.Perhaps the most important reason to release early, though, is that\\n\\nit makes you work harder.  When you\\'re working on something that\\n\\nisn\\'t released, problems are intriguing.  In something that\\'s out\\n\\nthere, problems are alarming.  There is a lot more urgency once you\\n\\nrelease.  And I think that\\'s precisely why people put it off.  They\\n\\nknow they\\'ll have to work a lot harder once they do.\\n\\n[2]\\n\\n2. Keep Pumping Out Features.Of course, \"release early\" has a second component, without which\\n\\nit would be bad advice.  If you\\'re going to start with something\\n\\nthat doesn\\'t do much, you better improve it fast.What I find myself repeating is \"pump out features.\"  And this rule\\n\\nisn\\'t just for the initial stages.  This is something all startups\\n\\nshould do for as long as they want to be considered startups.I don\\'t mean, of course, that you should make your application ever\\n\\nmore complex.  By \"feature\" I mean one unit of hacking-- one quantum\\n\\nof making users\\' lives better.As with exercise, improvements beget improvements.  If you run every\\n\\nday, you\\'ll probably feel like running tomorrow.  But if you skip\\n\\nrunning for a couple weeks, it will be an effort to drag yourself\\n\\nout.  So it is with hacking: the more ideas you implement, the more\\n\\nideas you\\'ll have.  You should make your system better at least in\\n\\nsome small way every day or two.This is not just a good way to get development done; it is also a\\n\\nform of marketing.  Users love a site that\\'s constantly improving.\\n\\nIn fact, users expect a site to improve.  Imagine if you visited a\\n\\nsite that seemed very good, and then returned two months later and\\n\\nnot one thing had changed.  Wouldn\\'t it start to seem lame?\\n\\n[3]They\\'ll like you even better when you improve in response to their\\n\\ncomments, because customers are used to companies ignoring them.\\n\\nIf you\\'re the rare exception-- a company that actually listens--\\n\\nyou\\'ll generate fanatical loyalty.  You won\\'t need to advertise,\\n\\nbecause your users will do it for you.This seems obvious too, so why do I have to keep repeating it?  I\\n\\nthink the problem here is that people get used to how things are.\\n\\nOnce a product gets past the stage where it has glaring flaws, you\\n\\nstart to get used to it, and gradually whatever features it happens\\n\\nto have become its identity.  For example, I doubt many people at\\n\\nYahoo (or Google for that matter) realized how much better web mail\\n\\ncould be till Paul Buchheit showed them.I think the solution is to assume that anything you\\'ve made is far\\n\\nshort of what it could be.  Force yourself, as a sort of intellectual\\n\\nexercise, to keep thinking of improvements.  Ok, sure, what you\\n\\nhave is perfect.  But if you had to change something, what would\\n\\nit be?If your product seems finished, there are two possible explanations:\\n\\n(a) it is finished, or (b) you lack imagination.  Experience suggests\\n\\n(b) is a thousand times more likely.\\n\\n3. Make Users Happy.Improving constantly is an instance of a more general rule: make\\n\\nusers happy.  One thing all startups have in common is that they\\n\\ncan\\'t force anyone to do anything.  They can\\'t force anyone to use\\n\\ntheir software, and they can\\'t force anyone to do deals with them.\\n\\nA startup has to sing for its supper.  That\\'s why the successful\\n\\nones make great things.  They have to, or die.When you\\'re running a startup you feel like a little bit of debris\\n\\nblown about by powerful winds.  The most powerful wind is users.\\n\\nThey can either catch you and loft you up into the sky, as they did\\n\\nwith Google, or leave you flat on the pavement, as they do with\\n\\nmost startups.  Users are a fickle wind, but more powerful than any\\n\\nother.  If they take you up, no competitor can keep you down.As a little piece of debris, the rational thing for you to do is\\n\\nnot to lie flat, but to curl yourself into a shape the wind will\\n\\ncatch.I like the wind metaphor because it reminds you how impersonal the\\n\\nstream of traffic is.  The vast majority of people who visit your\\n\\nsite will be casual visitors.  It\\'s them you have to design your\\n\\nsite for.  The people who really care will find what they want by\\n\\nthemselves.The median visitor will arrive with their finger poised on the Back\\n\\nbutton.  Think about your own experience: most links you\\n\\nfollow lead to something lame.  Anyone who has used the web for\\n\\nmore than a couple weeks has been trained to click on Back after\\n\\nfollowing a link.  So your site has to say \"Wait!  Don\\'t click on\\n\\nBack.  This site isn\\'t lame.  Look at this, for example.\"There are two things you have to do to make people pause.  The most\\n\\nimportant is to explain, as concisely as possible, what the hell\\n\\nyour site is about.  How often have you visited a site that seemed\\n\\nto assume you already knew what they did?  For example, the corporate\\n\\nsite that says the\\n\\ncompany makes\\n\\nenterprise content management solutions for business that enable\\n\\norganizations to unify people, content and processes to minimize\\n\\nbusiness risk, accelerate time-to-value and sustain lower total\\n\\ncost of ownership.\\n\\nAn established company may get away with such an opaque description,\\n\\nbut no startup can.  A startup\\n\\nshould be able to explain in one or two sentences exactly what it\\n\\ndoes.\\n\\n[4]\\n\\nAnd not just to users.  You need this for everyone:\\n\\ninvestors, acquirers, partners, reporters, potential employees, and\\n\\neven current employees.  You probably shouldn\\'t even start a company\\n\\nto do something that can\\'t be described compellingly in one or two\\n\\nsentences.The other thing I repeat is to give people everything you\\'ve got,\\n\\nright away.  If you have something impressive, try to put it on the\\n\\nfront page, because that\\'s the only one most visitors will see.\\n\\nThough indeed there\\'s a paradox here: the more you push the good\\n\\nstuff toward the front, the more likely visitors are to explore\\n\\nfurther.\\n\\n[5]In the best case these two suggestions get combined: you tell\\n\\nvisitors what your site is about by showing them.  One of the\\n\\nstandard pieces of advice in fiction writing is \"show, don\\'t tell.\"\\n\\nDon\\'t say that a character\\'s angry; have him grind his teeth, or\\n\\nbreak his pencil in half.  Nothing will explain what your site does\\n\\nso well as using it.The industry term here is \"conversion.\"  The job of your site is\\n\\nto convert casual visitors into users-- whatever your definition\\n\\nof a user is.  You can measure this in your growth rate.  Either\\n\\nyour site is catching on, or it isn\\'t, and you must know which.  If\\n\\nyou have decent growth, you\\'ll win in the end, no matter how obscure\\n\\nyou are now.  And if you don\\'t, you need to fix something.\\n\\n4. Fear the Right Things.Another thing I find myself saying a lot is \"don\\'t worry.\"  Actually,\\n\\nit\\'s more often \"don\\'t worry about this; worry about that instead.\"\\n\\nStartups are right to be paranoid, but they sometimes fear the wrong\\n\\nthings.Most visible disasters are not so alarming as they seem.  Disasters\\n\\nare normal in a startup: a founder quits, you discover a patent\\n\\nthat covers what you\\'re doing, your servers keep crashing, you run\\n\\ninto an insoluble technical problem, you have to change your name,\\n\\na deal falls through-- these are all par for the course.  They won\\'t\\n\\nkill you unless you let them.Nor will most competitors.  A lot of startups worry \"what if Google\\n\\nbuilds something like us?\"  Actually big companies are not the ones\\n\\nyou have to worry about-- not even Google.  The people at Google\\n\\nare smart, but no smarter than you; they\\'re not as motivated, because\\n\\nGoogle is not going to go out of business if this one product fails;\\n\\nand even at Google they have a lot of bureaucracy to slow them down.What you should fear, as a startup, is not the established players,\\n\\nbut other startups you don\\'t know exist yet.  They\\'re way more\\n\\ndangerous than Google because, like you, they\\'re cornered animals.Looking just at existing competitors can give you a false sense of\\n\\nsecurity.  You should compete against what someone else could be\\n\\ndoing, not just what you can see people doing.  A corollary is that\\n\\nyou shouldn\\'t relax just because you have no visible competitors\\n\\nyet.  No matter what your idea, there\\'s someone else out there\\n\\nworking on the same thing.That\\'s the downside of it being easier to start a startup: more people\\n\\nare doing it.  But I disagree with Caterina Fake when she says that\\n\\nmakes this a bad time to start a startup.  More people are starting\\n\\nstartups, but not as many more as could.  Most college graduates\\n\\nstill think they have to get a job.  The average person can\\'t ignore\\n\\nsomething that\\'s been beaten into their head since they were three\\n\\njust because serving web pages recently got a lot cheaper.And in any case, competitors are not the biggest threat.  Way more\\n\\nstartups hose themselves than get crushed by competitors.  There\\n\\nare a lot of ways to do it, but the three main ones are internal\\n\\ndisputes, inertia, and ignoring users.  Each is, by itself, enough\\n\\nto kill you.  But if I had to pick the worst, it would be ignoring\\n\\nusers.  If you want a recipe for a startup that\\'s going to die,\\n\\nhere it is: a couple of founders who have some great idea they know\\n\\neveryone is going to love, and that\\'s what they\\'re going to build,\\n\\nno matter what.Almost everyone\\'s initial plan is broken.  If companies stuck to\\n\\ntheir initial plans, Microsoft would be selling programming languages,\\n\\nand Apple would be selling printed circuit boards.  In both cases\\n\\ntheir customers told them what their business should be-- and they\\n\\nwere smart enough to listen.As Richard Feynman said, the imagination of nature is greater than\\n\\nthe imagination of man.  You\\'ll find more interesting things by\\n\\nlooking at the world than you could ever produce just by thinking.\\n\\nThis principle is very powerful.  It\\'s why the best abstract painting\\n\\nstill falls short of Leonardo, for example.  And it applies to\\n\\nstartups too.  No idea for a product could ever be so clever as the\\n\\nones you can discover by smashing a beam of prototypes into a beam\\n\\nof users.\\n\\n5. Commitment Is a Self-Fulfilling Prophecy.I now have enough experience with startups to be able to say what\\n\\nthe most important quality is in a startup founder, and it\\'s not\\n\\nwhat you might think.  The most important quality in a startup\\n\\nfounder is determination.  Not intelligence-- determination.This is a little depressing.  I\\'d like to believe Viaweb succeeded\\n\\nbecause we were smart, not merely determined.  A lot of people in\\n\\nthe startup world want to believe that.  Not just founders, but\\n\\ninvestors too.  They like the idea of inhabiting a world ruled by\\n\\nintelligence.  And you can tell they really believe this, because\\n\\nit affects their investment decisions.Time after time VCs invest in startups founded by eminent professors.\\n\\nThis may work in biotech, where a lot of startups simply commercialize\\n\\nexisting research, but in software you want to invest in students,\\n\\nnot professors.  Microsoft, Yahoo, and Google were all founded by\\n\\npeople who dropped out of school to do it.  What students lack in\\n\\nexperience they more than make up in dedication.Of course, if you want to get rich, it\\'s not enough merely to be\\n\\ndetermined.  You have to be smart too, right?  I\\'d like to think\\n\\nso, but I\\'ve had an experience that convinced me otherwise: I spent\\n\\nseveral years living in New York.You can lose quite a lot in the brains department and it won\\'t kill\\n\\nyou.  But lose even a little bit in the commitment department, and\\n\\nthat will kill you very rapidly.Running a startup is like walking on your hands: it\\'s possible, but\\n\\nit requires extraordinary effort.  If an ordinary employee were\\n\\nasked to do the things a startup founder has to, he\\'d be very\\n\\nindignant.  Imagine if you were hired at some big company, and in\\n\\naddition to writing software ten times faster than you\\'d ever had\\n\\nto before, they expected you to answer support calls, administer\\n\\nthe servers, design the web site, cold-call customers, find the\\n\\ncompany office space, and go out and get everyone lunch.And to do all this not in the calm, womb-like atmosphere of a big\\n\\ncompany, but against a backdrop of constant disasters.  That\\'s the\\n\\npart that really demands determination.  In a startup, there\\'s\\n\\nalways some disaster happening.  So if you\\'re the least bit inclined\\n\\nto find an excuse to quit, there\\'s always one right there.But if you lack commitment, chances are it will have been hurting\\n\\nyou long before you actually quit.  Everyone who deals with startups\\n\\nknows how important commitment is, so if they sense you\\'re ambivalent,\\n\\nthey won\\'t give you much attention.  If you lack commitment, you\\'ll\\n\\njust find that for some mysterious reason good things happen to\\n\\nyour competitors but not to you.  If you lack commitment, it will\\n\\nseem to you that you\\'re unlucky.Whereas if you\\'re determined to stick around, people will pay\\n\\nattention to you, because odds are they\\'ll have to deal with you\\n\\nlater.  You\\'re a local, not just a tourist, so everyone has to come\\n\\nto terms with you.At Y Combinator we sometimes mistakenly fund teams who have the\\n\\nattitude that they\\'re going to give this startup thing a shot for\\n\\nthree months, and if something great happens, they\\'ll stick with\\n\\nit-- \"something great\" meaning either that someone wants to buy\\n\\nthem or invest millions of dollars in them.  But if this is your\\n\\nattitude, \"something great\" is very unlikely to happen to you,\\n\\nbecause both acquirers and investors judge you by your level of\\n\\ncommitment.If an acquirer thinks you\\'re going to stick around no matter what,\\n\\nthey\\'ll be more likely to buy you, because if they don\\'t and you\\n\\nstick around, you\\'ll probably grow, your price will go up, and\\n\\nthey\\'ll be left wishing they\\'d bought you earlier.  Ditto for\\n\\ninvestors.  What really motivates investors, even big VCs, is not\\n\\nthe hope of good returns, but the fear of missing out.\\n\\n[6]\\n\\nSo if\\n\\nyou make it clear you\\'re going to succeed no matter what, and the only\\n\\nreason you need them is to make it happen a little faster, you\\'re\\n\\nmuch more likely to get money.You can\\'t fake this.  The only way to convince everyone that you\\'re\\n\\nready to fight to the death is actually to be ready to.You have to be the right kind of determined, though.  I carefully\\n\\nchose the word determined rather than stubborn, because stubbornness\\n\\nis a disastrous quality in a startup.  You have to be determined,\\n\\nbut flexible, like a running back.  A successful running back doesn\\'t\\n\\njust put his head down and try to run through people.  He improvises:\\n\\nif someone appears in front of him, he runs around them; if someone\\n\\ntries to grab him, he spins out of their grip; he\\'ll even run in\\n\\nthe wrong direction briefly if that will help.  The one thing he\\'ll\\n\\nnever do is stand still.\\n\\n[7]\\n\\n6. There Is Always Room.I was talking recently to a startup founder about whether it might\\n\\nbe good to add a social component to their software.  He said he\\n\\ndidn\\'t think so, because the whole social thing was tapped out.\\n\\nReally?  So in a hundred years the only social networking sites\\n\\nwill be the Facebook, MySpace, Flickr, and Del.icio.us?  Not likely.There is always room for new stuff.  At every point in history,\\n\\neven the darkest bits of the dark ages, people were discovering\\n\\nthings that made everyone say \"why didn\\'t anyone think of that\\n\\nbefore?\"  We know this continued to be true up till 2004, when the\\n\\nFacebook was founded-- though strictly speaking someone else did\\n\\nthink of that.The reason we don\\'t see the opportunities all around us is that we\\n\\nadjust to however things are, and assume that\\'s how things have to\\n\\nbe.  For example, it would seem crazy to most people to try to make\\n\\na better search engine than Google.  Surely that field, at least,\\n\\nis tapped out.  Really?  In a hundred years-- or even twenty-- are\\n\\npeople still going to search for information using something like\\n\\nthe current Google?  Even Google probably doesn\\'t think that.In particular, I don\\'t think there\\'s any limit to the number of\\n\\nstartups.  Sometimes you hear people saying \"All these guys starting\\n\\nstartups now are going to be disappointed. How many little startups\\n\\nare Google and Yahoo going to buy, after all?\" That sounds cleverly\\n\\nskeptical, but I can prove it\\'s mistaken.  No one proposes that\\n\\nthere\\'s some limit to the number of people who can be employed in\\n\\nan economy consisting of big, slow-moving companies with a couple\\n\\nthousand people each.  Why should there be any limit to the number\\n\\nwho could be employed by small, fast-moving companies with ten each?\\n\\nIt seems to me the only limit would be the number of people who\\n\\nwant to work that hard.The limit on the number of startups is not the number that can get\\n\\nacquired by Google and Yahoo-- though it seems even that should\\n\\nbe unlimited, if the startups were actually worth buying-- but the\\n\\namount of wealth that can be created.  And I don\\'t think there\\'s\\n\\nany limit on that, except cosmological ones.So for all practical purposes, there is no limit to the number of\\n\\nstartups.  Startups make wealth, which means they make things people\\n\\nwant, and if there\\'s a limit on the number of things people want,\\n\\nwe are nowhere near it.  I still don\\'t even have a flying car.\\n\\n7. Don\\'t Get Your Hopes Up.This is another one I\\'ve been repeating since long before Y Combinator.\\n\\nIt was practically the corporate motto at Viaweb.Startup founders are naturally optimistic.  They wouldn\\'t do it\\n\\notherwise.  But you should treat your optimism the way you\\'d treat\\n\\nthe core of a nuclear reactor: as a source of power that\\'s also\\n\\nvery dangerous.  You have to build a shield around it, or it will\\n\\nfry you.The shielding of a reactor is not uniform; the reactor would be\\n\\nuseless if it were.  It\\'s pierced in a few places to let pipes in.\\n\\nAn optimism shield has to be pierced too.  I think the place to\\n\\ndraw the line is between what you expect of yourself, and what you\\n\\nexpect of other people.  It\\'s ok to be optimistic about what you\\n\\ncan do, but assume the worst about machines and other people.This is particularly necessary in a startup, because you tend to\\n\\nbe pushing the limits of whatever you\\'re doing.  So things don\\'t\\n\\nhappen in the smooth, predictable way they do in the rest of the\\n\\nworld.  Things change suddenly, and usually for the worse.Shielding your optimism is nowhere more important than with deals.\\n\\nIf your startup is doing a deal, just assume it\\'s not going to\\n\\nhappen.  The VCs who say they\\'re going to invest in you aren\\'t.\\n\\nThe company that says they\\'re going to buy you isn\\'t.  The big\\n\\ncustomer who wants to use your system in their whole company won\\'t.\\n\\nThen if things work out you can be pleasantly surprised.The reason I warn startups not to get their hopes up is not to save\\n\\nthem from being disappointed when things fall through.  It\\'s\\n\\nfor a more practical reason: to prevent them from leaning their\\n\\ncompany against something that\\'s going to fall over, taking them\\n\\nwith it.For example, if someone says they want to invest in you, there\\'s a\\n\\nnatural tendency to stop looking for other investors.  That\\'s why\\n\\npeople proposing deals seem so positive: they want you to\\n\\nstop looking.  And you want to stop too, because doing deals is a\\n\\npain.  Raising money, in particular, is a huge time sink.  So you\\n\\nhave to consciously force yourself to keep looking.Even if you ultimately do the first deal, it will be to your advantage\\n\\nto have kept looking, because you\\'ll get better terms.  Deals are\\n\\ndynamic; unless you\\'re negotiating with someone unusually honest,\\n\\nthere\\'s not a single point where you shake hands and the deal\\'s\\n\\ndone. There are usually a lot of subsidiary questions to be cleared\\n\\nup after the handshake, and if the other side senses weakness-- if\\n\\nthey sense you need this deal-- they will be very tempted to screw\\n\\nyou in the details.VCs and corp dev guys are professional negotiators.  They\\'re trained\\n\\nto take advantage of weakness.\\n\\n[8]\\n\\nSo while they\\'re often nice\\n\\nguys, they just can\\'t help it.  And as pros they do this more than\\n\\nyou.  So don\\'t even try to bluff them.  The only way a startup can\\n\\nhave any leverage in a deal is genuinely not to need it.  And if\\n\\nyou don\\'t believe in a deal, you\\'ll be less likely to depend on it.So I want to plant a hypnotic suggestion in your heads: when you\\n\\nhear someone say the words \"we want to invest in you\" or \"we want\\n\\nto acquire you,\" I want the following phrase to appear automatically\\n\\nin your head: don\\'t get your hopes up.  Just continue running\\n\\nyour company as if this deal didn\\'t exist.  Nothing is more likely\\n\\nto make it close.The way to succeed in a startup is to focus on the goal of getting\\n\\nlots of users, and keep walking swiftly toward it while investors\\n\\nand acquirers scurry alongside trying to wave money in your face.\\n\\nSpeed, not MoneyThe way I\\'ve described it, starting a startup sounds pretty stressful.\\n\\nIt is.  When I talk to the founders of the companies we\\'ve funded,\\n\\nthey all say the same thing: I knew it would be hard, but I didn\\'t\\n\\nrealize it would be this hard.So why do it?  It would be worth enduring a lot of pain and stress\\n\\nto do something grand or heroic, but just to make money?  Is making\\n\\nmoney really that important?No, not really.  It seems ridiculous to me when people take business\\n\\ntoo seriously.  I regard making money as a boring errand to be got\\n\\nout of the way as soon as possible.  There is nothing grand or\\n\\nheroic about starting a startup per se.So why do I spend so much time thinking about startups?  I\\'ll tell\\n\\nyou why.  Economically, a startup is best seen not as a way to get\\n\\nrich, but as a way to work faster.  You have to make a living, and\\n\\na startup is a way to get that done quickly, instead of letting it\\n\\ndrag on through your whole life.\\n\\n[9]We take it for granted most of the time, but human life is fairly\\n\\nmiraculous.  It is also palpably short.  You\\'re given this marvellous\\n\\nthing, and then poof, it\\'s taken away.  You can see why people\\n\\ninvent gods to explain it.  But even to people who don\\'t believe\\n\\nin gods, life commands respect.  There are times in most of our\\n\\nlives when the days go by in a blur, and almost everyone has a\\n\\nsense, when this happens, of wasting something precious.  As Ben\\n\\nFranklin said, if you love life, don\\'t waste time, because time is\\n\\nwhat life is made of.So no, there\\'s nothing particularly grand about making money.  That\\'s\\n\\nnot what makes startups worth the trouble.  What\\'s important about\\n\\nstartups is the speed.  By compressing the dull but necessary task\\n\\nof making a living into the smallest possible time, you show respect\\n\\nfor life, and there is something grand about that.Notes[1]\\n\\nStartups can die from releasing something full of bugs, and not\\n\\nfixing them fast enough, but I don\\'t know of any that died from\\n\\nreleasing something stable but minimal very early, then promptly\\n\\nimproving it.[2]\\n\\nI know this is why I haven\\'t released Arc.  The moment I do,\\n\\nI\\'ll have people nagging me for features.[3]\\n\\nA web site is different from a book or movie or desktop application\\n\\nin this respect.  Users judge a site not as a single snapshot, but\\n\\nas an animation with multiple frames.  Of the two, I\\'d say the rate of\\n\\nimprovement is more important to users than where you currently\\n\\nare.[4]\\n\\nIt should not always tell this to users, however.  For example,\\n\\nMySpace is basically a replacement mall for mallrats.  But it was\\n\\nwiser for them, initially, to pretend that the site was about bands.[5]\\n\\nSimilarly, don\\'t make users register to try your site.  Maybe\\n\\nwhat you have is so valuable that visitors should gladly register\\n\\nto get at it.  But they\\'ve been trained to expect the opposite.\\n\\nMost of the things they\\'ve tried on the web have sucked-- and\\n\\nprobably especially those that made them register.[6]\\n\\nVCs have rational reasons for behaving this way. They don\\'t\\n\\nmake their money (if they make money) off their median investments.\\n\\nIn a typical fund, half the companies fail, most of the rest generate\\n\\nmediocre returns, and one or two \"make the fund\" by succeeding\\n\\nspectacularly.  So if they miss just a few of the most promising\\n\\nopportunities, it could hose the whole fund.[7]\\n\\nThe attitude of a running back doesn\\'t translate to soccer.\\n\\nThough it looks great when a forward dribbles past multiple defenders,\\n\\na player who persists in trying such things will do worse in the\\n\\nlong term than one who passes.[8]\\n\\nThe reason Y Combinator never negotiates valuations\\n\\nis that we\\'re not professional negotiators, and don\\'t want to turn\\n\\ninto them.[9]\\n\\nThere are two ways to do\\n\\nwork you love: (a) to make money, then work\\n\\non what you love, or (b) to get a job where you get paid to work on\\n\\nstuff you love.  In practice the first phases of both\\n\\nconsist mostly of unedifying schleps, and in (b) the second phase is less\\n\\nsecure.Thanks to Sam Altman, Trevor Blackwell, Beau Hartshorne, Jessica\\n\\nLivingston, and Robert Morris for reading drafts of this.')]"
            ]
          },
          "metadata": {},
          "execution_count": 121
        }
      ]
    },
    {
      "cell_type": "code",
      "source": [
        "len(retrieved_docs)"
      ],
      "metadata": {
        "colab": {
          "base_uri": "https://localhost:8080/"
        },
        "id": "7B-QJ3HEIBsZ",
        "outputId": "ad600bab-7a1c-4aaf-bc9e-b2b6f442d99e"
      },
      "execution_count": 122,
      "outputs": [
        {
          "output_type": "execute_result",
          "data": {
            "text/plain": [
              "3"
            ]
          },
          "metadata": {},
          "execution_count": 122
        }
      ]
    },
    {
      "cell_type": "code",
      "source": [
        "retrieved_docs[0].page_content[:1000]"
      ],
      "metadata": {
        "id": "6v1AkrlTIFsc",
        "colab": {
          "base_uri": "https://localhost:8080/",
          "height": 174
        },
        "outputId": "6a50e917-732c-4c8c-c9e6-749d907e059f"
      },
      "execution_count": 120,
      "outputs": [
        {
          "output_type": "execute_result",
          "data": {
            "text/plain": [
              "\"November 2005In the next few years, venture capital funds will find themselves\\n\\nsqueezed from four directions.  They're already stuck with a seller's\\n\\nmarket, because of the huge amounts they raised at the end of the\\n\\nBubble and still haven't invested.  This by itself is not the end\\n\\nof the world.  In fact, it's just a more extreme version of the\\n\\nnorm\\n\\nin the VC business: too much money chasing too few deals.Unfortunately, those few deals now want less and less money, because\\n\\nit's getting so cheap to start a startup.  The four causes: open\\n\\nsource, which makes software free; Moore's law, which makes hardware\\n\\ngeometrically closer to free; the Web, which makes promotion free\\n\\nif you're good; and better languages, which make development a lot\\n\\ncheaper.When we started our startup in 1995, the first three were our biggest\\n\\nexpenses.  We had to pay $5000 for the Netscape Commerce Server,\\n\\nthe only software that then supported secure http connections.  We\\n\\npaid $3000 for a server with a 90\""
            ],
            "application/vnd.google.colaboratory.intrinsic+json": {
              "type": "string"
            }
          },
          "metadata": {},
          "execution_count": 120
        }
      ]
    },
    {
      "cell_type": "code",
      "source": [
        "# This text splitter is used to create the parent documents\n",
        "parent_splitter = RecursiveCharacterTextSplitter(chunk_size=2000)\n",
        "\n",
        "# This text splitter is used to create the child documents\n",
        "# It should create documents smaller than the parent\n",
        "child_splitter = RecursiveCharacterTextSplitter(chunk_size=400)\n",
        "\n",
        "# The vectorstore to use to index the child chunks\n",
        "vectorstore = Chroma(collection_name=\"return_split_parent_documents\", embedding_function=OpenAIEmbeddings(openai_api_key=OPENAI_API_KEY))\n",
        "\n",
        "# The storage layer for the parent documents\n",
        "store = InMemoryStore()"
      ],
      "metadata": {
        "id": "1rfn8n6oIJzg"
      },
      "execution_count": 124,
      "outputs": []
    },
    {
      "cell_type": "code",
      "source": [
        "retriever = ParentDocumentRetriever(\n",
        "    vectorstore=vectorstore,\n",
        "    docstore=store,\n",
        "    child_splitter=child_splitter,\n",
        "    parent_splitter=parent_splitter,\n",
        ")"
      ],
      "metadata": {
        "id": "2BS3ySXIIMid"
      },
      "execution_count": 125,
      "outputs": []
    },
    {
      "cell_type": "code",
      "source": [
        "retriever.add_documents(docs)"
      ],
      "metadata": {
        "id": "z0r2DOJMIP3M"
      },
      "execution_count": 126,
      "outputs": []
    },
    {
      "cell_type": "code",
      "source": [
        "len(list(store.yield_keys()))"
      ],
      "metadata": {
        "id": "WA-XnkccIR0m",
        "colab": {
          "base_uri": "https://localhost:8080/"
        },
        "outputId": "d2eb7741-863e-4b8c-800c-aba75f257cd4"
      },
      "execution_count": 127,
      "outputs": [
        {
          "output_type": "execute_result",
          "data": {
            "text/plain": [
              "385"
            ]
          },
          "metadata": {},
          "execution_count": 127
        }
      ]
    },
    {
      "cell_type": "code",
      "source": [
        "sub_docs = vectorstore.similarity_search(\"what is some investing advice?\")"
      ],
      "metadata": {
        "id": "2Ct0Z9WKIUj5"
      },
      "execution_count": 128,
      "outputs": []
    },
    {
      "cell_type": "code",
      "source": [
        "sub_docs"
      ],
      "metadata": {
        "colab": {
          "base_uri": "https://localhost:8080/"
        },
        "id": "jQJNw8F-IcFW",
        "outputId": "f01319c8-f0a3-40dd-8890-18230eada915"
      },
      "execution_count": 129,
      "outputs": [
        {
          "output_type": "execute_result",
          "data": {
            "text/plain": [
              "[Document(metadata={'doc_id': '536b99d2-b49c-4155-b524-8f2b0375e144', 'source': '/content/PaulGrahamEssaysLarge/PaulGrahamEssaysLarge/vcsqueeze.txt'}, page_content=\"people there are rich, or expect to be when their options vest.\\n\\nOrdinary employees find it very hard to recommend an acquisition;\\n\\nit's just too annoying to see a bunch of twenty year olds get rich\\n\\nwhen you're still working for salary.  Even if it's the right thing\\n\\nfor your company to do.The Solution(s)Bad as things look now, there is a way for VCs to save themselves.\"),\n",
              " Document(metadata={'doc_id': 'd5e3a1a4-9bfb-4771-9022-b5a98dd2944f', 'source': '/content/PaulGrahamEssaysLarge/PaulGrahamEssaysLarge/aord.txt'}, page_content=\"early, you may be able to avoid the fatal pinch.It would be safe to be default dead if you could count on investors\\n\\nsaving you.  As a rule their interest is a function of\\n\\ngrowth.  If you have steep revenue growth, say over 5x a year, you\\n\\ncan start to count on investors being interested even if you're not\\n\\nprofitable.\\n\\n[1]\\n\\nBut investors are so fickle that you can never\"),\n",
              " Document(metadata={'doc_id': '95d6034d-270e-4dd5-9513-54fcd23a4202', 'source': '/content/PaulGrahamEssaysLarge/PaulGrahamEssaysLarge/startuplessons.txt'}, page_content=\"commitment.If an acquirer thinks you're going to stick around no matter what,\\n\\nthey'll be more likely to buy you, because if they don't and you\\n\\nstick around, you'll probably grow, your price will go up, and\\n\\nthey'll be left wishing they'd bought you earlier.  Ditto for\\n\\ninvestors.  What really motivates investors, even big VCs, is not\\n\\nthe hope of good returns, but the fear of missing out.\\n\\n[6]\"),\n",
              " Document(metadata={'doc_id': '7017d399-bc35-4c13-b93e-760adad628bf', 'source': '/content/PaulGrahamEssaysLarge/PaulGrahamEssaysLarge/startuplessons.txt'}, page_content=\"April 2006(This essay is derived from a talk at the 2006\\n\\nStartup School.)The startups we've funded so far are pretty quick, but they seem\\n\\nquicker to learn some lessons than others.  I think it's because\\n\\nsome things about startups are kind of counterintuitive.We've now\\n\\ninvested\\n\\nin enough companies that I've learned a trick\\n\\nfor determining which points are the counterintuitive ones:\")]"
            ]
          },
          "metadata": {},
          "execution_count": 129
        }
      ]
    },
    {
      "cell_type": "code",
      "source": [
        "len(sub_docs)"
      ],
      "metadata": {
        "colab": {
          "base_uri": "https://localhost:8080/"
        },
        "id": "l7zlRAoPIesW",
        "outputId": "05846fd3-448d-45dd-f4af-c0bdc46ae9e0"
      },
      "execution_count": 130,
      "outputs": [
        {
          "output_type": "execute_result",
          "data": {
            "text/plain": [
              "4"
            ]
          },
          "metadata": {},
          "execution_count": 130
        }
      ]
    },
    {
      "cell_type": "code",
      "source": [
        "larger_chunk_relevant_docs = retriever.get_relevant_documents(\"what is some investing advice?\")"
      ],
      "metadata": {
        "id": "oLJYjnDvIX_N"
      },
      "execution_count": 131,
      "outputs": []
    },
    {
      "cell_type": "code",
      "source": [
        "larger_chunk_relevant_docs"
      ],
      "metadata": {
        "colab": {
          "base_uri": "https://localhost:8080/"
        },
        "id": "UbrumyHgIlRC",
        "outputId": "ea1674f0-c5be-43d4-8186-b5cdd1526ea9"
      },
      "execution_count": 132,
      "outputs": [
        {
          "output_type": "execute_result",
          "data": {
            "text/plain": [
              "[Document(metadata={'source': '/content/PaulGrahamEssaysLarge/PaulGrahamEssaysLarge/vcsqueeze.txt'}, page_content='means VCs are now in the business of finding promising little 2-3\\n\\nman startups and pumping them up into companies that cost $100\\n\\nmillion to acquire.   They didn\\'t mean to be in this business; it\\'s\\n\\njust what their business has evolved into.Hence the fourth problem: the acquirers have begun to realize they\\n\\ncan buy wholesale.  Why should they wait for VCs to make the startups\\n\\nthey want more expensive?  Most of what the VCs add, acquirers don\\'t\\n\\nwant anyway.  The acquirers already have brand recognition and HR\\n\\ndepartments.  What they really want is the software and the developers,\\n\\nand that\\'s what the startup is in the early phase: concentrated\\n\\nsoftware and developers.Google, typically, seems to have been the first to figure this out.\\n\\n\"Bring us your startups early,\" said Google\\'s speaker at the Startup School.  They\\'re quite\\n\\nexplicit about it: they like to acquire startups at just the point\\n\\nwhere they would do a Series A round.  (The Series A round is the\\n\\nfirst round of real VC funding; it usually happens in the first\\n\\nyear.) It is a brilliant strategy, and one that other big technology\\n\\ncompanies will no doubt try to duplicate.  Unless they want to have\\n\\nstill more of their lunch eaten by Google.Of course, Google has an advantage in buying startups: a lot of the\\n\\npeople there are rich, or expect to be when their options vest.\\n\\nOrdinary employees find it very hard to recommend an acquisition;\\n\\nit\\'s just too annoying to see a bunch of twenty year olds get rich\\n\\nwhen you\\'re still working for salary.  Even if it\\'s the right thing\\n\\nfor your company to do.The Solution(s)Bad as things look now, there is a way for VCs to save themselves.\\n\\nThey need to do two things, one of which won\\'t surprise them, and\\n\\nanother that will seem an anathema.Let\\'s start with the obvious one: lobby to get Sarbanes-Oxley\\n\\nloosened.  This law was created to prevent future Enrons, not to\\n\\ndestroy the IPO market.  Since the IPO market was practically dead'),\n",
              " Document(metadata={'source': '/content/PaulGrahamEssaysLarge/PaulGrahamEssaysLarge/aord.txt'}, page_content='start worrying too late.The reason is a phenomenon I wrote about earlier: the\\n\\nfatal pinch.\\n\\nThe fatal pinch is default dead + slow growth + not enough\\n\\ntime to fix it.  And the way founders end up in it is by not realizing\\n\\nthat\\'s where they\\'re headed.There is another reason founders don\\'t ask themselves whether they\\'re\\n\\ndefault alive or default dead: they assume it will be easy to raise\\n\\nmore money.  But that assumption is often false, and worse still, the\\n\\nmore you depend on it, the falser it becomes.Maybe it will help to separate facts from hopes. Instead of thinking\\n\\nof the future with vague optimism, explicitly separate the components.\\n\\nSay \"We\\'re default dead, but we\\'re counting on investors to save\\n\\nus.\" Maybe as you say that, it will set off the same alarms in your\\n\\nhead that it does in mine.  And if you set off the alarms sufficiently\\n\\nearly, you may be able to avoid the fatal pinch.It would be safe to be default dead if you could count on investors\\n\\nsaving you.  As a rule their interest is a function of\\n\\ngrowth.  If you have steep revenue growth, say over 5x a year, you\\n\\ncan start to count on investors being interested even if you\\'re not\\n\\nprofitable.\\n\\n[1]\\n\\nBut investors are so fickle that you can never\\n\\ndo more than start to count on them.  Sometimes something about your\\n\\nbusiness will spook investors even if your growth is great.  So no\\n\\nmatter how good your growth is, you can never safely treat fundraising\\n\\nas more than a plan A. You should always have a plan B as well: you\\n\\nshould know (as in write down) precisely what you\\'ll need to do to\\n\\nsurvive if you can\\'t raise more money, and precisely when you\\'ll\\n\\nhave to switch to plan B if plan A isn\\'t working.In any case, growing fast versus operating cheaply is far from the\\n\\nsharp dichotomy many founders assume it to be.  In practice there\\n\\nis surprisingly little connection between how much a startup spends\\n\\nand how fast it grows.  When a startup grows fast, it\\'s usually'),\n",
              " Document(metadata={'source': '/content/PaulGrahamEssaysLarge/PaulGrahamEssaysLarge/startuplessons.txt'}, page_content='the servers, design the web site, cold-call customers, find the\\n\\ncompany office space, and go out and get everyone lunch.And to do all this not in the calm, womb-like atmosphere of a big\\n\\ncompany, but against a backdrop of constant disasters.  That\\'s the\\n\\npart that really demands determination.  In a startup, there\\'s\\n\\nalways some disaster happening.  So if you\\'re the least bit inclined\\n\\nto find an excuse to quit, there\\'s always one right there.But if you lack commitment, chances are it will have been hurting\\n\\nyou long before you actually quit.  Everyone who deals with startups\\n\\nknows how important commitment is, so if they sense you\\'re ambivalent,\\n\\nthey won\\'t give you much attention.  If you lack commitment, you\\'ll\\n\\njust find that for some mysterious reason good things happen to\\n\\nyour competitors but not to you.  If you lack commitment, it will\\n\\nseem to you that you\\'re unlucky.Whereas if you\\'re determined to stick around, people will pay\\n\\nattention to you, because odds are they\\'ll have to deal with you\\n\\nlater.  You\\'re a local, not just a tourist, so everyone has to come\\n\\nto terms with you.At Y Combinator we sometimes mistakenly fund teams who have the\\n\\nattitude that they\\'re going to give this startup thing a shot for\\n\\nthree months, and if something great happens, they\\'ll stick with\\n\\nit-- \"something great\" meaning either that someone wants to buy\\n\\nthem or invest millions of dollars in them.  But if this is your\\n\\nattitude, \"something great\" is very unlikely to happen to you,\\n\\nbecause both acquirers and investors judge you by your level of\\n\\ncommitment.If an acquirer thinks you\\'re going to stick around no matter what,\\n\\nthey\\'ll be more likely to buy you, because if they don\\'t and you\\n\\nstick around, you\\'ll probably grow, your price will go up, and\\n\\nthey\\'ll be left wishing they\\'d bought you earlier.  Ditto for\\n\\ninvestors.  What really motivates investors, even big VCs, is not\\n\\nthe hope of good returns, but the fear of missing out.\\n\\n[6]\\n\\nSo if'),\n",
              " Document(metadata={'source': '/content/PaulGrahamEssaysLarge/PaulGrahamEssaysLarge/startuplessons.txt'}, page_content='April 2006(This essay is derived from a talk at the 2006\\n\\nStartup School.)The startups we\\'ve funded so far are pretty quick, but they seem\\n\\nquicker to learn some lessons than others.  I think it\\'s because\\n\\nsome things about startups are kind of counterintuitive.We\\'ve now\\n\\ninvested\\n\\nin enough companies that I\\'ve learned a trick\\n\\nfor determining which points are the counterintuitive ones:\\n\\nthey\\'re the ones I have to keep repeating.So I\\'m going to number these points, and maybe with future startups\\n\\nI\\'ll be able to pull off a form of Huffman coding. I\\'ll make them\\n\\nall read this, and then instead of nagging them in detail, I\\'ll\\n\\njust be able to say: number four!\\n\\n1. Release Early.The thing I probably repeat most is this recipe for a startup: get\\n\\na version 1 out fast, then improve it based on users\\' reactions.By \"release early\" I don\\'t mean you should release something full\\n\\nof bugs, but that you should release something minimal.  Users hate\\n\\nbugs, but they don\\'t seem to mind a minimal version 1, if there\\'s\\n\\nmore coming soon.There are several reasons it pays to get version 1 done fast.  One\\n\\nis that this is simply the right way to write software, whether for\\n\\na startup or not.  I\\'ve been repeating that since 1993, and I haven\\'t seen much since to\\n\\ncontradict it.  I\\'ve seen a lot of startups die because they were\\n\\ntoo slow to release stuff, and none because they were too quick.\\n\\n[1]One of the things that will surprise you if you build something\\n\\npopular is that you won\\'t know your users.  Reddit now has almost half a million\\n\\nunique visitors a month.  Who are all those people?  They have no\\n\\nidea.  No web startup does.  And since you don\\'t know your users,\\n\\nit\\'s dangerous to guess what they\\'ll like.  Better to release\\n\\nsomething and let them tell you.Wufoo took this to heart and released\\n\\ntheir form-builder before the underlying database.  You can\\'t even\\n\\ndrive the thing yet, but 83,000 people came to sit in the driver\\'s')]"
            ]
          },
          "metadata": {},
          "execution_count": 132
        }
      ]
    },
    {
      "cell_type": "code",
      "source": [
        "type(larger_chunk_relevant_docs)"
      ],
      "metadata": {
        "colab": {
          "base_uri": "https://localhost:8080/"
        },
        "id": "JyE7XKENInaw",
        "outputId": "f87d75ae-9721-42e6-dcc0-955594dca2f1"
      },
      "execution_count": 135,
      "outputs": [
        {
          "output_type": "execute_result",
          "data": {
            "text/plain": [
              "list"
            ]
          },
          "metadata": {},
          "execution_count": 135
        }
      ]
    },
    {
      "cell_type": "code",
      "source": [
        "larger_chunk_relevant_docs[0]"
      ],
      "metadata": {
        "colab": {
          "base_uri": "https://localhost:8080/"
        },
        "id": "CD8C_67FIkG5",
        "outputId": "ba15ea9d-8df2-4260-f545-163ba5a31efd"
      },
      "execution_count": 136,
      "outputs": [
        {
          "output_type": "execute_result",
          "data": {
            "text/plain": [
              "Document(metadata={'source': '/content/PaulGrahamEssaysLarge/PaulGrahamEssaysLarge/vcsqueeze.txt'}, page_content='means VCs are now in the business of finding promising little 2-3\\n\\nman startups and pumping them up into companies that cost $100\\n\\nmillion to acquire.   They didn\\'t mean to be in this business; it\\'s\\n\\njust what their business has evolved into.Hence the fourth problem: the acquirers have begun to realize they\\n\\ncan buy wholesale.  Why should they wait for VCs to make the startups\\n\\nthey want more expensive?  Most of what the VCs add, acquirers don\\'t\\n\\nwant anyway.  The acquirers already have brand recognition and HR\\n\\ndepartments.  What they really want is the software and the developers,\\n\\nand that\\'s what the startup is in the early phase: concentrated\\n\\nsoftware and developers.Google, typically, seems to have been the first to figure this out.\\n\\n\"Bring us your startups early,\" said Google\\'s speaker at the Startup School.  They\\'re quite\\n\\nexplicit about it: they like to acquire startups at just the point\\n\\nwhere they would do a Series A round.  (The Series A round is the\\n\\nfirst round of real VC funding; it usually happens in the first\\n\\nyear.) It is a brilliant strategy, and one that other big technology\\n\\ncompanies will no doubt try to duplicate.  Unless they want to have\\n\\nstill more of their lunch eaten by Google.Of course, Google has an advantage in buying startups: a lot of the\\n\\npeople there are rich, or expect to be when their options vest.\\n\\nOrdinary employees find it very hard to recommend an acquisition;\\n\\nit\\'s just too annoying to see a bunch of twenty year olds get rich\\n\\nwhen you\\'re still working for salary.  Even if it\\'s the right thing\\n\\nfor your company to do.The Solution(s)Bad as things look now, there is a way for VCs to save themselves.\\n\\nThey need to do two things, one of which won\\'t surprise them, and\\n\\nanother that will seem an anathema.Let\\'s start with the obvious one: lobby to get Sarbanes-Oxley\\n\\nloosened.  This law was created to prevent future Enrons, not to\\n\\ndestroy the IPO market.  Since the IPO market was practically dead')"
            ]
          },
          "metadata": {},
          "execution_count": 136
        }
      ]
    },
    {
      "cell_type": "code",
      "source": [
        "larger_chunk_relevant_docs[0].page_content"
      ],
      "metadata": {
        "colab": {
          "base_uri": "https://localhost:8080/",
          "height": 174
        },
        "id": "Jpusytv3I5nj",
        "outputId": "f9bfa2e6-73d6-45ae-f30f-d9576788727a"
      },
      "execution_count": 137,
      "outputs": [
        {
          "output_type": "execute_result",
          "data": {
            "text/plain": [
              "'means VCs are now in the business of finding promising little 2-3\\n\\nman startups and pumping them up into companies that cost $100\\n\\nmillion to acquire.   They didn\\'t mean to be in this business; it\\'s\\n\\njust what their business has evolved into.Hence the fourth problem: the acquirers have begun to realize they\\n\\ncan buy wholesale.  Why should they wait for VCs to make the startups\\n\\nthey want more expensive?  Most of what the VCs add, acquirers don\\'t\\n\\nwant anyway.  The acquirers already have brand recognition and HR\\n\\ndepartments.  What they really want is the software and the developers,\\n\\nand that\\'s what the startup is in the early phase: concentrated\\n\\nsoftware and developers.Google, typically, seems to have been the first to figure this out.\\n\\n\"Bring us your startups early,\" said Google\\'s speaker at the Startup School.  They\\'re quite\\n\\nexplicit about it: they like to acquire startups at just the point\\n\\nwhere they would do a Series A round.  (The Series A round is the\\n\\nfirst round of real VC funding; it usually happens in the first\\n\\nyear.) It is a brilliant strategy, and one that other big technology\\n\\ncompanies will no doubt try to duplicate.  Unless they want to have\\n\\nstill more of their lunch eaten by Google.Of course, Google has an advantage in buying startups: a lot of the\\n\\npeople there are rich, or expect to be when their options vest.\\n\\nOrdinary employees find it very hard to recommend an acquisition;\\n\\nit\\'s just too annoying to see a bunch of twenty year olds get rich\\n\\nwhen you\\'re still working for salary.  Even if it\\'s the right thing\\n\\nfor your company to do.The Solution(s)Bad as things look now, there is a way for VCs to save themselves.\\n\\nThey need to do two things, one of which won\\'t surprise them, and\\n\\nanother that will seem an anathema.Let\\'s start with the obvious one: lobby to get Sarbanes-Oxley\\n\\nloosened.  This law was created to prevent future Enrons, not to\\n\\ndestroy the IPO market.  Since the IPO market was practically dead'"
            ],
            "application/vnd.google.colaboratory.intrinsic+json": {
              "type": "string"
            }
          },
          "metadata": {},
          "execution_count": 137
        }
      ]
    },
    {
      "cell_type": "code",
      "source": [
        "print(larger_chunk_relevant_docs[0])"
      ],
      "metadata": {
        "colab": {
          "base_uri": "https://localhost:8080/"
        },
        "id": "kZv-ulUCI_4S",
        "outputId": "3c638fe7-04bb-4ce4-a8ae-eee5945950f7"
      },
      "execution_count": 138,
      "outputs": [
        {
          "output_type": "stream",
          "name": "stdout",
          "text": [
            "page_content='means VCs are now in the business of finding promising little 2-3\n",
            "\n",
            "man startups and pumping them up into companies that cost $100\n",
            "\n",
            "million to acquire.   They didn't mean to be in this business; it's\n",
            "\n",
            "just what their business has evolved into.Hence the fourth problem: the acquirers have begun to realize they\n",
            "\n",
            "can buy wholesale.  Why should they wait for VCs to make the startups\n",
            "\n",
            "they want more expensive?  Most of what the VCs add, acquirers don't\n",
            "\n",
            "want anyway.  The acquirers already have brand recognition and HR\n",
            "\n",
            "departments.  What they really want is the software and the developers,\n",
            "\n",
            "and that's what the startup is in the early phase: concentrated\n",
            "\n",
            "software and developers.Google, typically, seems to have been the first to figure this out.\n",
            "\n",
            "\"Bring us your startups early,\" said Google's speaker at the Startup School.  They're quite\n",
            "\n",
            "explicit about it: they like to acquire startups at just the point\n",
            "\n",
            "where they would do a Series A round.  (The Series A round is the\n",
            "\n",
            "first round of real VC funding; it usually happens in the first\n",
            "\n",
            "year.) It is a brilliant strategy, and one that other big technology\n",
            "\n",
            "companies will no doubt try to duplicate.  Unless they want to have\n",
            "\n",
            "still more of their lunch eaten by Google.Of course, Google has an advantage in buying startups: a lot of the\n",
            "\n",
            "people there are rich, or expect to be when their options vest.\n",
            "\n",
            "Ordinary employees find it very hard to recommend an acquisition;\n",
            "\n",
            "it's just too annoying to see a bunch of twenty year olds get rich\n",
            "\n",
            "when you're still working for salary.  Even if it's the right thing\n",
            "\n",
            "for your company to do.The Solution(s)Bad as things look now, there is a way for VCs to save themselves.\n",
            "\n",
            "They need to do two things, one of which won't surprise them, and\n",
            "\n",
            "another that will seem an anathema.Let's start with the obvious one: lobby to get Sarbanes-Oxley\n",
            "\n",
            "loosened.  This law was created to prevent future Enrons, not to\n",
            "\n",
            "destroy the IPO market.  Since the IPO market was practically dead' metadata={'source': '/content/PaulGrahamEssaysLarge/PaulGrahamEssaysLarge/vcsqueeze.txt'}\n"
          ]
        }
      ]
    },
    {
      "cell_type": "code",
      "source": [
        "prompt_template = \"\"\"Use the following pieces of context to answer the question at the end.\n",
        "If you don't know the answer, just say that you don't know, don't try to make up an answer.\n",
        "\n",
        "{context}\n",
        "\n",
        "Question: {question}\n",
        "Answer:\"\"\"\n",
        "PROMPT = PromptTemplate(\n",
        "    template=prompt_template, input_variables=[\"context\", \"question\"]\n",
        ")\n",
        "\n",
        "question = \"what is some investing advice?\""
      ],
      "metadata": {
        "id": "ksk1fjnXIcch"
      },
      "execution_count": 139,
      "outputs": []
    },
    {
      "cell_type": "code",
      "source": [
        "response = llm(messages=[HumanMessage(\n",
        "    content=PROMPT.format_prompt(\n",
        "        context=\"\".join([doc.page_content for doc in larger_chunk_relevant_docs]),\n",
        "        question=question\n",
        "    ).text\n",
        ")])"
      ],
      "metadata": {
        "id": "PLNENJr1JQbS"
      },
      "execution_count": 140,
      "outputs": []
    },
    {
      "cell_type": "code",
      "source": [
        "response"
      ],
      "metadata": {
        "colab": {
          "base_uri": "https://localhost:8080/"
        },
        "id": "0ihZnl_GJHz6",
        "outputId": "6a0e0d1f-ab4d-426f-d012-1a5612c4ecc7"
      },
      "execution_count": 141,
      "outputs": [
        {
          "output_type": "execute_result",
          "data": {
            "text/plain": [
              "AIMessage(content=\"One piece of investing advice from the text is for venture capitalists to lobby to get Sarbanes-Oxley loosened, as this law was created to prevent future Enrons, not to destroy the IPO market. Additionally, startups should be aware of their financial status and have a plan B in case they can't raise more money. They should also be committed to their business, as both acquirers and investors judge startups by their level of commitment. Lastly, startups should release their product early, even if it's a minimal version, and then improve it based on users' reactions.\", additional_kwargs={}, response_metadata={'token_usage': {'completion_tokens': 119, 'prompt_tokens': 1873, 'total_tokens': 1992, 'completion_tokens_details': {'accepted_prediction_tokens': 0, 'audio_tokens': 0, 'reasoning_tokens': 0, 'rejected_prediction_tokens': 0}, 'prompt_tokens_details': {'audio_tokens': 0, 'cached_tokens': 0}}, 'model_name': 'gpt-4', 'system_fingerprint': None, 'finish_reason': 'stop', 'logprobs': None}, id='run-8d02be82-6f96-44e9-b1bd-8ba7fda6866a-0')"
            ]
          },
          "metadata": {},
          "execution_count": 141
        }
      ]
    },
    {
      "cell_type": "code",
      "source": [
        "response.content"
      ],
      "metadata": {
        "colab": {
          "base_uri": "https://localhost:8080/",
          "height": 105
        },
        "id": "eWBNKj-OJZ6T",
        "outputId": "fb6fc7d3-a4df-4a92-c5e1-6f100a697dd8"
      },
      "execution_count": 142,
      "outputs": [
        {
          "output_type": "execute_result",
          "data": {
            "text/plain": [
              "\"One piece of investing advice from the text is for venture capitalists to lobby to get Sarbanes-Oxley loosened, as this law was created to prevent future Enrons, not to destroy the IPO market. Additionally, startups should be aware of their financial status and have a plan B in case they can't raise more money. They should also be committed to their business, as both acquirers and investors judge startups by their level of commitment. Lastly, startups should release their product early, even if it's a minimal version, and then improve it based on users' reactions.\""
            ],
            "application/vnd.google.colaboratory.intrinsic+json": {
              "type": "string"
            }
          },
          "metadata": {},
          "execution_count": 142
        }
      ]
    },
    {
      "cell_type": "code",
      "source": [
        "print(response.content)"
      ],
      "metadata": {
        "colab": {
          "base_uri": "https://localhost:8080/"
        },
        "id": "tdL2yR2KJdfK",
        "outputId": "a0e5a9de-2c66-493b-cd6b-96e2238184c6"
      },
      "execution_count": 143,
      "outputs": [
        {
          "output_type": "stream",
          "name": "stdout",
          "text": [
            "One piece of investing advice from the text is for venture capitalists to lobby to get Sarbanes-Oxley loosened, as this law was created to prevent future Enrons, not to destroy the IPO market. Additionally, startups should be aware of their financial status and have a plan B in case they can't raise more money. They should also be committed to their business, as both acquirers and investors judge startups by their level of commitment. Lastly, startups should release their product early, even if it's a minimal version, and then improve it based on users' reactions.\n"
          ]
        }
      ]
    },
    {
      "cell_type": "markdown",
      "source": [
        "##Ensemble Retriever"
      ],
      "metadata": {
        "id": "4W1GMrReIf9x"
      }
    },
    {
      "cell_type": "code",
      "source": [
        "!pip install rank_bm25"
      ],
      "metadata": {
        "id": "uEX7m3cdIi92",
        "colab": {
          "base_uri": "https://localhost:8080/"
        },
        "outputId": "f494b4c2-78d0-4201-8856-b766461b39c2"
      },
      "execution_count": 145,
      "outputs": [
        {
          "output_type": "stream",
          "name": "stdout",
          "text": [
            "Collecting rank_bm25\n",
            "  Downloading rank_bm25-0.2.2-py3-none-any.whl.metadata (3.2 kB)\n",
            "Requirement already satisfied: numpy in /usr/local/lib/python3.11/dist-packages (from rank_bm25) (1.26.4)\n",
            "Downloading rank_bm25-0.2.2-py3-none-any.whl (8.6 kB)\n",
            "Installing collected packages: rank_bm25\n",
            "Successfully installed rank_bm25-0.2.2\n"
          ]
        }
      ]
    },
    {
      "cell_type": "code",
      "source": [
        "from langchain.retrievers import BM25Retriever, EnsembleRetriever"
      ],
      "metadata": {
        "id": "JsK1_zxrIg6E"
      },
      "execution_count": 144,
      "outputs": []
    },
    {
      "cell_type": "code",
      "source": [
        "# initialize the bm25 retriever and faiss retriever\n",
        "bm25_retriever = BM25Retriever.from_documents(splits)\n",
        "bm25_retriever.k = 2"
      ],
      "metadata": {
        "id": "FwNsCYDHInH3"
      },
      "execution_count": 146,
      "outputs": []
    },
    {
      "cell_type": "code",
      "source": [
        "embedding = OpenAIEmbeddings(openai_api_key=OPENAI_API_KEY)\n",
        "vectordb = Chroma.from_documents(splits, embedding)\n",
        "vectordb = vectordb.as_retriever(search_kwargs={\"k\": 2})"
      ],
      "metadata": {
        "id": "wKBSRhbvIp3V"
      },
      "execution_count": 147,
      "outputs": []
    },
    {
      "cell_type": "code",
      "source": [
        "# initialize the ensemble retriever\n",
        "ensemble_retriever = EnsembleRetriever(retrievers=[bm25_retriever, vectordb], weights=[0.5, 0.5])"
      ],
      "metadata": {
        "id": "N1165DkPItaM"
      },
      "execution_count": 148,
      "outputs": []
    },
    {
      "cell_type": "code",
      "source": [
        "ensemble_docs = ensemble_retriever.get_relevant_documents(\"what is some investing advice?\")"
      ],
      "metadata": {
        "id": "uFHXWCANIvP9"
      },
      "execution_count": 149,
      "outputs": []
    },
    {
      "cell_type": "code",
      "source": [
        "len(ensemble_docs)"
      ],
      "metadata": {
        "colab": {
          "base_uri": "https://localhost:8080/"
        },
        "id": "ebxG0CxrJ8XV",
        "outputId": "761abfaa-60fd-486a-d3d4-d124fcc0eee1"
      },
      "execution_count": 150,
      "outputs": [
        {
          "output_type": "execute_result",
          "data": {
            "text/plain": [
              "3"
            ]
          },
          "metadata": {},
          "execution_count": 150
        }
      ]
    },
    {
      "cell_type": "code",
      "source": [
        "prompt_template = \"\"\"Use the following pieces of context to answer the question at the end.\n",
        "If you don't know the answer, just say that you don't know, don't try to make up an answer.\n",
        "\n",
        "{context}\n",
        "\n",
        "Question: {question}\n",
        "Answer:\"\"\"\n",
        "PROMPT = PromptTemplate(\n",
        "    template=prompt_template, input_variables=[\"context\", \"question\"]\n",
        ")\n",
        "\n",
        "question = \"what is some investing advice?\""
      ],
      "metadata": {
        "id": "eSnvpQ7tIyVB"
      },
      "execution_count": 151,
      "outputs": []
    },
    {
      "cell_type": "code",
      "source": [
        "response = llm(messages=[HumanMessage(\n",
        "    content=PROMPT.format_prompt(\n",
        "        context=\"\".join([doc.page_content for doc in ensemble_docs]),\n",
        "        question=question\n",
        "    ).text\n",
        ")])"
      ],
      "metadata": {
        "id": "csPEMrkuKF4c"
      },
      "execution_count": 152,
      "outputs": []
    },
    {
      "cell_type": "code",
      "source": [
        "response"
      ],
      "metadata": {
        "colab": {
          "base_uri": "https://localhost:8080/"
        },
        "id": "OjguIttnKXN6",
        "outputId": "8ef0ad6a-3a45-4667-9b8d-4f27dcb787bd"
      },
      "execution_count": 153,
      "outputs": [
        {
          "output_type": "execute_result",
          "data": {
            "text/plain": [
              "AIMessage(content=\"Some investing advice includes making a larger number of smaller investments instead of a few large ones, funding younger, more technical founders instead of MBAs, and letting the founders remain as CEO. Additionally, the best sources of seed funding are successful startup founders as they can also provide advice. It's also important to protect yourself against obsolete beliefs when investing in early stage startups, as many good startup ideas may initially look like bad ideas due to changes in the world.\", additional_kwargs={}, response_metadata={'token_usage': {'completion_tokens': 92, 'prompt_tokens': 1004, 'total_tokens': 1096, 'completion_tokens_details': {'accepted_prediction_tokens': 0, 'audio_tokens': 0, 'reasoning_tokens': 0, 'rejected_prediction_tokens': 0}, 'prompt_tokens_details': {'audio_tokens': 0, 'cached_tokens': 0}}, 'model_name': 'gpt-4', 'system_fingerprint': None, 'finish_reason': 'stop', 'logprobs': None}, id='run-2b02ce96-340c-4e4a-b22d-d191c0a7ffd7-0')"
            ]
          },
          "metadata": {},
          "execution_count": 153
        }
      ]
    },
    {
      "cell_type": "code",
      "source": [
        "response.content"
      ],
      "metadata": {
        "colab": {
          "base_uri": "https://localhost:8080/",
          "height": 105
        },
        "id": "9wgUOFtuKGDF",
        "outputId": "e931548e-9273-4aa7-fe89-033148af4a29"
      },
      "execution_count": 154,
      "outputs": [
        {
          "output_type": "execute_result",
          "data": {
            "text/plain": [
              "\"Some investing advice includes making a larger number of smaller investments instead of a few large ones, funding younger, more technical founders instead of MBAs, and letting the founders remain as CEO. Additionally, the best sources of seed funding are successful startup founders as they can also provide advice. It's also important to protect yourself against obsolete beliefs when investing in early stage startups, as many good startup ideas may initially look like bad ideas due to changes in the world.\""
            ],
            "application/vnd.google.colaboratory.intrinsic+json": {
              "type": "string"
            }
          },
          "metadata": {},
          "execution_count": 154
        }
      ]
    },
    {
      "cell_type": "code",
      "source": [
        "print(response.content)"
      ],
      "metadata": {
        "colab": {
          "base_uri": "https://localhost:8080/"
        },
        "id": "Abkym9RyKfz7",
        "outputId": "02514cc1-f5aa-4933-ac7f-485f2404668d"
      },
      "execution_count": 166,
      "outputs": [
        {
          "output_type": "stream",
          "name": "stdout",
          "text": [
            "Some investing advice includes making a larger number of smaller investments instead of a few large ones, funding younger, more technical founders instead of MBAs, and letting the founders remain as CEO. Additionally, the best sources of seed funding are successful startup founders as they can also provide advice. It's also important to protect yourself against obsolete beliefs when investing in early stage startups, as many good startup ideas may initially look like bad ideas due to changes in the world.\n"
          ]
        }
      ]
    }
  ]
}