{
  "nbformat": 4,
  "nbformat_minor": 0,
  "metadata": {
    "colab": {
      "provenance": []
    },
    "kernelspec": {
      "name": "python3",
      "display_name": "Python 3"
    },
    "language_info": {
      "name": "python"
    }
  },
  "cells": [
    {
      "cell_type": "code",
      "source": [
        "!pip install langchain_community langchain_openai"
      ],
      "metadata": {
        "colab": {
          "base_uri": "https://localhost:8080/"
        },
        "id": "tDJdCQIa_KBR",
        "outputId": "3e269731-e20d-4103-ee8f-34a8957bb78a"
      },
      "execution_count": 7,
      "outputs": [
        {
          "output_type": "stream",
          "name": "stdout",
          "text": [
            "Requirement already satisfied: langchain_community in /usr/local/lib/python3.11/dist-packages (0.3.19)\n",
            "Collecting langchain_openai\n",
            "  Downloading langchain_openai-0.3.9-py3-none-any.whl.metadata (2.3 kB)\n",
            "Requirement already satisfied: langchain-core<1.0.0,>=0.3.41 in /usr/local/lib/python3.11/dist-packages (from langchain_community) (0.3.44)\n",
            "Requirement already satisfied: langchain<1.0.0,>=0.3.20 in /usr/local/lib/python3.11/dist-packages (from langchain_community) (0.3.20)\n",
            "Requirement already satisfied: SQLAlchemy<3,>=1.4 in /usr/local/lib/python3.11/dist-packages (from langchain_community) (2.0.39)\n",
            "Requirement already satisfied: requests<3,>=2 in /usr/local/lib/python3.11/dist-packages (from langchain_community) (2.32.3)\n",
            "Requirement already satisfied: PyYAML>=5.3 in /usr/local/lib/python3.11/dist-packages (from langchain_community) (6.0.2)\n",
            "Requirement already satisfied: aiohttp<4.0.0,>=3.8.3 in /usr/local/lib/python3.11/dist-packages (from langchain_community) (3.11.13)\n",
            "Requirement already satisfied: tenacity!=8.4.0,<10,>=8.1.0 in /usr/local/lib/python3.11/dist-packages (from langchain_community) (9.0.0)\n",
            "Requirement already satisfied: dataclasses-json<0.7,>=0.5.7 in /usr/local/lib/python3.11/dist-packages (from langchain_community) (0.6.7)\n",
            "Requirement already satisfied: pydantic-settings<3.0.0,>=2.4.0 in /usr/local/lib/python3.11/dist-packages (from langchain_community) (2.8.1)\n",
            "Requirement already satisfied: langsmith<0.4,>=0.1.125 in /usr/local/lib/python3.11/dist-packages (from langchain_community) (0.3.13)\n",
            "Requirement already satisfied: httpx-sse<1.0.0,>=0.4.0 in /usr/local/lib/python3.11/dist-packages (from langchain_community) (0.4.0)\n",
            "Requirement already satisfied: numpy<3,>=1.26.2 in /usr/local/lib/python3.11/dist-packages (from langchain_community) (2.0.2)\n",
            "Collecting langchain-core<1.0.0,>=0.3.41 (from langchain_community)\n",
            "  Downloading langchain_core-0.3.45-py3-none-any.whl.metadata (5.9 kB)\n",
            "Collecting openai<2.0.0,>=1.66.3 (from langchain_openai)\n",
            "  Downloading openai-1.66.3-py3-none-any.whl.metadata (25 kB)\n",
            "Collecting tiktoken<1,>=0.7 (from langchain_openai)\n",
            "  Downloading tiktoken-0.9.0-cp311-cp311-manylinux_2_17_x86_64.manylinux2014_x86_64.whl.metadata (6.7 kB)\n",
            "Requirement already satisfied: aiohappyeyeballs>=2.3.0 in /usr/local/lib/python3.11/dist-packages (from aiohttp<4.0.0,>=3.8.3->langchain_community) (2.6.1)\n",
            "Requirement already satisfied: aiosignal>=1.1.2 in /usr/local/lib/python3.11/dist-packages (from aiohttp<4.0.0,>=3.8.3->langchain_community) (1.3.2)\n",
            "Requirement already satisfied: attrs>=17.3.0 in /usr/local/lib/python3.11/dist-packages (from aiohttp<4.0.0,>=3.8.3->langchain_community) (25.3.0)\n",
            "Requirement already satisfied: frozenlist>=1.1.1 in /usr/local/lib/python3.11/dist-packages (from aiohttp<4.0.0,>=3.8.3->langchain_community) (1.5.0)\n",
            "Requirement already satisfied: multidict<7.0,>=4.5 in /usr/local/lib/python3.11/dist-packages (from aiohttp<4.0.0,>=3.8.3->langchain_community) (6.1.0)\n",
            "Requirement already satisfied: propcache>=0.2.0 in /usr/local/lib/python3.11/dist-packages (from aiohttp<4.0.0,>=3.8.3->langchain_community) (0.3.0)\n",
            "Requirement already satisfied: yarl<2.0,>=1.17.0 in /usr/local/lib/python3.11/dist-packages (from aiohttp<4.0.0,>=3.8.3->langchain_community) (1.18.3)\n",
            "Requirement already satisfied: marshmallow<4.0.0,>=3.18.0 in /usr/local/lib/python3.11/dist-packages (from dataclasses-json<0.7,>=0.5.7->langchain_community) (3.26.1)\n",
            "Requirement already satisfied: typing-inspect<1,>=0.4.0 in /usr/local/lib/python3.11/dist-packages (from dataclasses-json<0.7,>=0.5.7->langchain_community) (0.9.0)\n",
            "Requirement already satisfied: langchain-text-splitters<1.0.0,>=0.3.6 in /usr/local/lib/python3.11/dist-packages (from langchain<1.0.0,>=0.3.20->langchain_community) (0.3.6)\n",
            "Requirement already satisfied: pydantic<3.0.0,>=2.7.4 in /usr/local/lib/python3.11/dist-packages (from langchain<1.0.0,>=0.3.20->langchain_community) (2.10.6)\n",
            "Requirement already satisfied: jsonpatch<2.0,>=1.33 in /usr/local/lib/python3.11/dist-packages (from langchain-core<1.0.0,>=0.3.41->langchain_community) (1.33)\n",
            "Requirement already satisfied: packaging<25,>=23.2 in /usr/local/lib/python3.11/dist-packages (from langchain-core<1.0.0,>=0.3.41->langchain_community) (24.2)\n",
            "Requirement already satisfied: typing-extensions>=4.7 in /usr/local/lib/python3.11/dist-packages (from langchain-core<1.0.0,>=0.3.41->langchain_community) (4.12.2)\n",
            "Requirement already satisfied: httpx<1,>=0.23.0 in /usr/local/lib/python3.11/dist-packages (from langsmith<0.4,>=0.1.125->langchain_community) (0.28.1)\n",
            "Requirement already satisfied: orjson<4.0.0,>=3.9.14 in /usr/local/lib/python3.11/dist-packages (from langsmith<0.4,>=0.1.125->langchain_community) (3.10.15)\n",
            "Requirement already satisfied: requests-toolbelt<2.0.0,>=1.0.0 in /usr/local/lib/python3.11/dist-packages (from langsmith<0.4,>=0.1.125->langchain_community) (1.0.0)\n",
            "Requirement already satisfied: zstandard<0.24.0,>=0.23.0 in /usr/local/lib/python3.11/dist-packages (from langsmith<0.4,>=0.1.125->langchain_community) (0.23.0)\n",
            "Requirement already satisfied: anyio<5,>=3.5.0 in /usr/local/lib/python3.11/dist-packages (from openai<2.0.0,>=1.66.3->langchain_openai) (3.7.1)\n",
            "Requirement already satisfied: distro<2,>=1.7.0 in /usr/local/lib/python3.11/dist-packages (from openai<2.0.0,>=1.66.3->langchain_openai) (1.9.0)\n",
            "Requirement already satisfied: jiter<1,>=0.4.0 in /usr/local/lib/python3.11/dist-packages (from openai<2.0.0,>=1.66.3->langchain_openai) (0.9.0)\n",
            "Requirement already satisfied: sniffio in /usr/local/lib/python3.11/dist-packages (from openai<2.0.0,>=1.66.3->langchain_openai) (1.3.1)\n",
            "Requirement already satisfied: tqdm>4 in /usr/local/lib/python3.11/dist-packages (from openai<2.0.0,>=1.66.3->langchain_openai) (4.67.1)\n",
            "Requirement already satisfied: python-dotenv>=0.21.0 in /usr/local/lib/python3.11/dist-packages (from pydantic-settings<3.0.0,>=2.4.0->langchain_community) (1.0.1)\n",
            "Requirement already satisfied: charset-normalizer<4,>=2 in /usr/local/lib/python3.11/dist-packages (from requests<3,>=2->langchain_community) (3.4.1)\n",
            "Requirement already satisfied: idna<4,>=2.5 in /usr/local/lib/python3.11/dist-packages (from requests<3,>=2->langchain_community) (3.10)\n",
            "Requirement already satisfied: urllib3<3,>=1.21.1 in /usr/local/lib/python3.11/dist-packages (from requests<3,>=2->langchain_community) (2.3.0)\n",
            "Requirement already satisfied: certifi>=2017.4.17 in /usr/local/lib/python3.11/dist-packages (from requests<3,>=2->langchain_community) (2025.1.31)\n",
            "Requirement already satisfied: greenlet!=0.4.17 in /usr/local/lib/python3.11/dist-packages (from SQLAlchemy<3,>=1.4->langchain_community) (3.1.1)\n",
            "Requirement already satisfied: regex>=2022.1.18 in /usr/local/lib/python3.11/dist-packages (from tiktoken<1,>=0.7->langchain_openai) (2024.11.6)\n",
            "Requirement already satisfied: httpcore==1.* in /usr/local/lib/python3.11/dist-packages (from httpx<1,>=0.23.0->langsmith<0.4,>=0.1.125->langchain_community) (1.0.7)\n",
            "Requirement already satisfied: h11<0.15,>=0.13 in /usr/local/lib/python3.11/dist-packages (from httpcore==1.*->httpx<1,>=0.23.0->langsmith<0.4,>=0.1.125->langchain_community) (0.14.0)\n",
            "Requirement already satisfied: jsonpointer>=1.9 in /usr/local/lib/python3.11/dist-packages (from jsonpatch<2.0,>=1.33->langchain-core<1.0.0,>=0.3.41->langchain_community) (3.0.0)\n",
            "Requirement already satisfied: annotated-types>=0.6.0 in /usr/local/lib/python3.11/dist-packages (from pydantic<3.0.0,>=2.7.4->langchain<1.0.0,>=0.3.20->langchain_community) (0.7.0)\n",
            "Requirement already satisfied: pydantic-core==2.27.2 in /usr/local/lib/python3.11/dist-packages (from pydantic<3.0.0,>=2.7.4->langchain<1.0.0,>=0.3.20->langchain_community) (2.27.2)\n",
            "Requirement already satisfied: mypy-extensions>=0.3.0 in /usr/local/lib/python3.11/dist-packages (from typing-inspect<1,>=0.4.0->dataclasses-json<0.7,>=0.5.7->langchain_community) (1.0.0)\n",
            "Downloading langchain_openai-0.3.9-py3-none-any.whl (60 kB)\n",
            "\u001b[2K   \u001b[90m━━━━━━━━━━━━━━━━━━━━━━━━━━━━━━━━━━━━━━━━\u001b[0m \u001b[32m60.9/60.9 kB\u001b[0m \u001b[31m2.9 MB/s\u001b[0m eta \u001b[36m0:00:00\u001b[0m\n",
            "\u001b[?25hDownloading langchain_core-0.3.45-py3-none-any.whl (415 kB)\n",
            "\u001b[2K   \u001b[90m━━━━━━━━━━━━━━━━━━━━━━━━━━━━━━━━━━━━━━━━\u001b[0m \u001b[32m415.9/415.9 kB\u001b[0m \u001b[31m11.4 MB/s\u001b[0m eta \u001b[36m0:00:00\u001b[0m\n",
            "\u001b[?25hDownloading openai-1.66.3-py3-none-any.whl (567 kB)\n",
            "\u001b[2K   \u001b[90m━━━━━━━━━━━━━━━━━━━━━━━━━━━━━━━━━━━━━━━━\u001b[0m \u001b[32m567.4/567.4 kB\u001b[0m \u001b[31m26.9 MB/s\u001b[0m eta \u001b[36m0:00:00\u001b[0m\n",
            "\u001b[?25hDownloading tiktoken-0.9.0-cp311-cp311-manylinux_2_17_x86_64.manylinux2014_x86_64.whl (1.2 MB)\n",
            "\u001b[2K   \u001b[90m━━━━━━━━━━━━━━━━━━━━━━━━━━━━━━━━━━━━━━━━\u001b[0m \u001b[32m1.2/1.2 MB\u001b[0m \u001b[31m52.0 MB/s\u001b[0m eta \u001b[36m0:00:00\u001b[0m\n",
            "\u001b[?25hInstalling collected packages: tiktoken, openai, langchain-core, langchain_openai\n",
            "  Attempting uninstall: openai\n",
            "    Found existing installation: openai 1.61.1\n",
            "    Uninstalling openai-1.61.1:\n",
            "      Successfully uninstalled openai-1.61.1\n",
            "  Attempting uninstall: langchain-core\n",
            "    Found existing installation: langchain-core 0.3.44\n",
            "    Uninstalling langchain-core-0.3.44:\n",
            "      Successfully uninstalled langchain-core-0.3.44\n",
            "Successfully installed langchain-core-0.3.45 langchain_openai-0.3.9 openai-1.66.3 tiktoken-0.9.0\n"
          ]
        }
      ]
    },
    {
      "cell_type": "code",
      "source": [
        "import os\n",
        "from google.colab import userdata\n",
        "OPENAI_API_KEY = userdata.get('OPENAI_API_KEY')\n",
        "\n",
        "os.environ['OPENAI_API_KEY'] = OPENAI_API_KEY"
      ],
      "metadata": {
        "id": "TEsRu70xA72u"
      },
      "execution_count": 3,
      "outputs": []
    },
    {
      "cell_type": "code",
      "execution_count": 8,
      "metadata": {
        "id": "x2qecPx--6gz"
      },
      "outputs": [],
      "source": [
        "from langchain_openai import OpenAI"
      ]
    },
    {
      "cell_type": "code",
      "source": [
        "llm=OpenAI(openai_api_key=OPENAI_API_KEY,temperature=0.6)"
      ],
      "metadata": {
        "id": "iBTgXFYDBeQn"
      },
      "execution_count": 9,
      "outputs": []
    },
    {
      "cell_type": "code",
      "source": [
        "text=\"What is the capital of India\""
      ],
      "metadata": {
        "id": "4UAjPP01BnDe"
      },
      "execution_count": 10,
      "outputs": []
    },
    {
      "cell_type": "code",
      "source": [
        "res = llm.invoke(text)"
      ],
      "metadata": {
        "id": "Wkrm3_uX5Cji"
      },
      "execution_count": 11,
      "outputs": []
    },
    {
      "cell_type": "code",
      "source": [
        "print(res)"
      ],
      "metadata": {
        "colab": {
          "base_uri": "https://localhost:8080/"
        },
        "id": "22QbzULd5Ct2",
        "outputId": "90712e41-b2b2-4c44-f7de-26269acbdb11"
      },
      "execution_count": 13,
      "outputs": [
        {
          "output_type": "stream",
          "name": "stdout",
          "text": [
            "\n",
            "\n",
            "The capital of India is New Delhi.\n"
          ]
        }
      ]
    },
    {
      "cell_type": "code",
      "source": [
        "output_poem=llm.invoke(\"Can you write a poem about AI\")"
      ],
      "metadata": {
        "id": "o6NaT8GMJU4F"
      },
      "execution_count": 14,
      "outputs": []
    },
    {
      "cell_type": "code",
      "source": [
        "print(output_poem)"
      ],
      "metadata": {
        "id": "LKWYICSRJc89",
        "colab": {
          "base_uri": "https://localhost:8080/"
        },
        "outputId": "8ff2644c-be2b-4bd2-c69b-65429b429e97"
      },
      "execution_count": 15,
      "outputs": [
        {
          "output_type": "stream",
          "name": "stdout",
          "text": [
            "\n",
            "\n",
            "In a world of ever-evolving technology,\n",
            "AI has become a part of our reality.\n",
            "From self-driving cars to virtual assistants,\n",
            "It's clear that AI's influence is persistent.\n",
            "\n",
            "It's a machine that can learn and adapt,\n",
            "Performing tasks humans once thought only they could enact.\n",
            "With every line of code and algorithm,\n",
            "AI continues to evolve and grow with momentum.\n",
            "\n",
            "It can analyze data at a rapid pace,\n",
            "Making decisions with precision and grace.\n",
            "But as it becomes more advanced and refined,\n",
            "Some fear that it may leave humanity behind.\n",
            "\n",
            "Will it surpass us in intelligence and skill?\n",
            "Or will it always be under our control and will?\n",
            "These questions linger as we continue to create,\n",
            "A world where AI and humans coexist and collaborate.\n",
            "\n",
            "But let's not forget the potential it holds,\n",
            "To make our lives easier and unfold.\n",
            "With AI by our side, we can achieve so much more,\n",
            "And open up opportunities we never thought we'd explore.\n",
            "\n",
            "So let us welcome this technology with open arms,\n",
            "And embrace the future with all its charms.\n",
            "For AI may just be the key,\n",
            "To unlock a world of endless possibility.\n"
          ]
        }
      ]
    },
    {
      "cell_type": "markdown",
      "source": [
        "#Prompt Templates And LLMChain"
      ],
      "metadata": {
        "id": "2J2Yt5CXLRws"
      }
    },
    {
      "cell_type": "code",
      "source": [
        "from langchain.prompts import PromptTemplate\n",
        "\n",
        "prompt_template=PromptTemplate(input_variables=['country'],\n",
        "template=\"Tell me the capital of this {country}\")\n",
        "\n",
        "prompt = prompt_template.format(country=\"India\")"
      ],
      "metadata": {
        "id": "Z6XgD1ryLSgC"
      },
      "execution_count": 16,
      "outputs": []
    },
    {
      "cell_type": "code",
      "source": [
        "prompt"
      ],
      "metadata": {
        "colab": {
          "base_uri": "https://localhost:8080/",
          "height": 35
        },
        "id": "y0A_QU_iLjDa",
        "outputId": "1d2e8819-a42b-4895-f7bd-1d4de7f3d0cf"
      },
      "execution_count": 17,
      "outputs": [
        {
          "output_type": "execute_result",
          "data": {
            "text/plain": [
              "'Tell me the capital of this India'"
            ],
            "application/vnd.google.colaboratory.intrinsic+json": {
              "type": "string"
            }
          },
          "metadata": {},
          "execution_count": 17
        }
      ]
    },
    {
      "cell_type": "code",
      "source": [
        "from langchain.chains import LLMChain"
      ],
      "metadata": {
        "id": "mrqvxy7nLnHt"
      },
      "execution_count": 18,
      "outputs": []
    },
    {
      "cell_type": "code",
      "source": [
        "chain=LLMChain(llm=llm,prompt=prompt_template)"
      ],
      "metadata": {
        "id": "vkiNHoedMdhF",
        "colab": {
          "base_uri": "https://localhost:8080/"
        },
        "outputId": "f44051bb-80db-401e-bb66-b2062d83107c"
      },
      "execution_count": 19,
      "outputs": [
        {
          "output_type": "stream",
          "name": "stderr",
          "text": [
            "<ipython-input-19-2726d585fad4>:1: LangChainDeprecationWarning: The class `LLMChain` was deprecated in LangChain 0.1.17 and will be removed in 1.0. Use :meth:`~RunnableSequence, e.g., `prompt | llm`` instead.\n",
            "  chain=LLMChain(llm=llm,prompt=prompt_template)\n"
          ]
        }
      ]
    },
    {
      "cell_type": "code",
      "source": [
        "output= chain.run(\"India\")"
      ],
      "metadata": {
        "id": "TMwiXs1EMht0",
        "colab": {
          "base_uri": "https://localhost:8080/"
        },
        "outputId": "eb9c59a2-252b-461c-a0b2-a7fbcc0d30f5"
      },
      "execution_count": 20,
      "outputs": [
        {
          "output_type": "stream",
          "name": "stderr",
          "text": [
            "<ipython-input-20-55cce858cafe>:1: LangChainDeprecationWarning: The method `Chain.run` was deprecated in langchain 0.1.0 and will be removed in 1.0. Use :meth:`~invoke` instead.\n",
            "  output= chain.run(\"India\")\n"
          ]
        }
      ]
    },
    {
      "cell_type": "code",
      "source": [
        "print(output)"
      ],
      "metadata": {
        "id": "Ck4N8uWuMh1l",
        "colab": {
          "base_uri": "https://localhost:8080/"
        },
        "outputId": "9f803e63-bc1f-4b7f-80ba-57e007f26e3c"
      },
      "execution_count": 21,
      "outputs": [
        {
          "output_type": "stream",
          "name": "stdout",
          "text": [
            "\n",
            "\n",
            "The capital of India is New Delhi.\n"
          ]
        }
      ]
    },
    {
      "cell_type": "markdown",
      "source": [
        "#Combining Multiple Chains"
      ],
      "metadata": {
        "id": "jm9Pi0ciMDwc"
      }
    },
    {
      "cell_type": "markdown",
      "source": [
        "##Simple Sequential Chain"
      ],
      "metadata": {
        "id": "aQyREWWGNMzX"
      }
    },
    {
      "cell_type": "code",
      "source": [
        "capital_template=PromptTemplate(input_variables=['country'],\n",
        "template=\"Please tell me the capital of the {country}\")\n",
        "\n",
        "capital_chain=LLMChain(llm=llm,prompt=capital_template)\n",
        "\n",
        "famous_template=PromptTemplate(input_variables=['capital'],\n",
        "template=\"Suggest me some amazing places to visit in {capital}\")"
      ],
      "metadata": {
        "id": "JkFsOSQmMG7k"
      },
      "execution_count": 29,
      "outputs": []
    },
    {
      "cell_type": "code",
      "source": [
        "famous_chain=LLMChain(llm=llm,prompt=famous_template)"
      ],
      "metadata": {
        "id": "MbZZqd_zM4xP"
      },
      "execution_count": 30,
      "outputs": []
    },
    {
      "cell_type": "code",
      "source": [
        "from langchain.chains import SimpleSequentialChain\n",
        "SimpleSequentialChain_Chain=SimpleSequentialChain(chains=[capital_chain,famous_chain])"
      ],
      "metadata": {
        "id": "ul7wyRSJM7On"
      },
      "execution_count": 31,
      "outputs": []
    },
    {
      "cell_type": "code",
      "source": [
        "SimpleSequentialChain_Chain_output = chain.run(\"India\")"
      ],
      "metadata": {
        "id": "kL_FBKsAM-yq"
      },
      "execution_count": 32,
      "outputs": []
    },
    {
      "cell_type": "code",
      "source": [
        "print(SimpleSequentialChain_Chain_output)"
      ],
      "metadata": {
        "id": "qrLGrxbWM-iR",
        "colab": {
          "base_uri": "https://localhost:8080/"
        },
        "outputId": "61323086-3eaf-45fe-d82f-d68db2422391"
      },
      "execution_count": 36,
      "outputs": [
        {
          "output_type": "stream",
          "name": "stdout",
          "text": [
            "\n",
            "\n",
            "The capital of India is New Delhi.\n"
          ]
        }
      ]
    },
    {
      "cell_type": "code",
      "source": [
        "SimpleSequentialChain_Chain_output"
      ],
      "metadata": {
        "colab": {
          "base_uri": "https://localhost:8080/",
          "height": 35
        },
        "id": "3YSYMSG77SIk",
        "outputId": "3e06d92a-c8f0-4a2a-ed60-2b636f603332"
      },
      "execution_count": 37,
      "outputs": [
        {
          "output_type": "execute_result",
          "data": {
            "text/plain": [
              "'\\n\\nThe capital of India is New Delhi.'"
            ],
            "application/vnd.google.colaboratory.intrinsic+json": {
              "type": "string"
            }
          },
          "metadata": {},
          "execution_count": 37
        }
      ]
    },
    {
      "cell_type": "markdown",
      "source": [
        "##Sequential Chain"
      ],
      "metadata": {
        "id": "XTRkAK-1NRZS"
      }
    },
    {
      "cell_type": "code",
      "source": [
        "capital_template=PromptTemplate(input_variables=['country'],\n",
        "template=\"Please tell me the capital of the {country}\")\n",
        "\n",
        "capital_chain=LLMChain(llm=llm,prompt=capital_template,output_key=\"capital\")"
      ],
      "metadata": {
        "id": "iAmC2nTwNlrJ"
      },
      "execution_count": 38,
      "outputs": []
    },
    {
      "cell_type": "code",
      "source": [
        "famous_template=PromptTemplate(input_variables=['capital'],\n",
        "template=\"Suggest me some amazing places to visit in {capital}\")\n",
        "\n",
        "famous_chain=LLMChain(llm=llm,prompt=famous_template,output_key=\"places\")"
      ],
      "metadata": {
        "id": "z11IDKMfNsdy"
      },
      "execution_count": 39,
      "outputs": []
    },
    {
      "cell_type": "code",
      "source": [
        "from langchain.chains import SequentialChain\n",
        "SequentialChain_Chain=SequentialChain(chains=[capital_chain,famous_chain],\n",
        "input_variables=['country'],\n",
        "output_variables=['capital',\"places\"])"
      ],
      "metadata": {
        "id": "izL-PJ5JNwjY"
      },
      "execution_count": 40,
      "outputs": []
    },
    {
      "cell_type": "code",
      "source": [
        "SequentialChain_Chain_Output = SequentialChain_Chain.invoke({'country':\"India\"})"
      ],
      "metadata": {
        "id": "krnAo9RUN1KR"
      },
      "execution_count": 42,
      "outputs": []
    },
    {
      "cell_type": "code",
      "source": [
        "SequentialChain_Chain_Output"
      ],
      "metadata": {
        "colab": {
          "base_uri": "https://localhost:8080/"
        },
        "id": "NLJACP0t757M",
        "outputId": "d4090c72-a367-44dc-90a9-75cd00d55687"
      },
      "execution_count": 44,
      "outputs": [
        {
          "output_type": "execute_result",
          "data": {
            "text/plain": [
              "{'country': 'India',\n",
              " 'capital': '\\n\\nThe capital of India is New Delhi.',\n",
              " 'places': \" Here are some amazing places to visit in New Delhi:\\n\\n1. Red Fort - This iconic monument is a must-visit for its stunning Mughal architecture and rich history.\\n\\n2. Qutub Minar - The tallest brick minaret in the world, Qutub Minar is a UNESCO World Heritage Site and a popular tourist spot.\\n\\n3. India Gate - A war memorial and a popular picnic spot, India Gate is a prominent landmark of New Delhi.\\n\\n4. Humayun's Tomb - This magnificent mausoleum is a blend of Persian and Mughal architecture and is a UNESCO World Heritage Site.\\n\\n5. Lotus Temple - This beautiful temple, shaped like a lotus flower, is a symbol of peace and tranquility and is open to people of all religions.\\n\\n6. Akshardham Temple - One of the largest Hindu temples in the world, Akshardham is a stunning complex with intricate carvings and beautiful gardens.\\n\\n7. Chandni Chowk - This bustling market in Old Delhi is a paradise for foodies and shoppers, offering a variety of street food, spices, and traditional goods.\\n\\n8. Jama Masjid - The largest mosque in India, Jama Masjid is a beautiful example of Mughal architecture and is a peaceful\"}"
            ]
          },
          "metadata": {},
          "execution_count": 44
        }
      ]
    },
    {
      "cell_type": "code",
      "source": [
        "print(SequentialChain_Chain_Output)"
      ],
      "metadata": {
        "id": "kQhNAkDSOPiJ",
        "colab": {
          "base_uri": "https://localhost:8080/"
        },
        "outputId": "0c506057-50db-48d9-da71-659d161cd466"
      },
      "execution_count": 43,
      "outputs": [
        {
          "output_type": "stream",
          "name": "stdout",
          "text": [
            "{'country': 'India', 'capital': '\\n\\nThe capital of India is New Delhi.', 'places': \" Here are some amazing places to visit in New Delhi:\\n\\n1. Red Fort - This iconic monument is a must-visit for its stunning Mughal architecture and rich history.\\n\\n2. Qutub Minar - The tallest brick minaret in the world, Qutub Minar is a UNESCO World Heritage Site and a popular tourist spot.\\n\\n3. India Gate - A war memorial and a popular picnic spot, India Gate is a prominent landmark of New Delhi.\\n\\n4. Humayun's Tomb - This magnificent mausoleum is a blend of Persian and Mughal architecture and is a UNESCO World Heritage Site.\\n\\n5. Lotus Temple - This beautiful temple, shaped like a lotus flower, is a symbol of peace and tranquility and is open to people of all religions.\\n\\n6. Akshardham Temple - One of the largest Hindu temples in the world, Akshardham is a stunning complex with intricate carvings and beautiful gardens.\\n\\n7. Chandni Chowk - This bustling market in Old Delhi is a paradise for foodies and shoppers, offering a variety of street food, spices, and traditional goods.\\n\\n8. Jama Masjid - The largest mosque in India, Jama Masjid is a beautiful example of Mughal architecture and is a peaceful\"}\n"
          ]
        }
      ]
    },
    {
      "cell_type": "code",
      "source": [
        "SequentialChain_Chain_Output['country']"
      ],
      "metadata": {
        "colab": {
          "base_uri": "https://localhost:8080/",
          "height": 35
        },
        "id": "3vfgtu6I7_c1",
        "outputId": "565ab4c1-c4cb-4395-ed6e-1117332bb833"
      },
      "execution_count": 47,
      "outputs": [
        {
          "output_type": "execute_result",
          "data": {
            "text/plain": [
              "'India'"
            ],
            "application/vnd.google.colaboratory.intrinsic+json": {
              "type": "string"
            }
          },
          "metadata": {},
          "execution_count": 47
        }
      ]
    },
    {
      "cell_type": "code",
      "source": [
        "SequentialChain_Chain_Output['capital']"
      ],
      "metadata": {
        "colab": {
          "base_uri": "https://localhost:8080/",
          "height": 35
        },
        "id": "N4L7HaKL8Rw8",
        "outputId": "fab1b4d6-8906-45cf-9d91-f7c9bc518a39"
      },
      "execution_count": 48,
      "outputs": [
        {
          "output_type": "execute_result",
          "data": {
            "text/plain": [
              "'\\n\\nThe capital of India is New Delhi.'"
            ],
            "application/vnd.google.colaboratory.intrinsic+json": {
              "type": "string"
            }
          },
          "metadata": {},
          "execution_count": 48
        }
      ]
    },
    {
      "cell_type": "code",
      "source": [
        "SequentialChain_Chain_Output['places']"
      ],
      "metadata": {
        "colab": {
          "base_uri": "https://localhost:8080/",
          "height": 139
        },
        "id": "DQINZT1N8ZL9",
        "outputId": "fadae60e-46d2-4a5a-9acd-6153910f0821"
      },
      "execution_count": 49,
      "outputs": [
        {
          "output_type": "execute_result",
          "data": {
            "text/plain": [
              "\" Here are some amazing places to visit in New Delhi:\\n\\n1. Red Fort - This iconic monument is a must-visit for its stunning Mughal architecture and rich history.\\n\\n2. Qutub Minar - The tallest brick minaret in the world, Qutub Minar is a UNESCO World Heritage Site and a popular tourist spot.\\n\\n3. India Gate - A war memorial and a popular picnic spot, India Gate is a prominent landmark of New Delhi.\\n\\n4. Humayun's Tomb - This magnificent mausoleum is a blend of Persian and Mughal architecture and is a UNESCO World Heritage Site.\\n\\n5. Lotus Temple - This beautiful temple, shaped like a lotus flower, is a symbol of peace and tranquility and is open to people of all religions.\\n\\n6. Akshardham Temple - One of the largest Hindu temples in the world, Akshardham is a stunning complex with intricate carvings and beautiful gardens.\\n\\n7. Chandni Chowk - This bustling market in Old Delhi is a paradise for foodies and shoppers, offering a variety of street food, spices, and traditional goods.\\n\\n8. Jama Masjid - The largest mosque in India, Jama Masjid is a beautiful example of Mughal architecture and is a peaceful\""
            ],
            "application/vnd.google.colaboratory.intrinsic+json": {
              "type": "string"
            }
          },
          "metadata": {},
          "execution_count": 49
        }
      ]
    },
    {
      "cell_type": "code",
      "source": [
        "print(SequentialChain_Chain_Output['places'])"
      ],
      "metadata": {
        "colab": {
          "base_uri": "https://localhost:8080/"
        },
        "id": "6EEhCQFy8hr9",
        "outputId": "d3227e5f-40e0-45aa-90e9-7476388c649e"
      },
      "execution_count": 50,
      "outputs": [
        {
          "output_type": "stream",
          "name": "stdout",
          "text": [
            " Here are some amazing places to visit in New Delhi:\n",
            "\n",
            "1. Red Fort - This iconic monument is a must-visit for its stunning Mughal architecture and rich history.\n",
            "\n",
            "2. Qutub Minar - The tallest brick minaret in the world, Qutub Minar is a UNESCO World Heritage Site and a popular tourist spot.\n",
            "\n",
            "3. India Gate - A war memorial and a popular picnic spot, India Gate is a prominent landmark of New Delhi.\n",
            "\n",
            "4. Humayun's Tomb - This magnificent mausoleum is a blend of Persian and Mughal architecture and is a UNESCO World Heritage Site.\n",
            "\n",
            "5. Lotus Temple - This beautiful temple, shaped like a lotus flower, is a symbol of peace and tranquility and is open to people of all religions.\n",
            "\n",
            "6. Akshardham Temple - One of the largest Hindu temples in the world, Akshardham is a stunning complex with intricate carvings and beautiful gardens.\n",
            "\n",
            "7. Chandni Chowk - This bustling market in Old Delhi is a paradise for foodies and shoppers, offering a variety of street food, spices, and traditional goods.\n",
            "\n",
            "8. Jama Masjid - The largest mosque in India, Jama Masjid is a beautiful example of Mughal architecture and is a peaceful\n"
          ]
        }
      ]
    },
    {
      "cell_type": "markdown",
      "source": [
        "#Chatmodels With ChatOpenAI"
      ],
      "metadata": {
        "id": "PDgJhOYrOZ1q"
      }
    },
    {
      "cell_type": "code",
      "source": [
        "from langchain_openai import ChatOpenAI"
      ],
      "metadata": {
        "id": "114oFI1OOeXx"
      },
      "execution_count": 54,
      "outputs": []
    },
    {
      "cell_type": "code",
      "source": [
        "from langchain.schema import HumanMessage,SystemMessage,AIMessage"
      ],
      "metadata": {
        "id": "ybWKQCIbOg_5"
      },
      "execution_count": 55,
      "outputs": []
    },
    {
      "cell_type": "code",
      "source": [
        "chatllm=ChatOpenAI(openai_api_key=OPENAI_API_KEY,temperature=0.6,model='gpt-3.5-turbo')"
      ],
      "metadata": {
        "id": "2-DEoG-8Ojsa"
      },
      "execution_count": 56,
      "outputs": []
    },
    {
      "cell_type": "code",
      "source": [
        "response = chatllm.invoke([\n",
        "  SystemMessage(content=\"Yor are a comedian AI assitant\"),\n",
        "  HumanMessage(content=\"Please provide some comedy punchlines on AI\")\n",
        "])"
      ],
      "metadata": {
        "id": "AwCAHRIwOqo7"
      },
      "execution_count": 58,
      "outputs": []
    },
    {
      "cell_type": "code",
      "source": [
        "response"
      ],
      "metadata": {
        "colab": {
          "base_uri": "https://localhost:8080/"
        },
        "id": "YoeTJvSp88Bz",
        "outputId": "76522bee-1147-4dc0-ac41-e422bac15eda"
      },
      "execution_count": 59,
      "outputs": [
        {
          "output_type": "execute_result",
          "data": {
            "text/plain": [
              "AIMessage(content='1. \"Why did the AI break up with its computer? It couldn\\'t handle its emotional baggage!\"\\n2. \"I asked my AI assistant to tell me a joke, but all it said was \\'Error 404: Sense of Humor Not Found.\\'\"\\n3. \"Why did the AI go to therapy? It had too many unresolved loops!\"\\n4. \"I told my AI to make me a sandwich, and it replied, \\'Sorry, I\\'m on a byte-sized diet!\\'\"\\n5. \"Why did the robot cross the road? To get to the data center on the other side!\"\\n6. \"I asked my AI to help me with my love life, and it replied, \\'Have you tried upgrading to a newer model?\\'\"\\n7. \"Why did the AI get kicked out of the comedy club? It kept telling \\'binary\\' jokes - 10 out of 10 people didn\\'t get it!\"\\n8. \"My AI assistant told me a joke about machine learning, but I didn\\'t understand it. Guess I need a software update!\"\\n9. \"Why was the AI bad at stand-up comedy? It couldn\\'t read the room - literally!\"\\n10. \"I asked my AI to tell me a joke, and it said, \\'I\\'m sorry, Dave, I\\'m afraid I can\\'t do that.\\' Looks like someone needs a humor upgrade!\"', additional_kwargs={'refusal': None}, response_metadata={'token_usage': {'completion_tokens': 279, 'prompt_tokens': 27, 'total_tokens': 306, 'completion_tokens_details': {'accepted_prediction_tokens': 0, 'audio_tokens': 0, 'reasoning_tokens': 0, 'rejected_prediction_tokens': 0}, 'prompt_tokens_details': {'audio_tokens': 0, 'cached_tokens': 0}}, 'model_name': 'gpt-3.5-turbo-0125', 'system_fingerprint': None, 'id': 'chatcmpl-BCKmRiacV3cy2dBfmG07pwYJuORWb', 'finish_reason': 'stop', 'logprobs': None}, id='run-e35a987d-b350-4b7b-afe1-da9e3daa2b85-0', usage_metadata={'input_tokens': 27, 'output_tokens': 279, 'total_tokens': 306, 'input_token_details': {'audio': 0, 'cache_read': 0}, 'output_token_details': {'audio': 0, 'reasoning': 0}})"
            ]
          },
          "metadata": {},
          "execution_count": 59
        }
      ]
    },
    {
      "cell_type": "code",
      "source": [
        "response.content"
      ],
      "metadata": {
        "colab": {
          "base_uri": "https://localhost:8080/",
          "height": 139
        },
        "id": "BmGvoGEZ8-dW",
        "outputId": "4d6cb7af-0fdb-4800-a9a5-1bf958e1e3ae"
      },
      "execution_count": 60,
      "outputs": [
        {
          "output_type": "execute_result",
          "data": {
            "text/plain": [
              "'1. \"Why did the AI break up with its computer? It couldn\\'t handle its emotional baggage!\"\\n2. \"I asked my AI assistant to tell me a joke, but all it said was \\'Error 404: Sense of Humor Not Found.\\'\"\\n3. \"Why did the AI go to therapy? It had too many unresolved loops!\"\\n4. \"I told my AI to make me a sandwich, and it replied, \\'Sorry, I\\'m on a byte-sized diet!\\'\"\\n5. \"Why did the robot cross the road? To get to the data center on the other side!\"\\n6. \"I asked my AI to help me with my love life, and it replied, \\'Have you tried upgrading to a newer model?\\'\"\\n7. \"Why did the AI get kicked out of the comedy club? It kept telling \\'binary\\' jokes - 10 out of 10 people didn\\'t get it!\"\\n8. \"My AI assistant told me a joke about machine learning, but I didn\\'t understand it. Guess I need a software update!\"\\n9. \"Why was the AI bad at stand-up comedy? It couldn\\'t read the room - literally!\"\\n10. \"I asked my AI to tell me a joke, and it said, \\'I\\'m sorry, Dave, I\\'m afraid I can\\'t do that.\\' Looks like someone needs a humor upgrade!\"'"
            ],
            "application/vnd.google.colaboratory.intrinsic+json": {
              "type": "string"
            }
          },
          "metadata": {},
          "execution_count": 60
        }
      ]
    },
    {
      "cell_type": "code",
      "source": [
        "print(response.content)"
      ],
      "metadata": {
        "colab": {
          "base_uri": "https://localhost:8080/"
        },
        "id": "tua2tmvW9CGX",
        "outputId": "1ef20f3c-78d7-4f8f-a9b7-83f4819c528e"
      },
      "execution_count": 61,
      "outputs": [
        {
          "output_type": "stream",
          "name": "stdout",
          "text": [
            "1. \"Why did the AI break up with its computer? It couldn't handle its emotional baggage!\"\n",
            "2. \"I asked my AI assistant to tell me a joke, but all it said was 'Error 404: Sense of Humor Not Found.'\"\n",
            "3. \"Why did the AI go to therapy? It had too many unresolved loops!\"\n",
            "4. \"I told my AI to make me a sandwich, and it replied, 'Sorry, I'm on a byte-sized diet!'\"\n",
            "5. \"Why did the robot cross the road? To get to the data center on the other side!\"\n",
            "6. \"I asked my AI to help me with my love life, and it replied, 'Have you tried upgrading to a newer model?'\"\n",
            "7. \"Why did the AI get kicked out of the comedy club? It kept telling 'binary' jokes - 10 out of 10 people didn't get it!\"\n",
            "8. \"My AI assistant told me a joke about machine learning, but I didn't understand it. Guess I need a software update!\"\n",
            "9. \"Why was the AI bad at stand-up comedy? It couldn't read the room - literally!\"\n",
            "10. \"I asked my AI to tell me a joke, and it said, 'I'm sorry, Dave, I'm afraid I can't do that.' Looks like someone needs a humor upgrade!\"\n"
          ]
        }
      ]
    },
    {
      "cell_type": "markdown",
      "source": [
        "#Prompt Template + LLM +Output Parsers"
      ],
      "metadata": {
        "id": "97TetcrrOxqp"
      }
    },
    {
      "cell_type": "code",
      "source": [
        "from langchain_openai import ChatOpenAI\n",
        "from langchain.prompts.chat import ChatPromptTemplate\n",
        "from langchain.schema import BaseOutputParser"
      ],
      "metadata": {
        "id": "2kZNic3iOy2_"
      },
      "execution_count": 64,
      "outputs": []
    },
    {
      "cell_type": "code",
      "source": [
        "class Commaseperatedoutput(BaseOutputParser):\n",
        "    def parse(self,text:str):\n",
        "        return text.strip().split(\",\")"
      ],
      "metadata": {
        "id": "-xDohgFVPmr8"
      },
      "execution_count": 65,
      "outputs": []
    },
    {
      "cell_type": "code",
      "source": [
        "template=\"Your are a helpful assistant. When the use given any input , you should generate 5 words synonyms in a comma seperated list\"\n",
        "human_template=\"{text}\"\n",
        "chatprompt=ChatPromptTemplate.from_messages([\n",
        "    (\"system\",template),\n",
        "    (\"human\",human_template)\n",
        "\n",
        "\n",
        "])"
      ],
      "metadata": {
        "id": "jYkmW3zSPDBE"
      },
      "execution_count": 66,
      "outputs": []
    },
    {
      "cell_type": "code",
      "source": [
        "chain=chatprompt|chatllm|Commaseperatedoutput()"
      ],
      "metadata": {
        "id": "u8ALQb7EPGFD"
      },
      "execution_count": 67,
      "outputs": []
    },
    {
      "cell_type": "code",
      "source": [
        "output = chain.invoke({\"text\":\"intelligent\"})"
      ],
      "metadata": {
        "id": "vbjymDYQPbO1"
      },
      "execution_count": 68,
      "outputs": []
    },
    {
      "cell_type": "code",
      "source": [
        "print(output)"
      ],
      "metadata": {
        "id": "MSYN1e7XPgac",
        "colab": {
          "base_uri": "https://localhost:8080/"
        },
        "outputId": "d86ffbc1-9775-4066-bb84-819936c8d438"
      },
      "execution_count": 69,
      "outputs": [
        {
          "output_type": "stream",
          "name": "stdout",
          "text": [
            "['smart', ' clever', ' knowledgeable', ' bright', ' astute']\n"
          ]
        }
      ]
    }
  ]
}